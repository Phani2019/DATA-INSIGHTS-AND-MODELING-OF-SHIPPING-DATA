{
 "cells": [
  {
   "cell_type": "markdown",
   "metadata": {},
   "source": [
    "# DATA INSIGHTS AND MODELING OF SHIPPING DATA"
   ]
  },
  {
   "cell_type": "markdown",
   "metadata": {},
   "source": [
    " **Author: Phanindra Kumar Chintapalli** <br> \n",
    " **Date: 7th January 2019**<br>\n",
    " **Email: chphani2014@gmail.com** <br>\n"
   ]
  },
  {
   "cell_type": "markdown",
   "metadata": {},
   "source": [
    "### Introduction"
   ]
  },
  {
   "cell_type": "markdown",
   "metadata": {},
   "source": [
    "    Our aim here is to generate insights of given shipment data and perform modeling to it by using clustering techniques"
   ]
  },
  {
   "cell_type": "markdown",
   "metadata": {},
   "source": [
    "### Raw Data Statistics:\n",
    "\n",
    "Upon an initial glance at the data, we can observe that:\n",
    "* The data has 202 rows and 35 columns. \n",
    "* There were 29 Categorical Variables, 2 date-time and  3 numeric columns. "
   ]
  },
  {
   "cell_type": "markdown",
   "metadata": {},
   "source": [
    "### Approach:\n",
    "\n",
    "We approached the problem by the following procedure:\n",
    "\n",
    "* We performed Exploratory Data Analysis, trying to look for the distribution of different classes in each column in order to gather more insights about the data. We made several different types of explorations using a wide variety of data visualization techniques to understand the statistic information about the missingness and/or groups of each class to the corresponding columns thoroughly.  \n",
    "\n",
    "\n",
    "* For each of the categorical columns, we now check the districution of every class available in the respective column. We then consider the top most repetitive classes in the column such that we dont loose more than 15% of the total distribution, thereby capturing only the most valuable information in every column and having the dimension of the data in check. <br>\n",
    "\n",
    "\n",
    "\n",
    "* For each of the selected classes in respective columns, we then one-hot encode the data for further analysis.\n",
    "\n",
    "\n",
    "\n",
    "* We then did a meticulous correlation analysis between meaningful columns. Columns with more than 95% correlation were dropped to further reduce the dimension of the data to eventually improve model's capability. <br>\n",
    "\n",
    "\n",
    "\n",
    "* Non-categorical variables were scalled using Standard Scaling Technique.\n",
    "\n",
    "\n",
    "\n",
    "* Once we had the whole cleaned dataset, we then perform clustering analysis on the data using a wide-variety of clustering algorithms to compare the results produced. \n",
    "\n",
    "\n",
    "\n",
    "* Later we apply a dimentionality reduction technique, PCA  to reduce the dimensions of the data to 2 components with 50% retention of variance to further do Kmeans clustering and visualize the clustering results.\n",
    "\n",
    "\n"
   ]
  },
  {
   "cell_type": "markdown",
   "metadata": {},
   "source": [
    "### Below is the code for the above mentioned approach"
   ]
  },
  {
   "cell_type": "code",
   "execution_count": 111,
   "metadata": {},
   "outputs": [],
   "source": [
    "import numpy as np\n",
    "import pandas as pd \n",
    "import matplotlib as mp\n",
    "import plotly.express as px\n",
    "\n",
    "from sklearn.preprocessing import StandardScaler\n",
    "from sklearn.cluster import KMeans\n",
    "from sklearn.decomposition import PCA\n",
    "from numpy.linalg import *\n",
    "\n",
    "%matplotlib inline"
   ]
  },
  {
   "cell_type": "markdown",
   "metadata": {},
   "source": [
    "### Raw Data Statistics"
   ]
  },
  {
   "cell_type": "code",
   "execution_count": 112,
   "metadata": {},
   "outputs": [
    {
     "data": {
      "text/html": [
       "<div>\n",
       "<style scoped>\n",
       "    .dataframe tbody tr th:only-of-type {\n",
       "        vertical-align: middle;\n",
       "    }\n",
       "\n",
       "    .dataframe tbody tr th {\n",
       "        vertical-align: top;\n",
       "    }\n",
       "\n",
       "    .dataframe thead th {\n",
       "        text-align: right;\n",
       "    }\n",
       "</style>\n",
       "<table border=\"1\" class=\"dataframe\">\n",
       "  <thead>\n",
       "    <tr style=\"text-align: right;\">\n",
       "      <th></th>\n",
       "      <th>SHIPPER</th>\n",
       "      <th>SHIPPER ADDRESS</th>\n",
       "      <th>CONSIGNEE</th>\n",
       "      <th>CONSIGNEE ADDRESS</th>\n",
       "      <th>ZIPCODE</th>\n",
       "      <th>NOTIFY</th>\n",
       "      <th>NOTIFY ADDRESS</th>\n",
       "      <th>BILL OF LADING</th>\n",
       "      <th>ESTIMATED TIME OF ARRIVAL</th>\n",
       "      <th>ACTUAL TIME OF ARRIVAL</th>\n",
       "      <th>...</th>\n",
       "      <th>DISTRIBUTION PORT</th>\n",
       "      <th>HOUSE vs MASTER</th>\n",
       "      <th>MASTER B/L</th>\n",
       "      <th>CARRIER CODE</th>\n",
       "      <th>CARRIER NAME</th>\n",
       "      <th>CARRIER ADDRESS</th>\n",
       "      <th>CARRIER CITY</th>\n",
       "      <th>CARRIER STATE</th>\n",
       "      <th>CARRIER ZIP</th>\n",
       "      <th>PLACE OF RECEIPT</th>\n",
       "    </tr>\n",
       "  </thead>\n",
       "  <tbody>\n",
       "    <tr>\n",
       "      <th>0</th>\n",
       "      <td>-NOT AVAILABLE-</td>\n",
       "      <td></td>\n",
       "      <td>-NOT AVAILABLE-</td>\n",
       "      <td></td>\n",
       "      <td>0</td>\n",
       "      <td></td>\n",
       "      <td></td>\n",
       "      <td>UASI7782768928</td>\n",
       "      <td>2013-10-09</td>\n",
       "      <td>2013-10-01</td>\n",
       "      <td>...</td>\n",
       "      <td></td>\n",
       "      <td>H</td>\n",
       "      <td>EGLV003302201747</td>\n",
       "      <td>UASI</td>\n",
       "      <td>UPS SCS (ASIA) LIMITED</td>\n",
       "      <td>9/F 100 TEXACO ROAD</td>\n",
       "      <td>HONG KONG</td>\n",
       "      <td></td>\n",
       "      <td></td>\n",
       "      <td>KAOHSIUNG, TW</td>\n",
       "    </tr>\n",
       "    <tr>\n",
       "      <th>1</th>\n",
       "      <td>-NOT AVAILABLE-</td>\n",
       "      <td></td>\n",
       "      <td>-NOT AVAILABLE-</td>\n",
       "      <td></td>\n",
       "      <td>0</td>\n",
       "      <td></td>\n",
       "      <td></td>\n",
       "      <td>UASI7782797220</td>\n",
       "      <td>2013-09-30</td>\n",
       "      <td>2013-10-01</td>\n",
       "      <td>...</td>\n",
       "      <td></td>\n",
       "      <td>H</td>\n",
       "      <td>EGLV003302201747</td>\n",
       "      <td>UASI</td>\n",
       "      <td>UPS SCS (ASIA) LIMITED</td>\n",
       "      <td>9/F 100 TEXACO ROAD</td>\n",
       "      <td>HONG KONG</td>\n",
       "      <td></td>\n",
       "      <td></td>\n",
       "      <td>KAOHSIUNG, TW</td>\n",
       "    </tr>\n",
       "    <tr>\n",
       "      <th>2</th>\n",
       "      <td>EXPORTADORA DE FRUTOS Y VEGETABLES</td>\n",
       "      <td>ENTRADA DE LAS CABUYAS</td>\n",
       "      <td>SANJAY ENTERPRISE</td>\n",
       "      <td>120 SKY WAY AVENUE</td>\n",
       "      <td>0</td>\n",
       "      <td></td>\n",
       "      <td></td>\n",
       "      <td>TSCW10901908</td>\n",
       "      <td>2013-10-06</td>\n",
       "      <td>2013-10-01</td>\n",
       "      <td>...</td>\n",
       "      <td>Buffalo-Niagara Falls, New York</td>\n",
       "      <td></td>\n",
       "      <td></td>\n",
       "      <td>TSCW</td>\n",
       "      <td>TROPICAL SHIPPING &amp; CONSTRUCTION CO</td>\n",
       "      <td>5 EAST 11TH STREET</td>\n",
       "      <td>WEST PALM BEACH</td>\n",
       "      <td>FL</td>\n",
       "      <td>33404-6920</td>\n",
       "      <td>24773</td>\n",
       "    </tr>\n",
       "    <tr>\n",
       "      <th>3</th>\n",
       "      <td>EXPORTADORA DE FRUTOS Y VEGETABLES</td>\n",
       "      <td>ENTRADA DE LAS CABUYAS</td>\n",
       "      <td>YALINI ENTERPRISES INC</td>\n",
       "      <td>38 THORNMOUNT DRIVE UNIT 7</td>\n",
       "      <td>0</td>\n",
       "      <td></td>\n",
       "      <td></td>\n",
       "      <td>TSCW10901928</td>\n",
       "      <td>2013-10-04</td>\n",
       "      <td>2013-10-01</td>\n",
       "      <td>...</td>\n",
       "      <td>Buffalo-Niagara Falls, New York</td>\n",
       "      <td></td>\n",
       "      <td></td>\n",
       "      <td>TSCW</td>\n",
       "      <td>TROPICAL SHIPPING &amp; CONSTRUCTION CO</td>\n",
       "      <td>5 EAST 11TH STREET</td>\n",
       "      <td>WEST PALM BEACH</td>\n",
       "      <td>FL</td>\n",
       "      <td>33404-6920</td>\n",
       "      <td>24773</td>\n",
       "    </tr>\n",
       "    <tr>\n",
       "      <th>4</th>\n",
       "      <td>LAS ANTILLAS EXPORT Y/O PEDRO RESTI</td>\n",
       "      <td>SABANETA KM 5 1/2</td>\n",
       "      <td>SMS PRODUCE INC</td>\n",
       "      <td>2499 EGLINGTON AVENUE EAST</td>\n",
       "      <td>0</td>\n",
       "      <td></td>\n",
       "      <td></td>\n",
       "      <td>TSCW10901989</td>\n",
       "      <td>2013-09-30</td>\n",
       "      <td>2013-10-01</td>\n",
       "      <td>...</td>\n",
       "      <td>Buffalo-Niagara Falls, New York</td>\n",
       "      <td></td>\n",
       "      <td></td>\n",
       "      <td>TSCW</td>\n",
       "      <td>TROPICAL SHIPPING &amp; CONSTRUCTION CO</td>\n",
       "      <td>5 EAST 11TH STREET</td>\n",
       "      <td>WEST PALM BEACH</td>\n",
       "      <td>FL</td>\n",
       "      <td>33404-6920</td>\n",
       "      <td>24773</td>\n",
       "    </tr>\n",
       "    <tr>\n",
       "      <th>5</th>\n",
       "      <td>EXPORTADORA DE FRUTOS Y VEGETALES L</td>\n",
       "      <td>ALTO DEL YAQUE ARRIBA #40</td>\n",
       "      <td>ACROPOLLYS TRADING CORP</td>\n",
       "      <td>7266 NW 70ST</td>\n",
       "      <td>0</td>\n",
       "      <td></td>\n",
       "      <td></td>\n",
       "      <td>TSCW10902047</td>\n",
       "      <td>2013-10-03</td>\n",
       "      <td>2013-10-01</td>\n",
       "      <td>...</td>\n",
       "      <td></td>\n",
       "      <td></td>\n",
       "      <td></td>\n",
       "      <td>TSCW</td>\n",
       "      <td>TROPICAL SHIPPING &amp; CONSTRUCTION CO</td>\n",
       "      <td>5 EAST 11TH STREET</td>\n",
       "      <td>WEST PALM BEACH</td>\n",
       "      <td>FL</td>\n",
       "      <td>33404-6920</td>\n",
       "      <td>24773</td>\n",
       "    </tr>\n",
       "    <tr>\n",
       "      <th>6</th>\n",
       "      <td>DINU-S &amp; COMPANY</td>\n",
       "      <td>1, CARRETERA JAMO, LOS RIELES</td>\n",
       "      <td>SMS PRODUCE INC</td>\n",
       "      <td>2499 EGLINGTON AVENUE EAST</td>\n",
       "      <td>0</td>\n",
       "      <td></td>\n",
       "      <td></td>\n",
       "      <td>TSCW10902058</td>\n",
       "      <td>2013-09-26</td>\n",
       "      <td>2013-10-01</td>\n",
       "      <td>...</td>\n",
       "      <td>Buffalo-Niagara Falls, New York</td>\n",
       "      <td></td>\n",
       "      <td></td>\n",
       "      <td>TSCW</td>\n",
       "      <td>TROPICAL SHIPPING &amp; CONSTRUCTION CO</td>\n",
       "      <td>5 EAST 11TH STREET</td>\n",
       "      <td>WEST PALM BEACH</td>\n",
       "      <td>FL</td>\n",
       "      <td>33404-6920</td>\n",
       "      <td>24773</td>\n",
       "    </tr>\n",
       "    <tr>\n",
       "      <th>7</th>\n",
       "      <td>K.P. EXPORT, SRL</td>\n",
       "      <td>CALLE PRINCIPAL DE LAS CABUYAS, SEC LA CIDRA</td>\n",
       "      <td>SUNDINE PRODUCE, INC</td>\n",
       "      <td>6346 VISCOUNT ROAD</td>\n",
       "      <td>0</td>\n",
       "      <td></td>\n",
       "      <td></td>\n",
       "      <td>TSCW10906204</td>\n",
       "      <td>2013-10-04</td>\n",
       "      <td>2013-10-01</td>\n",
       "      <td>...</td>\n",
       "      <td>Buffalo-Niagara Falls, New York</td>\n",
       "      <td></td>\n",
       "      <td></td>\n",
       "      <td>TSCW</td>\n",
       "      <td>TROPICAL SHIPPING &amp; CONSTRUCTION CO</td>\n",
       "      <td>5 EAST 11TH STREET</td>\n",
       "      <td>WEST PALM BEACH</td>\n",
       "      <td>FL</td>\n",
       "      <td>33404-6920</td>\n",
       "      <td>24773</td>\n",
       "    </tr>\n",
       "    <tr>\n",
       "      <th>8</th>\n",
       "      <td>EXOTICOS ORIENTALES, SRL</td>\n",
       "      <td>CARRETERA SABANETA KM 7.5</td>\n",
       "      <td>JOCO PRODUCE, INC.</td>\n",
       "      <td>7005 NW 46TH ST</td>\n",
       "      <td>0</td>\n",
       "      <td></td>\n",
       "      <td></td>\n",
       "      <td>TSCW10906768</td>\n",
       "      <td>2013-09-21</td>\n",
       "      <td>2013-10-01</td>\n",
       "      <td>...</td>\n",
       "      <td></td>\n",
       "      <td></td>\n",
       "      <td></td>\n",
       "      <td>TSCW</td>\n",
       "      <td>TROPICAL SHIPPING &amp; CONSTRUCTION CO</td>\n",
       "      <td>5 EAST 11TH STREET</td>\n",
       "      <td>WEST PALM BEACH</td>\n",
       "      <td>FL</td>\n",
       "      <td>33404-6920</td>\n",
       "      <td>24773</td>\n",
       "    </tr>\n",
       "    <tr>\n",
       "      <th>9</th>\n",
       "      <td>CHORUS LOGISTICS CO., LTD.</td>\n",
       "      <td>B-703 WOOLIMBLUE9 BUILDING 240-21 YOUM CHANG-D...</td>\n",
       "      <td>SUNTRANS INTERNATIONAL, INC.</td>\n",
       "      <td>601 PENHORN AVE., SUITE 2, SECAUCU NJ 07094 US...</td>\n",
       "      <td>7094</td>\n",
       "      <td>SUNTRANS INTERNATIONAL, INC.</td>\n",
       "      <td>601 PENHORN AVE., SUITE 2, SECAUCU NJ 07094 US...</td>\n",
       "      <td>MOLU13702160210</td>\n",
       "      <td>2013-09-16</td>\n",
       "      <td>2013-09-26</td>\n",
       "      <td>...</td>\n",
       "      <td></td>\n",
       "      <td>M</td>\n",
       "      <td></td>\n",
       "      <td>MOLU</td>\n",
       "      <td>MITSUI O S K LINES LTD</td>\n",
       "      <td>160 FIELDCREST AVE BOX 7804</td>\n",
       "      <td>TOKYO</td>\n",
       "      <td></td>\n",
       "      <td></td>\n",
       "      <td>BUSAN - CY</td>\n",
       "    </tr>\n",
       "  </tbody>\n",
       "</table>\n",
       "<p>10 rows × 35 columns</p>\n",
       "</div>"
      ],
      "text/plain": [
       "                               SHIPPER  \\\n",
       "0                      -NOT AVAILABLE-   \n",
       "1                      -NOT AVAILABLE-   \n",
       "2   EXPORTADORA DE FRUTOS Y VEGETABLES   \n",
       "3   EXPORTADORA DE FRUTOS Y VEGETABLES   \n",
       "4  LAS ANTILLAS EXPORT Y/O PEDRO RESTI   \n",
       "5  EXPORTADORA DE FRUTOS Y VEGETALES L   \n",
       "6                     DINU-S & COMPANY   \n",
       "7                     K.P. EXPORT, SRL   \n",
       "8             EXOTICOS ORIENTALES, SRL   \n",
       "9           CHORUS LOGISTICS CO., LTD.   \n",
       "\n",
       "                                     SHIPPER ADDRESS  \\\n",
       "0                                                      \n",
       "1                                                      \n",
       "2                             ENTRADA DE LAS CABUYAS   \n",
       "3                             ENTRADA DE LAS CABUYAS   \n",
       "4                                  SABANETA KM 5 1/2   \n",
       "5                          ALTO DEL YAQUE ARRIBA #40   \n",
       "6                      1, CARRETERA JAMO, LOS RIELES   \n",
       "7       CALLE PRINCIPAL DE LAS CABUYAS, SEC LA CIDRA   \n",
       "8                          CARRETERA SABANETA KM 7.5   \n",
       "9  B-703 WOOLIMBLUE9 BUILDING 240-21 YOUM CHANG-D...   \n",
       "\n",
       "                      CONSIGNEE  \\\n",
       "0               -NOT AVAILABLE-   \n",
       "1               -NOT AVAILABLE-   \n",
       "2             SANJAY ENTERPRISE   \n",
       "3        YALINI ENTERPRISES INC   \n",
       "4               SMS PRODUCE INC   \n",
       "5       ACROPOLLYS TRADING CORP   \n",
       "6               SMS PRODUCE INC   \n",
       "7          SUNDINE PRODUCE, INC   \n",
       "8            JOCO PRODUCE, INC.   \n",
       "9  SUNTRANS INTERNATIONAL, INC.   \n",
       "\n",
       "                                   CONSIGNEE ADDRESS  ZIPCODE  \\\n",
       "0                                                           0   \n",
       "1                                                           0   \n",
       "2                                 120 SKY WAY AVENUE        0   \n",
       "3                         38 THORNMOUNT DRIVE UNIT 7        0   \n",
       "4                         2499 EGLINGTON AVENUE EAST        0   \n",
       "5                                       7266 NW 70ST        0   \n",
       "6                         2499 EGLINGTON AVENUE EAST        0   \n",
       "7                                 6346 VISCOUNT ROAD        0   \n",
       "8                                    7005 NW 46TH ST        0   \n",
       "9  601 PENHORN AVE., SUITE 2, SECAUCU NJ 07094 US...     7094   \n",
       "\n",
       "                         NOTIFY  \\\n",
       "0                                 \n",
       "1                                 \n",
       "2                                 \n",
       "3                                 \n",
       "4                                 \n",
       "5                                 \n",
       "6                                 \n",
       "7                                 \n",
       "8                                 \n",
       "9  SUNTRANS INTERNATIONAL, INC.   \n",
       "\n",
       "                                      NOTIFY ADDRESS   BILL OF LADING  \\\n",
       "0                                                      UASI7782768928   \n",
       "1                                                      UASI7782797220   \n",
       "2                                                        TSCW10901908   \n",
       "3                                                        TSCW10901928   \n",
       "4                                                        TSCW10901989   \n",
       "5                                                        TSCW10902047   \n",
       "6                                                        TSCW10902058   \n",
       "7                                                        TSCW10906204   \n",
       "8                                                        TSCW10906768   \n",
       "9  601 PENHORN AVE., SUITE 2, SECAUCU NJ 07094 US...  MOLU13702160210   \n",
       "\n",
       "  ESTIMATED TIME OF ARRIVAL ACTUAL TIME OF ARRIVAL  ...  \\\n",
       "0                2013-10-09             2013-10-01  ...   \n",
       "1                2013-09-30             2013-10-01  ...   \n",
       "2                2013-10-06             2013-10-01  ...   \n",
       "3                2013-10-04             2013-10-01  ...   \n",
       "4                2013-09-30             2013-10-01  ...   \n",
       "5                2013-10-03             2013-10-01  ...   \n",
       "6                2013-09-26             2013-10-01  ...   \n",
       "7                2013-10-04             2013-10-01  ...   \n",
       "8                2013-09-21             2013-10-01  ...   \n",
       "9                2013-09-16             2013-09-26  ...   \n",
       "\n",
       "                 DISTRIBUTION PORT  HOUSE vs MASTER        MASTER B/L  \\\n",
       "0                                                 H  EGLV003302201747   \n",
       "1                                                 H  EGLV003302201747   \n",
       "2  Buffalo-Niagara Falls, New York                                      \n",
       "3  Buffalo-Niagara Falls, New York                                      \n",
       "4  Buffalo-Niagara Falls, New York                                      \n",
       "5                                                                       \n",
       "6  Buffalo-Niagara Falls, New York                                      \n",
       "7  Buffalo-Niagara Falls, New York                                      \n",
       "8                                                                       \n",
       "9                                                 M                     \n",
       "\n",
       "  CARRIER CODE                         CARRIER NAME  \\\n",
       "0         UASI               UPS SCS (ASIA) LIMITED   \n",
       "1         UASI               UPS SCS (ASIA) LIMITED   \n",
       "2         TSCW  TROPICAL SHIPPING & CONSTRUCTION CO   \n",
       "3         TSCW  TROPICAL SHIPPING & CONSTRUCTION CO   \n",
       "4         TSCW  TROPICAL SHIPPING & CONSTRUCTION CO   \n",
       "5         TSCW  TROPICAL SHIPPING & CONSTRUCTION CO   \n",
       "6         TSCW  TROPICAL SHIPPING & CONSTRUCTION CO   \n",
       "7         TSCW  TROPICAL SHIPPING & CONSTRUCTION CO   \n",
       "8         TSCW  TROPICAL SHIPPING & CONSTRUCTION CO   \n",
       "9         MOLU               MITSUI O S K LINES LTD   \n",
       "\n",
       "               CARRIER ADDRESS     CARRIER CITY CARRIER STATE CARRIER ZIP  \\\n",
       "0          9/F 100 TEXACO ROAD        HONG KONG                             \n",
       "1          9/F 100 TEXACO ROAD        HONG KONG                             \n",
       "2           5 EAST 11TH STREET  WEST PALM BEACH            FL  33404-6920   \n",
       "3           5 EAST 11TH STREET  WEST PALM BEACH            FL  33404-6920   \n",
       "4           5 EAST 11TH STREET  WEST PALM BEACH            FL  33404-6920   \n",
       "5           5 EAST 11TH STREET  WEST PALM BEACH            FL  33404-6920   \n",
       "6           5 EAST 11TH STREET  WEST PALM BEACH            FL  33404-6920   \n",
       "7           5 EAST 11TH STREET  WEST PALM BEACH            FL  33404-6920   \n",
       "8           5 EAST 11TH STREET  WEST PALM BEACH            FL  33404-6920   \n",
       "9  160 FIELDCREST AVE BOX 7804            TOKYO                             \n",
       "\n",
       "  PLACE OF RECEIPT  \n",
       "0    KAOHSIUNG, TW  \n",
       "1    KAOHSIUNG, TW  \n",
       "2            24773  \n",
       "3            24773  \n",
       "4            24773  \n",
       "5            24773  \n",
       "6            24773  \n",
       "7            24773  \n",
       "8            24773  \n",
       "9       BUSAN - CY  \n",
       "\n",
       "[10 rows x 35 columns]"
      ]
     },
     "execution_count": 112,
     "metadata": {},
     "output_type": "execute_result"
    }
   ],
   "source": [
    "df = pd.read_excel('C:/Users/chint/Downloads/banana-republic-copy.xls')\n",
    "df.head(10)# first 10 rows "
   ]
  },
  {
   "cell_type": "code",
   "execution_count": 113,
   "metadata": {},
   "outputs": [
    {
     "data": {
      "text/plain": [
       "(202, 35)"
      ]
     },
     "execution_count": 113,
     "metadata": {},
     "output_type": "execute_result"
    }
   ],
   "source": [
    "df.shape  #shape of the data set "
   ]
  },
  {
   "cell_type": "code",
   "execution_count": 114,
   "metadata": {},
   "outputs": [
    {
     "name": "stdout",
     "output_type": "stream",
     "text": [
      "<class 'pandas.core.frame.DataFrame'>\n",
      "RangeIndex: 202 entries, 0 to 201\n",
      "Data columns (total 35 columns):\n",
      "SHIPPER                      202 non-null object\n",
      "SHIPPER ADDRESS              202 non-null object\n",
      "CONSIGNEE                    202 non-null object\n",
      "CONSIGNEE ADDRESS            202 non-null object\n",
      "ZIPCODE                      202 non-null int64\n",
      "NOTIFY                       202 non-null object\n",
      "NOTIFY ADDRESS               202 non-null object\n",
      "BILL OF LADING               202 non-null object\n",
      "ESTIMATED TIME OF ARRIVAL    202 non-null datetime64[ns]\n",
      "ACTUAL TIME OF ARRIVAL       202 non-null datetime64[ns]\n",
      "WEIGHT (LB)                  202 non-null float64\n",
      "WEIGHT (KG)                  202 non-null float64\n",
      "FOREIGN PORT                 202 non-null object\n",
      "US PORT                      202 non-null object\n",
      "QUANTITY                     202 non-null int64\n",
      "Q.UNIT                       202 non-null object\n",
      "MEASUREMENT                  202 non-null int64\n",
      "M.UNIT                       202 non-null object\n",
      "SHIP REGISTERED IN           202 non-null object\n",
      "VESSEL NAME                  202 non-null object\n",
      "CONTAINER NUMBER             202 non-null object\n",
      "CONTAINER COUNT              202 non-null int64\n",
      "PRODUCT DETAILS              202 non-null object\n",
      "MARKS AND NUMBERS            202 non-null object\n",
      "COUNTRY OF ORIGIN            202 non-null object\n",
      "DISTRIBUTION PORT            202 non-null object\n",
      "HOUSE vs MASTER              202 non-null object\n",
      "MASTER B/L                   202 non-null object\n",
      "CARRIER CODE                 202 non-null object\n",
      "CARRIER NAME                 202 non-null object\n",
      "CARRIER ADDRESS              202 non-null object\n",
      "CARRIER CITY                 202 non-null object\n",
      "CARRIER STATE                202 non-null object\n",
      "CARRIER ZIP                  202 non-null object\n",
      "PLACE OF RECEIPT             202 non-null object\n",
      "dtypes: datetime64[ns](2), float64(2), int64(4), object(27)\n",
      "memory usage: 55.3+ KB\n"
     ]
    }
   ],
   "source": [
    "df.info()   # information summary"
   ]
  },
  {
   "cell_type": "markdown",
   "metadata": {},
   "source": [
    "## Exploratory Data Analysis "
   ]
  },
  {
   "cell_type": "markdown",
   "metadata": {},
   "source": [
    "from this  bar plot I got an insight that West Palm Beach, Florida is most important and busiest  US port as there are about 97 shipments coming to this port."
   ]
  },
  {
   "cell_type": "code",
   "execution_count": 115,
   "metadata": {},
   "outputs": [
    {
     "name": "stdout",
     "output_type": "stream",
     "text": [
      "                                      index  US PORT\n",
      "0                  West Palm Beach, Florida       97\n",
      "1                     San Juan, Puerto Rico       36\n",
      "2                   Los Angeles, California       27\n",
      "3                        New York, New York       15\n",
      "4                  Port Everglades, Florida       11\n",
      "5                            Miami, Florida       10\n",
      "6  New York/Newark Area, Newark, New Jersey        5\n",
      "7                            Houston, Texas        1\n"
     ]
    },
    {
     "data": {
      "application/vnd.plotly.v1+json": {
       "config": {
        "plotlyServerURL": "https://plot.ly"
       },
       "data": [
        {
         "alignmentgroup": "True",
         "hoverlabel": {
          "namelength": 0
         },
         "hovertemplate": "US PORT=%{x}<br>COUNT=%{y}",
         "legendgroup": "",
         "marker": {
          "color": "#636efa"
         },
         "name": "",
         "offsetgroup": "",
         "orientation": "v",
         "showlegend": false,
         "textposition": "auto",
         "type": "bar",
         "x": [
          "West Palm Beach, Florida",
          "San Juan, Puerto Rico",
          "Los Angeles, California",
          "New York, New York",
          "Port Everglades, Florida",
          "Miami, Florida",
          "New York/Newark Area, Newark, New Jersey",
          "Houston, Texas"
         ],
         "xaxis": "x",
         "y": [
          97,
          36,
          27,
          15,
          11,
          10,
          5,
          1
         ],
         "yaxis": "y"
        }
       ],
       "layout": {
        "barmode": "relative",
        "legend": {
         "tracegroupgap": 0
        },
        "margin": {
         "t": 60
        },
        "template": {
         "data": {
          "bar": [
           {
            "error_x": {
             "color": "#2a3f5f"
            },
            "error_y": {
             "color": "#2a3f5f"
            },
            "marker": {
             "line": {
              "color": "#E5ECF6",
              "width": 0.5
             }
            },
            "type": "bar"
           }
          ],
          "barpolar": [
           {
            "marker": {
             "line": {
              "color": "#E5ECF6",
              "width": 0.5
             }
            },
            "type": "barpolar"
           }
          ],
          "carpet": [
           {
            "aaxis": {
             "endlinecolor": "#2a3f5f",
             "gridcolor": "white",
             "linecolor": "white",
             "minorgridcolor": "white",
             "startlinecolor": "#2a3f5f"
            },
            "baxis": {
             "endlinecolor": "#2a3f5f",
             "gridcolor": "white",
             "linecolor": "white",
             "minorgridcolor": "white",
             "startlinecolor": "#2a3f5f"
            },
            "type": "carpet"
           }
          ],
          "choropleth": [
           {
            "colorbar": {
             "outlinewidth": 0,
             "ticks": ""
            },
            "type": "choropleth"
           }
          ],
          "contour": [
           {
            "colorbar": {
             "outlinewidth": 0,
             "ticks": ""
            },
            "colorscale": [
             [
              0,
              "#0d0887"
             ],
             [
              0.1111111111111111,
              "#46039f"
             ],
             [
              0.2222222222222222,
              "#7201a8"
             ],
             [
              0.3333333333333333,
              "#9c179e"
             ],
             [
              0.4444444444444444,
              "#bd3786"
             ],
             [
              0.5555555555555556,
              "#d8576b"
             ],
             [
              0.6666666666666666,
              "#ed7953"
             ],
             [
              0.7777777777777778,
              "#fb9f3a"
             ],
             [
              0.8888888888888888,
              "#fdca26"
             ],
             [
              1,
              "#f0f921"
             ]
            ],
            "type": "contour"
           }
          ],
          "contourcarpet": [
           {
            "colorbar": {
             "outlinewidth": 0,
             "ticks": ""
            },
            "type": "contourcarpet"
           }
          ],
          "heatmap": [
           {
            "colorbar": {
             "outlinewidth": 0,
             "ticks": ""
            },
            "colorscale": [
             [
              0,
              "#0d0887"
             ],
             [
              0.1111111111111111,
              "#46039f"
             ],
             [
              0.2222222222222222,
              "#7201a8"
             ],
             [
              0.3333333333333333,
              "#9c179e"
             ],
             [
              0.4444444444444444,
              "#bd3786"
             ],
             [
              0.5555555555555556,
              "#d8576b"
             ],
             [
              0.6666666666666666,
              "#ed7953"
             ],
             [
              0.7777777777777778,
              "#fb9f3a"
             ],
             [
              0.8888888888888888,
              "#fdca26"
             ],
             [
              1,
              "#f0f921"
             ]
            ],
            "type": "heatmap"
           }
          ],
          "heatmapgl": [
           {
            "colorbar": {
             "outlinewidth": 0,
             "ticks": ""
            },
            "colorscale": [
             [
              0,
              "#0d0887"
             ],
             [
              0.1111111111111111,
              "#46039f"
             ],
             [
              0.2222222222222222,
              "#7201a8"
             ],
             [
              0.3333333333333333,
              "#9c179e"
             ],
             [
              0.4444444444444444,
              "#bd3786"
             ],
             [
              0.5555555555555556,
              "#d8576b"
             ],
             [
              0.6666666666666666,
              "#ed7953"
             ],
             [
              0.7777777777777778,
              "#fb9f3a"
             ],
             [
              0.8888888888888888,
              "#fdca26"
             ],
             [
              1,
              "#f0f921"
             ]
            ],
            "type": "heatmapgl"
           }
          ],
          "histogram": [
           {
            "marker": {
             "colorbar": {
              "outlinewidth": 0,
              "ticks": ""
             }
            },
            "type": "histogram"
           }
          ],
          "histogram2d": [
           {
            "colorbar": {
             "outlinewidth": 0,
             "ticks": ""
            },
            "colorscale": [
             [
              0,
              "#0d0887"
             ],
             [
              0.1111111111111111,
              "#46039f"
             ],
             [
              0.2222222222222222,
              "#7201a8"
             ],
             [
              0.3333333333333333,
              "#9c179e"
             ],
             [
              0.4444444444444444,
              "#bd3786"
             ],
             [
              0.5555555555555556,
              "#d8576b"
             ],
             [
              0.6666666666666666,
              "#ed7953"
             ],
             [
              0.7777777777777778,
              "#fb9f3a"
             ],
             [
              0.8888888888888888,
              "#fdca26"
             ],
             [
              1,
              "#f0f921"
             ]
            ],
            "type": "histogram2d"
           }
          ],
          "histogram2dcontour": [
           {
            "colorbar": {
             "outlinewidth": 0,
             "ticks": ""
            },
            "colorscale": [
             [
              0,
              "#0d0887"
             ],
             [
              0.1111111111111111,
              "#46039f"
             ],
             [
              0.2222222222222222,
              "#7201a8"
             ],
             [
              0.3333333333333333,
              "#9c179e"
             ],
             [
              0.4444444444444444,
              "#bd3786"
             ],
             [
              0.5555555555555556,
              "#d8576b"
             ],
             [
              0.6666666666666666,
              "#ed7953"
             ],
             [
              0.7777777777777778,
              "#fb9f3a"
             ],
             [
              0.8888888888888888,
              "#fdca26"
             ],
             [
              1,
              "#f0f921"
             ]
            ],
            "type": "histogram2dcontour"
           }
          ],
          "mesh3d": [
           {
            "colorbar": {
             "outlinewidth": 0,
             "ticks": ""
            },
            "type": "mesh3d"
           }
          ],
          "parcoords": [
           {
            "line": {
             "colorbar": {
              "outlinewidth": 0,
              "ticks": ""
             }
            },
            "type": "parcoords"
           }
          ],
          "pie": [
           {
            "automargin": true,
            "type": "pie"
           }
          ],
          "scatter": [
           {
            "marker": {
             "colorbar": {
              "outlinewidth": 0,
              "ticks": ""
             }
            },
            "type": "scatter"
           }
          ],
          "scatter3d": [
           {
            "line": {
             "colorbar": {
              "outlinewidth": 0,
              "ticks": ""
             }
            },
            "marker": {
             "colorbar": {
              "outlinewidth": 0,
              "ticks": ""
             }
            },
            "type": "scatter3d"
           }
          ],
          "scattercarpet": [
           {
            "marker": {
             "colorbar": {
              "outlinewidth": 0,
              "ticks": ""
             }
            },
            "type": "scattercarpet"
           }
          ],
          "scattergeo": [
           {
            "marker": {
             "colorbar": {
              "outlinewidth": 0,
              "ticks": ""
             }
            },
            "type": "scattergeo"
           }
          ],
          "scattergl": [
           {
            "marker": {
             "colorbar": {
              "outlinewidth": 0,
              "ticks": ""
             }
            },
            "type": "scattergl"
           }
          ],
          "scattermapbox": [
           {
            "marker": {
             "colorbar": {
              "outlinewidth": 0,
              "ticks": ""
             }
            },
            "type": "scattermapbox"
           }
          ],
          "scatterpolar": [
           {
            "marker": {
             "colorbar": {
              "outlinewidth": 0,
              "ticks": ""
             }
            },
            "type": "scatterpolar"
           }
          ],
          "scatterpolargl": [
           {
            "marker": {
             "colorbar": {
              "outlinewidth": 0,
              "ticks": ""
             }
            },
            "type": "scatterpolargl"
           }
          ],
          "scatterternary": [
           {
            "marker": {
             "colorbar": {
              "outlinewidth": 0,
              "ticks": ""
             }
            },
            "type": "scatterternary"
           }
          ],
          "surface": [
           {
            "colorbar": {
             "outlinewidth": 0,
             "ticks": ""
            },
            "colorscale": [
             [
              0,
              "#0d0887"
             ],
             [
              0.1111111111111111,
              "#46039f"
             ],
             [
              0.2222222222222222,
              "#7201a8"
             ],
             [
              0.3333333333333333,
              "#9c179e"
             ],
             [
              0.4444444444444444,
              "#bd3786"
             ],
             [
              0.5555555555555556,
              "#d8576b"
             ],
             [
              0.6666666666666666,
              "#ed7953"
             ],
             [
              0.7777777777777778,
              "#fb9f3a"
             ],
             [
              0.8888888888888888,
              "#fdca26"
             ],
             [
              1,
              "#f0f921"
             ]
            ],
            "type": "surface"
           }
          ],
          "table": [
           {
            "cells": {
             "fill": {
              "color": "#EBF0F8"
             },
             "line": {
              "color": "white"
             }
            },
            "header": {
             "fill": {
              "color": "#C8D4E3"
             },
             "line": {
              "color": "white"
             }
            },
            "type": "table"
           }
          ]
         },
         "layout": {
          "annotationdefaults": {
           "arrowcolor": "#2a3f5f",
           "arrowhead": 0,
           "arrowwidth": 1
          },
          "coloraxis": {
           "colorbar": {
            "outlinewidth": 0,
            "ticks": ""
           }
          },
          "colorscale": {
           "diverging": [
            [
             0,
             "#8e0152"
            ],
            [
             0.1,
             "#c51b7d"
            ],
            [
             0.2,
             "#de77ae"
            ],
            [
             0.3,
             "#f1b6da"
            ],
            [
             0.4,
             "#fde0ef"
            ],
            [
             0.5,
             "#f7f7f7"
            ],
            [
             0.6,
             "#e6f5d0"
            ],
            [
             0.7,
             "#b8e186"
            ],
            [
             0.8,
             "#7fbc41"
            ],
            [
             0.9,
             "#4d9221"
            ],
            [
             1,
             "#276419"
            ]
           ],
           "sequential": [
            [
             0,
             "#0d0887"
            ],
            [
             0.1111111111111111,
             "#46039f"
            ],
            [
             0.2222222222222222,
             "#7201a8"
            ],
            [
             0.3333333333333333,
             "#9c179e"
            ],
            [
             0.4444444444444444,
             "#bd3786"
            ],
            [
             0.5555555555555556,
             "#d8576b"
            ],
            [
             0.6666666666666666,
             "#ed7953"
            ],
            [
             0.7777777777777778,
             "#fb9f3a"
            ],
            [
             0.8888888888888888,
             "#fdca26"
            ],
            [
             1,
             "#f0f921"
            ]
           ],
           "sequentialminus": [
            [
             0,
             "#0d0887"
            ],
            [
             0.1111111111111111,
             "#46039f"
            ],
            [
             0.2222222222222222,
             "#7201a8"
            ],
            [
             0.3333333333333333,
             "#9c179e"
            ],
            [
             0.4444444444444444,
             "#bd3786"
            ],
            [
             0.5555555555555556,
             "#d8576b"
            ],
            [
             0.6666666666666666,
             "#ed7953"
            ],
            [
             0.7777777777777778,
             "#fb9f3a"
            ],
            [
             0.8888888888888888,
             "#fdca26"
            ],
            [
             1,
             "#f0f921"
            ]
           ]
          },
          "colorway": [
           "#636efa",
           "#EF553B",
           "#00cc96",
           "#ab63fa",
           "#FFA15A",
           "#19d3f3",
           "#FF6692",
           "#B6E880",
           "#FF97FF",
           "#FECB52"
          ],
          "font": {
           "color": "#2a3f5f"
          },
          "geo": {
           "bgcolor": "white",
           "lakecolor": "white",
           "landcolor": "#E5ECF6",
           "showlakes": true,
           "showland": true,
           "subunitcolor": "white"
          },
          "hoverlabel": {
           "align": "left"
          },
          "hovermode": "closest",
          "mapbox": {
           "style": "light"
          },
          "paper_bgcolor": "white",
          "plot_bgcolor": "#E5ECF6",
          "polar": {
           "angularaxis": {
            "gridcolor": "white",
            "linecolor": "white",
            "ticks": ""
           },
           "bgcolor": "#E5ECF6",
           "radialaxis": {
            "gridcolor": "white",
            "linecolor": "white",
            "ticks": ""
           }
          },
          "scene": {
           "xaxis": {
            "backgroundcolor": "#E5ECF6",
            "gridcolor": "white",
            "gridwidth": 2,
            "linecolor": "white",
            "showbackground": true,
            "ticks": "",
            "zerolinecolor": "white"
           },
           "yaxis": {
            "backgroundcolor": "#E5ECF6",
            "gridcolor": "white",
            "gridwidth": 2,
            "linecolor": "white",
            "showbackground": true,
            "ticks": "",
            "zerolinecolor": "white"
           },
           "zaxis": {
            "backgroundcolor": "#E5ECF6",
            "gridcolor": "white",
            "gridwidth": 2,
            "linecolor": "white",
            "showbackground": true,
            "ticks": "",
            "zerolinecolor": "white"
           }
          },
          "shapedefaults": {
           "line": {
            "color": "#2a3f5f"
           }
          },
          "ternary": {
           "aaxis": {
            "gridcolor": "white",
            "linecolor": "white",
            "ticks": ""
           },
           "baxis": {
            "gridcolor": "white",
            "linecolor": "white",
            "ticks": ""
           },
           "bgcolor": "#E5ECF6",
           "caxis": {
            "gridcolor": "white",
            "linecolor": "white",
            "ticks": ""
           }
          },
          "title": {
           "x": 0.05
          },
          "xaxis": {
           "automargin": true,
           "gridcolor": "white",
           "linecolor": "white",
           "ticks": "",
           "title": {
            "standoff": 15
           },
           "zerolinecolor": "white",
           "zerolinewidth": 2
          },
          "yaxis": {
           "automargin": true,
           "gridcolor": "white",
           "linecolor": "white",
           "ticks": "",
           "title": {
            "standoff": 15
           },
           "zerolinecolor": "white",
           "zerolinewidth": 2
          }
         }
        },
        "xaxis": {
         "anchor": "y",
         "domain": [
          0,
          1
         ],
         "title": {
          "text": "US PORT"
         }
        },
        "yaxis": {
         "anchor": "x",
         "domain": [
          0,
          1
         ],
         "title": {
          "text": "COUNT"
         }
        }
       }
      },
      "text/html": [
       "<div>\n",
       "        \n",
       "        \n",
       "            <div id=\"70262cc4-57b9-4ee7-8df1-b6ed2fc61fea\" class=\"plotly-graph-div\" style=\"height:525px; width:100%;\"></div>\n",
       "            <script type=\"text/javascript\">\n",
       "                require([\"plotly\"], function(Plotly) {\n",
       "                    window.PLOTLYENV=window.PLOTLYENV || {};\n",
       "                    \n",
       "                if (document.getElementById(\"70262cc4-57b9-4ee7-8df1-b6ed2fc61fea\")) {\n",
       "                    Plotly.newPlot(\n",
       "                        '70262cc4-57b9-4ee7-8df1-b6ed2fc61fea',\n",
       "                        [{\"alignmentgroup\": \"True\", \"hoverlabel\": {\"namelength\": 0}, \"hovertemplate\": \"US PORT=%{x}<br>COUNT=%{y}\", \"legendgroup\": \"\", \"marker\": {\"color\": \"#636efa\"}, \"name\": \"\", \"offsetgroup\": \"\", \"orientation\": \"v\", \"showlegend\": false, \"textposition\": \"auto\", \"type\": \"bar\", \"x\": [\"West Palm Beach, Florida\", \"San Juan, Puerto Rico\", \"Los Angeles, California\", \"New York, New York\", \"Port Everglades, Florida\", \"Miami, Florida\", \"New York/Newark Area, Newark, New Jersey\", \"Houston, Texas\"], \"xaxis\": \"x\", \"y\": [97, 36, 27, 15, 11, 10, 5, 1], \"yaxis\": \"y\"}],\n",
       "                        {\"barmode\": \"relative\", \"legend\": {\"tracegroupgap\": 0}, \"margin\": {\"t\": 60}, \"template\": {\"data\": {\"bar\": [{\"error_x\": {\"color\": \"#2a3f5f\"}, \"error_y\": {\"color\": \"#2a3f5f\"}, \"marker\": {\"line\": {\"color\": \"#E5ECF6\", \"width\": 0.5}}, \"type\": \"bar\"}], \"barpolar\": [{\"marker\": {\"line\": {\"color\": \"#E5ECF6\", \"width\": 0.5}}, \"type\": \"barpolar\"}], \"carpet\": [{\"aaxis\": {\"endlinecolor\": \"#2a3f5f\", \"gridcolor\": \"white\", \"linecolor\": \"white\", \"minorgridcolor\": \"white\", \"startlinecolor\": \"#2a3f5f\"}, \"baxis\": {\"endlinecolor\": \"#2a3f5f\", \"gridcolor\": \"white\", \"linecolor\": \"white\", \"minorgridcolor\": \"white\", \"startlinecolor\": \"#2a3f5f\"}, \"type\": \"carpet\"}], \"choropleth\": [{\"colorbar\": {\"outlinewidth\": 0, \"ticks\": \"\"}, \"type\": \"choropleth\"}], \"contour\": [{\"colorbar\": {\"outlinewidth\": 0, \"ticks\": \"\"}, \"colorscale\": [[0.0, \"#0d0887\"], [0.1111111111111111, \"#46039f\"], [0.2222222222222222, \"#7201a8\"], [0.3333333333333333, \"#9c179e\"], [0.4444444444444444, \"#bd3786\"], [0.5555555555555556, \"#d8576b\"], [0.6666666666666666, \"#ed7953\"], [0.7777777777777778, \"#fb9f3a\"], [0.8888888888888888, \"#fdca26\"], [1.0, \"#f0f921\"]], \"type\": \"contour\"}], \"contourcarpet\": [{\"colorbar\": {\"outlinewidth\": 0, \"ticks\": \"\"}, \"type\": \"contourcarpet\"}], \"heatmap\": [{\"colorbar\": {\"outlinewidth\": 0, \"ticks\": \"\"}, \"colorscale\": [[0.0, \"#0d0887\"], [0.1111111111111111, \"#46039f\"], [0.2222222222222222, \"#7201a8\"], [0.3333333333333333, \"#9c179e\"], [0.4444444444444444, \"#bd3786\"], [0.5555555555555556, \"#d8576b\"], [0.6666666666666666, \"#ed7953\"], [0.7777777777777778, \"#fb9f3a\"], [0.8888888888888888, \"#fdca26\"], [1.0, \"#f0f921\"]], \"type\": \"heatmap\"}], \"heatmapgl\": [{\"colorbar\": {\"outlinewidth\": 0, \"ticks\": \"\"}, \"colorscale\": [[0.0, \"#0d0887\"], [0.1111111111111111, \"#46039f\"], [0.2222222222222222, \"#7201a8\"], [0.3333333333333333, \"#9c179e\"], [0.4444444444444444, \"#bd3786\"], [0.5555555555555556, \"#d8576b\"], [0.6666666666666666, \"#ed7953\"], [0.7777777777777778, \"#fb9f3a\"], [0.8888888888888888, \"#fdca26\"], [1.0, \"#f0f921\"]], \"type\": \"heatmapgl\"}], \"histogram\": [{\"marker\": {\"colorbar\": {\"outlinewidth\": 0, \"ticks\": \"\"}}, \"type\": \"histogram\"}], \"histogram2d\": [{\"colorbar\": {\"outlinewidth\": 0, \"ticks\": \"\"}, \"colorscale\": [[0.0, \"#0d0887\"], [0.1111111111111111, \"#46039f\"], [0.2222222222222222, \"#7201a8\"], [0.3333333333333333, \"#9c179e\"], [0.4444444444444444, \"#bd3786\"], [0.5555555555555556, \"#d8576b\"], [0.6666666666666666, \"#ed7953\"], [0.7777777777777778, \"#fb9f3a\"], [0.8888888888888888, \"#fdca26\"], [1.0, \"#f0f921\"]], \"type\": \"histogram2d\"}], \"histogram2dcontour\": [{\"colorbar\": {\"outlinewidth\": 0, \"ticks\": \"\"}, \"colorscale\": [[0.0, \"#0d0887\"], [0.1111111111111111, \"#46039f\"], [0.2222222222222222, \"#7201a8\"], [0.3333333333333333, \"#9c179e\"], [0.4444444444444444, \"#bd3786\"], [0.5555555555555556, \"#d8576b\"], [0.6666666666666666, \"#ed7953\"], [0.7777777777777778, \"#fb9f3a\"], [0.8888888888888888, \"#fdca26\"], [1.0, \"#f0f921\"]], \"type\": \"histogram2dcontour\"}], \"mesh3d\": [{\"colorbar\": {\"outlinewidth\": 0, \"ticks\": \"\"}, \"type\": \"mesh3d\"}], \"parcoords\": [{\"line\": {\"colorbar\": {\"outlinewidth\": 0, \"ticks\": \"\"}}, \"type\": \"parcoords\"}], \"pie\": [{\"automargin\": true, \"type\": \"pie\"}], \"scatter\": [{\"marker\": {\"colorbar\": {\"outlinewidth\": 0, \"ticks\": \"\"}}, \"type\": \"scatter\"}], \"scatter3d\": [{\"line\": {\"colorbar\": {\"outlinewidth\": 0, \"ticks\": \"\"}}, \"marker\": {\"colorbar\": {\"outlinewidth\": 0, \"ticks\": \"\"}}, \"type\": \"scatter3d\"}], \"scattercarpet\": [{\"marker\": {\"colorbar\": {\"outlinewidth\": 0, \"ticks\": \"\"}}, \"type\": \"scattercarpet\"}], \"scattergeo\": [{\"marker\": {\"colorbar\": {\"outlinewidth\": 0, \"ticks\": \"\"}}, \"type\": \"scattergeo\"}], \"scattergl\": [{\"marker\": {\"colorbar\": {\"outlinewidth\": 0, \"ticks\": \"\"}}, \"type\": \"scattergl\"}], \"scattermapbox\": [{\"marker\": {\"colorbar\": {\"outlinewidth\": 0, \"ticks\": \"\"}}, \"type\": \"scattermapbox\"}], \"scatterpolar\": [{\"marker\": {\"colorbar\": {\"outlinewidth\": 0, \"ticks\": \"\"}}, \"type\": \"scatterpolar\"}], \"scatterpolargl\": [{\"marker\": {\"colorbar\": {\"outlinewidth\": 0, \"ticks\": \"\"}}, \"type\": \"scatterpolargl\"}], \"scatterternary\": [{\"marker\": {\"colorbar\": {\"outlinewidth\": 0, \"ticks\": \"\"}}, \"type\": \"scatterternary\"}], \"surface\": [{\"colorbar\": {\"outlinewidth\": 0, \"ticks\": \"\"}, \"colorscale\": [[0.0, \"#0d0887\"], [0.1111111111111111, \"#46039f\"], [0.2222222222222222, \"#7201a8\"], [0.3333333333333333, \"#9c179e\"], [0.4444444444444444, \"#bd3786\"], [0.5555555555555556, \"#d8576b\"], [0.6666666666666666, \"#ed7953\"], [0.7777777777777778, \"#fb9f3a\"], [0.8888888888888888, \"#fdca26\"], [1.0, \"#f0f921\"]], \"type\": \"surface\"}], \"table\": [{\"cells\": {\"fill\": {\"color\": \"#EBF0F8\"}, \"line\": {\"color\": \"white\"}}, \"header\": {\"fill\": {\"color\": \"#C8D4E3\"}, \"line\": {\"color\": \"white\"}}, \"type\": \"table\"}]}, \"layout\": {\"annotationdefaults\": {\"arrowcolor\": \"#2a3f5f\", \"arrowhead\": 0, \"arrowwidth\": 1}, \"coloraxis\": {\"colorbar\": {\"outlinewidth\": 0, \"ticks\": \"\"}}, \"colorscale\": {\"diverging\": [[0, \"#8e0152\"], [0.1, \"#c51b7d\"], [0.2, \"#de77ae\"], [0.3, \"#f1b6da\"], [0.4, \"#fde0ef\"], [0.5, \"#f7f7f7\"], [0.6, \"#e6f5d0\"], [0.7, \"#b8e186\"], [0.8, \"#7fbc41\"], [0.9, \"#4d9221\"], [1, \"#276419\"]], \"sequential\": [[0.0, \"#0d0887\"], [0.1111111111111111, \"#46039f\"], [0.2222222222222222, \"#7201a8\"], [0.3333333333333333, \"#9c179e\"], [0.4444444444444444, \"#bd3786\"], [0.5555555555555556, \"#d8576b\"], [0.6666666666666666, \"#ed7953\"], [0.7777777777777778, \"#fb9f3a\"], [0.8888888888888888, \"#fdca26\"], [1.0, \"#f0f921\"]], \"sequentialminus\": [[0.0, \"#0d0887\"], [0.1111111111111111, \"#46039f\"], [0.2222222222222222, \"#7201a8\"], [0.3333333333333333, \"#9c179e\"], [0.4444444444444444, \"#bd3786\"], [0.5555555555555556, \"#d8576b\"], [0.6666666666666666, \"#ed7953\"], [0.7777777777777778, \"#fb9f3a\"], [0.8888888888888888, \"#fdca26\"], [1.0, \"#f0f921\"]]}, \"colorway\": [\"#636efa\", \"#EF553B\", \"#00cc96\", \"#ab63fa\", \"#FFA15A\", \"#19d3f3\", \"#FF6692\", \"#B6E880\", \"#FF97FF\", \"#FECB52\"], \"font\": {\"color\": \"#2a3f5f\"}, \"geo\": {\"bgcolor\": \"white\", \"lakecolor\": \"white\", \"landcolor\": \"#E5ECF6\", \"showlakes\": true, \"showland\": true, \"subunitcolor\": \"white\"}, \"hoverlabel\": {\"align\": \"left\"}, \"hovermode\": \"closest\", \"mapbox\": {\"style\": \"light\"}, \"paper_bgcolor\": \"white\", \"plot_bgcolor\": \"#E5ECF6\", \"polar\": {\"angularaxis\": {\"gridcolor\": \"white\", \"linecolor\": \"white\", \"ticks\": \"\"}, \"bgcolor\": \"#E5ECF6\", \"radialaxis\": {\"gridcolor\": \"white\", \"linecolor\": \"white\", \"ticks\": \"\"}}, \"scene\": {\"xaxis\": {\"backgroundcolor\": \"#E5ECF6\", \"gridcolor\": \"white\", \"gridwidth\": 2, \"linecolor\": \"white\", \"showbackground\": true, \"ticks\": \"\", \"zerolinecolor\": \"white\"}, \"yaxis\": {\"backgroundcolor\": \"#E5ECF6\", \"gridcolor\": \"white\", \"gridwidth\": 2, \"linecolor\": \"white\", \"showbackground\": true, \"ticks\": \"\", \"zerolinecolor\": \"white\"}, \"zaxis\": {\"backgroundcolor\": \"#E5ECF6\", \"gridcolor\": \"white\", \"gridwidth\": 2, \"linecolor\": \"white\", \"showbackground\": true, \"ticks\": \"\", \"zerolinecolor\": \"white\"}}, \"shapedefaults\": {\"line\": {\"color\": \"#2a3f5f\"}}, \"ternary\": {\"aaxis\": {\"gridcolor\": \"white\", \"linecolor\": \"white\", \"ticks\": \"\"}, \"baxis\": {\"gridcolor\": \"white\", \"linecolor\": \"white\", \"ticks\": \"\"}, \"bgcolor\": \"#E5ECF6\", \"caxis\": {\"gridcolor\": \"white\", \"linecolor\": \"white\", \"ticks\": \"\"}}, \"title\": {\"x\": 0.05}, \"xaxis\": {\"automargin\": true, \"gridcolor\": \"white\", \"linecolor\": \"white\", \"ticks\": \"\", \"title\": {\"standoff\": 15}, \"zerolinecolor\": \"white\", \"zerolinewidth\": 2}, \"yaxis\": {\"automargin\": true, \"gridcolor\": \"white\", \"linecolor\": \"white\", \"ticks\": \"\", \"title\": {\"standoff\": 15}, \"zerolinecolor\": \"white\", \"zerolinewidth\": 2}}}, \"xaxis\": {\"anchor\": \"y\", \"domain\": [0.0, 1.0], \"title\": {\"text\": \"US PORT\"}}, \"yaxis\": {\"anchor\": \"x\", \"domain\": [0.0, 1.0], \"title\": {\"text\": \"COUNT\"}}},\n",
       "                        {\"responsive\": true}\n",
       "                    ).then(function(){\n",
       "                            \n",
       "var gd = document.getElementById('70262cc4-57b9-4ee7-8df1-b6ed2fc61fea');\n",
       "var x = new MutationObserver(function (mutations, observer) {{\n",
       "        var display = window.getComputedStyle(gd).display;\n",
       "        if (!display || display === 'none') {{\n",
       "            console.log([gd, 'removed!']);\n",
       "            Plotly.purge(gd);\n",
       "            observer.disconnect();\n",
       "        }}\n",
       "}});\n",
       "\n",
       "// Listen for the removal of the full notebook cells\n",
       "var notebookContainer = gd.closest('#notebook-container');\n",
       "if (notebookContainer) {{\n",
       "    x.observe(notebookContainer, {childList: true});\n",
       "}}\n",
       "\n",
       "// Listen for the clearing of the current output cell\n",
       "var outputEl = gd.closest('.output');\n",
       "if (outputEl) {{\n",
       "    x.observe(outputEl, {childList: true});\n",
       "}}\n",
       "\n",
       "                        })\n",
       "                };\n",
       "                });\n",
       "            </script>\n",
       "        </div>"
      ]
     },
     "metadata": {},
     "output_type": "display_data"
    }
   ],
   "source": [
    "\n",
    "# CALCULATING THE FREQUENCY OF US PORTS AT EACH LOCATION\n",
    "b1=df['US PORT'].value_counts()\n",
    "b11=pd.DataFrame(b1)\n",
    "b11.reset_index(inplace=True)\n",
    "print(b11)\n",
    "b11.columns=['US PORT','COUNT']\n",
    "px.bar(b11,x='US PORT',y='COUNT')"
   ]
  },
  {
   "cell_type": "markdown",
   "metadata": {},
   "source": [
    "* From this data insight I get the sum of all the weights in  lbs from each US port.\n",
    "* By observing the weight column we can interpret that maximum weights were distributed from San Juan, Puerto Rico"
   ]
  },
  {
   "cell_type": "code",
   "execution_count": 116,
   "metadata": {},
   "outputs": [
    {
     "name": "stdout",
     "output_type": "stream",
     "text": [
      "                                    US PORT  WEIGHT (LB)\n",
      "0                            Houston, Texas      43298.0\n",
      "1                   Los Angeles, California     372262.0\n",
      "2                            Miami, Florida     240719.0\n",
      "3                        New York, New York     417370.6\n",
      "4  New York/Newark Area, Newark, New Jersey     177216.4\n",
      "5                  Port Everglades, Florida     380609.0\n",
      "6                     San Juan, Puerto Rico   99807227.0\n",
      "7                  West Palm Beach, Florida    4181368.0\n"
     ]
    }
   ],
   "source": [
    "#checking total weight in lbs from each US port \n",
    "\n",
    "ss=df.groupby('US PORT')['WEIGHT (LB)'].sum()\n",
    "ss=pd.DataFrame(ss)\n",
    "ss.reset_index(inplace=True)\n",
    "print(ss)\n"
   ]
  },
  {
   "cell_type": "markdown",
   "metadata": {},
   "source": [
    "* **From this data insight I get the sum of all the weights in  lbs from each Foreign port.**\n",
    "* **By observing the weight column we can interpret that maximum weights were distributed from All Other England South and East Coast Ports**"
   ]
  },
  {
   "cell_type": "code",
   "execution_count": 117,
   "metadata": {},
   "outputs": [
    {
     "name": "stdout",
     "output_type": "stream",
     "text": [
      "                                    FOREIGN PORT  WEIGHT (LB)\n",
      "0   All Other England South and East Coast Ports   98409437.2\n",
      "1                                        Caucedo     264627.0\n",
      "2                                      Ching Tao      84568.0\n",
      "3                                          Haina     317477.0\n",
      "4                                      Hong Kong     155364.0\n",
      "5                                      Kaohsiung     175023.2\n",
      "6                                      Kwangyang       2596.0\n",
      "7                                Port Bustamante      46972.0\n",
      "8                                     Portsmouth     219018.8\n",
      "9                                   Puerto Plata    4320630.0\n",
      "10                                         Pusan     172840.8\n",
      "11                                 Santo Domingo    1451516.0\n"
     ]
    }
   ],
   "source": [
    "# CHECKING TOTAL WEIGHT IN LBS FROM FOREIGN PORT\n",
    "\n",
    "ss=df.groupby('FOREIGN PORT')['WEIGHT (LB)'].sum()\n",
    "ss=pd.DataFrame(ss)\n",
    "ss.reset_index(inplace=True)\n",
    "print(ss)"
   ]
  },
  {
   "cell_type": "markdown",
   "metadata": {},
   "source": [
    "* **combining both US port and Foreign port by using groupby and looking at the shipment data to get a better insight** "
   ]
  },
  {
   "cell_type": "code",
   "execution_count": 118,
   "metadata": {},
   "outputs": [
    {
     "data": {
      "text/plain": [
       "US PORT                                   FOREIGN PORT                                \n",
       "Houston, Texas                            Santo Domingo                                      43298.0\n",
       "Los Angeles, California                   Ching Tao                                          84568.0\n",
       "                                          Hong Kong                                          43890.0\n",
       "                                          Kaohsiung                                         175023.2\n",
       "                                          Kwangyang                                           2596.0\n",
       "                                          Pusan                                              66184.8\n",
       "Miami, Florida                            Haina                                             101457.0\n",
       "                                          Puerto Plata                                      139262.0\n",
       "New York, New York                        Caucedo                                           136158.0\n",
       "                                          Haina                                             193327.0\n",
       "                                          Hong Kong                                          42033.2\n",
       "                                          Pusan                                              45852.4\n",
       "New York/Newark Area, Newark, New Jersey  Hong Kong                                          69440.8\n",
       "                                          Port Bustamante                                    46972.0\n",
       "                                          Pusan                                              60803.6\n",
       "Port Everglades, Florida                  Santo Domingo                                     380609.0\n",
       "San Juan, Puerto Rico                     All Other England South and East Coast Ports    98409437.2\n",
       "                                          Caucedo                                           128469.0\n",
       "                                          Haina                                              22693.0\n",
       "                                          Portsmouth                                        219018.8\n",
       "                                          Santo Domingo                                    1027609.0\n",
       "West Palm Beach, Florida                  Puerto Plata                                     4181368.0\n",
       "Name: WEIGHT (LB), dtype: float64"
      ]
     },
     "execution_count": 118,
     "metadata": {},
     "output_type": "execute_result"
    }
   ],
   "source": [
    "b2=df.groupby(['US PORT','FOREIGN PORT'])['WEIGHT (LB)'].sum()\n",
    "b2"
   ]
  },
  {
   "cell_type": "markdown",
   "metadata": {},
   "source": [
    "* **Calculating difference in the arriving time and the estimated time to check which products were shipped early and which products were shipped lately to a place**\n",
    "* **I also calculated the average time of arrival of shipment with resective US Port and Foreign Port**"
   ]
  },
  {
   "cell_type": "code",
   "execution_count": 119,
   "metadata": {},
   "outputs": [
    {
     "data": {
      "text/plain": [
       "US PORT                                   FOREIGN PORT                                \n",
       "Houston, Texas                            Santo Domingo                                   7.000000\n",
       "Los Angeles, California                   Ching Tao                                       0.000000\n",
       "                                          Hong Kong                                       8.000000\n",
       "                                          Kaohsiung                                       1.850000\n",
       "                                          Kwangyang                                       7.000000\n",
       "                                          Pusan                                          -3.666667\n",
       "Miami, Florida                            Haina                                           0.000000\n",
       "                                          Puerto Plata                                    1.428571\n",
       "New York, New York                        Caucedo                                         1.000000\n",
       "                                          Haina                                          -1.400000\n",
       "                                          Hong Kong                                       1.500000\n",
       "                                          Pusan                                          -4.500000\n",
       "New York/Newark Area, Newark, New Jersey  Hong Kong                                       0.000000\n",
       "                                          Port Bustamante                                 0.000000\n",
       "                                          Pusan                                           9.500000\n",
       "Port Everglades, Florida                  Santo Domingo                                   1.272727\n",
       "San Juan, Puerto Rico                     All Other England South and East Coast Ports    1.909091\n",
       "                                          Caucedo                                         1.000000\n",
       "                                          Haina                                           4.500000\n",
       "                                          Portsmouth                                     -5.000000\n",
       "                                          Santo Domingo                                   1.705882\n",
       "West Palm Beach, Florida                  Puerto Plata                                    1.154639\n",
       "Name: TIME DIFFERENCE, dtype: float64"
      ]
     },
     "execution_count": 119,
     "metadata": {},
     "output_type": "execute_result"
    }
   ],
   "source": [
    "#checking the avg time of arrival with respetive US PORT and Foreign port\n",
    "#calculating the time difference between actual time and the estimated time of arrival.\n",
    "df['TIME DIFFERENCE'] = ( df['ACTUAL TIME OF ARRIVAL']-df['ESTIMATED TIME OF ARRIVAL'] )/np.timedelta64(1, 'D')\n",
    "dd=df.groupby(['US PORT','FOREIGN PORT'])['TIME DIFFERENCE'].mean()\n",
    "dd"
   ]
  },
  {
   "cell_type": "markdown",
   "metadata": {},
   "source": [
    "* **Calculating the frequency of each consignee present in the shipment data and by observing the bar plot we can interpret that SMS PRODUCE INC was the most frequent consignee with a frequency of 24**"
   ]
  },
  {
   "cell_type": "code",
   "execution_count": 120,
   "metadata": {},
   "outputs": [
    {
     "data": {
      "application/vnd.plotly.v1+json": {
       "config": {
        "plotlyServerURL": "https://plot.ly"
       },
       "data": [
        {
         "alignmentgroup": "True",
         "hoverlabel": {
          "namelength": 0
         },
         "hovertemplate": "CONSIGNEE=%{x}<br>COUNT=%{y}",
         "legendgroup": "",
         "marker": {
          "color": "#636efa"
         },
         "name": "",
         "offsetgroup": "",
         "orientation": "v",
         "showlegend": false,
         "textposition": "auto",
         "type": "bar",
         "x": [
          "SMS PRODUCE INC",
          "YALINI ENTERPRISES INC",
          "EMPRESAS LA FAMOSA, INC.",
          "ACROPOLLYS TRADING CORP",
          "-NOT AVAILABLE-",
          "SUNDINE PRODUCE, INC",
          "JALARAN PRODUCE INC OR MAHENDRA",
          "YUMMY-S WORLD TRADING",
          "EVE SALES CORPORATION",
          "JOCO PRODUCE, INC.",
          "GRUPO BANAMIEL S.A./ INDEPENDENCIA",
          "JOCO PRODUCE INC",
          "HECNY TRANSPORTATION INC - LAX",
          "SUNTRANS INTERNATIONAL, INC.",
          "PLANTACIONES DEL NORTE S.A.",
          "JPMA GLOBAL INC.",
          "GRUPO BANAMIEL S.A.",
          "PLANTACIONES DE NORTE S.A.",
          "STEPHEN GOULD WAREHOUSE",
          "ASSOCIATED BRANDS INDUSTRIES LTD",
          "G B INTERNATIONAL INC",
          "OEC FREIGHT (NY) INC.",
          "EXP GROUP LLC",
          "ALEXANDER-S MOBILITY SERVICES",
          "SUNTRANS INTERNATIONAL,INC.(CHICAGO",
          "PATAGONIA FOODS",
          "GOLDEN FORTUNE IMPORT & EXPORT",
          "GL FOOD WHOLESALE INCORPORATED",
          "SANJAY ENTERPRISE",
          "CHIOVITTI BANANA CO LTD",
          "UREN NORTH AMERICA LLC",
          "SUNTRANS INTERNATIONAL, INC",
          "EMPRESAS LA FAMOSA,INC.",
          "MARTIN BROWER",
          "CAFFEBENE INC.",
          "COAST TROPICAL",
          "EXPEDITORS INTERNATIONAL OF",
          "UREN NORTH AMERICA LLC.",
          "PGA GROUP",
          "IN FORMACGON DE ACROPOLLY S TRADING"
         ],
         "xaxis": "x",
         "y": [
          24,
          18,
          16,
          16,
          16,
          15,
          11,
          10,
          10,
          10,
          8,
          6,
          3,
          3,
          3,
          2,
          2,
          2,
          2,
          2,
          2,
          2,
          2,
          1,
          1,
          1,
          1,
          1,
          1,
          1,
          1,
          1,
          1,
          1,
          1,
          1,
          1,
          1,
          1,
          1
         ],
         "yaxis": "y"
        }
       ],
       "layout": {
        "barmode": "relative",
        "legend": {
         "tracegroupgap": 0
        },
        "margin": {
         "t": 60
        },
        "template": {
         "data": {
          "bar": [
           {
            "error_x": {
             "color": "#2a3f5f"
            },
            "error_y": {
             "color": "#2a3f5f"
            },
            "marker": {
             "line": {
              "color": "#E5ECF6",
              "width": 0.5
             }
            },
            "type": "bar"
           }
          ],
          "barpolar": [
           {
            "marker": {
             "line": {
              "color": "#E5ECF6",
              "width": 0.5
             }
            },
            "type": "barpolar"
           }
          ],
          "carpet": [
           {
            "aaxis": {
             "endlinecolor": "#2a3f5f",
             "gridcolor": "white",
             "linecolor": "white",
             "minorgridcolor": "white",
             "startlinecolor": "#2a3f5f"
            },
            "baxis": {
             "endlinecolor": "#2a3f5f",
             "gridcolor": "white",
             "linecolor": "white",
             "minorgridcolor": "white",
             "startlinecolor": "#2a3f5f"
            },
            "type": "carpet"
           }
          ],
          "choropleth": [
           {
            "colorbar": {
             "outlinewidth": 0,
             "ticks": ""
            },
            "type": "choropleth"
           }
          ],
          "contour": [
           {
            "colorbar": {
             "outlinewidth": 0,
             "ticks": ""
            },
            "colorscale": [
             [
              0,
              "#0d0887"
             ],
             [
              0.1111111111111111,
              "#46039f"
             ],
             [
              0.2222222222222222,
              "#7201a8"
             ],
             [
              0.3333333333333333,
              "#9c179e"
             ],
             [
              0.4444444444444444,
              "#bd3786"
             ],
             [
              0.5555555555555556,
              "#d8576b"
             ],
             [
              0.6666666666666666,
              "#ed7953"
             ],
             [
              0.7777777777777778,
              "#fb9f3a"
             ],
             [
              0.8888888888888888,
              "#fdca26"
             ],
             [
              1,
              "#f0f921"
             ]
            ],
            "type": "contour"
           }
          ],
          "contourcarpet": [
           {
            "colorbar": {
             "outlinewidth": 0,
             "ticks": ""
            },
            "type": "contourcarpet"
           }
          ],
          "heatmap": [
           {
            "colorbar": {
             "outlinewidth": 0,
             "ticks": ""
            },
            "colorscale": [
             [
              0,
              "#0d0887"
             ],
             [
              0.1111111111111111,
              "#46039f"
             ],
             [
              0.2222222222222222,
              "#7201a8"
             ],
             [
              0.3333333333333333,
              "#9c179e"
             ],
             [
              0.4444444444444444,
              "#bd3786"
             ],
             [
              0.5555555555555556,
              "#d8576b"
             ],
             [
              0.6666666666666666,
              "#ed7953"
             ],
             [
              0.7777777777777778,
              "#fb9f3a"
             ],
             [
              0.8888888888888888,
              "#fdca26"
             ],
             [
              1,
              "#f0f921"
             ]
            ],
            "type": "heatmap"
           }
          ],
          "heatmapgl": [
           {
            "colorbar": {
             "outlinewidth": 0,
             "ticks": ""
            },
            "colorscale": [
             [
              0,
              "#0d0887"
             ],
             [
              0.1111111111111111,
              "#46039f"
             ],
             [
              0.2222222222222222,
              "#7201a8"
             ],
             [
              0.3333333333333333,
              "#9c179e"
             ],
             [
              0.4444444444444444,
              "#bd3786"
             ],
             [
              0.5555555555555556,
              "#d8576b"
             ],
             [
              0.6666666666666666,
              "#ed7953"
             ],
             [
              0.7777777777777778,
              "#fb9f3a"
             ],
             [
              0.8888888888888888,
              "#fdca26"
             ],
             [
              1,
              "#f0f921"
             ]
            ],
            "type": "heatmapgl"
           }
          ],
          "histogram": [
           {
            "marker": {
             "colorbar": {
              "outlinewidth": 0,
              "ticks": ""
             }
            },
            "type": "histogram"
           }
          ],
          "histogram2d": [
           {
            "colorbar": {
             "outlinewidth": 0,
             "ticks": ""
            },
            "colorscale": [
             [
              0,
              "#0d0887"
             ],
             [
              0.1111111111111111,
              "#46039f"
             ],
             [
              0.2222222222222222,
              "#7201a8"
             ],
             [
              0.3333333333333333,
              "#9c179e"
             ],
             [
              0.4444444444444444,
              "#bd3786"
             ],
             [
              0.5555555555555556,
              "#d8576b"
             ],
             [
              0.6666666666666666,
              "#ed7953"
             ],
             [
              0.7777777777777778,
              "#fb9f3a"
             ],
             [
              0.8888888888888888,
              "#fdca26"
             ],
             [
              1,
              "#f0f921"
             ]
            ],
            "type": "histogram2d"
           }
          ],
          "histogram2dcontour": [
           {
            "colorbar": {
             "outlinewidth": 0,
             "ticks": ""
            },
            "colorscale": [
             [
              0,
              "#0d0887"
             ],
             [
              0.1111111111111111,
              "#46039f"
             ],
             [
              0.2222222222222222,
              "#7201a8"
             ],
             [
              0.3333333333333333,
              "#9c179e"
             ],
             [
              0.4444444444444444,
              "#bd3786"
             ],
             [
              0.5555555555555556,
              "#d8576b"
             ],
             [
              0.6666666666666666,
              "#ed7953"
             ],
             [
              0.7777777777777778,
              "#fb9f3a"
             ],
             [
              0.8888888888888888,
              "#fdca26"
             ],
             [
              1,
              "#f0f921"
             ]
            ],
            "type": "histogram2dcontour"
           }
          ],
          "mesh3d": [
           {
            "colorbar": {
             "outlinewidth": 0,
             "ticks": ""
            },
            "type": "mesh3d"
           }
          ],
          "parcoords": [
           {
            "line": {
             "colorbar": {
              "outlinewidth": 0,
              "ticks": ""
             }
            },
            "type": "parcoords"
           }
          ],
          "pie": [
           {
            "automargin": true,
            "type": "pie"
           }
          ],
          "scatter": [
           {
            "marker": {
             "colorbar": {
              "outlinewidth": 0,
              "ticks": ""
             }
            },
            "type": "scatter"
           }
          ],
          "scatter3d": [
           {
            "line": {
             "colorbar": {
              "outlinewidth": 0,
              "ticks": ""
             }
            },
            "marker": {
             "colorbar": {
              "outlinewidth": 0,
              "ticks": ""
             }
            },
            "type": "scatter3d"
           }
          ],
          "scattercarpet": [
           {
            "marker": {
             "colorbar": {
              "outlinewidth": 0,
              "ticks": ""
             }
            },
            "type": "scattercarpet"
           }
          ],
          "scattergeo": [
           {
            "marker": {
             "colorbar": {
              "outlinewidth": 0,
              "ticks": ""
             }
            },
            "type": "scattergeo"
           }
          ],
          "scattergl": [
           {
            "marker": {
             "colorbar": {
              "outlinewidth": 0,
              "ticks": ""
             }
            },
            "type": "scattergl"
           }
          ],
          "scattermapbox": [
           {
            "marker": {
             "colorbar": {
              "outlinewidth": 0,
              "ticks": ""
             }
            },
            "type": "scattermapbox"
           }
          ],
          "scatterpolar": [
           {
            "marker": {
             "colorbar": {
              "outlinewidth": 0,
              "ticks": ""
             }
            },
            "type": "scatterpolar"
           }
          ],
          "scatterpolargl": [
           {
            "marker": {
             "colorbar": {
              "outlinewidth": 0,
              "ticks": ""
             }
            },
            "type": "scatterpolargl"
           }
          ],
          "scatterternary": [
           {
            "marker": {
             "colorbar": {
              "outlinewidth": 0,
              "ticks": ""
             }
            },
            "type": "scatterternary"
           }
          ],
          "surface": [
           {
            "colorbar": {
             "outlinewidth": 0,
             "ticks": ""
            },
            "colorscale": [
             [
              0,
              "#0d0887"
             ],
             [
              0.1111111111111111,
              "#46039f"
             ],
             [
              0.2222222222222222,
              "#7201a8"
             ],
             [
              0.3333333333333333,
              "#9c179e"
             ],
             [
              0.4444444444444444,
              "#bd3786"
             ],
             [
              0.5555555555555556,
              "#d8576b"
             ],
             [
              0.6666666666666666,
              "#ed7953"
             ],
             [
              0.7777777777777778,
              "#fb9f3a"
             ],
             [
              0.8888888888888888,
              "#fdca26"
             ],
             [
              1,
              "#f0f921"
             ]
            ],
            "type": "surface"
           }
          ],
          "table": [
           {
            "cells": {
             "fill": {
              "color": "#EBF0F8"
             },
             "line": {
              "color": "white"
             }
            },
            "header": {
             "fill": {
              "color": "#C8D4E3"
             },
             "line": {
              "color": "white"
             }
            },
            "type": "table"
           }
          ]
         },
         "layout": {
          "annotationdefaults": {
           "arrowcolor": "#2a3f5f",
           "arrowhead": 0,
           "arrowwidth": 1
          },
          "coloraxis": {
           "colorbar": {
            "outlinewidth": 0,
            "ticks": ""
           }
          },
          "colorscale": {
           "diverging": [
            [
             0,
             "#8e0152"
            ],
            [
             0.1,
             "#c51b7d"
            ],
            [
             0.2,
             "#de77ae"
            ],
            [
             0.3,
             "#f1b6da"
            ],
            [
             0.4,
             "#fde0ef"
            ],
            [
             0.5,
             "#f7f7f7"
            ],
            [
             0.6,
             "#e6f5d0"
            ],
            [
             0.7,
             "#b8e186"
            ],
            [
             0.8,
             "#7fbc41"
            ],
            [
             0.9,
             "#4d9221"
            ],
            [
             1,
             "#276419"
            ]
           ],
           "sequential": [
            [
             0,
             "#0d0887"
            ],
            [
             0.1111111111111111,
             "#46039f"
            ],
            [
             0.2222222222222222,
             "#7201a8"
            ],
            [
             0.3333333333333333,
             "#9c179e"
            ],
            [
             0.4444444444444444,
             "#bd3786"
            ],
            [
             0.5555555555555556,
             "#d8576b"
            ],
            [
             0.6666666666666666,
             "#ed7953"
            ],
            [
             0.7777777777777778,
             "#fb9f3a"
            ],
            [
             0.8888888888888888,
             "#fdca26"
            ],
            [
             1,
             "#f0f921"
            ]
           ],
           "sequentialminus": [
            [
             0,
             "#0d0887"
            ],
            [
             0.1111111111111111,
             "#46039f"
            ],
            [
             0.2222222222222222,
             "#7201a8"
            ],
            [
             0.3333333333333333,
             "#9c179e"
            ],
            [
             0.4444444444444444,
             "#bd3786"
            ],
            [
             0.5555555555555556,
             "#d8576b"
            ],
            [
             0.6666666666666666,
             "#ed7953"
            ],
            [
             0.7777777777777778,
             "#fb9f3a"
            ],
            [
             0.8888888888888888,
             "#fdca26"
            ],
            [
             1,
             "#f0f921"
            ]
           ]
          },
          "colorway": [
           "#636efa",
           "#EF553B",
           "#00cc96",
           "#ab63fa",
           "#FFA15A",
           "#19d3f3",
           "#FF6692",
           "#B6E880",
           "#FF97FF",
           "#FECB52"
          ],
          "font": {
           "color": "#2a3f5f"
          },
          "geo": {
           "bgcolor": "white",
           "lakecolor": "white",
           "landcolor": "#E5ECF6",
           "showlakes": true,
           "showland": true,
           "subunitcolor": "white"
          },
          "hoverlabel": {
           "align": "left"
          },
          "hovermode": "closest",
          "mapbox": {
           "style": "light"
          },
          "paper_bgcolor": "white",
          "plot_bgcolor": "#E5ECF6",
          "polar": {
           "angularaxis": {
            "gridcolor": "white",
            "linecolor": "white",
            "ticks": ""
           },
           "bgcolor": "#E5ECF6",
           "radialaxis": {
            "gridcolor": "white",
            "linecolor": "white",
            "ticks": ""
           }
          },
          "scene": {
           "xaxis": {
            "backgroundcolor": "#E5ECF6",
            "gridcolor": "white",
            "gridwidth": 2,
            "linecolor": "white",
            "showbackground": true,
            "ticks": "",
            "zerolinecolor": "white"
           },
           "yaxis": {
            "backgroundcolor": "#E5ECF6",
            "gridcolor": "white",
            "gridwidth": 2,
            "linecolor": "white",
            "showbackground": true,
            "ticks": "",
            "zerolinecolor": "white"
           },
           "zaxis": {
            "backgroundcolor": "#E5ECF6",
            "gridcolor": "white",
            "gridwidth": 2,
            "linecolor": "white",
            "showbackground": true,
            "ticks": "",
            "zerolinecolor": "white"
           }
          },
          "shapedefaults": {
           "line": {
            "color": "#2a3f5f"
           }
          },
          "ternary": {
           "aaxis": {
            "gridcolor": "white",
            "linecolor": "white",
            "ticks": ""
           },
           "baxis": {
            "gridcolor": "white",
            "linecolor": "white",
            "ticks": ""
           },
           "bgcolor": "#E5ECF6",
           "caxis": {
            "gridcolor": "white",
            "linecolor": "white",
            "ticks": ""
           }
          },
          "title": {
           "x": 0.05
          },
          "xaxis": {
           "automargin": true,
           "gridcolor": "white",
           "linecolor": "white",
           "ticks": "",
           "title": {
            "standoff": 15
           },
           "zerolinecolor": "white",
           "zerolinewidth": 2
          },
          "yaxis": {
           "automargin": true,
           "gridcolor": "white",
           "linecolor": "white",
           "ticks": "",
           "title": {
            "standoff": 15
           },
           "zerolinecolor": "white",
           "zerolinewidth": 2
          }
         }
        },
        "xaxis": {
         "anchor": "y",
         "domain": [
          0,
          1
         ],
         "title": {
          "text": "CONSIGNEE"
         }
        },
        "yaxis": {
         "anchor": "x",
         "domain": [
          0,
          1
         ],
         "title": {
          "text": "COUNT"
         }
        }
       }
      },
      "text/html": [
       "<div>\n",
       "        \n",
       "        \n",
       "            <div id=\"803415fc-6b1d-4c24-a637-f227f64dae94\" class=\"plotly-graph-div\" style=\"height:525px; width:100%;\"></div>\n",
       "            <script type=\"text/javascript\">\n",
       "                require([\"plotly\"], function(Plotly) {\n",
       "                    window.PLOTLYENV=window.PLOTLYENV || {};\n",
       "                    \n",
       "                if (document.getElementById(\"803415fc-6b1d-4c24-a637-f227f64dae94\")) {\n",
       "                    Plotly.newPlot(\n",
       "                        '803415fc-6b1d-4c24-a637-f227f64dae94',\n",
       "                        [{\"alignmentgroup\": \"True\", \"hoverlabel\": {\"namelength\": 0}, \"hovertemplate\": \"CONSIGNEE=%{x}<br>COUNT=%{y}\", \"legendgroup\": \"\", \"marker\": {\"color\": \"#636efa\"}, \"name\": \"\", \"offsetgroup\": \"\", \"orientation\": \"v\", \"showlegend\": false, \"textposition\": \"auto\", \"type\": \"bar\", \"x\": [\"SMS PRODUCE INC\", \"YALINI ENTERPRISES INC\", \"EMPRESAS LA FAMOSA, INC.\", \"ACROPOLLYS TRADING CORP\", \"-NOT AVAILABLE-\", \"SUNDINE PRODUCE, INC\", \"JALARAN PRODUCE INC OR MAHENDRA\", \"YUMMY-S WORLD TRADING\", \"EVE SALES CORPORATION\", \"JOCO PRODUCE, INC.\", \"GRUPO BANAMIEL S.A./ INDEPENDENCIA\", \"JOCO PRODUCE INC\", \"HECNY TRANSPORTATION INC - LAX\", \"SUNTRANS INTERNATIONAL, INC.\", \"PLANTACIONES DEL NORTE S.A.\", \"JPMA GLOBAL INC.\", \"GRUPO BANAMIEL S.A.\", \"PLANTACIONES DE NORTE S.A.\", \"STEPHEN GOULD WAREHOUSE\", \"ASSOCIATED BRANDS INDUSTRIES LTD\", \"G B INTERNATIONAL INC\", \"OEC FREIGHT (NY) INC.\", \"EXP GROUP LLC\", \"ALEXANDER-S MOBILITY SERVICES\", \"SUNTRANS INTERNATIONAL,INC.(CHICAGO\", \"PATAGONIA FOODS\", \"GOLDEN FORTUNE IMPORT & EXPORT\", \"GL FOOD WHOLESALE INCORPORATED\", \"SANJAY ENTERPRISE\", \"CHIOVITTI BANANA CO LTD\", \"UREN NORTH AMERICA LLC\", \"SUNTRANS INTERNATIONAL, INC\", \"EMPRESAS LA FAMOSA,INC.\", \"MARTIN BROWER\", \"CAFFEBENE INC.\", \"COAST TROPICAL\", \"EXPEDITORS INTERNATIONAL OF\", \"UREN NORTH AMERICA LLC.\", \"PGA GROUP\", \"IN FORMACGON DE ACROPOLLY S TRADING\"], \"xaxis\": \"x\", \"y\": [24, 18, 16, 16, 16, 15, 11, 10, 10, 10, 8, 6, 3, 3, 3, 2, 2, 2, 2, 2, 2, 2, 2, 1, 1, 1, 1, 1, 1, 1, 1, 1, 1, 1, 1, 1, 1, 1, 1, 1], \"yaxis\": \"y\"}],\n",
       "                        {\"barmode\": \"relative\", \"legend\": {\"tracegroupgap\": 0}, \"margin\": {\"t\": 60}, \"template\": {\"data\": {\"bar\": [{\"error_x\": {\"color\": \"#2a3f5f\"}, \"error_y\": {\"color\": \"#2a3f5f\"}, \"marker\": {\"line\": {\"color\": \"#E5ECF6\", \"width\": 0.5}}, \"type\": \"bar\"}], \"barpolar\": [{\"marker\": {\"line\": {\"color\": \"#E5ECF6\", \"width\": 0.5}}, \"type\": \"barpolar\"}], \"carpet\": [{\"aaxis\": {\"endlinecolor\": \"#2a3f5f\", \"gridcolor\": \"white\", \"linecolor\": \"white\", \"minorgridcolor\": \"white\", \"startlinecolor\": \"#2a3f5f\"}, \"baxis\": {\"endlinecolor\": \"#2a3f5f\", \"gridcolor\": \"white\", \"linecolor\": \"white\", \"minorgridcolor\": \"white\", \"startlinecolor\": \"#2a3f5f\"}, \"type\": \"carpet\"}], \"choropleth\": [{\"colorbar\": {\"outlinewidth\": 0, \"ticks\": \"\"}, \"type\": \"choropleth\"}], \"contour\": [{\"colorbar\": {\"outlinewidth\": 0, \"ticks\": \"\"}, \"colorscale\": [[0.0, \"#0d0887\"], [0.1111111111111111, \"#46039f\"], [0.2222222222222222, \"#7201a8\"], [0.3333333333333333, \"#9c179e\"], [0.4444444444444444, \"#bd3786\"], [0.5555555555555556, \"#d8576b\"], [0.6666666666666666, \"#ed7953\"], [0.7777777777777778, \"#fb9f3a\"], [0.8888888888888888, \"#fdca26\"], [1.0, \"#f0f921\"]], \"type\": \"contour\"}], \"contourcarpet\": [{\"colorbar\": {\"outlinewidth\": 0, \"ticks\": \"\"}, \"type\": \"contourcarpet\"}], \"heatmap\": [{\"colorbar\": {\"outlinewidth\": 0, \"ticks\": \"\"}, \"colorscale\": [[0.0, \"#0d0887\"], [0.1111111111111111, \"#46039f\"], [0.2222222222222222, \"#7201a8\"], [0.3333333333333333, \"#9c179e\"], [0.4444444444444444, \"#bd3786\"], [0.5555555555555556, \"#d8576b\"], [0.6666666666666666, \"#ed7953\"], [0.7777777777777778, \"#fb9f3a\"], [0.8888888888888888, \"#fdca26\"], [1.0, \"#f0f921\"]], \"type\": \"heatmap\"}], \"heatmapgl\": [{\"colorbar\": {\"outlinewidth\": 0, \"ticks\": \"\"}, \"colorscale\": [[0.0, \"#0d0887\"], [0.1111111111111111, \"#46039f\"], [0.2222222222222222, \"#7201a8\"], [0.3333333333333333, \"#9c179e\"], [0.4444444444444444, \"#bd3786\"], [0.5555555555555556, \"#d8576b\"], [0.6666666666666666, \"#ed7953\"], [0.7777777777777778, \"#fb9f3a\"], [0.8888888888888888, \"#fdca26\"], [1.0, \"#f0f921\"]], \"type\": \"heatmapgl\"}], \"histogram\": [{\"marker\": {\"colorbar\": {\"outlinewidth\": 0, \"ticks\": \"\"}}, \"type\": \"histogram\"}], \"histogram2d\": [{\"colorbar\": {\"outlinewidth\": 0, \"ticks\": \"\"}, \"colorscale\": [[0.0, \"#0d0887\"], [0.1111111111111111, \"#46039f\"], [0.2222222222222222, \"#7201a8\"], [0.3333333333333333, \"#9c179e\"], [0.4444444444444444, \"#bd3786\"], [0.5555555555555556, \"#d8576b\"], [0.6666666666666666, \"#ed7953\"], [0.7777777777777778, \"#fb9f3a\"], [0.8888888888888888, \"#fdca26\"], [1.0, \"#f0f921\"]], \"type\": \"histogram2d\"}], \"histogram2dcontour\": [{\"colorbar\": {\"outlinewidth\": 0, \"ticks\": \"\"}, \"colorscale\": [[0.0, \"#0d0887\"], [0.1111111111111111, \"#46039f\"], [0.2222222222222222, \"#7201a8\"], [0.3333333333333333, \"#9c179e\"], [0.4444444444444444, \"#bd3786\"], [0.5555555555555556, \"#d8576b\"], [0.6666666666666666, \"#ed7953\"], [0.7777777777777778, \"#fb9f3a\"], [0.8888888888888888, \"#fdca26\"], [1.0, \"#f0f921\"]], \"type\": \"histogram2dcontour\"}], \"mesh3d\": [{\"colorbar\": {\"outlinewidth\": 0, \"ticks\": \"\"}, \"type\": \"mesh3d\"}], \"parcoords\": [{\"line\": {\"colorbar\": {\"outlinewidth\": 0, \"ticks\": \"\"}}, \"type\": \"parcoords\"}], \"pie\": [{\"automargin\": true, \"type\": \"pie\"}], \"scatter\": [{\"marker\": {\"colorbar\": {\"outlinewidth\": 0, \"ticks\": \"\"}}, \"type\": \"scatter\"}], \"scatter3d\": [{\"line\": {\"colorbar\": {\"outlinewidth\": 0, \"ticks\": \"\"}}, \"marker\": {\"colorbar\": {\"outlinewidth\": 0, \"ticks\": \"\"}}, \"type\": \"scatter3d\"}], \"scattercarpet\": [{\"marker\": {\"colorbar\": {\"outlinewidth\": 0, \"ticks\": \"\"}}, \"type\": \"scattercarpet\"}], \"scattergeo\": [{\"marker\": {\"colorbar\": {\"outlinewidth\": 0, \"ticks\": \"\"}}, \"type\": \"scattergeo\"}], \"scattergl\": [{\"marker\": {\"colorbar\": {\"outlinewidth\": 0, \"ticks\": \"\"}}, \"type\": \"scattergl\"}], \"scattermapbox\": [{\"marker\": {\"colorbar\": {\"outlinewidth\": 0, \"ticks\": \"\"}}, \"type\": \"scattermapbox\"}], \"scatterpolar\": [{\"marker\": {\"colorbar\": {\"outlinewidth\": 0, \"ticks\": \"\"}}, \"type\": \"scatterpolar\"}], \"scatterpolargl\": [{\"marker\": {\"colorbar\": {\"outlinewidth\": 0, \"ticks\": \"\"}}, \"type\": \"scatterpolargl\"}], \"scatterternary\": [{\"marker\": {\"colorbar\": {\"outlinewidth\": 0, \"ticks\": \"\"}}, \"type\": \"scatterternary\"}], \"surface\": [{\"colorbar\": {\"outlinewidth\": 0, \"ticks\": \"\"}, \"colorscale\": [[0.0, \"#0d0887\"], [0.1111111111111111, \"#46039f\"], [0.2222222222222222, \"#7201a8\"], [0.3333333333333333, \"#9c179e\"], [0.4444444444444444, \"#bd3786\"], [0.5555555555555556, \"#d8576b\"], [0.6666666666666666, \"#ed7953\"], [0.7777777777777778, \"#fb9f3a\"], [0.8888888888888888, \"#fdca26\"], [1.0, \"#f0f921\"]], \"type\": \"surface\"}], \"table\": [{\"cells\": {\"fill\": {\"color\": \"#EBF0F8\"}, \"line\": {\"color\": \"white\"}}, \"header\": {\"fill\": {\"color\": \"#C8D4E3\"}, \"line\": {\"color\": \"white\"}}, \"type\": \"table\"}]}, \"layout\": {\"annotationdefaults\": {\"arrowcolor\": \"#2a3f5f\", \"arrowhead\": 0, \"arrowwidth\": 1}, \"coloraxis\": {\"colorbar\": {\"outlinewidth\": 0, \"ticks\": \"\"}}, \"colorscale\": {\"diverging\": [[0, \"#8e0152\"], [0.1, \"#c51b7d\"], [0.2, \"#de77ae\"], [0.3, \"#f1b6da\"], [0.4, \"#fde0ef\"], [0.5, \"#f7f7f7\"], [0.6, \"#e6f5d0\"], [0.7, \"#b8e186\"], [0.8, \"#7fbc41\"], [0.9, \"#4d9221\"], [1, \"#276419\"]], \"sequential\": [[0.0, \"#0d0887\"], [0.1111111111111111, \"#46039f\"], [0.2222222222222222, \"#7201a8\"], [0.3333333333333333, \"#9c179e\"], [0.4444444444444444, \"#bd3786\"], [0.5555555555555556, \"#d8576b\"], [0.6666666666666666, \"#ed7953\"], [0.7777777777777778, \"#fb9f3a\"], [0.8888888888888888, \"#fdca26\"], [1.0, \"#f0f921\"]], \"sequentialminus\": [[0.0, \"#0d0887\"], [0.1111111111111111, \"#46039f\"], [0.2222222222222222, \"#7201a8\"], [0.3333333333333333, \"#9c179e\"], [0.4444444444444444, \"#bd3786\"], [0.5555555555555556, \"#d8576b\"], [0.6666666666666666, \"#ed7953\"], [0.7777777777777778, \"#fb9f3a\"], [0.8888888888888888, \"#fdca26\"], [1.0, \"#f0f921\"]]}, \"colorway\": [\"#636efa\", \"#EF553B\", \"#00cc96\", \"#ab63fa\", \"#FFA15A\", \"#19d3f3\", \"#FF6692\", \"#B6E880\", \"#FF97FF\", \"#FECB52\"], \"font\": {\"color\": \"#2a3f5f\"}, \"geo\": {\"bgcolor\": \"white\", \"lakecolor\": \"white\", \"landcolor\": \"#E5ECF6\", \"showlakes\": true, \"showland\": true, \"subunitcolor\": \"white\"}, \"hoverlabel\": {\"align\": \"left\"}, \"hovermode\": \"closest\", \"mapbox\": {\"style\": \"light\"}, \"paper_bgcolor\": \"white\", \"plot_bgcolor\": \"#E5ECF6\", \"polar\": {\"angularaxis\": {\"gridcolor\": \"white\", \"linecolor\": \"white\", \"ticks\": \"\"}, \"bgcolor\": \"#E5ECF6\", \"radialaxis\": {\"gridcolor\": \"white\", \"linecolor\": \"white\", \"ticks\": \"\"}}, \"scene\": {\"xaxis\": {\"backgroundcolor\": \"#E5ECF6\", \"gridcolor\": \"white\", \"gridwidth\": 2, \"linecolor\": \"white\", \"showbackground\": true, \"ticks\": \"\", \"zerolinecolor\": \"white\"}, \"yaxis\": {\"backgroundcolor\": \"#E5ECF6\", \"gridcolor\": \"white\", \"gridwidth\": 2, \"linecolor\": \"white\", \"showbackground\": true, \"ticks\": \"\", \"zerolinecolor\": \"white\"}, \"zaxis\": {\"backgroundcolor\": \"#E5ECF6\", \"gridcolor\": \"white\", \"gridwidth\": 2, \"linecolor\": \"white\", \"showbackground\": true, \"ticks\": \"\", \"zerolinecolor\": \"white\"}}, \"shapedefaults\": {\"line\": {\"color\": \"#2a3f5f\"}}, \"ternary\": {\"aaxis\": {\"gridcolor\": \"white\", \"linecolor\": \"white\", \"ticks\": \"\"}, \"baxis\": {\"gridcolor\": \"white\", \"linecolor\": \"white\", \"ticks\": \"\"}, \"bgcolor\": \"#E5ECF6\", \"caxis\": {\"gridcolor\": \"white\", \"linecolor\": \"white\", \"ticks\": \"\"}}, \"title\": {\"x\": 0.05}, \"xaxis\": {\"automargin\": true, \"gridcolor\": \"white\", \"linecolor\": \"white\", \"ticks\": \"\", \"title\": {\"standoff\": 15}, \"zerolinecolor\": \"white\", \"zerolinewidth\": 2}, \"yaxis\": {\"automargin\": true, \"gridcolor\": \"white\", \"linecolor\": \"white\", \"ticks\": \"\", \"title\": {\"standoff\": 15}, \"zerolinecolor\": \"white\", \"zerolinewidth\": 2}}}, \"xaxis\": {\"anchor\": \"y\", \"domain\": [0.0, 1.0], \"title\": {\"text\": \"CONSIGNEE\"}}, \"yaxis\": {\"anchor\": \"x\", \"domain\": [0.0, 1.0], \"title\": {\"text\": \"COUNT\"}}},\n",
       "                        {\"responsive\": true}\n",
       "                    ).then(function(){\n",
       "                            \n",
       "var gd = document.getElementById('803415fc-6b1d-4c24-a637-f227f64dae94');\n",
       "var x = new MutationObserver(function (mutations, observer) {{\n",
       "        var display = window.getComputedStyle(gd).display;\n",
       "        if (!display || display === 'none') {{\n",
       "            console.log([gd, 'removed!']);\n",
       "            Plotly.purge(gd);\n",
       "            observer.disconnect();\n",
       "        }}\n",
       "}});\n",
       "\n",
       "// Listen for the removal of the full notebook cells\n",
       "var notebookContainer = gd.closest('#notebook-container');\n",
       "if (notebookContainer) {{\n",
       "    x.observe(notebookContainer, {childList: true});\n",
       "}}\n",
       "\n",
       "// Listen for the clearing of the current output cell\n",
       "var outputEl = gd.closest('.output');\n",
       "if (outputEl) {{\n",
       "    x.observe(outputEl, {childList: true});\n",
       "}}\n",
       "\n",
       "                        })\n",
       "                };\n",
       "                });\n",
       "            </script>\n",
       "        </div>"
      ]
     },
     "metadata": {},
     "output_type": "display_data"
    }
   ],
   "source": [
    "b3=df['CONSIGNEE'].value_counts()\n",
    "b33=pd.DataFrame(b3)\n",
    "b33.reset_index(inplace=True)\n",
    "b33.columns=['CONSIGNEE','COUNT']\n",
    "px.bar(b33,x='CONSIGNEE',y='COUNT')\n"
   ]
  },
  {
   "cell_type": "code",
   "execution_count": 180,
   "metadata": {},
   "outputs": [
    {
     "data": {
      "application/vnd.plotly.v1+json": {
       "config": {
        "plotlyServerURL": "https://plot.ly"
       },
       "data": [
        {
         "domain": {
          "x": [
           0,
           1
          ],
          "y": [
           0,
           1
          ]
         },
         "hoverlabel": {
          "namelength": 0
         },
         "hovertemplate": "character=%{label}<br>parent=%{parent}",
         "labels": [
          "US PORT",
          "Houston, Texas",
          "Los Angeles, California",
          "Miami, Florida",
          "New York, New York",
          "New York/Newark Area, Newark, New Jersey",
          "Port Everglades, Florida",
          "San Juan, Puerto Rico",
          "West Palm Beach, Florida",
          "PATAGONIA FOODS",
          "SUNTRANS INTERNATIONAL, INC",
          "ALEXANDER-S MOBILITY SERVICES",
          "SUNTRANS INTERNATIONAL,INC.(CHICAGO",
          "EXPEDITORS INTERNATIONAL OF",
          "JPMA GLOBAL INC.",
          "HECNY TRANSPORTATION INC - LAX",
          "GL FOOD WHOLESALE INCORPORATED",
          "G B INTERNATIONAL INC",
          "-NOT AVAILABLE-",
          "JOCO PRODUCE INC",
          "EVE SALES CORPORATION",
          "-NOT AVAILABLE-",
          "SUNTRANS INTERNATIONAL, INC.",
          "UREN NORTH AMERICA LLC.",
          "EVE SALES CORPORATION",
          "STEPHEN GOULD WAREHOUSE",
          "EXP GROUP LLC",
          "CHIOVITTI BANANA CO LTD",
          "GOLDEN FORTUNE IMPORT & EXPORT",
          "SUNTRANS INTERNATIONAL, INC.",
          "CAFFEBENE INC.",
          "OEC FREIGHT (NY) INC.",
          "JALARAN PRODUCE INC OR MAHENDRA",
          "PLANTACIONES DEL NORTE S.A.",
          "GRUPO BANAMIEL S.A.",
          "ASSOCIATED BRANDS INDUSTRIES LTD",
          "UREN NORTH AMERICA LLC",
          "MARTIN BROWER",
          "EMPRESAS LA FAMOSA,INC.",
          "GRUPO BANAMIEL S.A./ INDEPENDENCIA",
          "PLANTACIONES DE NORTE S.A.",
          "EMPRESAS LA FAMOSA, INC.",
          "SUNDINE PRODUCE, INC",
          "YUMMY-S WORLD TRADING",
          "SMS PRODUCE INC",
          "PGA GROUP",
          "YALINI ENTERPRISES INC",
          "ACROPOLLYS TRADING CORP",
          "SANJAY ENTERPRISE",
          "JOCO PRODUCE, INC.",
          "COAST TROPICAL",
          "IN FORMACGON DE ACROPOLLY S TRADING"
         ],
         "name": "",
         "parents": [
          "",
          "US PORT",
          "US PORT",
          "US PORT",
          "US PORT",
          "US PORT",
          "US PORT",
          "US PORT",
          "US PORT",
          "Houston, Texas",
          "Los Angeles, California",
          "Los Angeles, California",
          "Los Angeles, California",
          "Los Angeles, California",
          "Los Angeles, California",
          "Los Angeles, California",
          "Los Angeles, California",
          "Los Angeles, California",
          "Los Angeles, California",
          "Miami, Florida",
          "Miami, Florida",
          "Miami, Florida",
          "New York, New York",
          "New York, New York",
          "New York, New York",
          "New York, New York",
          "New York, New York",
          "New York, New York",
          "New York/Newark Area, Newark, New Jersey",
          "New York/Newark Area, Newark, New Jersey",
          "New York/Newark Area, Newark, New Jersey",
          "New York/Newark Area, Newark, New Jersey",
          "Port Everglades, Florida",
          "San Juan, Puerto Rico",
          "San Juan, Puerto Rico",
          "San Juan, Puerto Rico",
          "San Juan, Puerto Rico",
          "San Juan, Puerto Rico",
          "San Juan, Puerto Rico",
          "San Juan, Puerto Rico",
          "San Juan, Puerto Rico",
          "San Juan, Puerto Rico",
          "West Palm Beach, Florida",
          "West Palm Beach, Florida",
          "West Palm Beach, Florida",
          "West Palm Beach, Florida",
          "West Palm Beach, Florida",
          "West Palm Beach, Florida",
          "West Palm Beach, Florida",
          "West Palm Beach, Florida",
          "West Palm Beach, Florida",
          "West Palm Beach, Florida"
         ],
         "type": "sunburst"
        }
       ],
       "layout": {
        "legend": {
         "tracegroupgap": 0
        },
        "margin": {
         "t": 60
        },
        "template": {
         "data": {
          "bar": [
           {
            "error_x": {
             "color": "#2a3f5f"
            },
            "error_y": {
             "color": "#2a3f5f"
            },
            "marker": {
             "line": {
              "color": "#E5ECF6",
              "width": 0.5
             }
            },
            "type": "bar"
           }
          ],
          "barpolar": [
           {
            "marker": {
             "line": {
              "color": "#E5ECF6",
              "width": 0.5
             }
            },
            "type": "barpolar"
           }
          ],
          "carpet": [
           {
            "aaxis": {
             "endlinecolor": "#2a3f5f",
             "gridcolor": "white",
             "linecolor": "white",
             "minorgridcolor": "white",
             "startlinecolor": "#2a3f5f"
            },
            "baxis": {
             "endlinecolor": "#2a3f5f",
             "gridcolor": "white",
             "linecolor": "white",
             "minorgridcolor": "white",
             "startlinecolor": "#2a3f5f"
            },
            "type": "carpet"
           }
          ],
          "choropleth": [
           {
            "colorbar": {
             "outlinewidth": 0,
             "ticks": ""
            },
            "type": "choropleth"
           }
          ],
          "contour": [
           {
            "colorbar": {
             "outlinewidth": 0,
             "ticks": ""
            },
            "colorscale": [
             [
              0,
              "#0d0887"
             ],
             [
              0.1111111111111111,
              "#46039f"
             ],
             [
              0.2222222222222222,
              "#7201a8"
             ],
             [
              0.3333333333333333,
              "#9c179e"
             ],
             [
              0.4444444444444444,
              "#bd3786"
             ],
             [
              0.5555555555555556,
              "#d8576b"
             ],
             [
              0.6666666666666666,
              "#ed7953"
             ],
             [
              0.7777777777777778,
              "#fb9f3a"
             ],
             [
              0.8888888888888888,
              "#fdca26"
             ],
             [
              1,
              "#f0f921"
             ]
            ],
            "type": "contour"
           }
          ],
          "contourcarpet": [
           {
            "colorbar": {
             "outlinewidth": 0,
             "ticks": ""
            },
            "type": "contourcarpet"
           }
          ],
          "heatmap": [
           {
            "colorbar": {
             "outlinewidth": 0,
             "ticks": ""
            },
            "colorscale": [
             [
              0,
              "#0d0887"
             ],
             [
              0.1111111111111111,
              "#46039f"
             ],
             [
              0.2222222222222222,
              "#7201a8"
             ],
             [
              0.3333333333333333,
              "#9c179e"
             ],
             [
              0.4444444444444444,
              "#bd3786"
             ],
             [
              0.5555555555555556,
              "#d8576b"
             ],
             [
              0.6666666666666666,
              "#ed7953"
             ],
             [
              0.7777777777777778,
              "#fb9f3a"
             ],
             [
              0.8888888888888888,
              "#fdca26"
             ],
             [
              1,
              "#f0f921"
             ]
            ],
            "type": "heatmap"
           }
          ],
          "heatmapgl": [
           {
            "colorbar": {
             "outlinewidth": 0,
             "ticks": ""
            },
            "colorscale": [
             [
              0,
              "#0d0887"
             ],
             [
              0.1111111111111111,
              "#46039f"
             ],
             [
              0.2222222222222222,
              "#7201a8"
             ],
             [
              0.3333333333333333,
              "#9c179e"
             ],
             [
              0.4444444444444444,
              "#bd3786"
             ],
             [
              0.5555555555555556,
              "#d8576b"
             ],
             [
              0.6666666666666666,
              "#ed7953"
             ],
             [
              0.7777777777777778,
              "#fb9f3a"
             ],
             [
              0.8888888888888888,
              "#fdca26"
             ],
             [
              1,
              "#f0f921"
             ]
            ],
            "type": "heatmapgl"
           }
          ],
          "histogram": [
           {
            "marker": {
             "colorbar": {
              "outlinewidth": 0,
              "ticks": ""
             }
            },
            "type": "histogram"
           }
          ],
          "histogram2d": [
           {
            "colorbar": {
             "outlinewidth": 0,
             "ticks": ""
            },
            "colorscale": [
             [
              0,
              "#0d0887"
             ],
             [
              0.1111111111111111,
              "#46039f"
             ],
             [
              0.2222222222222222,
              "#7201a8"
             ],
             [
              0.3333333333333333,
              "#9c179e"
             ],
             [
              0.4444444444444444,
              "#bd3786"
             ],
             [
              0.5555555555555556,
              "#d8576b"
             ],
             [
              0.6666666666666666,
              "#ed7953"
             ],
             [
              0.7777777777777778,
              "#fb9f3a"
             ],
             [
              0.8888888888888888,
              "#fdca26"
             ],
             [
              1,
              "#f0f921"
             ]
            ],
            "type": "histogram2d"
           }
          ],
          "histogram2dcontour": [
           {
            "colorbar": {
             "outlinewidth": 0,
             "ticks": ""
            },
            "colorscale": [
             [
              0,
              "#0d0887"
             ],
             [
              0.1111111111111111,
              "#46039f"
             ],
             [
              0.2222222222222222,
              "#7201a8"
             ],
             [
              0.3333333333333333,
              "#9c179e"
             ],
             [
              0.4444444444444444,
              "#bd3786"
             ],
             [
              0.5555555555555556,
              "#d8576b"
             ],
             [
              0.6666666666666666,
              "#ed7953"
             ],
             [
              0.7777777777777778,
              "#fb9f3a"
             ],
             [
              0.8888888888888888,
              "#fdca26"
             ],
             [
              1,
              "#f0f921"
             ]
            ],
            "type": "histogram2dcontour"
           }
          ],
          "mesh3d": [
           {
            "colorbar": {
             "outlinewidth": 0,
             "ticks": ""
            },
            "type": "mesh3d"
           }
          ],
          "parcoords": [
           {
            "line": {
             "colorbar": {
              "outlinewidth": 0,
              "ticks": ""
             }
            },
            "type": "parcoords"
           }
          ],
          "pie": [
           {
            "automargin": true,
            "type": "pie"
           }
          ],
          "scatter": [
           {
            "marker": {
             "colorbar": {
              "outlinewidth": 0,
              "ticks": ""
             }
            },
            "type": "scatter"
           }
          ],
          "scatter3d": [
           {
            "line": {
             "colorbar": {
              "outlinewidth": 0,
              "ticks": ""
             }
            },
            "marker": {
             "colorbar": {
              "outlinewidth": 0,
              "ticks": ""
             }
            },
            "type": "scatter3d"
           }
          ],
          "scattercarpet": [
           {
            "marker": {
             "colorbar": {
              "outlinewidth": 0,
              "ticks": ""
             }
            },
            "type": "scattercarpet"
           }
          ],
          "scattergeo": [
           {
            "marker": {
             "colorbar": {
              "outlinewidth": 0,
              "ticks": ""
             }
            },
            "type": "scattergeo"
           }
          ],
          "scattergl": [
           {
            "marker": {
             "colorbar": {
              "outlinewidth": 0,
              "ticks": ""
             }
            },
            "type": "scattergl"
           }
          ],
          "scattermapbox": [
           {
            "marker": {
             "colorbar": {
              "outlinewidth": 0,
              "ticks": ""
             }
            },
            "type": "scattermapbox"
           }
          ],
          "scatterpolar": [
           {
            "marker": {
             "colorbar": {
              "outlinewidth": 0,
              "ticks": ""
             }
            },
            "type": "scatterpolar"
           }
          ],
          "scatterpolargl": [
           {
            "marker": {
             "colorbar": {
              "outlinewidth": 0,
              "ticks": ""
             }
            },
            "type": "scatterpolargl"
           }
          ],
          "scatterternary": [
           {
            "marker": {
             "colorbar": {
              "outlinewidth": 0,
              "ticks": ""
             }
            },
            "type": "scatterternary"
           }
          ],
          "surface": [
           {
            "colorbar": {
             "outlinewidth": 0,
             "ticks": ""
            },
            "colorscale": [
             [
              0,
              "#0d0887"
             ],
             [
              0.1111111111111111,
              "#46039f"
             ],
             [
              0.2222222222222222,
              "#7201a8"
             ],
             [
              0.3333333333333333,
              "#9c179e"
             ],
             [
              0.4444444444444444,
              "#bd3786"
             ],
             [
              0.5555555555555556,
              "#d8576b"
             ],
             [
              0.6666666666666666,
              "#ed7953"
             ],
             [
              0.7777777777777778,
              "#fb9f3a"
             ],
             [
              0.8888888888888888,
              "#fdca26"
             ],
             [
              1,
              "#f0f921"
             ]
            ],
            "type": "surface"
           }
          ],
          "table": [
           {
            "cells": {
             "fill": {
              "color": "#EBF0F8"
             },
             "line": {
              "color": "white"
             }
            },
            "header": {
             "fill": {
              "color": "#C8D4E3"
             },
             "line": {
              "color": "white"
             }
            },
            "type": "table"
           }
          ]
         },
         "layout": {
          "annotationdefaults": {
           "arrowcolor": "#2a3f5f",
           "arrowhead": 0,
           "arrowwidth": 1
          },
          "coloraxis": {
           "colorbar": {
            "outlinewidth": 0,
            "ticks": ""
           }
          },
          "colorscale": {
           "diverging": [
            [
             0,
             "#8e0152"
            ],
            [
             0.1,
             "#c51b7d"
            ],
            [
             0.2,
             "#de77ae"
            ],
            [
             0.3,
             "#f1b6da"
            ],
            [
             0.4,
             "#fde0ef"
            ],
            [
             0.5,
             "#f7f7f7"
            ],
            [
             0.6,
             "#e6f5d0"
            ],
            [
             0.7,
             "#b8e186"
            ],
            [
             0.8,
             "#7fbc41"
            ],
            [
             0.9,
             "#4d9221"
            ],
            [
             1,
             "#276419"
            ]
           ],
           "sequential": [
            [
             0,
             "#0d0887"
            ],
            [
             0.1111111111111111,
             "#46039f"
            ],
            [
             0.2222222222222222,
             "#7201a8"
            ],
            [
             0.3333333333333333,
             "#9c179e"
            ],
            [
             0.4444444444444444,
             "#bd3786"
            ],
            [
             0.5555555555555556,
             "#d8576b"
            ],
            [
             0.6666666666666666,
             "#ed7953"
            ],
            [
             0.7777777777777778,
             "#fb9f3a"
            ],
            [
             0.8888888888888888,
             "#fdca26"
            ],
            [
             1,
             "#f0f921"
            ]
           ],
           "sequentialminus": [
            [
             0,
             "#0d0887"
            ],
            [
             0.1111111111111111,
             "#46039f"
            ],
            [
             0.2222222222222222,
             "#7201a8"
            ],
            [
             0.3333333333333333,
             "#9c179e"
            ],
            [
             0.4444444444444444,
             "#bd3786"
            ],
            [
             0.5555555555555556,
             "#d8576b"
            ],
            [
             0.6666666666666666,
             "#ed7953"
            ],
            [
             0.7777777777777778,
             "#fb9f3a"
            ],
            [
             0.8888888888888888,
             "#fdca26"
            ],
            [
             1,
             "#f0f921"
            ]
           ]
          },
          "colorway": [
           "#636efa",
           "#EF553B",
           "#00cc96",
           "#ab63fa",
           "#FFA15A",
           "#19d3f3",
           "#FF6692",
           "#B6E880",
           "#FF97FF",
           "#FECB52"
          ],
          "font": {
           "color": "#2a3f5f"
          },
          "geo": {
           "bgcolor": "white",
           "lakecolor": "white",
           "landcolor": "#E5ECF6",
           "showlakes": true,
           "showland": true,
           "subunitcolor": "white"
          },
          "hoverlabel": {
           "align": "left"
          },
          "hovermode": "closest",
          "mapbox": {
           "style": "light"
          },
          "paper_bgcolor": "white",
          "plot_bgcolor": "#E5ECF6",
          "polar": {
           "angularaxis": {
            "gridcolor": "white",
            "linecolor": "white",
            "ticks": ""
           },
           "bgcolor": "#E5ECF6",
           "radialaxis": {
            "gridcolor": "white",
            "linecolor": "white",
            "ticks": ""
           }
          },
          "scene": {
           "xaxis": {
            "backgroundcolor": "#E5ECF6",
            "gridcolor": "white",
            "gridwidth": 2,
            "linecolor": "white",
            "showbackground": true,
            "ticks": "",
            "zerolinecolor": "white"
           },
           "yaxis": {
            "backgroundcolor": "#E5ECF6",
            "gridcolor": "white",
            "gridwidth": 2,
            "linecolor": "white",
            "showbackground": true,
            "ticks": "",
            "zerolinecolor": "white"
           },
           "zaxis": {
            "backgroundcolor": "#E5ECF6",
            "gridcolor": "white",
            "gridwidth": 2,
            "linecolor": "white",
            "showbackground": true,
            "ticks": "",
            "zerolinecolor": "white"
           }
          },
          "shapedefaults": {
           "line": {
            "color": "#2a3f5f"
           }
          },
          "ternary": {
           "aaxis": {
            "gridcolor": "white",
            "linecolor": "white",
            "ticks": ""
           },
           "baxis": {
            "gridcolor": "white",
            "linecolor": "white",
            "ticks": ""
           },
           "bgcolor": "#E5ECF6",
           "caxis": {
            "gridcolor": "white",
            "linecolor": "white",
            "ticks": ""
           }
          },
          "title": {
           "x": 0.05
          },
          "xaxis": {
           "automargin": true,
           "gridcolor": "white",
           "linecolor": "white",
           "ticks": "",
           "title": {
            "standoff": 15
           },
           "zerolinecolor": "white",
           "zerolinewidth": 2
          },
          "yaxis": {
           "automargin": true,
           "gridcolor": "white",
           "linecolor": "white",
           "ticks": "",
           "title": {
            "standoff": 15
           },
           "zerolinecolor": "white",
           "zerolinewidth": 2
          }
         }
        }
       }
      },
      "text/html": [
       "<div>\n",
       "        \n",
       "        \n",
       "            <div id=\"bd808147-84ee-4c8b-a2d0-d624d9bfcf49\" class=\"plotly-graph-div\" style=\"height:525px; width:100%;\"></div>\n",
       "            <script type=\"text/javascript\">\n",
       "                require([\"plotly\"], function(Plotly) {\n",
       "                    window.PLOTLYENV=window.PLOTLYENV || {};\n",
       "                    \n",
       "                if (document.getElementById(\"bd808147-84ee-4c8b-a2d0-d624d9bfcf49\")) {\n",
       "                    Plotly.newPlot(\n",
       "                        'bd808147-84ee-4c8b-a2d0-d624d9bfcf49',\n",
       "                        [{\"domain\": {\"x\": [0.0, 1.0], \"y\": [0.0, 1.0]}, \"hoverlabel\": {\"namelength\": 0}, \"hovertemplate\": \"character=%{label}<br>parent=%{parent}\", \"labels\": [\"US PORT\", \"Houston, Texas\", \"Los Angeles, California\", \"Miami, Florida\", \"New York, New York\", \"New York/Newark Area, Newark, New Jersey\", \"Port Everglades, Florida\", \"San Juan, Puerto Rico\", \"West Palm Beach, Florida\", \"PATAGONIA FOODS\", \"SUNTRANS INTERNATIONAL, INC\", \"ALEXANDER-S MOBILITY SERVICES\", \"SUNTRANS INTERNATIONAL,INC.(CHICAGO\", \"EXPEDITORS INTERNATIONAL OF\", \"JPMA GLOBAL INC.\", \"HECNY TRANSPORTATION INC - LAX\", \"GL FOOD WHOLESALE INCORPORATED\", \"G B INTERNATIONAL INC\", \"-NOT AVAILABLE-\", \"JOCO PRODUCE INC\", \"EVE SALES CORPORATION\", \"-NOT AVAILABLE-\", \"SUNTRANS INTERNATIONAL, INC.\", \"UREN NORTH AMERICA LLC.\", \"EVE SALES CORPORATION\", \"STEPHEN GOULD WAREHOUSE\", \"EXP GROUP LLC\", \"CHIOVITTI BANANA CO LTD\", \"GOLDEN FORTUNE IMPORT & EXPORT\", \"SUNTRANS INTERNATIONAL, INC.\", \"CAFFEBENE INC.\", \"OEC FREIGHT (NY) INC.\", \"JALARAN PRODUCE INC OR MAHENDRA\", \"PLANTACIONES DEL NORTE S.A.\", \"GRUPO BANAMIEL S.A.\", \"ASSOCIATED BRANDS INDUSTRIES LTD\", \"UREN NORTH AMERICA LLC\", \"MARTIN BROWER\", \"EMPRESAS LA FAMOSA,INC.\", \"GRUPO BANAMIEL S.A./ INDEPENDENCIA\", \"PLANTACIONES DE NORTE S.A.\", \"EMPRESAS LA FAMOSA, INC.\", \"SUNDINE PRODUCE, INC\", \"YUMMY-S WORLD TRADING\", \"SMS PRODUCE INC\", \"PGA GROUP\", \"YALINI ENTERPRISES INC\", \"ACROPOLLYS TRADING CORP\", \"SANJAY ENTERPRISE\", \"JOCO PRODUCE, INC.\", \"COAST TROPICAL\", \"IN FORMACGON DE ACROPOLLY S TRADING\"], \"name\": \"\", \"parents\": [\"\", \"US PORT\", \"US PORT\", \"US PORT\", \"US PORT\", \"US PORT\", \"US PORT\", \"US PORT\", \"US PORT\", \"Houston, Texas\", \"Los Angeles, California\", \"Los Angeles, California\", \"Los Angeles, California\", \"Los Angeles, California\", \"Los Angeles, California\", \"Los Angeles, California\", \"Los Angeles, California\", \"Los Angeles, California\", \"Los Angeles, California\", \"Miami, Florida\", \"Miami, Florida\", \"Miami, Florida\", \"New York, New York\", \"New York, New York\", \"New York, New York\", \"New York, New York\", \"New York, New York\", \"New York, New York\", \"New York/Newark Area, Newark, New Jersey\", \"New York/Newark Area, Newark, New Jersey\", \"New York/Newark Area, Newark, New Jersey\", \"New York/Newark Area, Newark, New Jersey\", \"Port Everglades, Florida\", \"San Juan, Puerto Rico\", \"San Juan, Puerto Rico\", \"San Juan, Puerto Rico\", \"San Juan, Puerto Rico\", \"San Juan, Puerto Rico\", \"San Juan, Puerto Rico\", \"San Juan, Puerto Rico\", \"San Juan, Puerto Rico\", \"San Juan, Puerto Rico\", \"West Palm Beach, Florida\", \"West Palm Beach, Florida\", \"West Palm Beach, Florida\", \"West Palm Beach, Florida\", \"West Palm Beach, Florida\", \"West Palm Beach, Florida\", \"West Palm Beach, Florida\", \"West Palm Beach, Florida\", \"West Palm Beach, Florida\", \"West Palm Beach, Florida\"], \"type\": \"sunburst\"}],\n",
       "                        {\"legend\": {\"tracegroupgap\": 0}, \"margin\": {\"t\": 60}, \"template\": {\"data\": {\"bar\": [{\"error_x\": {\"color\": \"#2a3f5f\"}, \"error_y\": {\"color\": \"#2a3f5f\"}, \"marker\": {\"line\": {\"color\": \"#E5ECF6\", \"width\": 0.5}}, \"type\": \"bar\"}], \"barpolar\": [{\"marker\": {\"line\": {\"color\": \"#E5ECF6\", \"width\": 0.5}}, \"type\": \"barpolar\"}], \"carpet\": [{\"aaxis\": {\"endlinecolor\": \"#2a3f5f\", \"gridcolor\": \"white\", \"linecolor\": \"white\", \"minorgridcolor\": \"white\", \"startlinecolor\": \"#2a3f5f\"}, \"baxis\": {\"endlinecolor\": \"#2a3f5f\", \"gridcolor\": \"white\", \"linecolor\": \"white\", \"minorgridcolor\": \"white\", \"startlinecolor\": \"#2a3f5f\"}, \"type\": \"carpet\"}], \"choropleth\": [{\"colorbar\": {\"outlinewidth\": 0, \"ticks\": \"\"}, \"type\": \"choropleth\"}], \"contour\": [{\"colorbar\": {\"outlinewidth\": 0, \"ticks\": \"\"}, \"colorscale\": [[0.0, \"#0d0887\"], [0.1111111111111111, \"#46039f\"], [0.2222222222222222, \"#7201a8\"], [0.3333333333333333, \"#9c179e\"], [0.4444444444444444, \"#bd3786\"], [0.5555555555555556, \"#d8576b\"], [0.6666666666666666, \"#ed7953\"], [0.7777777777777778, \"#fb9f3a\"], [0.8888888888888888, \"#fdca26\"], [1.0, \"#f0f921\"]], \"type\": \"contour\"}], \"contourcarpet\": [{\"colorbar\": {\"outlinewidth\": 0, \"ticks\": \"\"}, \"type\": \"contourcarpet\"}], \"heatmap\": [{\"colorbar\": {\"outlinewidth\": 0, \"ticks\": \"\"}, \"colorscale\": [[0.0, \"#0d0887\"], [0.1111111111111111, \"#46039f\"], [0.2222222222222222, \"#7201a8\"], [0.3333333333333333, \"#9c179e\"], [0.4444444444444444, \"#bd3786\"], [0.5555555555555556, \"#d8576b\"], [0.6666666666666666, \"#ed7953\"], [0.7777777777777778, \"#fb9f3a\"], [0.8888888888888888, \"#fdca26\"], [1.0, \"#f0f921\"]], \"type\": \"heatmap\"}], \"heatmapgl\": [{\"colorbar\": {\"outlinewidth\": 0, \"ticks\": \"\"}, \"colorscale\": [[0.0, \"#0d0887\"], [0.1111111111111111, \"#46039f\"], [0.2222222222222222, \"#7201a8\"], [0.3333333333333333, \"#9c179e\"], [0.4444444444444444, \"#bd3786\"], [0.5555555555555556, \"#d8576b\"], [0.6666666666666666, \"#ed7953\"], [0.7777777777777778, \"#fb9f3a\"], [0.8888888888888888, \"#fdca26\"], [1.0, \"#f0f921\"]], \"type\": \"heatmapgl\"}], \"histogram\": [{\"marker\": {\"colorbar\": {\"outlinewidth\": 0, \"ticks\": \"\"}}, \"type\": \"histogram\"}], \"histogram2d\": [{\"colorbar\": {\"outlinewidth\": 0, \"ticks\": \"\"}, \"colorscale\": [[0.0, \"#0d0887\"], [0.1111111111111111, \"#46039f\"], [0.2222222222222222, \"#7201a8\"], [0.3333333333333333, \"#9c179e\"], [0.4444444444444444, \"#bd3786\"], [0.5555555555555556, \"#d8576b\"], [0.6666666666666666, \"#ed7953\"], [0.7777777777777778, \"#fb9f3a\"], [0.8888888888888888, \"#fdca26\"], [1.0, \"#f0f921\"]], \"type\": \"histogram2d\"}], \"histogram2dcontour\": [{\"colorbar\": {\"outlinewidth\": 0, \"ticks\": \"\"}, \"colorscale\": [[0.0, \"#0d0887\"], [0.1111111111111111, \"#46039f\"], [0.2222222222222222, \"#7201a8\"], [0.3333333333333333, \"#9c179e\"], [0.4444444444444444, \"#bd3786\"], [0.5555555555555556, \"#d8576b\"], [0.6666666666666666, \"#ed7953\"], [0.7777777777777778, \"#fb9f3a\"], [0.8888888888888888, \"#fdca26\"], [1.0, \"#f0f921\"]], \"type\": \"histogram2dcontour\"}], \"mesh3d\": [{\"colorbar\": {\"outlinewidth\": 0, \"ticks\": \"\"}, \"type\": \"mesh3d\"}], \"parcoords\": [{\"line\": {\"colorbar\": {\"outlinewidth\": 0, \"ticks\": \"\"}}, \"type\": \"parcoords\"}], \"pie\": [{\"automargin\": true, \"type\": \"pie\"}], \"scatter\": [{\"marker\": {\"colorbar\": {\"outlinewidth\": 0, \"ticks\": \"\"}}, \"type\": \"scatter\"}], \"scatter3d\": [{\"line\": {\"colorbar\": {\"outlinewidth\": 0, \"ticks\": \"\"}}, \"marker\": {\"colorbar\": {\"outlinewidth\": 0, \"ticks\": \"\"}}, \"type\": \"scatter3d\"}], \"scattercarpet\": [{\"marker\": {\"colorbar\": {\"outlinewidth\": 0, \"ticks\": \"\"}}, \"type\": \"scattercarpet\"}], \"scattergeo\": [{\"marker\": {\"colorbar\": {\"outlinewidth\": 0, \"ticks\": \"\"}}, \"type\": \"scattergeo\"}], \"scattergl\": [{\"marker\": {\"colorbar\": {\"outlinewidth\": 0, \"ticks\": \"\"}}, \"type\": \"scattergl\"}], \"scattermapbox\": [{\"marker\": {\"colorbar\": {\"outlinewidth\": 0, \"ticks\": \"\"}}, \"type\": \"scattermapbox\"}], \"scatterpolar\": [{\"marker\": {\"colorbar\": {\"outlinewidth\": 0, \"ticks\": \"\"}}, \"type\": \"scatterpolar\"}], \"scatterpolargl\": [{\"marker\": {\"colorbar\": {\"outlinewidth\": 0, \"ticks\": \"\"}}, \"type\": \"scatterpolargl\"}], \"scatterternary\": [{\"marker\": {\"colorbar\": {\"outlinewidth\": 0, \"ticks\": \"\"}}, \"type\": \"scatterternary\"}], \"surface\": [{\"colorbar\": {\"outlinewidth\": 0, \"ticks\": \"\"}, \"colorscale\": [[0.0, \"#0d0887\"], [0.1111111111111111, \"#46039f\"], [0.2222222222222222, \"#7201a8\"], [0.3333333333333333, \"#9c179e\"], [0.4444444444444444, \"#bd3786\"], [0.5555555555555556, \"#d8576b\"], [0.6666666666666666, \"#ed7953\"], [0.7777777777777778, \"#fb9f3a\"], [0.8888888888888888, \"#fdca26\"], [1.0, \"#f0f921\"]], \"type\": \"surface\"}], \"table\": [{\"cells\": {\"fill\": {\"color\": \"#EBF0F8\"}, \"line\": {\"color\": \"white\"}}, \"header\": {\"fill\": {\"color\": \"#C8D4E3\"}, \"line\": {\"color\": \"white\"}}, \"type\": \"table\"}]}, \"layout\": {\"annotationdefaults\": {\"arrowcolor\": \"#2a3f5f\", \"arrowhead\": 0, \"arrowwidth\": 1}, \"coloraxis\": {\"colorbar\": {\"outlinewidth\": 0, \"ticks\": \"\"}}, \"colorscale\": {\"diverging\": [[0, \"#8e0152\"], [0.1, \"#c51b7d\"], [0.2, \"#de77ae\"], [0.3, \"#f1b6da\"], [0.4, \"#fde0ef\"], [0.5, \"#f7f7f7\"], [0.6, \"#e6f5d0\"], [0.7, \"#b8e186\"], [0.8, \"#7fbc41\"], [0.9, \"#4d9221\"], [1, \"#276419\"]], \"sequential\": [[0.0, \"#0d0887\"], [0.1111111111111111, \"#46039f\"], [0.2222222222222222, \"#7201a8\"], [0.3333333333333333, \"#9c179e\"], [0.4444444444444444, \"#bd3786\"], [0.5555555555555556, \"#d8576b\"], [0.6666666666666666, \"#ed7953\"], [0.7777777777777778, \"#fb9f3a\"], [0.8888888888888888, \"#fdca26\"], [1.0, \"#f0f921\"]], \"sequentialminus\": [[0.0, \"#0d0887\"], [0.1111111111111111, \"#46039f\"], [0.2222222222222222, \"#7201a8\"], [0.3333333333333333, \"#9c179e\"], [0.4444444444444444, \"#bd3786\"], [0.5555555555555556, \"#d8576b\"], [0.6666666666666666, \"#ed7953\"], [0.7777777777777778, \"#fb9f3a\"], [0.8888888888888888, \"#fdca26\"], [1.0, \"#f0f921\"]]}, \"colorway\": [\"#636efa\", \"#EF553B\", \"#00cc96\", \"#ab63fa\", \"#FFA15A\", \"#19d3f3\", \"#FF6692\", \"#B6E880\", \"#FF97FF\", \"#FECB52\"], \"font\": {\"color\": \"#2a3f5f\"}, \"geo\": {\"bgcolor\": \"white\", \"lakecolor\": \"white\", \"landcolor\": \"#E5ECF6\", \"showlakes\": true, \"showland\": true, \"subunitcolor\": \"white\"}, \"hoverlabel\": {\"align\": \"left\"}, \"hovermode\": \"closest\", \"mapbox\": {\"style\": \"light\"}, \"paper_bgcolor\": \"white\", \"plot_bgcolor\": \"#E5ECF6\", \"polar\": {\"angularaxis\": {\"gridcolor\": \"white\", \"linecolor\": \"white\", \"ticks\": \"\"}, \"bgcolor\": \"#E5ECF6\", \"radialaxis\": {\"gridcolor\": \"white\", \"linecolor\": \"white\", \"ticks\": \"\"}}, \"scene\": {\"xaxis\": {\"backgroundcolor\": \"#E5ECF6\", \"gridcolor\": \"white\", \"gridwidth\": 2, \"linecolor\": \"white\", \"showbackground\": true, \"ticks\": \"\", \"zerolinecolor\": \"white\"}, \"yaxis\": {\"backgroundcolor\": \"#E5ECF6\", \"gridcolor\": \"white\", \"gridwidth\": 2, \"linecolor\": \"white\", \"showbackground\": true, \"ticks\": \"\", \"zerolinecolor\": \"white\"}, \"zaxis\": {\"backgroundcolor\": \"#E5ECF6\", \"gridcolor\": \"white\", \"gridwidth\": 2, \"linecolor\": \"white\", \"showbackground\": true, \"ticks\": \"\", \"zerolinecolor\": \"white\"}}, \"shapedefaults\": {\"line\": {\"color\": \"#2a3f5f\"}}, \"ternary\": {\"aaxis\": {\"gridcolor\": \"white\", \"linecolor\": \"white\", \"ticks\": \"\"}, \"baxis\": {\"gridcolor\": \"white\", \"linecolor\": \"white\", \"ticks\": \"\"}, \"bgcolor\": \"#E5ECF6\", \"caxis\": {\"gridcolor\": \"white\", \"linecolor\": \"white\", \"ticks\": \"\"}}, \"title\": {\"x\": 0.05}, \"xaxis\": {\"automargin\": true, \"gridcolor\": \"white\", \"linecolor\": \"white\", \"ticks\": \"\", \"title\": {\"standoff\": 15}, \"zerolinecolor\": \"white\", \"zerolinewidth\": 2}, \"yaxis\": {\"automargin\": true, \"gridcolor\": \"white\", \"linecolor\": \"white\", \"ticks\": \"\", \"title\": {\"standoff\": 15}, \"zerolinecolor\": \"white\", \"zerolinewidth\": 2}}}},\n",
       "                        {\"responsive\": true}\n",
       "                    ).then(function(){\n",
       "                            \n",
       "var gd = document.getElementById('bd808147-84ee-4c8b-a2d0-d624d9bfcf49');\n",
       "var x = new MutationObserver(function (mutations, observer) {{\n",
       "        var display = window.getComputedStyle(gd).display;\n",
       "        if (!display || display === 'none') {{\n",
       "            console.log([gd, 'removed!']);\n",
       "            Plotly.purge(gd);\n",
       "            observer.disconnect();\n",
       "        }}\n",
       "}});\n",
       "\n",
       "// Listen for the removal of the full notebook cells\n",
       "var notebookContainer = gd.closest('#notebook-container');\n",
       "if (notebookContainer) {{\n",
       "    x.observe(notebookContainer, {childList: true});\n",
       "}}\n",
       "\n",
       "// Listen for the clearing of the current output cell\n",
       "var outputEl = gd.closest('.output');\n",
       "if (outputEl) {{\n",
       "    x.observe(outputEl, {childList: true});\n",
       "}}\n",
       "\n",
       "                        })\n",
       "                };\n",
       "                });\n",
       "            </script>\n",
       "        </div>"
      ]
     },
     "metadata": {},
     "output_type": "display_data"
    },
    {
     "name": "stdout",
     "output_type": "stream",
     "text": [
      "click on the US port name to view which consignee does it map to to  in the  interactive plot plotted above\n"
     ]
    }
   ],
   "source": [
    "#checking the  names of the US ports from which a particular consignee can go to\n",
    "\n",
    "ac=df.groupby('US PORT')['CONSIGNEE'].apply(set)\n",
    "\n",
    "ac=dict(ac)\n",
    "b6=list(ac.keys())\n",
    "b61=[j for i in ac.values() for j in i]\n",
    "b6=['US PORT']+b6\n",
    "b62=b6+b61\n",
    "parents2 = ['']\n",
    "parents2 = parents2 + ['US PORT']*len(ac.keys())\n",
    "parents2 = parents2 + [i for i in ac.keys() for j in ac[i]]\n",
    "data3 = dict(\n",
    "    character=b62,\n",
    "    parent=parents2)\n",
    "    \n",
    "fig =px.sunburst(\n",
    "    data3,\n",
    "    names='character',\n",
    "    parents='parent'\n",
    ")\n",
    "fig.show()\n",
    "print('click on the US port name to view which consignee does it map to to  in the  interactive plot plotted above')"
   ]
  },
  {
   "cell_type": "code",
   "execution_count": 179,
   "metadata": {},
   "outputs": [
    {
     "data": {
      "application/vnd.plotly.v1+json": {
       "config": {
        "plotlyServerURL": "https://plot.ly"
       },
       "data": [
        {
         "domain": {
          "x": [
           0,
           1
          ],
          "y": [
           0,
           1
          ]
         },
         "hoverlabel": {
          "namelength": 0
         },
         "hovertemplate": "character=%{label}<br>parent=%{parent}",
         "labels": [
          "FOREIGN PORT",
          "All Other England South and East Coast Ports",
          "Caucedo",
          "Ching Tao",
          "Haina",
          "Hong Kong",
          "Kaohsiung",
          "Kwangyang",
          "Port Bustamante",
          "Portsmouth",
          "Puerto Plata",
          "Pusan",
          "Santo Domingo",
          "GRUPO BANAMIEL S.A./ INDEPENDENCIA",
          "PLANTACIONES DEL NORTE S.A.",
          "UREN NORTH AMERICA LLC.",
          "UREN NORTH AMERICA LLC",
          "MARTIN BROWER",
          "EXPEDITORS INTERNATIONAL OF",
          "-NOT AVAILABLE-",
          "JOCO PRODUCE INC",
          "ASSOCIATED BRANDS INDUSTRIES LTD",
          "EVE SALES CORPORATION",
          "EXP GROUP LLC",
          "CHIOVITTI BANANA CO LTD",
          "OEC FREIGHT (NY) INC.",
          "STEPHEN GOULD WAREHOUSE",
          "GL FOOD WHOLESALE INCORPORATED",
          "HECNY TRANSPORTATION INC - LAX",
          "JPMA GLOBAL INC.",
          "ALEXANDER-S MOBILITY SERVICES",
          "-NOT AVAILABLE-",
          "G B INTERNATIONAL INC",
          "GOLDEN FORTUNE IMPORT & EXPORT",
          "PLANTACIONES DE NORTE S.A.",
          "GRUPO BANAMIEL S.A.",
          "SUNDINE PRODUCE, INC",
          "YUMMY-S WORLD TRADING",
          "SMS PRODUCE INC",
          "PGA GROUP",
          "YALINI ENTERPRISES INC",
          "ACROPOLLYS TRADING CORP",
          "JOCO PRODUCE INC",
          "EVE SALES CORPORATION",
          "SANJAY ENTERPRISE",
          "-NOT AVAILABLE-",
          "JOCO PRODUCE, INC.",
          "COAST TROPICAL",
          "IN FORMACGON DE ACROPOLLY S TRADING",
          "SUNTRANS INTERNATIONAL, INC.",
          "SUNTRANS INTERNATIONAL, INC",
          "SUNTRANS INTERNATIONAL,INC.(CHICAGO",
          "CAFFEBENE INC.",
          "G B INTERNATIONAL INC",
          "JALARAN PRODUCE INC OR MAHENDRA",
          "PATAGONIA FOODS",
          "EMPRESAS LA FAMOSA,INC.",
          "EMPRESAS LA FAMOSA, INC."
         ],
         "name": "",
         "parents": [
          "",
          "FOREIGN PORT",
          "FOREIGN PORT",
          "FOREIGN PORT",
          "FOREIGN PORT",
          "FOREIGN PORT",
          "FOREIGN PORT",
          "FOREIGN PORT",
          "FOREIGN PORT",
          "FOREIGN PORT",
          "FOREIGN PORT",
          "FOREIGN PORT",
          "FOREIGN PORT",
          "All Other England South and East Coast Ports",
          "All Other England South and East Coast Ports",
          "Caucedo",
          "Caucedo",
          "Caucedo",
          "Ching Tao",
          "Ching Tao",
          "Haina",
          "Haina",
          "Haina",
          "Haina",
          "Haina",
          "Hong Kong",
          "Hong Kong",
          "Hong Kong",
          "Kaohsiung",
          "Kaohsiung",
          "Kaohsiung",
          "Kaohsiung",
          "Kwangyang",
          "Port Bustamante",
          "Portsmouth",
          "Portsmouth",
          "Puerto Plata",
          "Puerto Plata",
          "Puerto Plata",
          "Puerto Plata",
          "Puerto Plata",
          "Puerto Plata",
          "Puerto Plata",
          "Puerto Plata",
          "Puerto Plata",
          "Puerto Plata",
          "Puerto Plata",
          "Puerto Plata",
          "Puerto Plata",
          "Pusan",
          "Pusan",
          "Pusan",
          "Pusan",
          "Pusan",
          "Santo Domingo",
          "Santo Domingo",
          "Santo Domingo",
          "Santo Domingo"
         ],
         "type": "sunburst"
        }
       ],
       "layout": {
        "legend": {
         "tracegroupgap": 0
        },
        "margin": {
         "t": 60
        },
        "template": {
         "data": {
          "bar": [
           {
            "error_x": {
             "color": "#2a3f5f"
            },
            "error_y": {
             "color": "#2a3f5f"
            },
            "marker": {
             "line": {
              "color": "#E5ECF6",
              "width": 0.5
             }
            },
            "type": "bar"
           }
          ],
          "barpolar": [
           {
            "marker": {
             "line": {
              "color": "#E5ECF6",
              "width": 0.5
             }
            },
            "type": "barpolar"
           }
          ],
          "carpet": [
           {
            "aaxis": {
             "endlinecolor": "#2a3f5f",
             "gridcolor": "white",
             "linecolor": "white",
             "minorgridcolor": "white",
             "startlinecolor": "#2a3f5f"
            },
            "baxis": {
             "endlinecolor": "#2a3f5f",
             "gridcolor": "white",
             "linecolor": "white",
             "minorgridcolor": "white",
             "startlinecolor": "#2a3f5f"
            },
            "type": "carpet"
           }
          ],
          "choropleth": [
           {
            "colorbar": {
             "outlinewidth": 0,
             "ticks": ""
            },
            "type": "choropleth"
           }
          ],
          "contour": [
           {
            "colorbar": {
             "outlinewidth": 0,
             "ticks": ""
            },
            "colorscale": [
             [
              0,
              "#0d0887"
             ],
             [
              0.1111111111111111,
              "#46039f"
             ],
             [
              0.2222222222222222,
              "#7201a8"
             ],
             [
              0.3333333333333333,
              "#9c179e"
             ],
             [
              0.4444444444444444,
              "#bd3786"
             ],
             [
              0.5555555555555556,
              "#d8576b"
             ],
             [
              0.6666666666666666,
              "#ed7953"
             ],
             [
              0.7777777777777778,
              "#fb9f3a"
             ],
             [
              0.8888888888888888,
              "#fdca26"
             ],
             [
              1,
              "#f0f921"
             ]
            ],
            "type": "contour"
           }
          ],
          "contourcarpet": [
           {
            "colorbar": {
             "outlinewidth": 0,
             "ticks": ""
            },
            "type": "contourcarpet"
           }
          ],
          "heatmap": [
           {
            "colorbar": {
             "outlinewidth": 0,
             "ticks": ""
            },
            "colorscale": [
             [
              0,
              "#0d0887"
             ],
             [
              0.1111111111111111,
              "#46039f"
             ],
             [
              0.2222222222222222,
              "#7201a8"
             ],
             [
              0.3333333333333333,
              "#9c179e"
             ],
             [
              0.4444444444444444,
              "#bd3786"
             ],
             [
              0.5555555555555556,
              "#d8576b"
             ],
             [
              0.6666666666666666,
              "#ed7953"
             ],
             [
              0.7777777777777778,
              "#fb9f3a"
             ],
             [
              0.8888888888888888,
              "#fdca26"
             ],
             [
              1,
              "#f0f921"
             ]
            ],
            "type": "heatmap"
           }
          ],
          "heatmapgl": [
           {
            "colorbar": {
             "outlinewidth": 0,
             "ticks": ""
            },
            "colorscale": [
             [
              0,
              "#0d0887"
             ],
             [
              0.1111111111111111,
              "#46039f"
             ],
             [
              0.2222222222222222,
              "#7201a8"
             ],
             [
              0.3333333333333333,
              "#9c179e"
             ],
             [
              0.4444444444444444,
              "#bd3786"
             ],
             [
              0.5555555555555556,
              "#d8576b"
             ],
             [
              0.6666666666666666,
              "#ed7953"
             ],
             [
              0.7777777777777778,
              "#fb9f3a"
             ],
             [
              0.8888888888888888,
              "#fdca26"
             ],
             [
              1,
              "#f0f921"
             ]
            ],
            "type": "heatmapgl"
           }
          ],
          "histogram": [
           {
            "marker": {
             "colorbar": {
              "outlinewidth": 0,
              "ticks": ""
             }
            },
            "type": "histogram"
           }
          ],
          "histogram2d": [
           {
            "colorbar": {
             "outlinewidth": 0,
             "ticks": ""
            },
            "colorscale": [
             [
              0,
              "#0d0887"
             ],
             [
              0.1111111111111111,
              "#46039f"
             ],
             [
              0.2222222222222222,
              "#7201a8"
             ],
             [
              0.3333333333333333,
              "#9c179e"
             ],
             [
              0.4444444444444444,
              "#bd3786"
             ],
             [
              0.5555555555555556,
              "#d8576b"
             ],
             [
              0.6666666666666666,
              "#ed7953"
             ],
             [
              0.7777777777777778,
              "#fb9f3a"
             ],
             [
              0.8888888888888888,
              "#fdca26"
             ],
             [
              1,
              "#f0f921"
             ]
            ],
            "type": "histogram2d"
           }
          ],
          "histogram2dcontour": [
           {
            "colorbar": {
             "outlinewidth": 0,
             "ticks": ""
            },
            "colorscale": [
             [
              0,
              "#0d0887"
             ],
             [
              0.1111111111111111,
              "#46039f"
             ],
             [
              0.2222222222222222,
              "#7201a8"
             ],
             [
              0.3333333333333333,
              "#9c179e"
             ],
             [
              0.4444444444444444,
              "#bd3786"
             ],
             [
              0.5555555555555556,
              "#d8576b"
             ],
             [
              0.6666666666666666,
              "#ed7953"
             ],
             [
              0.7777777777777778,
              "#fb9f3a"
             ],
             [
              0.8888888888888888,
              "#fdca26"
             ],
             [
              1,
              "#f0f921"
             ]
            ],
            "type": "histogram2dcontour"
           }
          ],
          "mesh3d": [
           {
            "colorbar": {
             "outlinewidth": 0,
             "ticks": ""
            },
            "type": "mesh3d"
           }
          ],
          "parcoords": [
           {
            "line": {
             "colorbar": {
              "outlinewidth": 0,
              "ticks": ""
             }
            },
            "type": "parcoords"
           }
          ],
          "pie": [
           {
            "automargin": true,
            "type": "pie"
           }
          ],
          "scatter": [
           {
            "marker": {
             "colorbar": {
              "outlinewidth": 0,
              "ticks": ""
             }
            },
            "type": "scatter"
           }
          ],
          "scatter3d": [
           {
            "line": {
             "colorbar": {
              "outlinewidth": 0,
              "ticks": ""
             }
            },
            "marker": {
             "colorbar": {
              "outlinewidth": 0,
              "ticks": ""
             }
            },
            "type": "scatter3d"
           }
          ],
          "scattercarpet": [
           {
            "marker": {
             "colorbar": {
              "outlinewidth": 0,
              "ticks": ""
             }
            },
            "type": "scattercarpet"
           }
          ],
          "scattergeo": [
           {
            "marker": {
             "colorbar": {
              "outlinewidth": 0,
              "ticks": ""
             }
            },
            "type": "scattergeo"
           }
          ],
          "scattergl": [
           {
            "marker": {
             "colorbar": {
              "outlinewidth": 0,
              "ticks": ""
             }
            },
            "type": "scattergl"
           }
          ],
          "scattermapbox": [
           {
            "marker": {
             "colorbar": {
              "outlinewidth": 0,
              "ticks": ""
             }
            },
            "type": "scattermapbox"
           }
          ],
          "scatterpolar": [
           {
            "marker": {
             "colorbar": {
              "outlinewidth": 0,
              "ticks": ""
             }
            },
            "type": "scatterpolar"
           }
          ],
          "scatterpolargl": [
           {
            "marker": {
             "colorbar": {
              "outlinewidth": 0,
              "ticks": ""
             }
            },
            "type": "scatterpolargl"
           }
          ],
          "scatterternary": [
           {
            "marker": {
             "colorbar": {
              "outlinewidth": 0,
              "ticks": ""
             }
            },
            "type": "scatterternary"
           }
          ],
          "surface": [
           {
            "colorbar": {
             "outlinewidth": 0,
             "ticks": ""
            },
            "colorscale": [
             [
              0,
              "#0d0887"
             ],
             [
              0.1111111111111111,
              "#46039f"
             ],
             [
              0.2222222222222222,
              "#7201a8"
             ],
             [
              0.3333333333333333,
              "#9c179e"
             ],
             [
              0.4444444444444444,
              "#bd3786"
             ],
             [
              0.5555555555555556,
              "#d8576b"
             ],
             [
              0.6666666666666666,
              "#ed7953"
             ],
             [
              0.7777777777777778,
              "#fb9f3a"
             ],
             [
              0.8888888888888888,
              "#fdca26"
             ],
             [
              1,
              "#f0f921"
             ]
            ],
            "type": "surface"
           }
          ],
          "table": [
           {
            "cells": {
             "fill": {
              "color": "#EBF0F8"
             },
             "line": {
              "color": "white"
             }
            },
            "header": {
             "fill": {
              "color": "#C8D4E3"
             },
             "line": {
              "color": "white"
             }
            },
            "type": "table"
           }
          ]
         },
         "layout": {
          "annotationdefaults": {
           "arrowcolor": "#2a3f5f",
           "arrowhead": 0,
           "arrowwidth": 1
          },
          "coloraxis": {
           "colorbar": {
            "outlinewidth": 0,
            "ticks": ""
           }
          },
          "colorscale": {
           "diverging": [
            [
             0,
             "#8e0152"
            ],
            [
             0.1,
             "#c51b7d"
            ],
            [
             0.2,
             "#de77ae"
            ],
            [
             0.3,
             "#f1b6da"
            ],
            [
             0.4,
             "#fde0ef"
            ],
            [
             0.5,
             "#f7f7f7"
            ],
            [
             0.6,
             "#e6f5d0"
            ],
            [
             0.7,
             "#b8e186"
            ],
            [
             0.8,
             "#7fbc41"
            ],
            [
             0.9,
             "#4d9221"
            ],
            [
             1,
             "#276419"
            ]
           ],
           "sequential": [
            [
             0,
             "#0d0887"
            ],
            [
             0.1111111111111111,
             "#46039f"
            ],
            [
             0.2222222222222222,
             "#7201a8"
            ],
            [
             0.3333333333333333,
             "#9c179e"
            ],
            [
             0.4444444444444444,
             "#bd3786"
            ],
            [
             0.5555555555555556,
             "#d8576b"
            ],
            [
             0.6666666666666666,
             "#ed7953"
            ],
            [
             0.7777777777777778,
             "#fb9f3a"
            ],
            [
             0.8888888888888888,
             "#fdca26"
            ],
            [
             1,
             "#f0f921"
            ]
           ],
           "sequentialminus": [
            [
             0,
             "#0d0887"
            ],
            [
             0.1111111111111111,
             "#46039f"
            ],
            [
             0.2222222222222222,
             "#7201a8"
            ],
            [
             0.3333333333333333,
             "#9c179e"
            ],
            [
             0.4444444444444444,
             "#bd3786"
            ],
            [
             0.5555555555555556,
             "#d8576b"
            ],
            [
             0.6666666666666666,
             "#ed7953"
            ],
            [
             0.7777777777777778,
             "#fb9f3a"
            ],
            [
             0.8888888888888888,
             "#fdca26"
            ],
            [
             1,
             "#f0f921"
            ]
           ]
          },
          "colorway": [
           "#636efa",
           "#EF553B",
           "#00cc96",
           "#ab63fa",
           "#FFA15A",
           "#19d3f3",
           "#FF6692",
           "#B6E880",
           "#FF97FF",
           "#FECB52"
          ],
          "font": {
           "color": "#2a3f5f"
          },
          "geo": {
           "bgcolor": "white",
           "lakecolor": "white",
           "landcolor": "#E5ECF6",
           "showlakes": true,
           "showland": true,
           "subunitcolor": "white"
          },
          "hoverlabel": {
           "align": "left"
          },
          "hovermode": "closest",
          "mapbox": {
           "style": "light"
          },
          "paper_bgcolor": "white",
          "plot_bgcolor": "#E5ECF6",
          "polar": {
           "angularaxis": {
            "gridcolor": "white",
            "linecolor": "white",
            "ticks": ""
           },
           "bgcolor": "#E5ECF6",
           "radialaxis": {
            "gridcolor": "white",
            "linecolor": "white",
            "ticks": ""
           }
          },
          "scene": {
           "xaxis": {
            "backgroundcolor": "#E5ECF6",
            "gridcolor": "white",
            "gridwidth": 2,
            "linecolor": "white",
            "showbackground": true,
            "ticks": "",
            "zerolinecolor": "white"
           },
           "yaxis": {
            "backgroundcolor": "#E5ECF6",
            "gridcolor": "white",
            "gridwidth": 2,
            "linecolor": "white",
            "showbackground": true,
            "ticks": "",
            "zerolinecolor": "white"
           },
           "zaxis": {
            "backgroundcolor": "#E5ECF6",
            "gridcolor": "white",
            "gridwidth": 2,
            "linecolor": "white",
            "showbackground": true,
            "ticks": "",
            "zerolinecolor": "white"
           }
          },
          "shapedefaults": {
           "line": {
            "color": "#2a3f5f"
           }
          },
          "ternary": {
           "aaxis": {
            "gridcolor": "white",
            "linecolor": "white",
            "ticks": ""
           },
           "baxis": {
            "gridcolor": "white",
            "linecolor": "white",
            "ticks": ""
           },
           "bgcolor": "#E5ECF6",
           "caxis": {
            "gridcolor": "white",
            "linecolor": "white",
            "ticks": ""
           }
          },
          "title": {
           "x": 0.05
          },
          "xaxis": {
           "automargin": true,
           "gridcolor": "white",
           "linecolor": "white",
           "ticks": "",
           "title": {
            "standoff": 15
           },
           "zerolinecolor": "white",
           "zerolinewidth": 2
          },
          "yaxis": {
           "automargin": true,
           "gridcolor": "white",
           "linecolor": "white",
           "ticks": "",
           "title": {
            "standoff": 15
           },
           "zerolinecolor": "white",
           "zerolinewidth": 2
          }
         }
        }
       }
      },
      "text/html": [
       "<div>\n",
       "        \n",
       "        \n",
       "            <div id=\"2df7d1b4-73a9-4ed6-ad24-f7761dc77d6f\" class=\"plotly-graph-div\" style=\"height:525px; width:100%;\"></div>\n",
       "            <script type=\"text/javascript\">\n",
       "                require([\"plotly\"], function(Plotly) {\n",
       "                    window.PLOTLYENV=window.PLOTLYENV || {};\n",
       "                    \n",
       "                if (document.getElementById(\"2df7d1b4-73a9-4ed6-ad24-f7761dc77d6f\")) {\n",
       "                    Plotly.newPlot(\n",
       "                        '2df7d1b4-73a9-4ed6-ad24-f7761dc77d6f',\n",
       "                        [{\"domain\": {\"x\": [0.0, 1.0], \"y\": [0.0, 1.0]}, \"hoverlabel\": {\"namelength\": 0}, \"hovertemplate\": \"character=%{label}<br>parent=%{parent}\", \"labels\": [\"FOREIGN PORT\", \"All Other England South and East Coast Ports\", \"Caucedo\", \"Ching Tao\", \"Haina\", \"Hong Kong\", \"Kaohsiung\", \"Kwangyang\", \"Port Bustamante\", \"Portsmouth\", \"Puerto Plata\", \"Pusan\", \"Santo Domingo\", \"GRUPO BANAMIEL S.A./ INDEPENDENCIA\", \"PLANTACIONES DEL NORTE S.A.\", \"UREN NORTH AMERICA LLC.\", \"UREN NORTH AMERICA LLC\", \"MARTIN BROWER\", \"EXPEDITORS INTERNATIONAL OF\", \"-NOT AVAILABLE-\", \"JOCO PRODUCE INC\", \"ASSOCIATED BRANDS INDUSTRIES LTD\", \"EVE SALES CORPORATION\", \"EXP GROUP LLC\", \"CHIOVITTI BANANA CO LTD\", \"OEC FREIGHT (NY) INC.\", \"STEPHEN GOULD WAREHOUSE\", \"GL FOOD WHOLESALE INCORPORATED\", \"HECNY TRANSPORTATION INC - LAX\", \"JPMA GLOBAL INC.\", \"ALEXANDER-S MOBILITY SERVICES\", \"-NOT AVAILABLE-\", \"G B INTERNATIONAL INC\", \"GOLDEN FORTUNE IMPORT & EXPORT\", \"PLANTACIONES DE NORTE S.A.\", \"GRUPO BANAMIEL S.A.\", \"SUNDINE PRODUCE, INC\", \"YUMMY-S WORLD TRADING\", \"SMS PRODUCE INC\", \"PGA GROUP\", \"YALINI ENTERPRISES INC\", \"ACROPOLLYS TRADING CORP\", \"JOCO PRODUCE INC\", \"EVE SALES CORPORATION\", \"SANJAY ENTERPRISE\", \"-NOT AVAILABLE-\", \"JOCO PRODUCE, INC.\", \"COAST TROPICAL\", \"IN FORMACGON DE ACROPOLLY S TRADING\", \"SUNTRANS INTERNATIONAL, INC.\", \"SUNTRANS INTERNATIONAL, INC\", \"SUNTRANS INTERNATIONAL,INC.(CHICAGO\", \"CAFFEBENE INC.\", \"G B INTERNATIONAL INC\", \"JALARAN PRODUCE INC OR MAHENDRA\", \"PATAGONIA FOODS\", \"EMPRESAS LA FAMOSA,INC.\", \"EMPRESAS LA FAMOSA, INC.\"], \"name\": \"\", \"parents\": [\"\", \"FOREIGN PORT\", \"FOREIGN PORT\", \"FOREIGN PORT\", \"FOREIGN PORT\", \"FOREIGN PORT\", \"FOREIGN PORT\", \"FOREIGN PORT\", \"FOREIGN PORT\", \"FOREIGN PORT\", \"FOREIGN PORT\", \"FOREIGN PORT\", \"FOREIGN PORT\", \"All Other England South and East Coast Ports\", \"All Other England South and East Coast Ports\", \"Caucedo\", \"Caucedo\", \"Caucedo\", \"Ching Tao\", \"Ching Tao\", \"Haina\", \"Haina\", \"Haina\", \"Haina\", \"Haina\", \"Hong Kong\", \"Hong Kong\", \"Hong Kong\", \"Kaohsiung\", \"Kaohsiung\", \"Kaohsiung\", \"Kaohsiung\", \"Kwangyang\", \"Port Bustamante\", \"Portsmouth\", \"Portsmouth\", \"Puerto Plata\", \"Puerto Plata\", \"Puerto Plata\", \"Puerto Plata\", \"Puerto Plata\", \"Puerto Plata\", \"Puerto Plata\", \"Puerto Plata\", \"Puerto Plata\", \"Puerto Plata\", \"Puerto Plata\", \"Puerto Plata\", \"Puerto Plata\", \"Pusan\", \"Pusan\", \"Pusan\", \"Pusan\", \"Pusan\", \"Santo Domingo\", \"Santo Domingo\", \"Santo Domingo\", \"Santo Domingo\"], \"type\": \"sunburst\"}],\n",
       "                        {\"legend\": {\"tracegroupgap\": 0}, \"margin\": {\"t\": 60}, \"template\": {\"data\": {\"bar\": [{\"error_x\": {\"color\": \"#2a3f5f\"}, \"error_y\": {\"color\": \"#2a3f5f\"}, \"marker\": {\"line\": {\"color\": \"#E5ECF6\", \"width\": 0.5}}, \"type\": \"bar\"}], \"barpolar\": [{\"marker\": {\"line\": {\"color\": \"#E5ECF6\", \"width\": 0.5}}, \"type\": \"barpolar\"}], \"carpet\": [{\"aaxis\": {\"endlinecolor\": \"#2a3f5f\", \"gridcolor\": \"white\", \"linecolor\": \"white\", \"minorgridcolor\": \"white\", \"startlinecolor\": \"#2a3f5f\"}, \"baxis\": {\"endlinecolor\": \"#2a3f5f\", \"gridcolor\": \"white\", \"linecolor\": \"white\", \"minorgridcolor\": \"white\", \"startlinecolor\": \"#2a3f5f\"}, \"type\": \"carpet\"}], \"choropleth\": [{\"colorbar\": {\"outlinewidth\": 0, \"ticks\": \"\"}, \"type\": \"choropleth\"}], \"contour\": [{\"colorbar\": {\"outlinewidth\": 0, \"ticks\": \"\"}, \"colorscale\": [[0.0, \"#0d0887\"], [0.1111111111111111, \"#46039f\"], [0.2222222222222222, \"#7201a8\"], [0.3333333333333333, \"#9c179e\"], [0.4444444444444444, \"#bd3786\"], [0.5555555555555556, \"#d8576b\"], [0.6666666666666666, \"#ed7953\"], [0.7777777777777778, \"#fb9f3a\"], [0.8888888888888888, \"#fdca26\"], [1.0, \"#f0f921\"]], \"type\": \"contour\"}], \"contourcarpet\": [{\"colorbar\": {\"outlinewidth\": 0, \"ticks\": \"\"}, \"type\": \"contourcarpet\"}], \"heatmap\": [{\"colorbar\": {\"outlinewidth\": 0, \"ticks\": \"\"}, \"colorscale\": [[0.0, \"#0d0887\"], [0.1111111111111111, \"#46039f\"], [0.2222222222222222, \"#7201a8\"], [0.3333333333333333, \"#9c179e\"], [0.4444444444444444, \"#bd3786\"], [0.5555555555555556, \"#d8576b\"], [0.6666666666666666, \"#ed7953\"], [0.7777777777777778, \"#fb9f3a\"], [0.8888888888888888, \"#fdca26\"], [1.0, \"#f0f921\"]], \"type\": \"heatmap\"}], \"heatmapgl\": [{\"colorbar\": {\"outlinewidth\": 0, \"ticks\": \"\"}, \"colorscale\": [[0.0, \"#0d0887\"], [0.1111111111111111, \"#46039f\"], [0.2222222222222222, \"#7201a8\"], [0.3333333333333333, \"#9c179e\"], [0.4444444444444444, \"#bd3786\"], [0.5555555555555556, \"#d8576b\"], [0.6666666666666666, \"#ed7953\"], [0.7777777777777778, \"#fb9f3a\"], [0.8888888888888888, \"#fdca26\"], [1.0, \"#f0f921\"]], \"type\": \"heatmapgl\"}], \"histogram\": [{\"marker\": {\"colorbar\": {\"outlinewidth\": 0, \"ticks\": \"\"}}, \"type\": \"histogram\"}], \"histogram2d\": [{\"colorbar\": {\"outlinewidth\": 0, \"ticks\": \"\"}, \"colorscale\": [[0.0, \"#0d0887\"], [0.1111111111111111, \"#46039f\"], [0.2222222222222222, \"#7201a8\"], [0.3333333333333333, \"#9c179e\"], [0.4444444444444444, \"#bd3786\"], [0.5555555555555556, \"#d8576b\"], [0.6666666666666666, \"#ed7953\"], [0.7777777777777778, \"#fb9f3a\"], [0.8888888888888888, \"#fdca26\"], [1.0, \"#f0f921\"]], \"type\": \"histogram2d\"}], \"histogram2dcontour\": [{\"colorbar\": {\"outlinewidth\": 0, \"ticks\": \"\"}, \"colorscale\": [[0.0, \"#0d0887\"], [0.1111111111111111, \"#46039f\"], [0.2222222222222222, \"#7201a8\"], [0.3333333333333333, \"#9c179e\"], [0.4444444444444444, \"#bd3786\"], [0.5555555555555556, \"#d8576b\"], [0.6666666666666666, \"#ed7953\"], [0.7777777777777778, \"#fb9f3a\"], [0.8888888888888888, \"#fdca26\"], [1.0, \"#f0f921\"]], \"type\": \"histogram2dcontour\"}], \"mesh3d\": [{\"colorbar\": {\"outlinewidth\": 0, \"ticks\": \"\"}, \"type\": \"mesh3d\"}], \"parcoords\": [{\"line\": {\"colorbar\": {\"outlinewidth\": 0, \"ticks\": \"\"}}, \"type\": \"parcoords\"}], \"pie\": [{\"automargin\": true, \"type\": \"pie\"}], \"scatter\": [{\"marker\": {\"colorbar\": {\"outlinewidth\": 0, \"ticks\": \"\"}}, \"type\": \"scatter\"}], \"scatter3d\": [{\"line\": {\"colorbar\": {\"outlinewidth\": 0, \"ticks\": \"\"}}, \"marker\": {\"colorbar\": {\"outlinewidth\": 0, \"ticks\": \"\"}}, \"type\": \"scatter3d\"}], \"scattercarpet\": [{\"marker\": {\"colorbar\": {\"outlinewidth\": 0, \"ticks\": \"\"}}, \"type\": \"scattercarpet\"}], \"scattergeo\": [{\"marker\": {\"colorbar\": {\"outlinewidth\": 0, \"ticks\": \"\"}}, \"type\": \"scattergeo\"}], \"scattergl\": [{\"marker\": {\"colorbar\": {\"outlinewidth\": 0, \"ticks\": \"\"}}, \"type\": \"scattergl\"}], \"scattermapbox\": [{\"marker\": {\"colorbar\": {\"outlinewidth\": 0, \"ticks\": \"\"}}, \"type\": \"scattermapbox\"}], \"scatterpolar\": [{\"marker\": {\"colorbar\": {\"outlinewidth\": 0, \"ticks\": \"\"}}, \"type\": \"scatterpolar\"}], \"scatterpolargl\": [{\"marker\": {\"colorbar\": {\"outlinewidth\": 0, \"ticks\": \"\"}}, \"type\": \"scatterpolargl\"}], \"scatterternary\": [{\"marker\": {\"colorbar\": {\"outlinewidth\": 0, \"ticks\": \"\"}}, \"type\": \"scatterternary\"}], \"surface\": [{\"colorbar\": {\"outlinewidth\": 0, \"ticks\": \"\"}, \"colorscale\": [[0.0, \"#0d0887\"], [0.1111111111111111, \"#46039f\"], [0.2222222222222222, \"#7201a8\"], [0.3333333333333333, \"#9c179e\"], [0.4444444444444444, \"#bd3786\"], [0.5555555555555556, \"#d8576b\"], [0.6666666666666666, \"#ed7953\"], [0.7777777777777778, \"#fb9f3a\"], [0.8888888888888888, \"#fdca26\"], [1.0, \"#f0f921\"]], \"type\": \"surface\"}], \"table\": [{\"cells\": {\"fill\": {\"color\": \"#EBF0F8\"}, \"line\": {\"color\": \"white\"}}, \"header\": {\"fill\": {\"color\": \"#C8D4E3\"}, \"line\": {\"color\": \"white\"}}, \"type\": \"table\"}]}, \"layout\": {\"annotationdefaults\": {\"arrowcolor\": \"#2a3f5f\", \"arrowhead\": 0, \"arrowwidth\": 1}, \"coloraxis\": {\"colorbar\": {\"outlinewidth\": 0, \"ticks\": \"\"}}, \"colorscale\": {\"diverging\": [[0, \"#8e0152\"], [0.1, \"#c51b7d\"], [0.2, \"#de77ae\"], [0.3, \"#f1b6da\"], [0.4, \"#fde0ef\"], [0.5, \"#f7f7f7\"], [0.6, \"#e6f5d0\"], [0.7, \"#b8e186\"], [0.8, \"#7fbc41\"], [0.9, \"#4d9221\"], [1, \"#276419\"]], \"sequential\": [[0.0, \"#0d0887\"], [0.1111111111111111, \"#46039f\"], [0.2222222222222222, \"#7201a8\"], [0.3333333333333333, \"#9c179e\"], [0.4444444444444444, \"#bd3786\"], [0.5555555555555556, \"#d8576b\"], [0.6666666666666666, \"#ed7953\"], [0.7777777777777778, \"#fb9f3a\"], [0.8888888888888888, \"#fdca26\"], [1.0, \"#f0f921\"]], \"sequentialminus\": [[0.0, \"#0d0887\"], [0.1111111111111111, \"#46039f\"], [0.2222222222222222, \"#7201a8\"], [0.3333333333333333, \"#9c179e\"], [0.4444444444444444, \"#bd3786\"], [0.5555555555555556, \"#d8576b\"], [0.6666666666666666, \"#ed7953\"], [0.7777777777777778, \"#fb9f3a\"], [0.8888888888888888, \"#fdca26\"], [1.0, \"#f0f921\"]]}, \"colorway\": [\"#636efa\", \"#EF553B\", \"#00cc96\", \"#ab63fa\", \"#FFA15A\", \"#19d3f3\", \"#FF6692\", \"#B6E880\", \"#FF97FF\", \"#FECB52\"], \"font\": {\"color\": \"#2a3f5f\"}, \"geo\": {\"bgcolor\": \"white\", \"lakecolor\": \"white\", \"landcolor\": \"#E5ECF6\", \"showlakes\": true, \"showland\": true, \"subunitcolor\": \"white\"}, \"hoverlabel\": {\"align\": \"left\"}, \"hovermode\": \"closest\", \"mapbox\": {\"style\": \"light\"}, \"paper_bgcolor\": \"white\", \"plot_bgcolor\": \"#E5ECF6\", \"polar\": {\"angularaxis\": {\"gridcolor\": \"white\", \"linecolor\": \"white\", \"ticks\": \"\"}, \"bgcolor\": \"#E5ECF6\", \"radialaxis\": {\"gridcolor\": \"white\", \"linecolor\": \"white\", \"ticks\": \"\"}}, \"scene\": {\"xaxis\": {\"backgroundcolor\": \"#E5ECF6\", \"gridcolor\": \"white\", \"gridwidth\": 2, \"linecolor\": \"white\", \"showbackground\": true, \"ticks\": \"\", \"zerolinecolor\": \"white\"}, \"yaxis\": {\"backgroundcolor\": \"#E5ECF6\", \"gridcolor\": \"white\", \"gridwidth\": 2, \"linecolor\": \"white\", \"showbackground\": true, \"ticks\": \"\", \"zerolinecolor\": \"white\"}, \"zaxis\": {\"backgroundcolor\": \"#E5ECF6\", \"gridcolor\": \"white\", \"gridwidth\": 2, \"linecolor\": \"white\", \"showbackground\": true, \"ticks\": \"\", \"zerolinecolor\": \"white\"}}, \"shapedefaults\": {\"line\": {\"color\": \"#2a3f5f\"}}, \"ternary\": {\"aaxis\": {\"gridcolor\": \"white\", \"linecolor\": \"white\", \"ticks\": \"\"}, \"baxis\": {\"gridcolor\": \"white\", \"linecolor\": \"white\", \"ticks\": \"\"}, \"bgcolor\": \"#E5ECF6\", \"caxis\": {\"gridcolor\": \"white\", \"linecolor\": \"white\", \"ticks\": \"\"}}, \"title\": {\"x\": 0.05}, \"xaxis\": {\"automargin\": true, \"gridcolor\": \"white\", \"linecolor\": \"white\", \"ticks\": \"\", \"title\": {\"standoff\": 15}, \"zerolinecolor\": \"white\", \"zerolinewidth\": 2}, \"yaxis\": {\"automargin\": true, \"gridcolor\": \"white\", \"linecolor\": \"white\", \"ticks\": \"\", \"title\": {\"standoff\": 15}, \"zerolinecolor\": \"white\", \"zerolinewidth\": 2}}}},\n",
       "                        {\"responsive\": true}\n",
       "                    ).then(function(){\n",
       "                            \n",
       "var gd = document.getElementById('2df7d1b4-73a9-4ed6-ad24-f7761dc77d6f');\n",
       "var x = new MutationObserver(function (mutations, observer) {{\n",
       "        var display = window.getComputedStyle(gd).display;\n",
       "        if (!display || display === 'none') {{\n",
       "            console.log([gd, 'removed!']);\n",
       "            Plotly.purge(gd);\n",
       "            observer.disconnect();\n",
       "        }}\n",
       "}});\n",
       "\n",
       "// Listen for the removal of the full notebook cells\n",
       "var notebookContainer = gd.closest('#notebook-container');\n",
       "if (notebookContainer) {{\n",
       "    x.observe(notebookContainer, {childList: true});\n",
       "}}\n",
       "\n",
       "// Listen for the clearing of the current output cell\n",
       "var outputEl = gd.closest('.output');\n",
       "if (outputEl) {{\n",
       "    x.observe(outputEl, {childList: true});\n",
       "}}\n",
       "\n",
       "                        })\n",
       "                };\n",
       "                });\n",
       "            </script>\n",
       "        </div>"
      ]
     },
     "metadata": {},
     "output_type": "display_data"
    }
   ],
   "source": [
    "#Checking the names of the foreign ports a particular consignee can go to\n",
    "az=df.groupby('FOREIGN PORT')['CONSIGNEE'].apply(set)\n",
    "az=dict(az)\n",
    "b5=list(az.keys())\n",
    "b51=[j for i in az.values() for j in i]\n",
    "b5=['FOREIGN PORT']+b5\n",
    "b52=b5+b51\n",
    "parents2 = ['']\n",
    "parents2 = parents2 + ['FOREIGN PORT']*len(az.keys())\n",
    "parents2 = parents2 + [i for i in az.keys() for j in az[i]]\n",
    "data2 = dict(\n",
    "    character=b52,\n",
    "    parent=parents2)\n",
    "    \n",
    "fig =px.sunburst(\n",
    "    data2,\n",
    "    names='character',\n",
    "    parents='parent'\n",
    ")\n",
    "fig.show()"
   ]
  },
  {
   "cell_type": "markdown",
   "metadata": {},
   "source": [
    "**click on the foreign ports name to view which  foreign port does it go to  in the interactive plot plotted above**"
   ]
  },
  {
   "cell_type": "markdown",
   "metadata": {},
   "source": [
    "* **Now im also checking the Average weight in lbs of each column name so that by observing the data I can get to know which vessel name has the maximum average weight**"
   ]
  },
  {
   "cell_type": "code",
   "execution_count": 123,
   "metadata": {},
   "outputs": [
    {
     "data": {
      "text/plain": [
       "VESSEL NAME\n",
       "AGULHAS STREAM       4.333516e+04\n",
       "ALEXIA               8.310500e+03\n",
       "APL BOSTON           2.002000e+02\n",
       "APL LATVIA           2.588667e+02\n",
       "APL NEW YORK         7.700000e+01\n",
       "APL NINGBO           1.980000e+02\n",
       "APL WASHINGTON       1.657333e+02\n",
       "APL ZEEBRUGGE        1.452000e+02\n",
       "BENGUELA STREAM      2.560800e+03\n",
       "CARIBBEAN FANTASY    6.044759e+04\n",
       "CMA CGM TANCREDI     2.786850e+04\n",
       "CONTI ELEKTRA        8.525000e+04\n",
       "COSCO TIANJIN        2.136927e+04\n",
       "CSAV HOUSTON         4.329800e+04\n",
       "CSCL PUSAN           4.228400e+04\n",
       "EVER ENVOY           3.490910e+04\n",
       "EVER SIGMA           9.750700e+03\n",
       "EVER STRONG          4.389000e+04\n",
       "FOUMA                1.144000e+04\n",
       "FREMANTLE EXPRESS    4.321900e+04\n",
       "HANJIN VALENCIA      2.435840e+04\n",
       "HYUNDAI COURAGE      5.990600e+03\n",
       "HYUNDAI FAITH        3.353240e+04\n",
       "HYUNDAI GOODWILL     1.527900e+04\n",
       "HYUNDAI LOYALTY      2.326720e+04\n",
       "HYUNDAI VOYAGER      3.057340e+04\n",
       "IOULIA               1.823500e+04\n",
       "KLIPPER STREAM       3.536324e+04\n",
       "NYK CLARA            1.361580e+05\n",
       "NYK REMUS            3.644520e+04\n",
       "RANJAN               1.125300e+04\n",
       "SEABOARD ATLANTIC    3.381900e+04\n",
       "SEABOARD RANGER      3.396800e+04\n",
       "SPICA                2.082400e+04\n",
       "TIMOR STREAM         2.455810e+07\n",
       "TROPIC OPAL          4.310689e+04\n",
       "TUCANA J             3.460082e+04\n",
       "VEGA NIKOLAS         1.336750e+04\n",
       "ZIM RIO GRANDE       4.697200e+04\n",
       "Name: WEIGHT (LB), dtype: float64"
      ]
     },
     "execution_count": 123,
     "metadata": {},
     "output_type": "execute_result"
    }
   ],
   "source": [
    "#checking the average weight of each vessel name \n",
    "xd=df.groupby('VESSEL NAME')['WEIGHT (LB)'].mean()\n",
    "xd"
   ]
  },
  {
   "cell_type": "markdown",
   "metadata": {},
   "source": [
    "* **checking the country of origin of shipment and understood that Dominican Republic was the most frquent country of origin were shipment was shipped from**"
   ]
  },
  {
   "cell_type": "code",
   "execution_count": 124,
   "metadata": {},
   "outputs": [
    {
     "data": {
      "application/vnd.plotly.v1+json": {
       "config": {
        "plotlyServerURL": "https://plot.ly"
       },
       "data": [
        {
         "alignmentgroup": "True",
         "hoverlabel": {
          "namelength": 0
         },
         "hovertemplate": "country of origin=%{x}<br>count=%{y}",
         "legendgroup": "",
         "marker": {
          "color": "#636efa"
         },
         "name": "",
         "offsetgroup": "",
         "orientation": "v",
         "showlegend": false,
         "textposition": "auto",
         "type": "bar",
         "x": [
          "Dominican Republic",
          "China Taiwan",
          "United Kingdom",
          "South Korea",
          "Hong Kong",
          "Dominica",
          "China",
          "Jamaica"
         ],
         "xaxis": "x",
         "y": [
          151,
          20,
          11,
          8,
          5,
          4,
          2,
          1
         ],
         "yaxis": "y"
        }
       ],
       "layout": {
        "barmode": "relative",
        "legend": {
         "tracegroupgap": 0
        },
        "margin": {
         "t": 60
        },
        "template": {
         "data": {
          "bar": [
           {
            "error_x": {
             "color": "#2a3f5f"
            },
            "error_y": {
             "color": "#2a3f5f"
            },
            "marker": {
             "line": {
              "color": "#E5ECF6",
              "width": 0.5
             }
            },
            "type": "bar"
           }
          ],
          "barpolar": [
           {
            "marker": {
             "line": {
              "color": "#E5ECF6",
              "width": 0.5
             }
            },
            "type": "barpolar"
           }
          ],
          "carpet": [
           {
            "aaxis": {
             "endlinecolor": "#2a3f5f",
             "gridcolor": "white",
             "linecolor": "white",
             "minorgridcolor": "white",
             "startlinecolor": "#2a3f5f"
            },
            "baxis": {
             "endlinecolor": "#2a3f5f",
             "gridcolor": "white",
             "linecolor": "white",
             "minorgridcolor": "white",
             "startlinecolor": "#2a3f5f"
            },
            "type": "carpet"
           }
          ],
          "choropleth": [
           {
            "colorbar": {
             "outlinewidth": 0,
             "ticks": ""
            },
            "type": "choropleth"
           }
          ],
          "contour": [
           {
            "colorbar": {
             "outlinewidth": 0,
             "ticks": ""
            },
            "colorscale": [
             [
              0,
              "#0d0887"
             ],
             [
              0.1111111111111111,
              "#46039f"
             ],
             [
              0.2222222222222222,
              "#7201a8"
             ],
             [
              0.3333333333333333,
              "#9c179e"
             ],
             [
              0.4444444444444444,
              "#bd3786"
             ],
             [
              0.5555555555555556,
              "#d8576b"
             ],
             [
              0.6666666666666666,
              "#ed7953"
             ],
             [
              0.7777777777777778,
              "#fb9f3a"
             ],
             [
              0.8888888888888888,
              "#fdca26"
             ],
             [
              1,
              "#f0f921"
             ]
            ],
            "type": "contour"
           }
          ],
          "contourcarpet": [
           {
            "colorbar": {
             "outlinewidth": 0,
             "ticks": ""
            },
            "type": "contourcarpet"
           }
          ],
          "heatmap": [
           {
            "colorbar": {
             "outlinewidth": 0,
             "ticks": ""
            },
            "colorscale": [
             [
              0,
              "#0d0887"
             ],
             [
              0.1111111111111111,
              "#46039f"
             ],
             [
              0.2222222222222222,
              "#7201a8"
             ],
             [
              0.3333333333333333,
              "#9c179e"
             ],
             [
              0.4444444444444444,
              "#bd3786"
             ],
             [
              0.5555555555555556,
              "#d8576b"
             ],
             [
              0.6666666666666666,
              "#ed7953"
             ],
             [
              0.7777777777777778,
              "#fb9f3a"
             ],
             [
              0.8888888888888888,
              "#fdca26"
             ],
             [
              1,
              "#f0f921"
             ]
            ],
            "type": "heatmap"
           }
          ],
          "heatmapgl": [
           {
            "colorbar": {
             "outlinewidth": 0,
             "ticks": ""
            },
            "colorscale": [
             [
              0,
              "#0d0887"
             ],
             [
              0.1111111111111111,
              "#46039f"
             ],
             [
              0.2222222222222222,
              "#7201a8"
             ],
             [
              0.3333333333333333,
              "#9c179e"
             ],
             [
              0.4444444444444444,
              "#bd3786"
             ],
             [
              0.5555555555555556,
              "#d8576b"
             ],
             [
              0.6666666666666666,
              "#ed7953"
             ],
             [
              0.7777777777777778,
              "#fb9f3a"
             ],
             [
              0.8888888888888888,
              "#fdca26"
             ],
             [
              1,
              "#f0f921"
             ]
            ],
            "type": "heatmapgl"
           }
          ],
          "histogram": [
           {
            "marker": {
             "colorbar": {
              "outlinewidth": 0,
              "ticks": ""
             }
            },
            "type": "histogram"
           }
          ],
          "histogram2d": [
           {
            "colorbar": {
             "outlinewidth": 0,
             "ticks": ""
            },
            "colorscale": [
             [
              0,
              "#0d0887"
             ],
             [
              0.1111111111111111,
              "#46039f"
             ],
             [
              0.2222222222222222,
              "#7201a8"
             ],
             [
              0.3333333333333333,
              "#9c179e"
             ],
             [
              0.4444444444444444,
              "#bd3786"
             ],
             [
              0.5555555555555556,
              "#d8576b"
             ],
             [
              0.6666666666666666,
              "#ed7953"
             ],
             [
              0.7777777777777778,
              "#fb9f3a"
             ],
             [
              0.8888888888888888,
              "#fdca26"
             ],
             [
              1,
              "#f0f921"
             ]
            ],
            "type": "histogram2d"
           }
          ],
          "histogram2dcontour": [
           {
            "colorbar": {
             "outlinewidth": 0,
             "ticks": ""
            },
            "colorscale": [
             [
              0,
              "#0d0887"
             ],
             [
              0.1111111111111111,
              "#46039f"
             ],
             [
              0.2222222222222222,
              "#7201a8"
             ],
             [
              0.3333333333333333,
              "#9c179e"
             ],
             [
              0.4444444444444444,
              "#bd3786"
             ],
             [
              0.5555555555555556,
              "#d8576b"
             ],
             [
              0.6666666666666666,
              "#ed7953"
             ],
             [
              0.7777777777777778,
              "#fb9f3a"
             ],
             [
              0.8888888888888888,
              "#fdca26"
             ],
             [
              1,
              "#f0f921"
             ]
            ],
            "type": "histogram2dcontour"
           }
          ],
          "mesh3d": [
           {
            "colorbar": {
             "outlinewidth": 0,
             "ticks": ""
            },
            "type": "mesh3d"
           }
          ],
          "parcoords": [
           {
            "line": {
             "colorbar": {
              "outlinewidth": 0,
              "ticks": ""
             }
            },
            "type": "parcoords"
           }
          ],
          "pie": [
           {
            "automargin": true,
            "type": "pie"
           }
          ],
          "scatter": [
           {
            "marker": {
             "colorbar": {
              "outlinewidth": 0,
              "ticks": ""
             }
            },
            "type": "scatter"
           }
          ],
          "scatter3d": [
           {
            "line": {
             "colorbar": {
              "outlinewidth": 0,
              "ticks": ""
             }
            },
            "marker": {
             "colorbar": {
              "outlinewidth": 0,
              "ticks": ""
             }
            },
            "type": "scatter3d"
           }
          ],
          "scattercarpet": [
           {
            "marker": {
             "colorbar": {
              "outlinewidth": 0,
              "ticks": ""
             }
            },
            "type": "scattercarpet"
           }
          ],
          "scattergeo": [
           {
            "marker": {
             "colorbar": {
              "outlinewidth": 0,
              "ticks": ""
             }
            },
            "type": "scattergeo"
           }
          ],
          "scattergl": [
           {
            "marker": {
             "colorbar": {
              "outlinewidth": 0,
              "ticks": ""
             }
            },
            "type": "scattergl"
           }
          ],
          "scattermapbox": [
           {
            "marker": {
             "colorbar": {
              "outlinewidth": 0,
              "ticks": ""
             }
            },
            "type": "scattermapbox"
           }
          ],
          "scatterpolar": [
           {
            "marker": {
             "colorbar": {
              "outlinewidth": 0,
              "ticks": ""
             }
            },
            "type": "scatterpolar"
           }
          ],
          "scatterpolargl": [
           {
            "marker": {
             "colorbar": {
              "outlinewidth": 0,
              "ticks": ""
             }
            },
            "type": "scatterpolargl"
           }
          ],
          "scatterternary": [
           {
            "marker": {
             "colorbar": {
              "outlinewidth": 0,
              "ticks": ""
             }
            },
            "type": "scatterternary"
           }
          ],
          "surface": [
           {
            "colorbar": {
             "outlinewidth": 0,
             "ticks": ""
            },
            "colorscale": [
             [
              0,
              "#0d0887"
             ],
             [
              0.1111111111111111,
              "#46039f"
             ],
             [
              0.2222222222222222,
              "#7201a8"
             ],
             [
              0.3333333333333333,
              "#9c179e"
             ],
             [
              0.4444444444444444,
              "#bd3786"
             ],
             [
              0.5555555555555556,
              "#d8576b"
             ],
             [
              0.6666666666666666,
              "#ed7953"
             ],
             [
              0.7777777777777778,
              "#fb9f3a"
             ],
             [
              0.8888888888888888,
              "#fdca26"
             ],
             [
              1,
              "#f0f921"
             ]
            ],
            "type": "surface"
           }
          ],
          "table": [
           {
            "cells": {
             "fill": {
              "color": "#EBF0F8"
             },
             "line": {
              "color": "white"
             }
            },
            "header": {
             "fill": {
              "color": "#C8D4E3"
             },
             "line": {
              "color": "white"
             }
            },
            "type": "table"
           }
          ]
         },
         "layout": {
          "annotationdefaults": {
           "arrowcolor": "#2a3f5f",
           "arrowhead": 0,
           "arrowwidth": 1
          },
          "coloraxis": {
           "colorbar": {
            "outlinewidth": 0,
            "ticks": ""
           }
          },
          "colorscale": {
           "diverging": [
            [
             0,
             "#8e0152"
            ],
            [
             0.1,
             "#c51b7d"
            ],
            [
             0.2,
             "#de77ae"
            ],
            [
             0.3,
             "#f1b6da"
            ],
            [
             0.4,
             "#fde0ef"
            ],
            [
             0.5,
             "#f7f7f7"
            ],
            [
             0.6,
             "#e6f5d0"
            ],
            [
             0.7,
             "#b8e186"
            ],
            [
             0.8,
             "#7fbc41"
            ],
            [
             0.9,
             "#4d9221"
            ],
            [
             1,
             "#276419"
            ]
           ],
           "sequential": [
            [
             0,
             "#0d0887"
            ],
            [
             0.1111111111111111,
             "#46039f"
            ],
            [
             0.2222222222222222,
             "#7201a8"
            ],
            [
             0.3333333333333333,
             "#9c179e"
            ],
            [
             0.4444444444444444,
             "#bd3786"
            ],
            [
             0.5555555555555556,
             "#d8576b"
            ],
            [
             0.6666666666666666,
             "#ed7953"
            ],
            [
             0.7777777777777778,
             "#fb9f3a"
            ],
            [
             0.8888888888888888,
             "#fdca26"
            ],
            [
             1,
             "#f0f921"
            ]
           ],
           "sequentialminus": [
            [
             0,
             "#0d0887"
            ],
            [
             0.1111111111111111,
             "#46039f"
            ],
            [
             0.2222222222222222,
             "#7201a8"
            ],
            [
             0.3333333333333333,
             "#9c179e"
            ],
            [
             0.4444444444444444,
             "#bd3786"
            ],
            [
             0.5555555555555556,
             "#d8576b"
            ],
            [
             0.6666666666666666,
             "#ed7953"
            ],
            [
             0.7777777777777778,
             "#fb9f3a"
            ],
            [
             0.8888888888888888,
             "#fdca26"
            ],
            [
             1,
             "#f0f921"
            ]
           ]
          },
          "colorway": [
           "#636efa",
           "#EF553B",
           "#00cc96",
           "#ab63fa",
           "#FFA15A",
           "#19d3f3",
           "#FF6692",
           "#B6E880",
           "#FF97FF",
           "#FECB52"
          ],
          "font": {
           "color": "#2a3f5f"
          },
          "geo": {
           "bgcolor": "white",
           "lakecolor": "white",
           "landcolor": "#E5ECF6",
           "showlakes": true,
           "showland": true,
           "subunitcolor": "white"
          },
          "hoverlabel": {
           "align": "left"
          },
          "hovermode": "closest",
          "mapbox": {
           "style": "light"
          },
          "paper_bgcolor": "white",
          "plot_bgcolor": "#E5ECF6",
          "polar": {
           "angularaxis": {
            "gridcolor": "white",
            "linecolor": "white",
            "ticks": ""
           },
           "bgcolor": "#E5ECF6",
           "radialaxis": {
            "gridcolor": "white",
            "linecolor": "white",
            "ticks": ""
           }
          },
          "scene": {
           "xaxis": {
            "backgroundcolor": "#E5ECF6",
            "gridcolor": "white",
            "gridwidth": 2,
            "linecolor": "white",
            "showbackground": true,
            "ticks": "",
            "zerolinecolor": "white"
           },
           "yaxis": {
            "backgroundcolor": "#E5ECF6",
            "gridcolor": "white",
            "gridwidth": 2,
            "linecolor": "white",
            "showbackground": true,
            "ticks": "",
            "zerolinecolor": "white"
           },
           "zaxis": {
            "backgroundcolor": "#E5ECF6",
            "gridcolor": "white",
            "gridwidth": 2,
            "linecolor": "white",
            "showbackground": true,
            "ticks": "",
            "zerolinecolor": "white"
           }
          },
          "shapedefaults": {
           "line": {
            "color": "#2a3f5f"
           }
          },
          "ternary": {
           "aaxis": {
            "gridcolor": "white",
            "linecolor": "white",
            "ticks": ""
           },
           "baxis": {
            "gridcolor": "white",
            "linecolor": "white",
            "ticks": ""
           },
           "bgcolor": "#E5ECF6",
           "caxis": {
            "gridcolor": "white",
            "linecolor": "white",
            "ticks": ""
           }
          },
          "title": {
           "x": 0.05
          },
          "xaxis": {
           "automargin": true,
           "gridcolor": "white",
           "linecolor": "white",
           "ticks": "",
           "title": {
            "standoff": 15
           },
           "zerolinecolor": "white",
           "zerolinewidth": 2
          },
          "yaxis": {
           "automargin": true,
           "gridcolor": "white",
           "linecolor": "white",
           "ticks": "",
           "title": {
            "standoff": 15
           },
           "zerolinecolor": "white",
           "zerolinewidth": 2
          }
         }
        },
        "xaxis": {
         "anchor": "y",
         "domain": [
          0,
          1
         ],
         "title": {
          "text": "country of origin"
         }
        },
        "yaxis": {
         "anchor": "x",
         "domain": [
          0,
          1
         ],
         "title": {
          "text": "count"
         }
        }
       }
      },
      "text/html": [
       "<div>\n",
       "        \n",
       "        \n",
       "            <div id=\"66cdf635-5b0d-48ca-a056-5294f84516c0\" class=\"plotly-graph-div\" style=\"height:525px; width:100%;\"></div>\n",
       "            <script type=\"text/javascript\">\n",
       "                require([\"plotly\"], function(Plotly) {\n",
       "                    window.PLOTLYENV=window.PLOTLYENV || {};\n",
       "                    \n",
       "                if (document.getElementById(\"66cdf635-5b0d-48ca-a056-5294f84516c0\")) {\n",
       "                    Plotly.newPlot(\n",
       "                        '66cdf635-5b0d-48ca-a056-5294f84516c0',\n",
       "                        [{\"alignmentgroup\": \"True\", \"hoverlabel\": {\"namelength\": 0}, \"hovertemplate\": \"country of origin=%{x}<br>count=%{y}\", \"legendgroup\": \"\", \"marker\": {\"color\": \"#636efa\"}, \"name\": \"\", \"offsetgroup\": \"\", \"orientation\": \"v\", \"showlegend\": false, \"textposition\": \"auto\", \"type\": \"bar\", \"x\": [\"Dominican Republic\", \"China Taiwan\", \"United Kingdom\", \"South Korea\", \"Hong Kong\", \"Dominica\", \"China\", \"Jamaica\"], \"xaxis\": \"x\", \"y\": [151, 20, 11, 8, 5, 4, 2, 1], \"yaxis\": \"y\"}],\n",
       "                        {\"barmode\": \"relative\", \"legend\": {\"tracegroupgap\": 0}, \"margin\": {\"t\": 60}, \"template\": {\"data\": {\"bar\": [{\"error_x\": {\"color\": \"#2a3f5f\"}, \"error_y\": {\"color\": \"#2a3f5f\"}, \"marker\": {\"line\": {\"color\": \"#E5ECF6\", \"width\": 0.5}}, \"type\": \"bar\"}], \"barpolar\": [{\"marker\": {\"line\": {\"color\": \"#E5ECF6\", \"width\": 0.5}}, \"type\": \"barpolar\"}], \"carpet\": [{\"aaxis\": {\"endlinecolor\": \"#2a3f5f\", \"gridcolor\": \"white\", \"linecolor\": \"white\", \"minorgridcolor\": \"white\", \"startlinecolor\": \"#2a3f5f\"}, \"baxis\": {\"endlinecolor\": \"#2a3f5f\", \"gridcolor\": \"white\", \"linecolor\": \"white\", \"minorgridcolor\": \"white\", \"startlinecolor\": \"#2a3f5f\"}, \"type\": \"carpet\"}], \"choropleth\": [{\"colorbar\": {\"outlinewidth\": 0, \"ticks\": \"\"}, \"type\": \"choropleth\"}], \"contour\": [{\"colorbar\": {\"outlinewidth\": 0, \"ticks\": \"\"}, \"colorscale\": [[0.0, \"#0d0887\"], [0.1111111111111111, \"#46039f\"], [0.2222222222222222, \"#7201a8\"], [0.3333333333333333, \"#9c179e\"], [0.4444444444444444, \"#bd3786\"], [0.5555555555555556, \"#d8576b\"], [0.6666666666666666, \"#ed7953\"], [0.7777777777777778, \"#fb9f3a\"], [0.8888888888888888, \"#fdca26\"], [1.0, \"#f0f921\"]], \"type\": \"contour\"}], \"contourcarpet\": [{\"colorbar\": {\"outlinewidth\": 0, \"ticks\": \"\"}, \"type\": \"contourcarpet\"}], \"heatmap\": [{\"colorbar\": {\"outlinewidth\": 0, \"ticks\": \"\"}, \"colorscale\": [[0.0, \"#0d0887\"], [0.1111111111111111, \"#46039f\"], [0.2222222222222222, \"#7201a8\"], [0.3333333333333333, \"#9c179e\"], [0.4444444444444444, \"#bd3786\"], [0.5555555555555556, \"#d8576b\"], [0.6666666666666666, \"#ed7953\"], [0.7777777777777778, \"#fb9f3a\"], [0.8888888888888888, \"#fdca26\"], [1.0, \"#f0f921\"]], \"type\": \"heatmap\"}], \"heatmapgl\": [{\"colorbar\": {\"outlinewidth\": 0, \"ticks\": \"\"}, \"colorscale\": [[0.0, \"#0d0887\"], [0.1111111111111111, \"#46039f\"], [0.2222222222222222, \"#7201a8\"], [0.3333333333333333, \"#9c179e\"], [0.4444444444444444, \"#bd3786\"], [0.5555555555555556, \"#d8576b\"], [0.6666666666666666, \"#ed7953\"], [0.7777777777777778, \"#fb9f3a\"], [0.8888888888888888, \"#fdca26\"], [1.0, \"#f0f921\"]], \"type\": \"heatmapgl\"}], \"histogram\": [{\"marker\": {\"colorbar\": {\"outlinewidth\": 0, \"ticks\": \"\"}}, \"type\": \"histogram\"}], \"histogram2d\": [{\"colorbar\": {\"outlinewidth\": 0, \"ticks\": \"\"}, \"colorscale\": [[0.0, \"#0d0887\"], [0.1111111111111111, \"#46039f\"], [0.2222222222222222, \"#7201a8\"], [0.3333333333333333, \"#9c179e\"], [0.4444444444444444, \"#bd3786\"], [0.5555555555555556, \"#d8576b\"], [0.6666666666666666, \"#ed7953\"], [0.7777777777777778, \"#fb9f3a\"], [0.8888888888888888, \"#fdca26\"], [1.0, \"#f0f921\"]], \"type\": \"histogram2d\"}], \"histogram2dcontour\": [{\"colorbar\": {\"outlinewidth\": 0, \"ticks\": \"\"}, \"colorscale\": [[0.0, \"#0d0887\"], [0.1111111111111111, \"#46039f\"], [0.2222222222222222, \"#7201a8\"], [0.3333333333333333, \"#9c179e\"], [0.4444444444444444, \"#bd3786\"], [0.5555555555555556, \"#d8576b\"], [0.6666666666666666, \"#ed7953\"], [0.7777777777777778, \"#fb9f3a\"], [0.8888888888888888, \"#fdca26\"], [1.0, \"#f0f921\"]], \"type\": \"histogram2dcontour\"}], \"mesh3d\": [{\"colorbar\": {\"outlinewidth\": 0, \"ticks\": \"\"}, \"type\": \"mesh3d\"}], \"parcoords\": [{\"line\": {\"colorbar\": {\"outlinewidth\": 0, \"ticks\": \"\"}}, \"type\": \"parcoords\"}], \"pie\": [{\"automargin\": true, \"type\": \"pie\"}], \"scatter\": [{\"marker\": {\"colorbar\": {\"outlinewidth\": 0, \"ticks\": \"\"}}, \"type\": \"scatter\"}], \"scatter3d\": [{\"line\": {\"colorbar\": {\"outlinewidth\": 0, \"ticks\": \"\"}}, \"marker\": {\"colorbar\": {\"outlinewidth\": 0, \"ticks\": \"\"}}, \"type\": \"scatter3d\"}], \"scattercarpet\": [{\"marker\": {\"colorbar\": {\"outlinewidth\": 0, \"ticks\": \"\"}}, \"type\": \"scattercarpet\"}], \"scattergeo\": [{\"marker\": {\"colorbar\": {\"outlinewidth\": 0, \"ticks\": \"\"}}, \"type\": \"scattergeo\"}], \"scattergl\": [{\"marker\": {\"colorbar\": {\"outlinewidth\": 0, \"ticks\": \"\"}}, \"type\": \"scattergl\"}], \"scattermapbox\": [{\"marker\": {\"colorbar\": {\"outlinewidth\": 0, \"ticks\": \"\"}}, \"type\": \"scattermapbox\"}], \"scatterpolar\": [{\"marker\": {\"colorbar\": {\"outlinewidth\": 0, \"ticks\": \"\"}}, \"type\": \"scatterpolar\"}], \"scatterpolargl\": [{\"marker\": {\"colorbar\": {\"outlinewidth\": 0, \"ticks\": \"\"}}, \"type\": \"scatterpolargl\"}], \"scatterternary\": [{\"marker\": {\"colorbar\": {\"outlinewidth\": 0, \"ticks\": \"\"}}, \"type\": \"scatterternary\"}], \"surface\": [{\"colorbar\": {\"outlinewidth\": 0, \"ticks\": \"\"}, \"colorscale\": [[0.0, \"#0d0887\"], [0.1111111111111111, \"#46039f\"], [0.2222222222222222, \"#7201a8\"], [0.3333333333333333, \"#9c179e\"], [0.4444444444444444, \"#bd3786\"], [0.5555555555555556, \"#d8576b\"], [0.6666666666666666, \"#ed7953\"], [0.7777777777777778, \"#fb9f3a\"], [0.8888888888888888, \"#fdca26\"], [1.0, \"#f0f921\"]], \"type\": \"surface\"}], \"table\": [{\"cells\": {\"fill\": {\"color\": \"#EBF0F8\"}, \"line\": {\"color\": \"white\"}}, \"header\": {\"fill\": {\"color\": \"#C8D4E3\"}, \"line\": {\"color\": \"white\"}}, \"type\": \"table\"}]}, \"layout\": {\"annotationdefaults\": {\"arrowcolor\": \"#2a3f5f\", \"arrowhead\": 0, \"arrowwidth\": 1}, \"coloraxis\": {\"colorbar\": {\"outlinewidth\": 0, \"ticks\": \"\"}}, \"colorscale\": {\"diverging\": [[0, \"#8e0152\"], [0.1, \"#c51b7d\"], [0.2, \"#de77ae\"], [0.3, \"#f1b6da\"], [0.4, \"#fde0ef\"], [0.5, \"#f7f7f7\"], [0.6, \"#e6f5d0\"], [0.7, \"#b8e186\"], [0.8, \"#7fbc41\"], [0.9, \"#4d9221\"], [1, \"#276419\"]], \"sequential\": [[0.0, \"#0d0887\"], [0.1111111111111111, \"#46039f\"], [0.2222222222222222, \"#7201a8\"], [0.3333333333333333, \"#9c179e\"], [0.4444444444444444, \"#bd3786\"], [0.5555555555555556, \"#d8576b\"], [0.6666666666666666, \"#ed7953\"], [0.7777777777777778, \"#fb9f3a\"], [0.8888888888888888, \"#fdca26\"], [1.0, \"#f0f921\"]], \"sequentialminus\": [[0.0, \"#0d0887\"], [0.1111111111111111, \"#46039f\"], [0.2222222222222222, \"#7201a8\"], [0.3333333333333333, \"#9c179e\"], [0.4444444444444444, \"#bd3786\"], [0.5555555555555556, \"#d8576b\"], [0.6666666666666666, \"#ed7953\"], [0.7777777777777778, \"#fb9f3a\"], [0.8888888888888888, \"#fdca26\"], [1.0, \"#f0f921\"]]}, \"colorway\": [\"#636efa\", \"#EF553B\", \"#00cc96\", \"#ab63fa\", \"#FFA15A\", \"#19d3f3\", \"#FF6692\", \"#B6E880\", \"#FF97FF\", \"#FECB52\"], \"font\": {\"color\": \"#2a3f5f\"}, \"geo\": {\"bgcolor\": \"white\", \"lakecolor\": \"white\", \"landcolor\": \"#E5ECF6\", \"showlakes\": true, \"showland\": true, \"subunitcolor\": \"white\"}, \"hoverlabel\": {\"align\": \"left\"}, \"hovermode\": \"closest\", \"mapbox\": {\"style\": \"light\"}, \"paper_bgcolor\": \"white\", \"plot_bgcolor\": \"#E5ECF6\", \"polar\": {\"angularaxis\": {\"gridcolor\": \"white\", \"linecolor\": \"white\", \"ticks\": \"\"}, \"bgcolor\": \"#E5ECF6\", \"radialaxis\": {\"gridcolor\": \"white\", \"linecolor\": \"white\", \"ticks\": \"\"}}, \"scene\": {\"xaxis\": {\"backgroundcolor\": \"#E5ECF6\", \"gridcolor\": \"white\", \"gridwidth\": 2, \"linecolor\": \"white\", \"showbackground\": true, \"ticks\": \"\", \"zerolinecolor\": \"white\"}, \"yaxis\": {\"backgroundcolor\": \"#E5ECF6\", \"gridcolor\": \"white\", \"gridwidth\": 2, \"linecolor\": \"white\", \"showbackground\": true, \"ticks\": \"\", \"zerolinecolor\": \"white\"}, \"zaxis\": {\"backgroundcolor\": \"#E5ECF6\", \"gridcolor\": \"white\", \"gridwidth\": 2, \"linecolor\": \"white\", \"showbackground\": true, \"ticks\": \"\", \"zerolinecolor\": \"white\"}}, \"shapedefaults\": {\"line\": {\"color\": \"#2a3f5f\"}}, \"ternary\": {\"aaxis\": {\"gridcolor\": \"white\", \"linecolor\": \"white\", \"ticks\": \"\"}, \"baxis\": {\"gridcolor\": \"white\", \"linecolor\": \"white\", \"ticks\": \"\"}, \"bgcolor\": \"#E5ECF6\", \"caxis\": {\"gridcolor\": \"white\", \"linecolor\": \"white\", \"ticks\": \"\"}}, \"title\": {\"x\": 0.05}, \"xaxis\": {\"automargin\": true, \"gridcolor\": \"white\", \"linecolor\": \"white\", \"ticks\": \"\", \"title\": {\"standoff\": 15}, \"zerolinecolor\": \"white\", \"zerolinewidth\": 2}, \"yaxis\": {\"automargin\": true, \"gridcolor\": \"white\", \"linecolor\": \"white\", \"ticks\": \"\", \"title\": {\"standoff\": 15}, \"zerolinecolor\": \"white\", \"zerolinewidth\": 2}}}, \"xaxis\": {\"anchor\": \"y\", \"domain\": [0.0, 1.0], \"title\": {\"text\": \"country of origin\"}}, \"yaxis\": {\"anchor\": \"x\", \"domain\": [0.0, 1.0], \"title\": {\"text\": \"count\"}}},\n",
       "                        {\"responsive\": true}\n",
       "                    ).then(function(){\n",
       "                            \n",
       "var gd = document.getElementById('66cdf635-5b0d-48ca-a056-5294f84516c0');\n",
       "var x = new MutationObserver(function (mutations, observer) {{\n",
       "        var display = window.getComputedStyle(gd).display;\n",
       "        if (!display || display === 'none') {{\n",
       "            console.log([gd, 'removed!']);\n",
       "            Plotly.purge(gd);\n",
       "            observer.disconnect();\n",
       "        }}\n",
       "}});\n",
       "\n",
       "// Listen for the removal of the full notebook cells\n",
       "var notebookContainer = gd.closest('#notebook-container');\n",
       "if (notebookContainer) {{\n",
       "    x.observe(notebookContainer, {childList: true});\n",
       "}}\n",
       "\n",
       "// Listen for the clearing of the current output cell\n",
       "var outputEl = gd.closest('.output');\n",
       "if (outputEl) {{\n",
       "    x.observe(outputEl, {childList: true});\n",
       "}}\n",
       "\n",
       "                        })\n",
       "                };\n",
       "                });\n",
       "            </script>\n",
       "        </div>"
      ]
     },
     "metadata": {},
     "output_type": "display_data"
    }
   ],
   "source": [
    "#checking the number of times a particular repeats\n",
    "aa=df['COUNTRY OF ORIGIN'].value_counts()\n",
    "ab=pd.DataFrame(aa)\n",
    "ab.reset_index(inplace=True)\n",
    "ab.columns=['country of origin','count']\n",
    "px.bar(ab,x='country of origin',y='count')"
   ]
  },
  {
   "cell_type": "code",
   "execution_count": null,
   "metadata": {},
   "outputs": [],
   "source": []
  },
  {
   "cell_type": "markdown",
   "metadata": {},
   "source": [
    "* **checking the names of the vessels where shipment was registered in**\n"
   ]
  },
  {
   "cell_type": "code",
   "execution_count": 125,
   "metadata": {
    "scrolled": true
   },
   "outputs": [
    {
     "data": {
      "application/vnd.plotly.v1+json": {
       "config": {
        "plotlyServerURL": "https://plot.ly"
       },
       "data": [
        {
         "domain": {
          "x": [
           0,
           1
          ],
          "y": [
           0,
           1
          ]
         },
         "hoverlabel": {
          "namelength": 0
         },
         "hovertemplate": "character=%{label}<br>parent=%{parent}",
         "labels": [
          "SHIP REGISTERED IN",
          "ANTIGUA AND BARBUDA",
          "CHINA",
          "CYPRUS",
          "GERMANY",
          "HONG KONG",
          "LIBERIA",
          "MALTA",
          "MARSHALL ISLANDS",
          "NETHERLANDS",
          "NETHERLANDS ANTILLES",
          "PANAMA",
          "SAINT VINCENT AND THE GRENADINES",
          "SINGAPORE",
          "UNITED KINGDOM",
          "RANJAN",
          "TUCANA J",
          "EVER SIGMA",
          "FOUMA",
          "CSCL PUSAN",
          "CSAV HOUSTON",
          "APL WASHINGTON",
          "SEABOARD ATLANTIC",
          "VEGA NIKOLAS",
          "SPICA",
          "TIMOR STREAM",
          "APL LATVIA",
          "CONTI ELEKTRA",
          "SEABOARD RANGER",
          "ZIM RIO GRANDE",
          "CMA CGM TANCREDI",
          "ALEXIA",
          "IOULIA",
          "BENGUELA STREAM",
          "KLIPPER STREAM",
          "AGULHAS STREAM",
          "AGULHAS STREAM",
          "HYUNDAI VOYAGER",
          "APL NINGBO",
          "EVER STRONG",
          "CARIBBEAN FANTASY",
          "HYUNDAI GOODWILL",
          "APL ZEEBRUGGE",
          "COSCO TIANJIN",
          "HYUNDAI COURAGE",
          "HYUNDAI FAITH",
          "HANJIN VALENCIA",
          "NYK REMUS",
          "TROPIC OPAL",
          "APL BOSTON",
          "HYUNDAI LOYALTY",
          "APL NEW YORK",
          "NYK CLARA",
          "FREMANTLE EXPRESS",
          "EVER ENVOY",
          "EVER SIGMA"
         ],
         "name": "",
         "parents": [
          "",
          "SHIP REGISTERED IN",
          "SHIP REGISTERED IN",
          "SHIP REGISTERED IN",
          "SHIP REGISTERED IN",
          "SHIP REGISTERED IN",
          "SHIP REGISTERED IN",
          "SHIP REGISTERED IN",
          "SHIP REGISTERED IN",
          "SHIP REGISTERED IN",
          "SHIP REGISTERED IN",
          "SHIP REGISTERED IN",
          "SHIP REGISTERED IN",
          "SHIP REGISTERED IN",
          "SHIP REGISTERED IN",
          "ANTIGUA AND BARBUDA",
          "ANTIGUA AND BARBUDA",
          "CHINA",
          "CYPRUS",
          "CYPRUS",
          "GERMANY",
          "HONG KONG",
          "LIBERIA",
          "LIBERIA",
          "LIBERIA",
          "LIBERIA",
          "LIBERIA",
          "LIBERIA",
          "LIBERIA",
          "MALTA",
          "MALTA",
          "MARSHALL ISLANDS",
          "MARSHALL ISLANDS",
          "NETHERLANDS",
          "NETHERLANDS",
          "NETHERLANDS",
          "NETHERLANDS ANTILLES",
          "PANAMA",
          "PANAMA",
          "PANAMA",
          "PANAMA",
          "PANAMA",
          "PANAMA",
          "PANAMA",
          "PANAMA",
          "PANAMA",
          "PANAMA",
          "PANAMA",
          "SAINT VINCENT AND THE GRENADINES",
          "SINGAPORE",
          "SINGAPORE",
          "SINGAPORE",
          "SINGAPORE",
          "UNITED KINGDOM",
          "UNITED KINGDOM",
          "UNITED KINGDOM"
         ],
         "type": "sunburst"
        }
       ],
       "layout": {
        "legend": {
         "tracegroupgap": 0
        },
        "margin": {
         "t": 60
        },
        "template": {
         "data": {
          "bar": [
           {
            "error_x": {
             "color": "#2a3f5f"
            },
            "error_y": {
             "color": "#2a3f5f"
            },
            "marker": {
             "line": {
              "color": "#E5ECF6",
              "width": 0.5
             }
            },
            "type": "bar"
           }
          ],
          "barpolar": [
           {
            "marker": {
             "line": {
              "color": "#E5ECF6",
              "width": 0.5
             }
            },
            "type": "barpolar"
           }
          ],
          "carpet": [
           {
            "aaxis": {
             "endlinecolor": "#2a3f5f",
             "gridcolor": "white",
             "linecolor": "white",
             "minorgridcolor": "white",
             "startlinecolor": "#2a3f5f"
            },
            "baxis": {
             "endlinecolor": "#2a3f5f",
             "gridcolor": "white",
             "linecolor": "white",
             "minorgridcolor": "white",
             "startlinecolor": "#2a3f5f"
            },
            "type": "carpet"
           }
          ],
          "choropleth": [
           {
            "colorbar": {
             "outlinewidth": 0,
             "ticks": ""
            },
            "type": "choropleth"
           }
          ],
          "contour": [
           {
            "colorbar": {
             "outlinewidth": 0,
             "ticks": ""
            },
            "colorscale": [
             [
              0,
              "#0d0887"
             ],
             [
              0.1111111111111111,
              "#46039f"
             ],
             [
              0.2222222222222222,
              "#7201a8"
             ],
             [
              0.3333333333333333,
              "#9c179e"
             ],
             [
              0.4444444444444444,
              "#bd3786"
             ],
             [
              0.5555555555555556,
              "#d8576b"
             ],
             [
              0.6666666666666666,
              "#ed7953"
             ],
             [
              0.7777777777777778,
              "#fb9f3a"
             ],
             [
              0.8888888888888888,
              "#fdca26"
             ],
             [
              1,
              "#f0f921"
             ]
            ],
            "type": "contour"
           }
          ],
          "contourcarpet": [
           {
            "colorbar": {
             "outlinewidth": 0,
             "ticks": ""
            },
            "type": "contourcarpet"
           }
          ],
          "heatmap": [
           {
            "colorbar": {
             "outlinewidth": 0,
             "ticks": ""
            },
            "colorscale": [
             [
              0,
              "#0d0887"
             ],
             [
              0.1111111111111111,
              "#46039f"
             ],
             [
              0.2222222222222222,
              "#7201a8"
             ],
             [
              0.3333333333333333,
              "#9c179e"
             ],
             [
              0.4444444444444444,
              "#bd3786"
             ],
             [
              0.5555555555555556,
              "#d8576b"
             ],
             [
              0.6666666666666666,
              "#ed7953"
             ],
             [
              0.7777777777777778,
              "#fb9f3a"
             ],
             [
              0.8888888888888888,
              "#fdca26"
             ],
             [
              1,
              "#f0f921"
             ]
            ],
            "type": "heatmap"
           }
          ],
          "heatmapgl": [
           {
            "colorbar": {
             "outlinewidth": 0,
             "ticks": ""
            },
            "colorscale": [
             [
              0,
              "#0d0887"
             ],
             [
              0.1111111111111111,
              "#46039f"
             ],
             [
              0.2222222222222222,
              "#7201a8"
             ],
             [
              0.3333333333333333,
              "#9c179e"
             ],
             [
              0.4444444444444444,
              "#bd3786"
             ],
             [
              0.5555555555555556,
              "#d8576b"
             ],
             [
              0.6666666666666666,
              "#ed7953"
             ],
             [
              0.7777777777777778,
              "#fb9f3a"
             ],
             [
              0.8888888888888888,
              "#fdca26"
             ],
             [
              1,
              "#f0f921"
             ]
            ],
            "type": "heatmapgl"
           }
          ],
          "histogram": [
           {
            "marker": {
             "colorbar": {
              "outlinewidth": 0,
              "ticks": ""
             }
            },
            "type": "histogram"
           }
          ],
          "histogram2d": [
           {
            "colorbar": {
             "outlinewidth": 0,
             "ticks": ""
            },
            "colorscale": [
             [
              0,
              "#0d0887"
             ],
             [
              0.1111111111111111,
              "#46039f"
             ],
             [
              0.2222222222222222,
              "#7201a8"
             ],
             [
              0.3333333333333333,
              "#9c179e"
             ],
             [
              0.4444444444444444,
              "#bd3786"
             ],
             [
              0.5555555555555556,
              "#d8576b"
             ],
             [
              0.6666666666666666,
              "#ed7953"
             ],
             [
              0.7777777777777778,
              "#fb9f3a"
             ],
             [
              0.8888888888888888,
              "#fdca26"
             ],
             [
              1,
              "#f0f921"
             ]
            ],
            "type": "histogram2d"
           }
          ],
          "histogram2dcontour": [
           {
            "colorbar": {
             "outlinewidth": 0,
             "ticks": ""
            },
            "colorscale": [
             [
              0,
              "#0d0887"
             ],
             [
              0.1111111111111111,
              "#46039f"
             ],
             [
              0.2222222222222222,
              "#7201a8"
             ],
             [
              0.3333333333333333,
              "#9c179e"
             ],
             [
              0.4444444444444444,
              "#bd3786"
             ],
             [
              0.5555555555555556,
              "#d8576b"
             ],
             [
              0.6666666666666666,
              "#ed7953"
             ],
             [
              0.7777777777777778,
              "#fb9f3a"
             ],
             [
              0.8888888888888888,
              "#fdca26"
             ],
             [
              1,
              "#f0f921"
             ]
            ],
            "type": "histogram2dcontour"
           }
          ],
          "mesh3d": [
           {
            "colorbar": {
             "outlinewidth": 0,
             "ticks": ""
            },
            "type": "mesh3d"
           }
          ],
          "parcoords": [
           {
            "line": {
             "colorbar": {
              "outlinewidth": 0,
              "ticks": ""
             }
            },
            "type": "parcoords"
           }
          ],
          "pie": [
           {
            "automargin": true,
            "type": "pie"
           }
          ],
          "scatter": [
           {
            "marker": {
             "colorbar": {
              "outlinewidth": 0,
              "ticks": ""
             }
            },
            "type": "scatter"
           }
          ],
          "scatter3d": [
           {
            "line": {
             "colorbar": {
              "outlinewidth": 0,
              "ticks": ""
             }
            },
            "marker": {
             "colorbar": {
              "outlinewidth": 0,
              "ticks": ""
             }
            },
            "type": "scatter3d"
           }
          ],
          "scattercarpet": [
           {
            "marker": {
             "colorbar": {
              "outlinewidth": 0,
              "ticks": ""
             }
            },
            "type": "scattercarpet"
           }
          ],
          "scattergeo": [
           {
            "marker": {
             "colorbar": {
              "outlinewidth": 0,
              "ticks": ""
             }
            },
            "type": "scattergeo"
           }
          ],
          "scattergl": [
           {
            "marker": {
             "colorbar": {
              "outlinewidth": 0,
              "ticks": ""
             }
            },
            "type": "scattergl"
           }
          ],
          "scattermapbox": [
           {
            "marker": {
             "colorbar": {
              "outlinewidth": 0,
              "ticks": ""
             }
            },
            "type": "scattermapbox"
           }
          ],
          "scatterpolar": [
           {
            "marker": {
             "colorbar": {
              "outlinewidth": 0,
              "ticks": ""
             }
            },
            "type": "scatterpolar"
           }
          ],
          "scatterpolargl": [
           {
            "marker": {
             "colorbar": {
              "outlinewidth": 0,
              "ticks": ""
             }
            },
            "type": "scatterpolargl"
           }
          ],
          "scatterternary": [
           {
            "marker": {
             "colorbar": {
              "outlinewidth": 0,
              "ticks": ""
             }
            },
            "type": "scatterternary"
           }
          ],
          "surface": [
           {
            "colorbar": {
             "outlinewidth": 0,
             "ticks": ""
            },
            "colorscale": [
             [
              0,
              "#0d0887"
             ],
             [
              0.1111111111111111,
              "#46039f"
             ],
             [
              0.2222222222222222,
              "#7201a8"
             ],
             [
              0.3333333333333333,
              "#9c179e"
             ],
             [
              0.4444444444444444,
              "#bd3786"
             ],
             [
              0.5555555555555556,
              "#d8576b"
             ],
             [
              0.6666666666666666,
              "#ed7953"
             ],
             [
              0.7777777777777778,
              "#fb9f3a"
             ],
             [
              0.8888888888888888,
              "#fdca26"
             ],
             [
              1,
              "#f0f921"
             ]
            ],
            "type": "surface"
           }
          ],
          "table": [
           {
            "cells": {
             "fill": {
              "color": "#EBF0F8"
             },
             "line": {
              "color": "white"
             }
            },
            "header": {
             "fill": {
              "color": "#C8D4E3"
             },
             "line": {
              "color": "white"
             }
            },
            "type": "table"
           }
          ]
         },
         "layout": {
          "annotationdefaults": {
           "arrowcolor": "#2a3f5f",
           "arrowhead": 0,
           "arrowwidth": 1
          },
          "coloraxis": {
           "colorbar": {
            "outlinewidth": 0,
            "ticks": ""
           }
          },
          "colorscale": {
           "diverging": [
            [
             0,
             "#8e0152"
            ],
            [
             0.1,
             "#c51b7d"
            ],
            [
             0.2,
             "#de77ae"
            ],
            [
             0.3,
             "#f1b6da"
            ],
            [
             0.4,
             "#fde0ef"
            ],
            [
             0.5,
             "#f7f7f7"
            ],
            [
             0.6,
             "#e6f5d0"
            ],
            [
             0.7,
             "#b8e186"
            ],
            [
             0.8,
             "#7fbc41"
            ],
            [
             0.9,
             "#4d9221"
            ],
            [
             1,
             "#276419"
            ]
           ],
           "sequential": [
            [
             0,
             "#0d0887"
            ],
            [
             0.1111111111111111,
             "#46039f"
            ],
            [
             0.2222222222222222,
             "#7201a8"
            ],
            [
             0.3333333333333333,
             "#9c179e"
            ],
            [
             0.4444444444444444,
             "#bd3786"
            ],
            [
             0.5555555555555556,
             "#d8576b"
            ],
            [
             0.6666666666666666,
             "#ed7953"
            ],
            [
             0.7777777777777778,
             "#fb9f3a"
            ],
            [
             0.8888888888888888,
             "#fdca26"
            ],
            [
             1,
             "#f0f921"
            ]
           ],
           "sequentialminus": [
            [
             0,
             "#0d0887"
            ],
            [
             0.1111111111111111,
             "#46039f"
            ],
            [
             0.2222222222222222,
             "#7201a8"
            ],
            [
             0.3333333333333333,
             "#9c179e"
            ],
            [
             0.4444444444444444,
             "#bd3786"
            ],
            [
             0.5555555555555556,
             "#d8576b"
            ],
            [
             0.6666666666666666,
             "#ed7953"
            ],
            [
             0.7777777777777778,
             "#fb9f3a"
            ],
            [
             0.8888888888888888,
             "#fdca26"
            ],
            [
             1,
             "#f0f921"
            ]
           ]
          },
          "colorway": [
           "#636efa",
           "#EF553B",
           "#00cc96",
           "#ab63fa",
           "#FFA15A",
           "#19d3f3",
           "#FF6692",
           "#B6E880",
           "#FF97FF",
           "#FECB52"
          ],
          "font": {
           "color": "#2a3f5f"
          },
          "geo": {
           "bgcolor": "white",
           "lakecolor": "white",
           "landcolor": "#E5ECF6",
           "showlakes": true,
           "showland": true,
           "subunitcolor": "white"
          },
          "hoverlabel": {
           "align": "left"
          },
          "hovermode": "closest",
          "mapbox": {
           "style": "light"
          },
          "paper_bgcolor": "white",
          "plot_bgcolor": "#E5ECF6",
          "polar": {
           "angularaxis": {
            "gridcolor": "white",
            "linecolor": "white",
            "ticks": ""
           },
           "bgcolor": "#E5ECF6",
           "radialaxis": {
            "gridcolor": "white",
            "linecolor": "white",
            "ticks": ""
           }
          },
          "scene": {
           "xaxis": {
            "backgroundcolor": "#E5ECF6",
            "gridcolor": "white",
            "gridwidth": 2,
            "linecolor": "white",
            "showbackground": true,
            "ticks": "",
            "zerolinecolor": "white"
           },
           "yaxis": {
            "backgroundcolor": "#E5ECF6",
            "gridcolor": "white",
            "gridwidth": 2,
            "linecolor": "white",
            "showbackground": true,
            "ticks": "",
            "zerolinecolor": "white"
           },
           "zaxis": {
            "backgroundcolor": "#E5ECF6",
            "gridcolor": "white",
            "gridwidth": 2,
            "linecolor": "white",
            "showbackground": true,
            "ticks": "",
            "zerolinecolor": "white"
           }
          },
          "shapedefaults": {
           "line": {
            "color": "#2a3f5f"
           }
          },
          "ternary": {
           "aaxis": {
            "gridcolor": "white",
            "linecolor": "white",
            "ticks": ""
           },
           "baxis": {
            "gridcolor": "white",
            "linecolor": "white",
            "ticks": ""
           },
           "bgcolor": "#E5ECF6",
           "caxis": {
            "gridcolor": "white",
            "linecolor": "white",
            "ticks": ""
           }
          },
          "title": {
           "x": 0.05
          },
          "xaxis": {
           "automargin": true,
           "gridcolor": "white",
           "linecolor": "white",
           "ticks": "",
           "title": {
            "standoff": 15
           },
           "zerolinecolor": "white",
           "zerolinewidth": 2
          },
          "yaxis": {
           "automargin": true,
           "gridcolor": "white",
           "linecolor": "white",
           "ticks": "",
           "title": {
            "standoff": 15
           },
           "zerolinecolor": "white",
           "zerolinewidth": 2
          }
         }
        }
       }
      },
      "text/html": [
       "<div>\n",
       "        \n",
       "        \n",
       "            <div id=\"4018c43e-a32f-4171-8592-2dc79ec9bc45\" class=\"plotly-graph-div\" style=\"height:525px; width:100%;\"></div>\n",
       "            <script type=\"text/javascript\">\n",
       "                require([\"plotly\"], function(Plotly) {\n",
       "                    window.PLOTLYENV=window.PLOTLYENV || {};\n",
       "                    \n",
       "                if (document.getElementById(\"4018c43e-a32f-4171-8592-2dc79ec9bc45\")) {\n",
       "                    Plotly.newPlot(\n",
       "                        '4018c43e-a32f-4171-8592-2dc79ec9bc45',\n",
       "                        [{\"domain\": {\"x\": [0.0, 1.0], \"y\": [0.0, 1.0]}, \"hoverlabel\": {\"namelength\": 0}, \"hovertemplate\": \"character=%{label}<br>parent=%{parent}\", \"labels\": [\"SHIP REGISTERED IN\", \"ANTIGUA AND BARBUDA\", \"CHINA\", \"CYPRUS\", \"GERMANY\", \"HONG KONG\", \"LIBERIA\", \"MALTA\", \"MARSHALL ISLANDS\", \"NETHERLANDS\", \"NETHERLANDS ANTILLES\", \"PANAMA\", \"SAINT VINCENT AND THE GRENADINES\", \"SINGAPORE\", \"UNITED KINGDOM\", \"RANJAN\", \"TUCANA J\", \"EVER SIGMA\", \"FOUMA\", \"CSCL PUSAN\", \"CSAV HOUSTON\", \"APL WASHINGTON\", \"SEABOARD ATLANTIC\", \"VEGA NIKOLAS\", \"SPICA\", \"TIMOR STREAM\", \"APL LATVIA\", \"CONTI ELEKTRA\", \"SEABOARD RANGER\", \"ZIM RIO GRANDE\", \"CMA CGM TANCREDI\", \"ALEXIA\", \"IOULIA\", \"BENGUELA STREAM\", \"KLIPPER STREAM\", \"AGULHAS STREAM\", \"AGULHAS STREAM\", \"HYUNDAI VOYAGER\", \"APL NINGBO\", \"EVER STRONG\", \"CARIBBEAN FANTASY\", \"HYUNDAI GOODWILL\", \"APL ZEEBRUGGE\", \"COSCO TIANJIN\", \"HYUNDAI COURAGE\", \"HYUNDAI FAITH\", \"HANJIN VALENCIA\", \"NYK REMUS\", \"TROPIC OPAL\", \"APL BOSTON\", \"HYUNDAI LOYALTY\", \"APL NEW YORK\", \"NYK CLARA\", \"FREMANTLE EXPRESS\", \"EVER ENVOY\", \"EVER SIGMA\"], \"name\": \"\", \"parents\": [\"\", \"SHIP REGISTERED IN\", \"SHIP REGISTERED IN\", \"SHIP REGISTERED IN\", \"SHIP REGISTERED IN\", \"SHIP REGISTERED IN\", \"SHIP REGISTERED IN\", \"SHIP REGISTERED IN\", \"SHIP REGISTERED IN\", \"SHIP REGISTERED IN\", \"SHIP REGISTERED IN\", \"SHIP REGISTERED IN\", \"SHIP REGISTERED IN\", \"SHIP REGISTERED IN\", \"SHIP REGISTERED IN\", \"ANTIGUA AND BARBUDA\", \"ANTIGUA AND BARBUDA\", \"CHINA\", \"CYPRUS\", \"CYPRUS\", \"GERMANY\", \"HONG KONG\", \"LIBERIA\", \"LIBERIA\", \"LIBERIA\", \"LIBERIA\", \"LIBERIA\", \"LIBERIA\", \"LIBERIA\", \"MALTA\", \"MALTA\", \"MARSHALL ISLANDS\", \"MARSHALL ISLANDS\", \"NETHERLANDS\", \"NETHERLANDS\", \"NETHERLANDS\", \"NETHERLANDS ANTILLES\", \"PANAMA\", \"PANAMA\", \"PANAMA\", \"PANAMA\", \"PANAMA\", \"PANAMA\", \"PANAMA\", \"PANAMA\", \"PANAMA\", \"PANAMA\", \"PANAMA\", \"SAINT VINCENT AND THE GRENADINES\", \"SINGAPORE\", \"SINGAPORE\", \"SINGAPORE\", \"SINGAPORE\", \"UNITED KINGDOM\", \"UNITED KINGDOM\", \"UNITED KINGDOM\"], \"type\": \"sunburst\"}],\n",
       "                        {\"legend\": {\"tracegroupgap\": 0}, \"margin\": {\"t\": 60}, \"template\": {\"data\": {\"bar\": [{\"error_x\": {\"color\": \"#2a3f5f\"}, \"error_y\": {\"color\": \"#2a3f5f\"}, \"marker\": {\"line\": {\"color\": \"#E5ECF6\", \"width\": 0.5}}, \"type\": \"bar\"}], \"barpolar\": [{\"marker\": {\"line\": {\"color\": \"#E5ECF6\", \"width\": 0.5}}, \"type\": \"barpolar\"}], \"carpet\": [{\"aaxis\": {\"endlinecolor\": \"#2a3f5f\", \"gridcolor\": \"white\", \"linecolor\": \"white\", \"minorgridcolor\": \"white\", \"startlinecolor\": \"#2a3f5f\"}, \"baxis\": {\"endlinecolor\": \"#2a3f5f\", \"gridcolor\": \"white\", \"linecolor\": \"white\", \"minorgridcolor\": \"white\", \"startlinecolor\": \"#2a3f5f\"}, \"type\": \"carpet\"}], \"choropleth\": [{\"colorbar\": {\"outlinewidth\": 0, \"ticks\": \"\"}, \"type\": \"choropleth\"}], \"contour\": [{\"colorbar\": {\"outlinewidth\": 0, \"ticks\": \"\"}, \"colorscale\": [[0.0, \"#0d0887\"], [0.1111111111111111, \"#46039f\"], [0.2222222222222222, \"#7201a8\"], [0.3333333333333333, \"#9c179e\"], [0.4444444444444444, \"#bd3786\"], [0.5555555555555556, \"#d8576b\"], [0.6666666666666666, \"#ed7953\"], [0.7777777777777778, \"#fb9f3a\"], [0.8888888888888888, \"#fdca26\"], [1.0, \"#f0f921\"]], \"type\": \"contour\"}], \"contourcarpet\": [{\"colorbar\": {\"outlinewidth\": 0, \"ticks\": \"\"}, \"type\": \"contourcarpet\"}], \"heatmap\": [{\"colorbar\": {\"outlinewidth\": 0, \"ticks\": \"\"}, \"colorscale\": [[0.0, \"#0d0887\"], [0.1111111111111111, \"#46039f\"], [0.2222222222222222, \"#7201a8\"], [0.3333333333333333, \"#9c179e\"], [0.4444444444444444, \"#bd3786\"], [0.5555555555555556, \"#d8576b\"], [0.6666666666666666, \"#ed7953\"], [0.7777777777777778, \"#fb9f3a\"], [0.8888888888888888, \"#fdca26\"], [1.0, \"#f0f921\"]], \"type\": \"heatmap\"}], \"heatmapgl\": [{\"colorbar\": {\"outlinewidth\": 0, \"ticks\": \"\"}, \"colorscale\": [[0.0, \"#0d0887\"], [0.1111111111111111, \"#46039f\"], [0.2222222222222222, \"#7201a8\"], [0.3333333333333333, \"#9c179e\"], [0.4444444444444444, \"#bd3786\"], [0.5555555555555556, \"#d8576b\"], [0.6666666666666666, \"#ed7953\"], [0.7777777777777778, \"#fb9f3a\"], [0.8888888888888888, \"#fdca26\"], [1.0, \"#f0f921\"]], \"type\": \"heatmapgl\"}], \"histogram\": [{\"marker\": {\"colorbar\": {\"outlinewidth\": 0, \"ticks\": \"\"}}, \"type\": \"histogram\"}], \"histogram2d\": [{\"colorbar\": {\"outlinewidth\": 0, \"ticks\": \"\"}, \"colorscale\": [[0.0, \"#0d0887\"], [0.1111111111111111, \"#46039f\"], [0.2222222222222222, \"#7201a8\"], [0.3333333333333333, \"#9c179e\"], [0.4444444444444444, \"#bd3786\"], [0.5555555555555556, \"#d8576b\"], [0.6666666666666666, \"#ed7953\"], [0.7777777777777778, \"#fb9f3a\"], [0.8888888888888888, \"#fdca26\"], [1.0, \"#f0f921\"]], \"type\": \"histogram2d\"}], \"histogram2dcontour\": [{\"colorbar\": {\"outlinewidth\": 0, \"ticks\": \"\"}, \"colorscale\": [[0.0, \"#0d0887\"], [0.1111111111111111, \"#46039f\"], [0.2222222222222222, \"#7201a8\"], [0.3333333333333333, \"#9c179e\"], [0.4444444444444444, \"#bd3786\"], [0.5555555555555556, \"#d8576b\"], [0.6666666666666666, \"#ed7953\"], [0.7777777777777778, \"#fb9f3a\"], [0.8888888888888888, \"#fdca26\"], [1.0, \"#f0f921\"]], \"type\": \"histogram2dcontour\"}], \"mesh3d\": [{\"colorbar\": {\"outlinewidth\": 0, \"ticks\": \"\"}, \"type\": \"mesh3d\"}], \"parcoords\": [{\"line\": {\"colorbar\": {\"outlinewidth\": 0, \"ticks\": \"\"}}, \"type\": \"parcoords\"}], \"pie\": [{\"automargin\": true, \"type\": \"pie\"}], \"scatter\": [{\"marker\": {\"colorbar\": {\"outlinewidth\": 0, \"ticks\": \"\"}}, \"type\": \"scatter\"}], \"scatter3d\": [{\"line\": {\"colorbar\": {\"outlinewidth\": 0, \"ticks\": \"\"}}, \"marker\": {\"colorbar\": {\"outlinewidth\": 0, \"ticks\": \"\"}}, \"type\": \"scatter3d\"}], \"scattercarpet\": [{\"marker\": {\"colorbar\": {\"outlinewidth\": 0, \"ticks\": \"\"}}, \"type\": \"scattercarpet\"}], \"scattergeo\": [{\"marker\": {\"colorbar\": {\"outlinewidth\": 0, \"ticks\": \"\"}}, \"type\": \"scattergeo\"}], \"scattergl\": [{\"marker\": {\"colorbar\": {\"outlinewidth\": 0, \"ticks\": \"\"}}, \"type\": \"scattergl\"}], \"scattermapbox\": [{\"marker\": {\"colorbar\": {\"outlinewidth\": 0, \"ticks\": \"\"}}, \"type\": \"scattermapbox\"}], \"scatterpolar\": [{\"marker\": {\"colorbar\": {\"outlinewidth\": 0, \"ticks\": \"\"}}, \"type\": \"scatterpolar\"}], \"scatterpolargl\": [{\"marker\": {\"colorbar\": {\"outlinewidth\": 0, \"ticks\": \"\"}}, \"type\": \"scatterpolargl\"}], \"scatterternary\": [{\"marker\": {\"colorbar\": {\"outlinewidth\": 0, \"ticks\": \"\"}}, \"type\": \"scatterternary\"}], \"surface\": [{\"colorbar\": {\"outlinewidth\": 0, \"ticks\": \"\"}, \"colorscale\": [[0.0, \"#0d0887\"], [0.1111111111111111, \"#46039f\"], [0.2222222222222222, \"#7201a8\"], [0.3333333333333333, \"#9c179e\"], [0.4444444444444444, \"#bd3786\"], [0.5555555555555556, \"#d8576b\"], [0.6666666666666666, \"#ed7953\"], [0.7777777777777778, \"#fb9f3a\"], [0.8888888888888888, \"#fdca26\"], [1.0, \"#f0f921\"]], \"type\": \"surface\"}], \"table\": [{\"cells\": {\"fill\": {\"color\": \"#EBF0F8\"}, \"line\": {\"color\": \"white\"}}, \"header\": {\"fill\": {\"color\": \"#C8D4E3\"}, \"line\": {\"color\": \"white\"}}, \"type\": \"table\"}]}, \"layout\": {\"annotationdefaults\": {\"arrowcolor\": \"#2a3f5f\", \"arrowhead\": 0, \"arrowwidth\": 1}, \"coloraxis\": {\"colorbar\": {\"outlinewidth\": 0, \"ticks\": \"\"}}, \"colorscale\": {\"diverging\": [[0, \"#8e0152\"], [0.1, \"#c51b7d\"], [0.2, \"#de77ae\"], [0.3, \"#f1b6da\"], [0.4, \"#fde0ef\"], [0.5, \"#f7f7f7\"], [0.6, \"#e6f5d0\"], [0.7, \"#b8e186\"], [0.8, \"#7fbc41\"], [0.9, \"#4d9221\"], [1, \"#276419\"]], \"sequential\": [[0.0, \"#0d0887\"], [0.1111111111111111, \"#46039f\"], [0.2222222222222222, \"#7201a8\"], [0.3333333333333333, \"#9c179e\"], [0.4444444444444444, \"#bd3786\"], [0.5555555555555556, \"#d8576b\"], [0.6666666666666666, \"#ed7953\"], [0.7777777777777778, \"#fb9f3a\"], [0.8888888888888888, \"#fdca26\"], [1.0, \"#f0f921\"]], \"sequentialminus\": [[0.0, \"#0d0887\"], [0.1111111111111111, \"#46039f\"], [0.2222222222222222, \"#7201a8\"], [0.3333333333333333, \"#9c179e\"], [0.4444444444444444, \"#bd3786\"], [0.5555555555555556, \"#d8576b\"], [0.6666666666666666, \"#ed7953\"], [0.7777777777777778, \"#fb9f3a\"], [0.8888888888888888, \"#fdca26\"], [1.0, \"#f0f921\"]]}, \"colorway\": [\"#636efa\", \"#EF553B\", \"#00cc96\", \"#ab63fa\", \"#FFA15A\", \"#19d3f3\", \"#FF6692\", \"#B6E880\", \"#FF97FF\", \"#FECB52\"], \"font\": {\"color\": \"#2a3f5f\"}, \"geo\": {\"bgcolor\": \"white\", \"lakecolor\": \"white\", \"landcolor\": \"#E5ECF6\", \"showlakes\": true, \"showland\": true, \"subunitcolor\": \"white\"}, \"hoverlabel\": {\"align\": \"left\"}, \"hovermode\": \"closest\", \"mapbox\": {\"style\": \"light\"}, \"paper_bgcolor\": \"white\", \"plot_bgcolor\": \"#E5ECF6\", \"polar\": {\"angularaxis\": {\"gridcolor\": \"white\", \"linecolor\": \"white\", \"ticks\": \"\"}, \"bgcolor\": \"#E5ECF6\", \"radialaxis\": {\"gridcolor\": \"white\", \"linecolor\": \"white\", \"ticks\": \"\"}}, \"scene\": {\"xaxis\": {\"backgroundcolor\": \"#E5ECF6\", \"gridcolor\": \"white\", \"gridwidth\": 2, \"linecolor\": \"white\", \"showbackground\": true, \"ticks\": \"\", \"zerolinecolor\": \"white\"}, \"yaxis\": {\"backgroundcolor\": \"#E5ECF6\", \"gridcolor\": \"white\", \"gridwidth\": 2, \"linecolor\": \"white\", \"showbackground\": true, \"ticks\": \"\", \"zerolinecolor\": \"white\"}, \"zaxis\": {\"backgroundcolor\": \"#E5ECF6\", \"gridcolor\": \"white\", \"gridwidth\": 2, \"linecolor\": \"white\", \"showbackground\": true, \"ticks\": \"\", \"zerolinecolor\": \"white\"}}, \"shapedefaults\": {\"line\": {\"color\": \"#2a3f5f\"}}, \"ternary\": {\"aaxis\": {\"gridcolor\": \"white\", \"linecolor\": \"white\", \"ticks\": \"\"}, \"baxis\": {\"gridcolor\": \"white\", \"linecolor\": \"white\", \"ticks\": \"\"}, \"bgcolor\": \"#E5ECF6\", \"caxis\": {\"gridcolor\": \"white\", \"linecolor\": \"white\", \"ticks\": \"\"}}, \"title\": {\"x\": 0.05}, \"xaxis\": {\"automargin\": true, \"gridcolor\": \"white\", \"linecolor\": \"white\", \"ticks\": \"\", \"title\": {\"standoff\": 15}, \"zerolinecolor\": \"white\", \"zerolinewidth\": 2}, \"yaxis\": {\"automargin\": true, \"gridcolor\": \"white\", \"linecolor\": \"white\", \"ticks\": \"\", \"title\": {\"standoff\": 15}, \"zerolinecolor\": \"white\", \"zerolinewidth\": 2}}}},\n",
       "                        {\"responsive\": true}\n",
       "                    ).then(function(){\n",
       "                            \n",
       "var gd = document.getElementById('4018c43e-a32f-4171-8592-2dc79ec9bc45');\n",
       "var x = new MutationObserver(function (mutations, observer) {{\n",
       "        var display = window.getComputedStyle(gd).display;\n",
       "        if (!display || display === 'none') {{\n",
       "            console.log([gd, 'removed!']);\n",
       "            Plotly.purge(gd);\n",
       "            observer.disconnect();\n",
       "        }}\n",
       "}});\n",
       "\n",
       "// Listen for the removal of the full notebook cells\n",
       "var notebookContainer = gd.closest('#notebook-container');\n",
       "if (notebookContainer) {{\n",
       "    x.observe(notebookContainer, {childList: true});\n",
       "}}\n",
       "\n",
       "// Listen for the clearing of the current output cell\n",
       "var outputEl = gd.closest('.output');\n",
       "if (outputEl) {{\n",
       "    x.observe(outputEl, {childList: true});\n",
       "}}\n",
       "\n",
       "                        })\n",
       "                };\n",
       "                });\n",
       "            </script>\n",
       "        </div>"
      ]
     },
     "metadata": {},
     "output_type": "display_data"
    }
   ],
   "source": [
    "#checkking the names of the vessels where shipment was registered in\n",
    "\n",
    "ad=df.groupby('SHIP REGISTERED IN')['VESSEL NAME'].apply(set)\n",
    "ad=dict(ad)\n",
    "b4=list(ad.keys())\n",
    "b41=[j for i in ad.values() for j in i]\n",
    "b4=['SHIP REGISTERED IN']+b4\n",
    "b42=b4+b41\n",
    "parents1 = ['']\n",
    "parents1 = parents1 + ['SHIP REGISTERED IN']*len(ad.keys())\n",
    "parents1 = parents1 + [i for i in ad.keys() for j in ad[i]]\n",
    "data1 = dict(\n",
    "    character=b42,\n",
    "    parent=parents1)\n",
    "    \n",
    "fig =px.sunburst(\n",
    "    data1,\n",
    "    names='character',\n",
    "    parents='parent'\n",
    ")\n",
    "fig.show()\n"
   ]
  },
  {
   "cell_type": "markdown",
   "metadata": {},
   "source": [
    "**click on the ship registered in name to view which vessel names does it go to  in the interactive plot plotted above**"
   ]
  },
  {
   "cell_type": "code",
   "execution_count": 126,
   "metadata": {},
   "outputs": [
    {
     "data": {
      "application/vnd.plotly.v1+json": {
       "config": {
        "plotlyServerURL": "https://plot.ly"
       },
       "data": [
        {
         "domain": {
          "x": [
           0,
           1
          ],
          "y": [
           0,
           1
          ]
         },
         "hoverlabel": {
          "namelength": 0
         },
         "hovertemplate": "character=%{label}<br>parent=%{parent}",
         "labels": [
          "country of origin",
          "China",
          "China Taiwan",
          "Dominica",
          "Dominican Republic",
          "Hong Kong",
          "Jamaica",
          "South Korea",
          "United Kingdom",
          "CSCL PUSAN",
          "APL NINGBO",
          "APL ZEEBRUGGE",
          "APL NEW YORK",
          "APL LATVIA",
          "EVER SIGMA",
          "APL BOSTON",
          "COSCO TIANJIN",
          "EVER ENVOY",
          "APL WASHINGTON",
          "KLIPPER STREAM",
          "AGULHAS STREAM",
          "FOUMA",
          "FREMANTLE EXPRESS",
          "RANJAN",
          "SEABOARD ATLANTIC",
          "VEGA NIKOLAS",
          "SPICA",
          "CARIBBEAN FANTASY",
          "TROPIC OPAL",
          "TUCANA J",
          "NYK CLARA",
          "CONTI ELEKTRA",
          "ALEXIA",
          "CSAV HOUSTON",
          "IOULIA",
          "SEABOARD RANGER",
          "CMA CGM TANCREDI",
          "EVER STRONG",
          "ZIM RIO GRANDE",
          "HYUNDAI VOYAGER",
          "HYUNDAI LOYALTY",
          "HYUNDAI GOODWILL",
          "HYUNDAI COURAGE",
          "HYUNDAI FAITH",
          "HANJIN VALENCIA",
          "NYK REMUS",
          "BENGUELA STREAM",
          "KLIPPER STREAM",
          "TIMOR STREAM",
          "AGULHAS STREAM"
         ],
         "name": "",
         "parents": [
          "",
          "country of origin",
          "country of origin",
          "country of origin",
          "country of origin",
          "country of origin",
          "country of origin",
          "country of origin",
          "country of origin",
          "China",
          "China Taiwan",
          "China Taiwan",
          "China Taiwan",
          "China Taiwan",
          "China Taiwan",
          "China Taiwan",
          "China Taiwan",
          "China Taiwan",
          "China Taiwan",
          "Dominica",
          "Dominica",
          "Dominican Republic",
          "Dominican Republic",
          "Dominican Republic",
          "Dominican Republic",
          "Dominican Republic",
          "Dominican Republic",
          "Dominican Republic",
          "Dominican Republic",
          "Dominican Republic",
          "Dominican Republic",
          "Dominican Republic",
          "Dominican Republic",
          "Dominican Republic",
          "Dominican Republic",
          "Dominican Republic",
          "Hong Kong",
          "Hong Kong",
          "Jamaica",
          "South Korea",
          "South Korea",
          "South Korea",
          "South Korea",
          "South Korea",
          "South Korea",
          "South Korea",
          "United Kingdom",
          "United Kingdom",
          "United Kingdom",
          "United Kingdom"
         ],
         "type": "sunburst"
        }
       ],
       "layout": {
        "legend": {
         "tracegroupgap": 0
        },
        "margin": {
         "t": 60
        },
        "template": {
         "data": {
          "bar": [
           {
            "error_x": {
             "color": "#2a3f5f"
            },
            "error_y": {
             "color": "#2a3f5f"
            },
            "marker": {
             "line": {
              "color": "#E5ECF6",
              "width": 0.5
             }
            },
            "type": "bar"
           }
          ],
          "barpolar": [
           {
            "marker": {
             "line": {
              "color": "#E5ECF6",
              "width": 0.5
             }
            },
            "type": "barpolar"
           }
          ],
          "carpet": [
           {
            "aaxis": {
             "endlinecolor": "#2a3f5f",
             "gridcolor": "white",
             "linecolor": "white",
             "minorgridcolor": "white",
             "startlinecolor": "#2a3f5f"
            },
            "baxis": {
             "endlinecolor": "#2a3f5f",
             "gridcolor": "white",
             "linecolor": "white",
             "minorgridcolor": "white",
             "startlinecolor": "#2a3f5f"
            },
            "type": "carpet"
           }
          ],
          "choropleth": [
           {
            "colorbar": {
             "outlinewidth": 0,
             "ticks": ""
            },
            "type": "choropleth"
           }
          ],
          "contour": [
           {
            "colorbar": {
             "outlinewidth": 0,
             "ticks": ""
            },
            "colorscale": [
             [
              0,
              "#0d0887"
             ],
             [
              0.1111111111111111,
              "#46039f"
             ],
             [
              0.2222222222222222,
              "#7201a8"
             ],
             [
              0.3333333333333333,
              "#9c179e"
             ],
             [
              0.4444444444444444,
              "#bd3786"
             ],
             [
              0.5555555555555556,
              "#d8576b"
             ],
             [
              0.6666666666666666,
              "#ed7953"
             ],
             [
              0.7777777777777778,
              "#fb9f3a"
             ],
             [
              0.8888888888888888,
              "#fdca26"
             ],
             [
              1,
              "#f0f921"
             ]
            ],
            "type": "contour"
           }
          ],
          "contourcarpet": [
           {
            "colorbar": {
             "outlinewidth": 0,
             "ticks": ""
            },
            "type": "contourcarpet"
           }
          ],
          "heatmap": [
           {
            "colorbar": {
             "outlinewidth": 0,
             "ticks": ""
            },
            "colorscale": [
             [
              0,
              "#0d0887"
             ],
             [
              0.1111111111111111,
              "#46039f"
             ],
             [
              0.2222222222222222,
              "#7201a8"
             ],
             [
              0.3333333333333333,
              "#9c179e"
             ],
             [
              0.4444444444444444,
              "#bd3786"
             ],
             [
              0.5555555555555556,
              "#d8576b"
             ],
             [
              0.6666666666666666,
              "#ed7953"
             ],
             [
              0.7777777777777778,
              "#fb9f3a"
             ],
             [
              0.8888888888888888,
              "#fdca26"
             ],
             [
              1,
              "#f0f921"
             ]
            ],
            "type": "heatmap"
           }
          ],
          "heatmapgl": [
           {
            "colorbar": {
             "outlinewidth": 0,
             "ticks": ""
            },
            "colorscale": [
             [
              0,
              "#0d0887"
             ],
             [
              0.1111111111111111,
              "#46039f"
             ],
             [
              0.2222222222222222,
              "#7201a8"
             ],
             [
              0.3333333333333333,
              "#9c179e"
             ],
             [
              0.4444444444444444,
              "#bd3786"
             ],
             [
              0.5555555555555556,
              "#d8576b"
             ],
             [
              0.6666666666666666,
              "#ed7953"
             ],
             [
              0.7777777777777778,
              "#fb9f3a"
             ],
             [
              0.8888888888888888,
              "#fdca26"
             ],
             [
              1,
              "#f0f921"
             ]
            ],
            "type": "heatmapgl"
           }
          ],
          "histogram": [
           {
            "marker": {
             "colorbar": {
              "outlinewidth": 0,
              "ticks": ""
             }
            },
            "type": "histogram"
           }
          ],
          "histogram2d": [
           {
            "colorbar": {
             "outlinewidth": 0,
             "ticks": ""
            },
            "colorscale": [
             [
              0,
              "#0d0887"
             ],
             [
              0.1111111111111111,
              "#46039f"
             ],
             [
              0.2222222222222222,
              "#7201a8"
             ],
             [
              0.3333333333333333,
              "#9c179e"
             ],
             [
              0.4444444444444444,
              "#bd3786"
             ],
             [
              0.5555555555555556,
              "#d8576b"
             ],
             [
              0.6666666666666666,
              "#ed7953"
             ],
             [
              0.7777777777777778,
              "#fb9f3a"
             ],
             [
              0.8888888888888888,
              "#fdca26"
             ],
             [
              1,
              "#f0f921"
             ]
            ],
            "type": "histogram2d"
           }
          ],
          "histogram2dcontour": [
           {
            "colorbar": {
             "outlinewidth": 0,
             "ticks": ""
            },
            "colorscale": [
             [
              0,
              "#0d0887"
             ],
             [
              0.1111111111111111,
              "#46039f"
             ],
             [
              0.2222222222222222,
              "#7201a8"
             ],
             [
              0.3333333333333333,
              "#9c179e"
             ],
             [
              0.4444444444444444,
              "#bd3786"
             ],
             [
              0.5555555555555556,
              "#d8576b"
             ],
             [
              0.6666666666666666,
              "#ed7953"
             ],
             [
              0.7777777777777778,
              "#fb9f3a"
             ],
             [
              0.8888888888888888,
              "#fdca26"
             ],
             [
              1,
              "#f0f921"
             ]
            ],
            "type": "histogram2dcontour"
           }
          ],
          "mesh3d": [
           {
            "colorbar": {
             "outlinewidth": 0,
             "ticks": ""
            },
            "type": "mesh3d"
           }
          ],
          "parcoords": [
           {
            "line": {
             "colorbar": {
              "outlinewidth": 0,
              "ticks": ""
             }
            },
            "type": "parcoords"
           }
          ],
          "pie": [
           {
            "automargin": true,
            "type": "pie"
           }
          ],
          "scatter": [
           {
            "marker": {
             "colorbar": {
              "outlinewidth": 0,
              "ticks": ""
             }
            },
            "type": "scatter"
           }
          ],
          "scatter3d": [
           {
            "line": {
             "colorbar": {
              "outlinewidth": 0,
              "ticks": ""
             }
            },
            "marker": {
             "colorbar": {
              "outlinewidth": 0,
              "ticks": ""
             }
            },
            "type": "scatter3d"
           }
          ],
          "scattercarpet": [
           {
            "marker": {
             "colorbar": {
              "outlinewidth": 0,
              "ticks": ""
             }
            },
            "type": "scattercarpet"
           }
          ],
          "scattergeo": [
           {
            "marker": {
             "colorbar": {
              "outlinewidth": 0,
              "ticks": ""
             }
            },
            "type": "scattergeo"
           }
          ],
          "scattergl": [
           {
            "marker": {
             "colorbar": {
              "outlinewidth": 0,
              "ticks": ""
             }
            },
            "type": "scattergl"
           }
          ],
          "scattermapbox": [
           {
            "marker": {
             "colorbar": {
              "outlinewidth": 0,
              "ticks": ""
             }
            },
            "type": "scattermapbox"
           }
          ],
          "scatterpolar": [
           {
            "marker": {
             "colorbar": {
              "outlinewidth": 0,
              "ticks": ""
             }
            },
            "type": "scatterpolar"
           }
          ],
          "scatterpolargl": [
           {
            "marker": {
             "colorbar": {
              "outlinewidth": 0,
              "ticks": ""
             }
            },
            "type": "scatterpolargl"
           }
          ],
          "scatterternary": [
           {
            "marker": {
             "colorbar": {
              "outlinewidth": 0,
              "ticks": ""
             }
            },
            "type": "scatterternary"
           }
          ],
          "surface": [
           {
            "colorbar": {
             "outlinewidth": 0,
             "ticks": ""
            },
            "colorscale": [
             [
              0,
              "#0d0887"
             ],
             [
              0.1111111111111111,
              "#46039f"
             ],
             [
              0.2222222222222222,
              "#7201a8"
             ],
             [
              0.3333333333333333,
              "#9c179e"
             ],
             [
              0.4444444444444444,
              "#bd3786"
             ],
             [
              0.5555555555555556,
              "#d8576b"
             ],
             [
              0.6666666666666666,
              "#ed7953"
             ],
             [
              0.7777777777777778,
              "#fb9f3a"
             ],
             [
              0.8888888888888888,
              "#fdca26"
             ],
             [
              1,
              "#f0f921"
             ]
            ],
            "type": "surface"
           }
          ],
          "table": [
           {
            "cells": {
             "fill": {
              "color": "#EBF0F8"
             },
             "line": {
              "color": "white"
             }
            },
            "header": {
             "fill": {
              "color": "#C8D4E3"
             },
             "line": {
              "color": "white"
             }
            },
            "type": "table"
           }
          ]
         },
         "layout": {
          "annotationdefaults": {
           "arrowcolor": "#2a3f5f",
           "arrowhead": 0,
           "arrowwidth": 1
          },
          "coloraxis": {
           "colorbar": {
            "outlinewidth": 0,
            "ticks": ""
           }
          },
          "colorscale": {
           "diverging": [
            [
             0,
             "#8e0152"
            ],
            [
             0.1,
             "#c51b7d"
            ],
            [
             0.2,
             "#de77ae"
            ],
            [
             0.3,
             "#f1b6da"
            ],
            [
             0.4,
             "#fde0ef"
            ],
            [
             0.5,
             "#f7f7f7"
            ],
            [
             0.6,
             "#e6f5d0"
            ],
            [
             0.7,
             "#b8e186"
            ],
            [
             0.8,
             "#7fbc41"
            ],
            [
             0.9,
             "#4d9221"
            ],
            [
             1,
             "#276419"
            ]
           ],
           "sequential": [
            [
             0,
             "#0d0887"
            ],
            [
             0.1111111111111111,
             "#46039f"
            ],
            [
             0.2222222222222222,
             "#7201a8"
            ],
            [
             0.3333333333333333,
             "#9c179e"
            ],
            [
             0.4444444444444444,
             "#bd3786"
            ],
            [
             0.5555555555555556,
             "#d8576b"
            ],
            [
             0.6666666666666666,
             "#ed7953"
            ],
            [
             0.7777777777777778,
             "#fb9f3a"
            ],
            [
             0.8888888888888888,
             "#fdca26"
            ],
            [
             1,
             "#f0f921"
            ]
           ],
           "sequentialminus": [
            [
             0,
             "#0d0887"
            ],
            [
             0.1111111111111111,
             "#46039f"
            ],
            [
             0.2222222222222222,
             "#7201a8"
            ],
            [
             0.3333333333333333,
             "#9c179e"
            ],
            [
             0.4444444444444444,
             "#bd3786"
            ],
            [
             0.5555555555555556,
             "#d8576b"
            ],
            [
             0.6666666666666666,
             "#ed7953"
            ],
            [
             0.7777777777777778,
             "#fb9f3a"
            ],
            [
             0.8888888888888888,
             "#fdca26"
            ],
            [
             1,
             "#f0f921"
            ]
           ]
          },
          "colorway": [
           "#636efa",
           "#EF553B",
           "#00cc96",
           "#ab63fa",
           "#FFA15A",
           "#19d3f3",
           "#FF6692",
           "#B6E880",
           "#FF97FF",
           "#FECB52"
          ],
          "font": {
           "color": "#2a3f5f"
          },
          "geo": {
           "bgcolor": "white",
           "lakecolor": "white",
           "landcolor": "#E5ECF6",
           "showlakes": true,
           "showland": true,
           "subunitcolor": "white"
          },
          "hoverlabel": {
           "align": "left"
          },
          "hovermode": "closest",
          "mapbox": {
           "style": "light"
          },
          "paper_bgcolor": "white",
          "plot_bgcolor": "#E5ECF6",
          "polar": {
           "angularaxis": {
            "gridcolor": "white",
            "linecolor": "white",
            "ticks": ""
           },
           "bgcolor": "#E5ECF6",
           "radialaxis": {
            "gridcolor": "white",
            "linecolor": "white",
            "ticks": ""
           }
          },
          "scene": {
           "xaxis": {
            "backgroundcolor": "#E5ECF6",
            "gridcolor": "white",
            "gridwidth": 2,
            "linecolor": "white",
            "showbackground": true,
            "ticks": "",
            "zerolinecolor": "white"
           },
           "yaxis": {
            "backgroundcolor": "#E5ECF6",
            "gridcolor": "white",
            "gridwidth": 2,
            "linecolor": "white",
            "showbackground": true,
            "ticks": "",
            "zerolinecolor": "white"
           },
           "zaxis": {
            "backgroundcolor": "#E5ECF6",
            "gridcolor": "white",
            "gridwidth": 2,
            "linecolor": "white",
            "showbackground": true,
            "ticks": "",
            "zerolinecolor": "white"
           }
          },
          "shapedefaults": {
           "line": {
            "color": "#2a3f5f"
           }
          },
          "ternary": {
           "aaxis": {
            "gridcolor": "white",
            "linecolor": "white",
            "ticks": ""
           },
           "baxis": {
            "gridcolor": "white",
            "linecolor": "white",
            "ticks": ""
           },
           "bgcolor": "#E5ECF6",
           "caxis": {
            "gridcolor": "white",
            "linecolor": "white",
            "ticks": ""
           }
          },
          "title": {
           "x": 0.05
          },
          "xaxis": {
           "automargin": true,
           "gridcolor": "white",
           "linecolor": "white",
           "ticks": "",
           "title": {
            "standoff": 15
           },
           "zerolinecolor": "white",
           "zerolinewidth": 2
          },
          "yaxis": {
           "automargin": true,
           "gridcolor": "white",
           "linecolor": "white",
           "ticks": "",
           "title": {
            "standoff": 15
           },
           "zerolinecolor": "white",
           "zerolinewidth": 2
          }
         }
        }
       }
      },
      "text/html": [
       "<div>\n",
       "        \n",
       "        \n",
       "            <div id=\"d2cf457a-bbc6-4a73-b65b-f4bfa72dc3c9\" class=\"plotly-graph-div\" style=\"height:525px; width:100%;\"></div>\n",
       "            <script type=\"text/javascript\">\n",
       "                require([\"plotly\"], function(Plotly) {\n",
       "                    window.PLOTLYENV=window.PLOTLYENV || {};\n",
       "                    \n",
       "                if (document.getElementById(\"d2cf457a-bbc6-4a73-b65b-f4bfa72dc3c9\")) {\n",
       "                    Plotly.newPlot(\n",
       "                        'd2cf457a-bbc6-4a73-b65b-f4bfa72dc3c9',\n",
       "                        [{\"domain\": {\"x\": [0.0, 1.0], \"y\": [0.0, 1.0]}, \"hoverlabel\": {\"namelength\": 0}, \"hovertemplate\": \"character=%{label}<br>parent=%{parent}\", \"labels\": [\"country of origin\", \"China\", \"China Taiwan\", \"Dominica\", \"Dominican Republic\", \"Hong Kong\", \"Jamaica\", \"South Korea\", \"United Kingdom\", \"CSCL PUSAN\", \"APL NINGBO\", \"APL ZEEBRUGGE\", \"APL NEW YORK\", \"APL LATVIA\", \"EVER SIGMA\", \"APL BOSTON\", \"COSCO TIANJIN\", \"EVER ENVOY\", \"APL WASHINGTON\", \"KLIPPER STREAM\", \"AGULHAS STREAM\", \"FOUMA\", \"FREMANTLE EXPRESS\", \"RANJAN\", \"SEABOARD ATLANTIC\", \"VEGA NIKOLAS\", \"SPICA\", \"CARIBBEAN FANTASY\", \"TROPIC OPAL\", \"TUCANA J\", \"NYK CLARA\", \"CONTI ELEKTRA\", \"ALEXIA\", \"CSAV HOUSTON\", \"IOULIA\", \"SEABOARD RANGER\", \"CMA CGM TANCREDI\", \"EVER STRONG\", \"ZIM RIO GRANDE\", \"HYUNDAI VOYAGER\", \"HYUNDAI LOYALTY\", \"HYUNDAI GOODWILL\", \"HYUNDAI COURAGE\", \"HYUNDAI FAITH\", \"HANJIN VALENCIA\", \"NYK REMUS\", \"BENGUELA STREAM\", \"KLIPPER STREAM\", \"TIMOR STREAM\", \"AGULHAS STREAM\"], \"name\": \"\", \"parents\": [\"\", \"country of origin\", \"country of origin\", \"country of origin\", \"country of origin\", \"country of origin\", \"country of origin\", \"country of origin\", \"country of origin\", \"China\", \"China Taiwan\", \"China Taiwan\", \"China Taiwan\", \"China Taiwan\", \"China Taiwan\", \"China Taiwan\", \"China Taiwan\", \"China Taiwan\", \"China Taiwan\", \"Dominica\", \"Dominica\", \"Dominican Republic\", \"Dominican Republic\", \"Dominican Republic\", \"Dominican Republic\", \"Dominican Republic\", \"Dominican Republic\", \"Dominican Republic\", \"Dominican Republic\", \"Dominican Republic\", \"Dominican Republic\", \"Dominican Republic\", \"Dominican Republic\", \"Dominican Republic\", \"Dominican Republic\", \"Dominican Republic\", \"Hong Kong\", \"Hong Kong\", \"Jamaica\", \"South Korea\", \"South Korea\", \"South Korea\", \"South Korea\", \"South Korea\", \"South Korea\", \"South Korea\", \"United Kingdom\", \"United Kingdom\", \"United Kingdom\", \"United Kingdom\"], \"type\": \"sunburst\"}],\n",
       "                        {\"legend\": {\"tracegroupgap\": 0}, \"margin\": {\"t\": 60}, \"template\": {\"data\": {\"bar\": [{\"error_x\": {\"color\": \"#2a3f5f\"}, \"error_y\": {\"color\": \"#2a3f5f\"}, \"marker\": {\"line\": {\"color\": \"#E5ECF6\", \"width\": 0.5}}, \"type\": \"bar\"}], \"barpolar\": [{\"marker\": {\"line\": {\"color\": \"#E5ECF6\", \"width\": 0.5}}, \"type\": \"barpolar\"}], \"carpet\": [{\"aaxis\": {\"endlinecolor\": \"#2a3f5f\", \"gridcolor\": \"white\", \"linecolor\": \"white\", \"minorgridcolor\": \"white\", \"startlinecolor\": \"#2a3f5f\"}, \"baxis\": {\"endlinecolor\": \"#2a3f5f\", \"gridcolor\": \"white\", \"linecolor\": \"white\", \"minorgridcolor\": \"white\", \"startlinecolor\": \"#2a3f5f\"}, \"type\": \"carpet\"}], \"choropleth\": [{\"colorbar\": {\"outlinewidth\": 0, \"ticks\": \"\"}, \"type\": \"choropleth\"}], \"contour\": [{\"colorbar\": {\"outlinewidth\": 0, \"ticks\": \"\"}, \"colorscale\": [[0.0, \"#0d0887\"], [0.1111111111111111, \"#46039f\"], [0.2222222222222222, \"#7201a8\"], [0.3333333333333333, \"#9c179e\"], [0.4444444444444444, \"#bd3786\"], [0.5555555555555556, \"#d8576b\"], [0.6666666666666666, \"#ed7953\"], [0.7777777777777778, \"#fb9f3a\"], [0.8888888888888888, \"#fdca26\"], [1.0, \"#f0f921\"]], \"type\": \"contour\"}], \"contourcarpet\": [{\"colorbar\": {\"outlinewidth\": 0, \"ticks\": \"\"}, \"type\": \"contourcarpet\"}], \"heatmap\": [{\"colorbar\": {\"outlinewidth\": 0, \"ticks\": \"\"}, \"colorscale\": [[0.0, \"#0d0887\"], [0.1111111111111111, \"#46039f\"], [0.2222222222222222, \"#7201a8\"], [0.3333333333333333, \"#9c179e\"], [0.4444444444444444, \"#bd3786\"], [0.5555555555555556, \"#d8576b\"], [0.6666666666666666, \"#ed7953\"], [0.7777777777777778, \"#fb9f3a\"], [0.8888888888888888, \"#fdca26\"], [1.0, \"#f0f921\"]], \"type\": \"heatmap\"}], \"heatmapgl\": [{\"colorbar\": {\"outlinewidth\": 0, \"ticks\": \"\"}, \"colorscale\": [[0.0, \"#0d0887\"], [0.1111111111111111, \"#46039f\"], [0.2222222222222222, \"#7201a8\"], [0.3333333333333333, \"#9c179e\"], [0.4444444444444444, \"#bd3786\"], [0.5555555555555556, \"#d8576b\"], [0.6666666666666666, \"#ed7953\"], [0.7777777777777778, \"#fb9f3a\"], [0.8888888888888888, \"#fdca26\"], [1.0, \"#f0f921\"]], \"type\": \"heatmapgl\"}], \"histogram\": [{\"marker\": {\"colorbar\": {\"outlinewidth\": 0, \"ticks\": \"\"}}, \"type\": \"histogram\"}], \"histogram2d\": [{\"colorbar\": {\"outlinewidth\": 0, \"ticks\": \"\"}, \"colorscale\": [[0.0, \"#0d0887\"], [0.1111111111111111, \"#46039f\"], [0.2222222222222222, \"#7201a8\"], [0.3333333333333333, \"#9c179e\"], [0.4444444444444444, \"#bd3786\"], [0.5555555555555556, \"#d8576b\"], [0.6666666666666666, \"#ed7953\"], [0.7777777777777778, \"#fb9f3a\"], [0.8888888888888888, \"#fdca26\"], [1.0, \"#f0f921\"]], \"type\": \"histogram2d\"}], \"histogram2dcontour\": [{\"colorbar\": {\"outlinewidth\": 0, \"ticks\": \"\"}, \"colorscale\": [[0.0, \"#0d0887\"], [0.1111111111111111, \"#46039f\"], [0.2222222222222222, \"#7201a8\"], [0.3333333333333333, \"#9c179e\"], [0.4444444444444444, \"#bd3786\"], [0.5555555555555556, \"#d8576b\"], [0.6666666666666666, \"#ed7953\"], [0.7777777777777778, \"#fb9f3a\"], [0.8888888888888888, \"#fdca26\"], [1.0, \"#f0f921\"]], \"type\": \"histogram2dcontour\"}], \"mesh3d\": [{\"colorbar\": {\"outlinewidth\": 0, \"ticks\": \"\"}, \"type\": \"mesh3d\"}], \"parcoords\": [{\"line\": {\"colorbar\": {\"outlinewidth\": 0, \"ticks\": \"\"}}, \"type\": \"parcoords\"}], \"pie\": [{\"automargin\": true, \"type\": \"pie\"}], \"scatter\": [{\"marker\": {\"colorbar\": {\"outlinewidth\": 0, \"ticks\": \"\"}}, \"type\": \"scatter\"}], \"scatter3d\": [{\"line\": {\"colorbar\": {\"outlinewidth\": 0, \"ticks\": \"\"}}, \"marker\": {\"colorbar\": {\"outlinewidth\": 0, \"ticks\": \"\"}}, \"type\": \"scatter3d\"}], \"scattercarpet\": [{\"marker\": {\"colorbar\": {\"outlinewidth\": 0, \"ticks\": \"\"}}, \"type\": \"scattercarpet\"}], \"scattergeo\": [{\"marker\": {\"colorbar\": {\"outlinewidth\": 0, \"ticks\": \"\"}}, \"type\": \"scattergeo\"}], \"scattergl\": [{\"marker\": {\"colorbar\": {\"outlinewidth\": 0, \"ticks\": \"\"}}, \"type\": \"scattergl\"}], \"scattermapbox\": [{\"marker\": {\"colorbar\": {\"outlinewidth\": 0, \"ticks\": \"\"}}, \"type\": \"scattermapbox\"}], \"scatterpolar\": [{\"marker\": {\"colorbar\": {\"outlinewidth\": 0, \"ticks\": \"\"}}, \"type\": \"scatterpolar\"}], \"scatterpolargl\": [{\"marker\": {\"colorbar\": {\"outlinewidth\": 0, \"ticks\": \"\"}}, \"type\": \"scatterpolargl\"}], \"scatterternary\": [{\"marker\": {\"colorbar\": {\"outlinewidth\": 0, \"ticks\": \"\"}}, \"type\": \"scatterternary\"}], \"surface\": [{\"colorbar\": {\"outlinewidth\": 0, \"ticks\": \"\"}, \"colorscale\": [[0.0, \"#0d0887\"], [0.1111111111111111, \"#46039f\"], [0.2222222222222222, \"#7201a8\"], [0.3333333333333333, \"#9c179e\"], [0.4444444444444444, \"#bd3786\"], [0.5555555555555556, \"#d8576b\"], [0.6666666666666666, \"#ed7953\"], [0.7777777777777778, \"#fb9f3a\"], [0.8888888888888888, \"#fdca26\"], [1.0, \"#f0f921\"]], \"type\": \"surface\"}], \"table\": [{\"cells\": {\"fill\": {\"color\": \"#EBF0F8\"}, \"line\": {\"color\": \"white\"}}, \"header\": {\"fill\": {\"color\": \"#C8D4E3\"}, \"line\": {\"color\": \"white\"}}, \"type\": \"table\"}]}, \"layout\": {\"annotationdefaults\": {\"arrowcolor\": \"#2a3f5f\", \"arrowhead\": 0, \"arrowwidth\": 1}, \"coloraxis\": {\"colorbar\": {\"outlinewidth\": 0, \"ticks\": \"\"}}, \"colorscale\": {\"diverging\": [[0, \"#8e0152\"], [0.1, \"#c51b7d\"], [0.2, \"#de77ae\"], [0.3, \"#f1b6da\"], [0.4, \"#fde0ef\"], [0.5, \"#f7f7f7\"], [0.6, \"#e6f5d0\"], [0.7, \"#b8e186\"], [0.8, \"#7fbc41\"], [0.9, \"#4d9221\"], [1, \"#276419\"]], \"sequential\": [[0.0, \"#0d0887\"], [0.1111111111111111, \"#46039f\"], [0.2222222222222222, \"#7201a8\"], [0.3333333333333333, \"#9c179e\"], [0.4444444444444444, \"#bd3786\"], [0.5555555555555556, \"#d8576b\"], [0.6666666666666666, \"#ed7953\"], [0.7777777777777778, \"#fb9f3a\"], [0.8888888888888888, \"#fdca26\"], [1.0, \"#f0f921\"]], \"sequentialminus\": [[0.0, \"#0d0887\"], [0.1111111111111111, \"#46039f\"], [0.2222222222222222, \"#7201a8\"], [0.3333333333333333, \"#9c179e\"], [0.4444444444444444, \"#bd3786\"], [0.5555555555555556, \"#d8576b\"], [0.6666666666666666, \"#ed7953\"], [0.7777777777777778, \"#fb9f3a\"], [0.8888888888888888, \"#fdca26\"], [1.0, \"#f0f921\"]]}, \"colorway\": [\"#636efa\", \"#EF553B\", \"#00cc96\", \"#ab63fa\", \"#FFA15A\", \"#19d3f3\", \"#FF6692\", \"#B6E880\", \"#FF97FF\", \"#FECB52\"], \"font\": {\"color\": \"#2a3f5f\"}, \"geo\": {\"bgcolor\": \"white\", \"lakecolor\": \"white\", \"landcolor\": \"#E5ECF6\", \"showlakes\": true, \"showland\": true, \"subunitcolor\": \"white\"}, \"hoverlabel\": {\"align\": \"left\"}, \"hovermode\": \"closest\", \"mapbox\": {\"style\": \"light\"}, \"paper_bgcolor\": \"white\", \"plot_bgcolor\": \"#E5ECF6\", \"polar\": {\"angularaxis\": {\"gridcolor\": \"white\", \"linecolor\": \"white\", \"ticks\": \"\"}, \"bgcolor\": \"#E5ECF6\", \"radialaxis\": {\"gridcolor\": \"white\", \"linecolor\": \"white\", \"ticks\": \"\"}}, \"scene\": {\"xaxis\": {\"backgroundcolor\": \"#E5ECF6\", \"gridcolor\": \"white\", \"gridwidth\": 2, \"linecolor\": \"white\", \"showbackground\": true, \"ticks\": \"\", \"zerolinecolor\": \"white\"}, \"yaxis\": {\"backgroundcolor\": \"#E5ECF6\", \"gridcolor\": \"white\", \"gridwidth\": 2, \"linecolor\": \"white\", \"showbackground\": true, \"ticks\": \"\", \"zerolinecolor\": \"white\"}, \"zaxis\": {\"backgroundcolor\": \"#E5ECF6\", \"gridcolor\": \"white\", \"gridwidth\": 2, \"linecolor\": \"white\", \"showbackground\": true, \"ticks\": \"\", \"zerolinecolor\": \"white\"}}, \"shapedefaults\": {\"line\": {\"color\": \"#2a3f5f\"}}, \"ternary\": {\"aaxis\": {\"gridcolor\": \"white\", \"linecolor\": \"white\", \"ticks\": \"\"}, \"baxis\": {\"gridcolor\": \"white\", \"linecolor\": \"white\", \"ticks\": \"\"}, \"bgcolor\": \"#E5ECF6\", \"caxis\": {\"gridcolor\": \"white\", \"linecolor\": \"white\", \"ticks\": \"\"}}, \"title\": {\"x\": 0.05}, \"xaxis\": {\"automargin\": true, \"gridcolor\": \"white\", \"linecolor\": \"white\", \"ticks\": \"\", \"title\": {\"standoff\": 15}, \"zerolinecolor\": \"white\", \"zerolinewidth\": 2}, \"yaxis\": {\"automargin\": true, \"gridcolor\": \"white\", \"linecolor\": \"white\", \"ticks\": \"\", \"title\": {\"standoff\": 15}, \"zerolinecolor\": \"white\", \"zerolinewidth\": 2}}}},\n",
       "                        {\"responsive\": true}\n",
       "                    ).then(function(){\n",
       "                            \n",
       "var gd = document.getElementById('d2cf457a-bbc6-4a73-b65b-f4bfa72dc3c9');\n",
       "var x = new MutationObserver(function (mutations, observer) {{\n",
       "        var display = window.getComputedStyle(gd).display;\n",
       "        if (!display || display === 'none') {{\n",
       "            console.log([gd, 'removed!']);\n",
       "            Plotly.purge(gd);\n",
       "            observer.disconnect();\n",
       "        }}\n",
       "}});\n",
       "\n",
       "// Listen for the removal of the full notebook cells\n",
       "var notebookContainer = gd.closest('#notebook-container');\n",
       "if (notebookContainer) {{\n",
       "    x.observe(notebookContainer, {childList: true});\n",
       "}}\n",
       "\n",
       "// Listen for the clearing of the current output cell\n",
       "var outputEl = gd.closest('.output');\n",
       "if (outputEl) {{\n",
       "    x.observe(outputEl, {childList: true});\n",
       "}}\n",
       "\n",
       "                        })\n",
       "                };\n",
       "                });\n",
       "            </script>\n",
       "        </div>"
      ]
     },
     "metadata": {},
     "output_type": "display_data"
    }
   ],
   "source": [
    "ww=df.groupby('COUNTRY OF ORIGIN')['VESSEL NAME'].apply(set)\n",
    "ww = dict(ww)\n",
    "#v=[]\n",
    "v=list(ww.keys())\n",
    "\n",
    "n = [j for i in ww.values() for j in i]\n",
    "v = ['country of origin'] + v\n",
    "chars = v+n\n",
    "parents = ['']\n",
    "parents = parents + ['country of origin']*len(ww.keys())\n",
    "parents = parents + [i for i in ww.keys() for j in ww[i]]\n",
    "data = dict(\n",
    "    character=chars,\n",
    "    parent=parents)\n",
    "    \n",
    "fig =px.sunburst(\n",
    "    data,\n",
    "    names='character',\n",
    "    parents='parent'\n",
    ")\n",
    "fig.show()"
   ]
  },
  {
   "cell_type": "markdown",
   "metadata": {},
   "source": [
    "**click on the country of origin name to view names of the vessels each country belongs to on the interactive plot plotted above**"
   ]
  },
  {
   "cell_type": "markdown",
   "metadata": {},
   "source": [
    "# Cleaning of the data set "
   ]
  },
  {
   "cell_type": "markdown",
   "metadata": {},
   "source": [
    "*  **For each of the categorical columns, we now check the districution of every class available in the respective column. We then consider the top most repetitive classes in the column such that we dont loose more than 15% of the total distribution, thereby capturing only the most valuable information in every column and having the dimension of the data in check.** "
   ]
  },
  {
   "cell_type": "code",
   "execution_count": 127,
   "metadata": {},
   "outputs": [],
   "source": [
    "\n",
    "# this function converts categorical variables into one hot encoded numpy array\n",
    "# k parameter here is the name of the column which we are passing \n",
    "# i,c are the indicates the start and end of the column numbers we want to retain. \n",
    "# We try to delete the columns with classes that have less frequency of occurance in the original column.\n",
    "def onehotencoding(k,i,c):\n",
    "    c3_count=df[k].value_counts()\n",
    "    retain_col2=list(c3_count.index[i:c])\n",
    "    v_3hot=pd.get_dummies(df[k])\n",
    "    v3=v_3hot[retain_col2]\n",
    "    return v3"
   ]
  },
  {
   "cell_type": "code",
   "execution_count": 128,
   "metadata": {},
   "outputs": [],
   "source": [
    "# This function is to check for correlations among given columns and remove the highly correlated features. \n",
    "\n",
    "def cleaning(corr_matrix,data):\n",
    "    # Retains only the upper half of the correlation matrix.\n",
    "    upper = corr_matrix.where(np.triu(np.ones(corr_matrix.shape), k=1).astype(np.bool))\n",
    "    # Find features with correlation greater than 0.95\n",
    "    to_drop = [column for column in upper.columns if any(upper[column] > 0.95)]\n",
    "    # Drop features \n",
    "    data.drop(to_drop, axis=1, inplace=True)\n",
    "    return data"
   ]
  },
  {
   "cell_type": "markdown",
   "metadata": {},
   "source": [
    "#### Cleaning the first 4 columns:\n",
    "\n",
    "*SHIPPER, SHIPPER ADDRESS, CONSIGNEE, CONSIGNEE ADDRESS*"
   ]
  },
  {
   "cell_type": "code",
   "execution_count": 129,
   "metadata": {},
   "outputs": [
    {
     "data": {
      "text/plain": [
       "LAS ANTILLAS EXPORT Y/O PEDRO RESTI    24\n",
       "-NOT AVAILABLE-                        18\n",
       "EXPORTADORA DE FRUTOS Y VEGETALES L    17\n",
       "DINU-S & COMPANY                       14\n",
       "EXPORTADORA DE FRUTOS Y VEGETABLES     14\n",
       "PRODUCTOS DEL TROPICO, C X A           13\n",
       "ANTONIO R. TAVERAS AGROINDUSTRIAL S    11\n",
       "ANTILLIAN FOODS                        10\n",
       "EXOTICOS ORIENTALES, SRL               10\n",
       "EXPORTADORA GARABITO                    8\n",
       "CHORUS LOGISTICS CO., LTD.              6\n",
       "WINFRESH LTD                            6\n",
       "FYFFES GROUP LTD                        5\n",
       "EXOTICOS ORIENTALES S R L               4\n",
       "K.E. & KINGSTONE CO., LTD.              3\n",
       "SWG DOMINICANA,SRL.                     3\n",
       "EXPORTADORA CRUZ BAUTISTA               3\n",
       "HECNY SHIPPING LTD. C/O                 3\n",
       "PRODUCTOS DEL TROPICO, CX A             2\n",
       "WINFRESH                                2\n",
       "AGRICULTURA DEL CIBAO S A               2\n",
       "ORIENT EXPRESS CONTAINER(HK) CO.        2\n",
       "ANTILLEAN FOODS INC                     2\n",
       "SE JUNG SHIPPING CO.,LTD.               2\n",
       "THEME PRODUCTION HOUSE LTD              2\n",
       "EXPORTADORA NARCIZA BAUTISTA DE LA      2\n",
       "WINFRESH UK LTD                         2\n",
       "EXPORTADORA SERAFINO SRL                2\n",
       "PRODUCTOSDEL TROPICO, C X A             1\n",
       "AGRICOLA OFICIAL SA AGROFICIAL          1\n",
       "FLAQUER & CIA                           1\n",
       "INVERSIONES AMALGAMADAS SA (INALMA)     1\n",
       "GEMINIS EXPORT                          1\n",
       "BEI JING KANG JIE KONG                  1\n",
       "ALSONS AQUACULTURE CORPORATION          1\n",
       "ALSONS AQUACULTURE CORP.                1\n",
       "PRODUCTOS DEL TROPICO, C XA             1\n",
       "K.P. EXPORT, SRL                        1\n",
       "Name: SHIPPER, dtype: int64"
      ]
     },
     "execution_count": 129,
     "metadata": {},
     "output_type": "execute_result"
    }
   ],
   "source": [
    "df['SHIPPER'].value_counts()   ## Here we take the first 12 classes"
   ]
  },
  {
   "cell_type": "code",
   "execution_count": 130,
   "metadata": {},
   "outputs": [
    {
     "data": {
      "text/plain": [
       "SABANETA KM 5 1/2                                                                                                                      24\n",
       "                                                                                                                                       18\n",
       "ENTRADA DE LAS CABUYAS                                                                                                                 17\n",
       "ALTO DEL YAQUE ARRIBA #40                                                                                                              17\n",
       "CARR SANCHEZ KM 28 MADRE VIEJA SAN CRISTOBAL DO                                                                                        15\n",
       "1, CARRETERA JAMO, LOS RIELES                                                                                                          14\n",
       "CARR MAO GUAYUBIN KM 23 CANA CHAPETON GUAYUBIN MONTECRISTI,REPUBLICA DOMINICANA DOM                                                    10\n",
       "CARRETERA SABANETA KM 7.5                                                                                                              10\n",
       "CARR. DUARTE KM4 ESTANCIA NUEVA MOC ESPAILLAT DO                                                                                        8\n",
       "CALLE PRIMERA CAMBITA CLARABITO                                                                                                         8\n",
       "B-703 WOOLIMBLUE9 BUILDING 240-21 YOUM CHANG-DONG, GANG SUH-GU SEOUL 157-861 KOREA, REPUBLIC OF                                         6\n",
       "HIGH CROSSE LANE EAST DUNMOW, ESSEX CM6 1TH                                                                                             4\n",
       "CARR SABANETA # 120 SABANETA LA VEGA, REPUBLICA DOMINICANA DOM                                                                          3\n",
       "HOUNDMILLS ROAD HOUNDMILLS INDUSTRIAL ESTATE BASINGSTOKE, HANTS RG21 6XL                                                                3\n",
       "AUTOPISTA DUARTE KM. 13.5, ORTEGA                                                                                                       3\n",
       "6F, NO.120, SEC 2, JIANGUO N. ROAD, TAIPEI TAIWAN TEL:2502-7256                                                                         3\n",
       "HECNY TRANSPORTATION TAIWAN LTD VDR 65 NANKING EAST ROAD SEC 3 4FL TAIWAN TAIPEI TW                                                     3\n",
       "AVE 27 DE FEBRERO #6 LAS COLINAS SANTIAGO, REPUBLICA DOMINICANA DOM                                                                     2\n",
       "CARR SABANETA KM 7.5 LA VEGA,REPUBLICA DOMINICANA DOM                                                                                   2\n",
       "CARRETERA MAO-GUAYUBIN KM 23 1/2 CANA CHAPETON MONTECRISTI DOMINICAN REPUBLIC                                                           2\n",
       "LAS CABUYAS #2                                                                                                                          2\n",
       "15/F, CHINA UNITED CENTRE, 28 MARBLE ROAD, NORTH POINT HONG KONG                                                                        2\n",
       "HOUNDMILLS ROAD HOUNDMILLS INDUSTRIAL ESTATE BASINGSTOKE HANTS RG21 6XL                                                                 2\n",
       "HIGH CROSSE LANE EAST GREAT DUMOW, ESSEX CM6 1TH UNITED KINGDOM                                                                         2\n",
       "CARR. DUARTE KM4 ESTANCIA NUEVA MOC PROV. ESPAILLAT DO. EXPORTADORES Y PRODUCTORES DE FRUTA VEGETALES TEL (809)578-5510                 2\n",
       "LTD. 9/F, EAST TOWN BUILDING, 41 LOCKHART ROAD                                                                                          2\n",
       "WOOSUNG B/D 9F, BUKCHANG-DONG 35 CHUNG-GU SEOUL KOREA, REPUBLIC OF                                                                      2\n",
       "CARR SANCHEZKM 28 MADRE VIEJA SAN CRISTOBAL DO                                                                                          1\n",
       "KM 5 CARRETERA A PUERTO CORTES 200 METROS AL SUR DE ZIP HONDURAS CHOLOMA, CORTES, HONDURAS PH 2669-8624/23                              1\n",
       "MARIBULAN,ALABEL SARANGANI PROVINCE REPUBLIC OF THE PHILIPPINES                                                                         1\n",
       "INTERNATIONAL CARGO AGENT CO.,LTD QINGDAO BRANCH 12TH FLOOR,BUILDING 7,QINGDAO SOFTWARE PARK, NO.288 NINGXIA ROAD,QINGDAO,CHINA TEL     1\n",
       "HIGH CROSS LANE EAST DUNMOW ESSEX CM6 1TH ENGLAND                                                                                       1\n",
       "ALABEL, SARANGANI PROVINCE REPUBLIC OF THE PHILIPPINES                                                                                  1\n",
       "CLL URUGUAY #17 GAZCUE STO DOMINGO,REPUBLICA DOMINICANA DOM                                                                             1\n",
       "LITTLE CANFIELD ESSEX CM6 1TH UNITED KINGDOM                                                                                            1\n",
       "CALLE PRINCIPAL DE LAS CABUYAS, SEC LA CIDRA                                                                                            1\n",
       "CARR. DUARTE KM4 ESTANCIA NUEVA MOC ESPAILLAT DO TEL 809 578 5510 FAX 809 578 6610                                                      1\n",
       "CARR SANCHEZ KM 28 MADREVIEJA SAN CRISTOBAL DO                                                                                          1\n",
       "HIGH CROSS LANE EAST DUNMOW ESSEX CM6 1TH, UK                                                                                           1\n",
       "KM 43 VIA A LA COSTA GUAYAQUIL,ECUADOR FCE 12083                                                                                        1\n",
       "CARRETERA PADRE LAS CASAS #1 AZUA STO DOMINGO, REPUBLICA DOMINICANA DOM                                                                 1\n",
       "HIGH CROSSE LANE EAST DUNMOW, ESSEX CM6 1TH CM6 1TH UNITED KINGDOM                                                                      1\n",
       "AVE SABANETA 108                                                                                                                        1\n",
       "Name: SHIPPER ADDRESS, dtype: int64"
      ]
     },
     "execution_count": 130,
     "metadata": {},
     "output_type": "execute_result"
    }
   ],
   "source": [
    "df['SHIPPER ADDRESS'].value_counts()  ## here we take the top 10 repetitive columns"
   ]
  },
  {
   "cell_type": "code",
   "execution_count": 131,
   "metadata": {},
   "outputs": [
    {
     "data": {
      "text/plain": [
       "SMS PRODUCE INC                        24\n",
       "YALINI ENTERPRISES INC                 18\n",
       "EMPRESAS LA FAMOSA, INC.               16\n",
       "ACROPOLLYS TRADING CORP                16\n",
       "-NOT AVAILABLE-                        16\n",
       "SUNDINE PRODUCE, INC                   15\n",
       "JALARAN PRODUCE INC OR MAHENDRA        11\n",
       "YUMMY-S WORLD TRADING                  10\n",
       "EVE SALES CORPORATION                  10\n",
       "JOCO PRODUCE, INC.                     10\n",
       "GRUPO BANAMIEL S.A./ INDEPENDENCIA      8\n",
       "JOCO PRODUCE INC                        6\n",
       "HECNY TRANSPORTATION INC - LAX          3\n",
       "SUNTRANS INTERNATIONAL, INC.            3\n",
       "PLANTACIONES DEL NORTE S.A.             3\n",
       "JPMA GLOBAL INC.                        2\n",
       "GRUPO BANAMIEL S.A.                     2\n",
       "PLANTACIONES DE NORTE S.A.              2\n",
       "STEPHEN GOULD WAREHOUSE                 2\n",
       "ASSOCIATED BRANDS INDUSTRIES LTD        2\n",
       "G B INTERNATIONAL INC                   2\n",
       "OEC FREIGHT (NY) INC.                   2\n",
       "EXP GROUP LLC                           2\n",
       "ALEXANDER-S MOBILITY SERVICES           1\n",
       "SUNTRANS INTERNATIONAL,INC.(CHICAGO     1\n",
       "PATAGONIA FOODS                         1\n",
       "GOLDEN FORTUNE IMPORT & EXPORT          1\n",
       "GL FOOD WHOLESALE INCORPORATED          1\n",
       "SANJAY ENTERPRISE                       1\n",
       "CHIOVITTI BANANA CO LTD                 1\n",
       "UREN NORTH AMERICA LLC                  1\n",
       "SUNTRANS INTERNATIONAL, INC             1\n",
       "EMPRESAS LA FAMOSA,INC.                 1\n",
       "MARTIN BROWER                           1\n",
       "CAFFEBENE INC.                          1\n",
       "COAST TROPICAL                          1\n",
       "EXPEDITORS INTERNATIONAL OF             1\n",
       "UREN NORTH AMERICA LLC.                 1\n",
       "PGA GROUP                               1\n",
       "IN FORMACGON DE ACROPOLLY S TRADING     1\n",
       "Name: CONSIGNEE, dtype: int64"
      ]
     },
     "execution_count": 131,
     "metadata": {},
     "output_type": "execute_result"
    }
   ],
   "source": [
    "df['CONSIGNEE'].value_counts()   # here we take the top 12 repetitive columns"
   ]
  },
  {
   "cell_type": "code",
   "execution_count": 132,
   "metadata": {},
   "outputs": [
    {
     "data": {
      "text/plain": [
       "2499 EGLINGTON AVENUE EAST                                                                                               24\n",
       "38 THORNMOUNT DRIVE UNIT 7                                                                                               18\n",
       "                                                                                                                         16\n",
       "7266 NW 70ST                                                                                                             15\n",
       "6346 VISCOUNT ROAD                                                                                                       15\n",
       "ROAD 866 AND 865 BARRIO CANDEL ARENAS TOA BAJA, PR                                                                       14\n",
       "RAOLJI 18850 SW 360 ST HOMESTEAD PH 305-245-0083 FAX 305-246-0646 MIAMI FL 33034 US                                      11\n",
       "457 WEST 27TH STREET                                                                                                     10\n",
       "945 CLOSE AVE BRONX NY 10473-4906 USA                                                                                    10\n",
       "7005 NW 46TH ST                                                                                                          10\n",
       "#96 ALTOS MAO VALVERDE, DOMINICAN REPUBLIC                                                                                8\n",
       "7005 NW 46TH ST MIAMI FL 33166-5605 USA                                                                                   6\n",
       "601 PENHORN AVE., SUITE 2, SECAUCU NJ 07094 USA TEL 201 583 1511 FAX 201 583 1510                                         3\n",
       "CERRA GORDO, GUAYUBIN, MONTECRISTI, DOMINCAN REPUBLIC                                                                     2\n",
       "CERRA GORDO, GUAYUBIN, MONTECRISTI, DOMINICAB REPUBLIC                                                                    2\n",
       "ONE CROSS ISLAND PLAZA 133-33 BROOKVILLE BLVD., SUITE 306 ROSEDALE, NY 11422                                              2\n",
       "2500 83RD ST NORTH BERGEN NJ 07047-1488 USA                                                                               2\n",
       "BHAGOWATIE TRACE PO BOX 1138, SAN JUAN TT CT: SEEMA RAMSAROOP                                                             2\n",
       "WAREHOUSING PLUS INC,30 PLYMOUTH STREET FAIRFIELD, NJ 07004                                                               2\n",
       "ROAD 866 AND 865 BARRIO CANDEL ARENAS TOA BAJA, PR TOA BAJA PR                                                            2\n",
       "19550 S. DOMINGUEZ HILLS DR RANCHO DOMINQUEZ, CA 90220 TEL:(562)616-7888,FAX:(562)616-7895                                2\n",
       "7335 HENRI BOURASSA EAST MONTREAL, QC, H1E3T5 CANADA ATTN: DANIELLE DANG                                                  1\n",
       "ROAD 866 AND 865 BARRIOCANDEL ARENAS TOA BAJA, PR                                                                         1\n",
       "SUNTRANS (LOS ANGELES) BRANCH OFFIC 1995 W. 190TH ST., 101, TORRANCE, C TEL 310-329-4060 FAX 910-329-406                  1\n",
       "12080 RIVERA RD, SANTA FE SPRINGS, CA 90670 ATTN:EDDIE OR ALEX                                                            1\n",
       "C/ 7266 NW 70ST                                                                                                           1\n",
       "1001 FARGO AVENUE ELK GROVE VILLAGE, IL 60007 TEL 847 734-0500 FAX 847 734-0511 CECIL GNBUSA.COM GNBCHICAGO HOTMAIL       1\n",
       "19550 S. DOMINGUEZ HILLS DR RANCHO DOMINQUEZ, CA 90220 TEL:(562)616-7888, FAX:(562)616-789                                1\n",
       "1335 MORRO STREET, SAN LUIS OBISPO, PHONE 805 785 0161 FAX 805 980 424                                                    1\n",
       "INDEPENCIA 96 ALTOS MAO, VALVERDE, DOMINICAN REPUBLIC                                                                     1\n",
       "13855 SW 252 ST HOMESTEAD, FL 33032                                                                                       1\n",
       "1550 WEST GLENLAKE AVENUE, ITASCA, IL 60143 T.630-285-9900 F.630-285-0400 ATTN ANDREW YOON                                1\n",
       "1430 BROADWAY, RM 1503, NEW YORK, 1 ATTN;KELLY KIM TEL 1-917-363-7604 FAX 1-917-591-8                                     1\n",
       "CORPORATION 15 PULASKI ST. BAYONNE, NEW JERSEY NEW JERSEY 07002 TEL. (                                                    1\n",
       "CARRA GORDO GUAYUBIN, MONTECRISTI, DOMINICAN REPUBLIC                                                                     1\n",
       "INDEPENCIA 96 ALTPOS MAO, VALVERDE, DOMINICAN REPUBLIC                                                                    1\n",
       "WASHINGTON,INC. 2000 CONNER ROAD SUITE 190 HERON,KY 41048 USA TEL 859-282-9494 FAXL859-282-9227 CO41048                   1\n",
       "26 MAGNIFICENT RD TORONTO, ONTARIO M8Z 4T3 CAN                                                                            1\n",
       "1001 FARGO AVENUE ELK GROVE VILLAGE TEL 847 734-0500 FAX 847 734-0511 CECIL GNBUSA.COM GNBCHICAGO HOTMAIL                 1\n",
       "2704A GREENVILLE HIGHWAY FLAT ROCK,NC 28731,USA.CONTACT:JULIE CREESE TEL.+1 828 645 8444 E-MAIL:JULIE.CREESE@UREN.COM     1\n",
       "2704A GREENVILLE HIGHWAY FLAT ROCK,NC 28731,USA TEL.+1 828 645 8444 CONTACT:JULIE CREESE                                  1\n",
       "7700 NW 27 TH AVE.                                                                                                        1\n",
       "227 HUDSON AVENUE CITY OF INDUSTRY, CA 91744                                                                              1\n",
       "C/7266 NW 70 ST                                                                                                           1\n",
       "7335 HENRI BOURASSA EAST MONTREAL, QC, H1E3T5 CANADA ATTN: DAMIELLE DANG TEL:514-648-1042 EXT.231                         1\n",
       "120 SKY WAY AVENUE                                                                                                        1\n",
       "CARRETERA 865 KM 5.5 BO CANDELARIA DENTRO DE MADERAS TRATADAS TOA BAJA PR. 00949                                          1\n",
       "Name: CONSIGNEE ADDRESS, dtype: int64"
      ]
     },
     "execution_count": 132,
     "metadata": {},
     "output_type": "execute_result"
    }
   ],
   "source": [
    "df['CONSIGNEE ADDRESS'].value_counts() # here we take the top 12 repetitive columns"
   ]
  },
  {
   "cell_type": "code",
   "execution_count": 133,
   "metadata": {},
   "outputs": [],
   "source": [
    "a1=onehotencoding('SHIPPER',0,12)\n",
    "a2=onehotencoding('SHIPPER ADDRESS',0,10)\n",
    "a3=onehotencoding('CONSIGNEE',0,12)\n",
    "a4=onehotencoding('CONSIGNEE ADDRESS',0,12)"
   ]
  },
  {
   "cell_type": "code",
   "execution_count": 134,
   "metadata": {},
   "outputs": [
    {
     "data": {
      "text/plain": [
       "0        154\n",
       "18850     11\n",
       "10473     10\n",
       "33166      6\n",
       "90220      3\n",
       "7094       3\n",
       "28731      2\n",
       "11422      2\n",
       "7004       2\n",
       "7047       2\n",
       "41048      1\n",
       "60143      1\n",
       "33032      1\n",
       "91744      1\n",
       "7002       1\n",
       "60007      1\n",
       "949        1\n",
       "Name: ZIPCODE, dtype: int64"
      ]
     },
     "execution_count": 134,
     "metadata": {},
     "output_type": "execute_result"
    }
   ],
   "source": [
    "## Lets clean Zip code\n",
    "df['ZIPCODE'] = df['ZIPCODE'].apply(lambda x: str(x))   ## converting zip codes to string datatypes\n",
    "df['ZIPCODE'].value_counts()   "
   ]
  },
  {
   "cell_type": "markdown",
   "metadata": {},
   "source": [
    "**Here we skip the missing/invalid (0) zip codes and also remove the lesser repetitive ones. Hence we choose zip codes from column numbers 1 to 3**"
   ]
  },
  {
   "cell_type": "code",
   "execution_count": 135,
   "metadata": {},
   "outputs": [],
   "source": [
    "a5=onehotencoding('ZIPCODE',1,3)\n"
   ]
  },
  {
   "cell_type": "code",
   "execution_count": 136,
   "metadata": {},
   "outputs": [],
   "source": [
    "## Cleaning Notify - considering from 1 to 6th column.\n",
    "df['NOTIFY'].value_counts()\n",
    "\n",
    "a6=onehotencoding('NOTIFY',1,6)"
   ]
  },
  {
   "cell_type": "code",
   "execution_count": 137,
   "metadata": {},
   "outputs": [],
   "source": [
    "## Cleaning Notify Address\n",
    "df['NOTIFY ADDRESS'].value_counts()\n",
    "a7=onehotencoding('NOTIFY ADDRESS',1,6)"
   ]
  },
  {
   "cell_type": "code",
   "execution_count": 138,
   "metadata": {},
   "outputs": [
    {
     "data": {
      "text/plain": [
       "SMLU3462140A        2\n",
       "PYRRPRRS32340       2\n",
       "CLAMCOSN3M002710    2\n",
       "OERT103702C00827    2\n",
       "CMDUHKA1192962      2\n",
       "SMLU3463139A        2\n",
       "MAEU866936276       1\n",
       "EXDO62Y0031367      1\n",
       "HYSLNTPE13050143    1\n",
       "TSCW10880040        1\n",
       "TSCW10898919        1\n",
       "PYRRPRRS33141       1\n",
       "TSCW10748582        1\n",
       "GLELKS073PTDR002    1\n",
       "TSCW10766711        1\n",
       "TSCW10842295        1\n",
       "TSCW10822557        1\n",
       "SMLU3496283A        1\n",
       "TSCW10844590        1\n",
       "TSCW10758900        1\n",
       "SMLU3443968A        1\n",
       "TSCW10858366        1\n",
       "MOLU13702160247     1\n",
       "TSCW10840459        1\n",
       "TSCW10873403        1\n",
       "TSCW10802791        1\n",
       "TSCW10760120        1\n",
       "UASI7782574261      1\n",
       "TSCW10865775        1\n",
       "TSCW10761772        1\n",
       "                   ..\n",
       "TSCW10744177        1\n",
       "TSCW10887879        1\n",
       "TSCW10858364        1\n",
       "TSCW10852359        1\n",
       "TSCW10896724        1\n",
       "TSCW10835805        1\n",
       "MOLU13702192521     1\n",
       "TSCW10852427        1\n",
       "TSCW10759245        1\n",
       "HYSLNTPE13050192    1\n",
       "PYRRPRRS33044       1\n",
       "TSCW10803314        1\n",
       "TSCW10835763        1\n",
       "MOLUH2000181847     1\n",
       "MOLU13500968476     1\n",
       "UASI7782768928      1\n",
       "PYRRPRRS33052       1\n",
       "TSCW10844570        1\n",
       "TSCW10879956        1\n",
       "TSCW10763872        1\n",
       "TSCW10731879        1\n",
       "MOLU13500983505     1\n",
       "TSCW10902058        1\n",
       "TSCW10879993        1\n",
       "TSCW10817538        1\n",
       "MOLU13500956536     1\n",
       "TSCW10901908        1\n",
       "TSCW10888999        1\n",
       "GLELAS068PTPR001    1\n",
       "ZIMUGSA1011679      1\n",
       "Name: BILL OF LADING, Length: 196, dtype: int64"
      ]
     },
     "execution_count": 138,
     "metadata": {},
     "output_type": "execute_result"
    }
   ],
   "source": [
    "## Analysis on BILL OF LADING\n",
    "df['BILL OF LADING'].value_counts()"
   ]
  },
  {
   "cell_type": "markdown",
   "metadata": {},
   "source": [
    "**Since most values were completely unique to each other, generalization would be hard, hence we remove this column.**"
   ]
  },
  {
   "cell_type": "code",
   "execution_count": 139,
   "metadata": {},
   "outputs": [],
   "source": [
    "# We now use the given \"Actual Time\" and \"Estimated time of arrival\" to calculate a single variable which is a time difference\n",
    "# between the given 2 dates.\n",
    "df['TIME DIFFERENCE'] = ( df['ACTUAL TIME OF ARRIVAL']-df['ESTIMATED TIME OF ARRIVAL'] )/np.timedelta64(1, 'D')\n",
    "a9=df['TIME DIFFERENCE'] \n",
    "from sklearn import preprocessing\n",
    "\n",
    "a9=(df['TIME DIFFERENCE']-df['TIME DIFFERENCE'].min())/(df['TIME DIFFERENCE'].max()-df['TIME DIFFERENCE'].min())"
   ]
  },
  {
   "cell_type": "markdown",
   "metadata": {},
   "source": [
    "**There are 2 columns of weights given in the data for the same quantity. Hence, one column was removed since it gave the the same knowledge as the other.**"
   ]
  },
  {
   "cell_type": "code",
   "execution_count": 140,
   "metadata": {},
   "outputs": [],
   "source": [
    "a11=df['WEIGHT (LB)']\n",
    "\n",
    "### Standard Scaling the weight column\n",
    "a11=(df['WEIGHT (LB)']-df['WEIGHT (LB)'].min())/(df['WEIGHT (LB)'].max()-df['WEIGHT (LB)'].min())\n"
   ]
  },
  {
   "cell_type": "code",
   "execution_count": 141,
   "metadata": {},
   "outputs": [],
   "source": [
    "# Deleting the other weights column\n",
    "del df['WEIGHT (KG)']"
   ]
  },
  {
   "cell_type": "code",
   "execution_count": 142,
   "metadata": {},
   "outputs": [
    {
     "name": "stdout",
     "output_type": "stream",
     "text": [
      "Puerto Plata                                    104\n",
      "Santo Domingo                                    29\n",
      "Kaohsiung                                        20\n",
      "Haina                                            15\n",
      "All Other England South and East Coast Ports     11\n",
      "Pusan                                             7\n",
      "Hong Kong                                         5\n",
      "Portsmouth                                        4\n",
      "Caucedo                                           3\n",
      "Ching Tao                                         2\n",
      "Port Bustamante                                   1\n",
      "Kwangyang                                         1\n",
      "Name: FOREIGN PORT, dtype: int64\n"
     ]
    }
   ],
   "source": [
    "## Cleaning Foreign port data \n",
    "print(df['FOREIGN PORT'].value_counts())\n",
    "\n",
    "a13=onehotencoding('FOREIGN PORT',0,7)"
   ]
  },
  {
   "cell_type": "code",
   "execution_count": 143,
   "metadata": {},
   "outputs": [
    {
     "name": "stdout",
     "output_type": "stream",
     "text": [
      "West Palm Beach, Florida                    97\n",
      "San Juan, Puerto Rico                       36\n",
      "Los Angeles, California                     27\n",
      "New York, New York                          15\n",
      "Port Everglades, Florida                    11\n",
      "Miami, Florida                              10\n",
      "New York/Newark Area, Newark, New Jersey     5\n",
      "Houston, Texas                               1\n",
      "Name: US PORT, dtype: int64\n"
     ]
    }
   ],
   "source": [
    "## Cleaning US port data\n",
    "print(df['US PORT'].value_counts())\n",
    "a14=onehotencoding('US PORT',0,5)"
   ]
  },
  {
   "cell_type": "code",
   "execution_count": 144,
   "metadata": {},
   "outputs": [],
   "source": [
    "## Analyzing Quantity\n",
    "a15=df['QUANTITY']\n",
    "\n",
    "## Standard Scaling the column\n",
    "a15=(df['QUANTITY']-df['QUANTITY'].min())/(df['QUANTITY'].max()-df['QUANTITY'].min())"
   ]
  },
  {
   "cell_type": "code",
   "execution_count": 145,
   "metadata": {},
   "outputs": [
    {
     "name": "stdout",
     "output_type": "stream",
     "text": [
      "PCS    117\n",
      "CTN     24\n",
      "BOX     20\n",
      "CNT     20\n",
      "PKG     17\n",
      "DRM      2\n",
      "CAS      2\n",
      "Name: Q.UNIT, dtype: int64\n"
     ]
    }
   ],
   "source": [
    "## Cleaning Q.Unit\n",
    "print(df['Q.UNIT'].value_counts())\n",
    "a16=onehotencoding('Q.UNIT',0,5)"
   ]
  },
  {
   "cell_type": "code",
   "execution_count": 146,
   "metadata": {},
   "outputs": [
    {
     "name": "stdout",
     "output_type": "stream",
     "text": [
      "0      171\n",
      "1       11\n",
      "53       2\n",
      "99       2\n",
      "98       2\n",
      "25       1\n",
      "34       1\n",
      "36       1\n",
      "46       1\n",
      "48       1\n",
      "231      1\n",
      "58       1\n",
      "210      1\n",
      "66       1\n",
      "70       1\n",
      "92       1\n",
      "122      1\n",
      "157      1\n",
      "64       1\n",
      "Name: MEASUREMENT, dtype: int64\n"
     ]
    }
   ],
   "source": [
    "## We could observe a lot of missing values in the column \"Measurement\". Hence, we remove this column. \n",
    "print(df['MEASUREMENT'].value_counts())\n",
    "del df['MEASUREMENT']"
   ]
  },
  {
   "cell_type": "code",
   "execution_count": 147,
   "metadata": {},
   "outputs": [
    {
     "name": "stdout",
     "output_type": "stream",
     "text": [
      "      158\n",
      "X      22\n",
      "CM     11\n",
      "F      11\n",
      "Name: M.UNIT, dtype: int64\n"
     ]
    }
   ],
   "source": [
    "# There is a lot of missing information in 'M.Unit'. And hence, it is best to have the column removed.\n",
    "print(df['M.UNIT'].value_counts())\n",
    "del df['M.UNIT']"
   ]
  },
  {
   "cell_type": "code",
   "execution_count": 148,
   "metadata": {},
   "outputs": [
    {
     "name": "stdout",
     "output_type": "stream",
     "text": [
      "SAINT VINCENT AND THE GRENADINES    97\n",
      "PANAMA                              30\n",
      "LIBERIA                             23\n",
      "ANTIGUA AND BARBUDA                 12\n",
      "NETHERLANDS                          7\n",
      "UNITED KINGDOM                       6\n",
      "SINGAPORE                            5\n",
      "MALTA                                5\n",
      "MARSHALL ISLANDS                     5\n",
      "NETHERLANDS ANTILLES                 4\n",
      "CYPRUS                               3\n",
      "HONG KONG                            3\n",
      "CHINA                                1\n",
      "GERMANY                              1\n",
      "Name: SHIP REGISTERED IN, dtype: int64\n"
     ]
    }
   ],
   "source": [
    "#Cleaning \"SHIP Registered In\" column\n",
    "\n",
    "print(df['SHIP REGISTERED IN'].value_counts())\n",
    "a19 = onehotencoding('SHIP REGISTERED IN', 0, 5)"
   ]
  },
  {
   "cell_type": "code",
   "execution_count": 149,
   "metadata": {},
   "outputs": [
    {
     "name": "stdout",
     "output_type": "stream",
     "text": [
      "TROPIC OPAL          97\n",
      "CARIBBEAN FANTASY    17\n",
      "TUCANA J             11\n",
      "SPICA                 8\n",
      "AGULHAS STREAM        5\n",
      "KLIPPER STREAM        5\n",
      "CMA CGM TANCREDI      4\n",
      "EVER SIGMA            4\n",
      "TIMOR STREAM          4\n",
      "SEABOARD ATLANTIC     3\n",
      "APL LATVIA            3\n",
      "APL WASHINGTON        3\n",
      "IOULIA                3\n",
      "COSCO TIANJIN         3\n",
      "SEABOARD RANGER       2\n",
      "HYUNDAI COURAGE       2\n",
      "VEGA NIKOLAS          2\n",
      "CSCL PUSAN            2\n",
      "APL BOSTON            2\n",
      "ALEXIA                2\n",
      "EVER ENVOY            2\n",
      "APL ZEEBRUGGE         1\n",
      "EVER STRONG           1\n",
      "BENGUELA STREAM       1\n",
      "HYUNDAI LOYALTY       1\n",
      "APL NEW YORK          1\n",
      "NYK REMUS             1\n",
      "HYUNDAI GOODWILL      1\n",
      "HANJIN VALENCIA       1\n",
      "CONTI ELEKTRA         1\n",
      "HYUNDAI FAITH         1\n",
      "HYUNDAI VOYAGER       1\n",
      "FOUMA                 1\n",
      "RANJAN                1\n",
      "NYK CLARA             1\n",
      "APL NINGBO            1\n",
      "CSAV HOUSTON          1\n",
      "ZIM RIO GRANDE        1\n",
      "FREMANTLE EXPRESS     1\n",
      "Name: VESSEL NAME, dtype: int64\n"
     ]
    }
   ],
   "source": [
    "#Cleaning \"Vessel Name\" column.\n",
    "print(df['VESSEL NAME'].value_counts())\n",
    "a20  = onehotencoding('VESSEL NAME', 0, 6)"
   ]
  },
  {
   "cell_type": "code",
   "execution_count": 150,
   "metadata": {},
   "outputs": [
    {
     "name": "stdout",
     "output_type": "stream",
     "text": [
      "NC                                                                         15\n",
      "CMAU1609207 UESU4822396                                                     4\n",
      "TCLU2428280                                                                 3\n",
      "GLDU5185124                                                                 3\n",
      "CMCU5555584                                                                 2\n",
      "MXPU4853340                                                                 2\n",
      "CAXU8191864                                                                 2\n",
      "PONU1483260 MAEU6218759 MSKU6133876                                         2\n",
      "TCNU9573159                                                                 2\n",
      "LTIU9004963                                                                 2\n",
      "SMLU5450435                                                                 2\n",
      "MOAU0319655                                                                 2\n",
      "MAEU6382248 MRKU0377981 MRKU0771151 MAEU6137359 MSKU6920927 MSKU6118589     2\n",
      "TRIU8356691                                                                 2\n",
      "MSKU6227147 MRKU0678408 MRKU0593580 MSKU6980211 MSKU3370257 MAEU6247079     2\n",
      "GESU9260071                                                                 1\n",
      "TRLU1701620                                                                 1\n",
      "TGHU1319176                                                                 1\n",
      "GESU9392587                                                                 1\n",
      "TRIU8821073                                                                 1\n",
      "TRIU8430377                                                                 1\n",
      "UESU4853479                                                                 1\n",
      "TRIU8369683                                                                 1\n",
      "FCIU8086211                                                                 1\n",
      "TTRU5815694                                                                 1\n",
      "TRIU8811460                                                                 1\n",
      "SMLU5447787                                                                 1\n",
      "TRIU8826080                                                                 1\n",
      "GESU9295859                                                                 1\n",
      "GESU9331067                                                                 1\n",
      "                                                                           ..\n",
      "TRIU8826157                                                                 1\n",
      "TCRU4500180 MXRU4005114 UXXU4513545                                         1\n",
      "GESU9259018                                                                 1\n",
      "TRIU8811100                                                                 1\n",
      "MXPU4852786                                                                 1\n",
      "TRIU8430551                                                                 1\n",
      "GESU9258916                                                                 1\n",
      "PRRU4861487 MXPU4854623                                                     1\n",
      "TRIU8376044                                                                 1\n",
      "SMLU5461105                                                                 1\n",
      "CMCU5550601                                                                 1\n",
      "CMCU5561308                                                                 1\n",
      "SMLU5459849                                                                 1\n",
      "GESU9292588                                                                 1\n",
      "FSCU4977995 FSCU5002670                                                     1\n",
      "GESU9197831                                                                 1\n",
      "TTRU5814152                                                                 1\n",
      "TTRU5812273                                                                 1\n",
      "GESU9202732                                                                 1\n",
      "TRIU8310643                                                                 1\n",
      "GESU9260739                                                                 1\n",
      "CAXU3100877                                                                 1\n",
      "GESU6756561                                                                 1\n",
      "TTRU5814717                                                                 1\n",
      "GESU9260087                                                                 1\n",
      "TRIU8820349                                                                 1\n",
      "TRIU8357430                                                                 1\n",
      "MOFU0761910                                                                 1\n",
      "GESU9259492                                                                 1\n",
      "TTRU5812910                                                                 1\n",
      "Name: CONTAINER NUMBER, Length: 170, dtype: int64\n"
     ]
    }
   ],
   "source": [
    "# Cleaning \"Contaner Number\" column\n",
    "\n",
    "print(df['CONTAINER NUMBER'].value_counts())\n",
    "a21 = onehotencoding('CONTAINER NUMBER',0,4)"
   ]
  },
  {
   "cell_type": "code",
   "execution_count": 151,
   "metadata": {},
   "outputs": [],
   "source": [
    "# Taking the container count column as it is.\n",
    "a22 = df['CONTAINER COUNT']"
   ]
  },
  {
   "cell_type": "markdown",
   "metadata": {},
   "source": [
    "* **Here in the product details column and the marks and numbers column the text data given doesnot have any commas between them and the spacing between the words also is inconsistent.if commas would have been given then i could have related the product details column with the marks and numbers column.Therefore I'm dropping both the columns**"
   ]
  },
  {
   "cell_type": "code",
   "execution_count": 152,
   "metadata": {},
   "outputs": [
    {
     "name": "stdout",
     "output_type": "stream",
     "text": [
      "0      BANANA REPUBLIC MS REVERSIBLE PLAQUE BELT INTE...\n",
      "1              BANANA REPUBLIC MS REVERSIBLE PLAQUE BELT\n",
      "2      LONG SQUASH CHINESE EGGPLANT INDIAN BITTERMELO...\n",
      "3      LONG CHILLI INDIAN BITTERMELON ASH PLANTAIN CO...\n",
      "4      INDIAN EGGPLANT TINDORA BANANA FLOWER CHINESE ...\n",
      "5                                                 BANANA\n",
      "6      DRY COCONUT INDIAN EGGPLANT INDIAN BITTER MELO...\n",
      "7      SMALL GREEN CHILLI SNAKE GOURD HABANERO PEPPER...\n",
      "8      APIO SMALL GREEN CHILLY BANANA FLOWER DOSAKAI ...\n",
      "9      53 PKG CUP, PLASTIC 14OZ CLEAR CUP, PLASTIC 16...\n",
      "10     10 CTN BANANA REPUBLIC M S REVERSIBLE PLAQUE B...\n",
      "11     FROZEN BANANA LEAVES BANANA LEAVES REEFER CONT...\n",
      "12     BXS CONT. BANANA CHIPS FROM DOMINICAN REPUBLIC...\n",
      "13     LONG CHILLI INDIAN BITTERMELON ASH PLANTAIN CO...\n",
      "14     CHINESE EGG PLANTS LONG SQUASH INDIAN BITTER M...\n",
      "15     THAI EGGPLANTS INDIAN EGGPLANT INDIAN BITTERME...\n",
      "16     CHINESE OKRA THAI EGG PLANT SMALL GREEN CHILLY...\n",
      "17                                                BANANA\n",
      "18     LONGSQUASH CHINESE EGGPLANT BANANA FLOWER DRY ...\n",
      "19     1800 BOXES TOMATO SAUCE CRIADA EASY OPEN, 1600...\n",
      "20     1800 BOXES TOMATO SAUCE CRIADA EASY OPEN, 1600...\n",
      "21                      BAGS CONT. COCONUTS TYPE 20 & 25\n",
      "22     BXS CONT. BANANA CHIPS FROM DOMINICAN REPUBLIC...\n",
      "23                                                BANANA\n",
      "24     SNAKE GUARD INDIAN BITTERMELON ALOE VERA AVOCA...\n",
      "25     BANANA FLOWER JAMAICAN PEPPER THAI EGG PLANT B...\n",
      "26     CHINESE OKRA TINDORAS SNAKE GOURD JAMAICAN PEP...\n",
      "27     DRY COCONUTS TINDORA BREAD FRUIT AVOCADOS LONG...\n",
      "28     BXS CONT. SMALL GREEN CHILLY BXS CONT. THAI EG...\n",
      "29     90 BOXES STRAWBERRY BANANA JUICE FAMOSITO, 720...\n",
      "                             ...                        \n",
      "172    BXS CONT. BANANA FLOWER BXS CONT. SMALL GREEN ...\n",
      "173                                               BANANA\n",
      "174                                               BANANA\n",
      "175    BXS CONT. BANANA CHIPS FROM DOMINICAN REPUBLIC...\n",
      "176    CHINESE EGGPLANTS THAI EGGPLANTS THAI CHILLIES...\n",
      "177    LONG SQUASH TINDORA INDIAN EGGPLANT THAI EGGPL...\n",
      "178    LONG CHILLI JACK FRUIT BREAD FRUIT COCONUT CHI...\n",
      "179    DOSAKAI BANANA FLOWER GREEN PAPAYA MARADOL CHI...\n",
      "180                                               BANANA\n",
      "181    BANANA ASH PLANTAIN BREAD FRUIT DRY COCONUTS A...\n",
      "182    BANANA FLOWER INDIAN EGGPLANT CHINESE EGGPLANT...\n",
      "183    CHINESE EGGPLANT THAI EGGPLANT INDIAN EGGPLANT...\n",
      "184    REF CARGO VIZ: FRUITS AN 300 BOXES CHINESSE OK...\n",
      "185    PROMOTIONAL ITEM BANANA REPUBLIC MIRROR BANANA...\n",
      "186    BANANA REPUBLIC MIRROR BANANA REPUBLIC LOGO PL...\n",
      "187    BXS CONT. GREEN PAPAYAS BXS CONT. SMALL GREEN ...\n",
      "188    11 PKG 11PKGS OF CUP HOLDER 12,16OZ BAG, WAFFL...\n",
      "189    9 CTN BANANA REPUBLIC M S REVERSIBLE PLAQUE BE...\n",
      "190    12 CTN BANANA REPUBLIC M S REVERSIBLE PLAQUE E...\n",
      "191    18 CTN BANANA REPUBLIC MEN S BEVERSIBLE PLACO ...\n",
      "192             HABANERO PEPPERS CACHUCHA PEPPERS BANANA\n",
      "193    SMALL CHILLI ALOE VERAS JACK FRUIT CHINESE OKR...\n",
      "194    CHINESE EGGPLANT INDIAN EGGPLANT THAI EGGPLANT...\n",
      "195    BXS CONT. THAI EGG PLANT BXS CONT. CHINESE OKR...\n",
      "196    REF CARGO VIZ: FRUITS AN 385 BOXES CHINESSE OK...\n",
      "197    7 CTN BANANA REPUBLIC M S REVERSIBLE PLAQUE BE...\n",
      "198    BXS CONT. BANANA CHIPS FROM DOMINICAN REPUBLIC...\n",
      "199    BXS CONT. BANANA CHIPS FROM DOMINICAN REPUBLIC...\n",
      "200    BXS CONT. GREEN PAPAYAS BXS CONT. BREAD FRUIT ...\n",
      "201                        FROZEN PROCESSED PLANTAIN . .\n",
      "Name: PRODUCT DETAILS, Length: 202, dtype: object\n"
     ]
    }
   ],
   "source": [
    "#a23\n",
    "#product details \n",
    "print(df['PRODUCT DETAILS'])\n",
    "del df['PRODUCT DETAILS']"
   ]
  },
  {
   "cell_type": "code",
   "execution_count": 153,
   "metadata": {},
   "outputs": [
    {
     "name": "stdout",
     "output_type": "stream",
     "text": [
      "0                        CARTON OF PO NO STYLE CLR SZ NO\n",
      "1                            PO NO SKU ITEM UNIT PREPACK\n",
      "2      TRLU1702267 TRLU1702267 TRLU1702267 TRLU170226...\n",
      "3      GESU9355156 GESU9355156 GESU9355156 GESU935515...\n",
      "4      TRIU8369683 TRIU8369683 TRIU8369683 TRIU836968...\n",
      "5                                            TRIU8811100\n",
      "6      TRIU8376363 TRIU8376363 TRIU8376363 TRIU837636...\n",
      "7      TRLU1704130 TRLU1704130 TRLU1704130 TRLU170413...\n",
      "8      TTRU5816047 TTRU5816047 TTRU5816047 TTRU581604...\n",
      "9      53 PKG CUP, PLASTIC 14OZ CLEAR CUP, PLASTIC 16...\n",
      "10     10 CTN BANANA REPUBLIC M S REVERSIBLE PLAQUE B...\n",
      "11          NO MARKS NO MARKS THE SAME THE SAME THE SAME\n",
      "12     SVC 201301766 NO MARKS NO MARKS NO MARKS NO MA...\n",
      "13     TRLU1695527 TRLU1695527 TRLU1695527 TRLU169552...\n",
      "14     GESU9292886 GESU9292886 GESU9292886 GESU929288...\n",
      "15     TRLU1703387 TRLU1703387 TRLU1703387 TRLU170338...\n",
      "16     TRLU1698300 TRLU1698300 TRLU1698300 TRLU169830...\n",
      "17                                           TRIU8430377\n",
      "18     TTRU3807405 TTRU3807405 TTRU3807405 TTRU380740...\n",
      "19     NO MARKS NO MARKS NO MARKS NO MARKS NO MARKS N...\n",
      "20     NO MARKS NO MARKS NO MARKS NO MARKS NO MARKS N...\n",
      "21                                    TLI0000050000 0333\n",
      "22     TLI 1900000000 2869 NO MARKS NO MARKS NO MARKS...\n",
      "23                                           TRIU8376044\n",
      "24     TRIU8310643 TRIU8310643 TRIU8310643 TRIU831064...\n",
      "25     TRIU8356691 TRIU8356691 TRIU8356691 TRIU835669...\n",
      "26     TRIU8820349 TRIU8820349 TRIU8820349 TRIU882034...\n",
      "27     GESU9260071 GESU9260071 GESU9260071 GESU926007...\n",
      "28     SVC 201302070 NO MARKS NO MARKS NO MARKS NO MA...\n",
      "29          NO MARKS NO MARKS NO MARKS NO MARKS NO MARKS\n",
      "                             ...                        \n",
      "172    SVC 201201156 NO MARKS NO MARKS NO MARKS NO MA...\n",
      "173                                          GESU9198294\n",
      "174                                          FSCU5675840\n",
      "175             SVC 201202794 NO MARKS NO MARKS NO MARKS\n",
      "176    GESU9198191 GESU9198191 GESU9198191 GESU919819...\n",
      "177    GESU9292607 GESU9292607 GESU9292607 GESU929260...\n",
      "178    TTRU5812000 TTRU5812000 TTRU5812000 TTRU581200...\n",
      "179      GESU9259492 GESU9259492 GESU9259492 GESU9259492\n",
      "180                                          GESU9295648\n",
      "181    TRIU8826542 TRIU8826542 TRIU8826542 TRIU882654...\n",
      "182    GESU9294934 GESU9294934 GESU9294934 GESU929493...\n",
      "183    TRIU8826060 TRIU8826060 TRIU8826060 TRIU882606...\n",
      "184    CMCU 5549257 R04392713 DITTO DITTO DITTO DITTO...\n",
      "185    BANANA REPUBLIC LOGO MIRROR P/N 904106 QUANTIT...\n",
      "186    'BANANA REPUBLIC LOGO MIRROR P/N 904106 QUANT ...\n",
      "187             SVC 201201156 NO MARKS NO MARKS NO MARKS\n",
      "188    11 PKG 11PKGS OF CUP HOLDER 12,16OZ BAG, WAFFL...\n",
      "189    9 CTN BANANA REPUBLIC M S REVERSIBLE PLAQUE BE...\n",
      "190    12 CTN BANANA REPUBLIC M S REVERSIBLE PLAQUE E...\n",
      "191    18 CTN BANANA REPUBLIC MEN S BEVERSIBLE PLACO ...\n",
      "192                  GESU9197195 GESU9197195 GESU9197195\n",
      "193    TTRU5814152 TTRU5814152 TTRU5814152 TTRU581415...\n",
      "194    GESU9260087 GESU9260087 GESU9260087 GESU926008...\n",
      "195    SVC 201201156 NO MARKS NO MARKS NO MARKS NO MARKS\n",
      "196    CMCU 5541235 R04330363 DITTO DITTO DITTO DITTO...\n",
      "197    7 CTN BANANA REPUBLIC M S REVERSIBLE PLAQUE BE...\n",
      "198    TLI 1900000000 2660 NO MARKS NO MARKS NO MARKS...\n",
      "199             SVC 201202794 NO MARKS NO MARKS NO MARKS\n",
      "200             SVC 201201156 NO MARKS NO MARKS NO MARKS\n",
      "201    BIG BANANA FDA 19272929532 SET TEMPERATURE -23...\n",
      "Name: MARKS AND NUMBERS, Length: 202, dtype: object\n"
     ]
    }
   ],
   "source": [
    "print(df['MARKS AND NUMBERS'])\n",
    "del df['MARKS AND NUMBERS']"
   ]
  },
  {
   "cell_type": "markdown",
   "metadata": {},
   "source": [
    "* **In this column i have observed that the name of the  few countries are given wrong for example CHINA TAIWAN are mixed together into one country** "
   ]
  },
  {
   "cell_type": "code",
   "execution_count": 154,
   "metadata": {},
   "outputs": [
    {
     "name": "stdout",
     "output_type": "stream",
     "text": [
      "Dominican Republic    151\n",
      "China Taiwan           20\n",
      "United Kingdom         11\n",
      "South Korea             8\n",
      "Hong Kong               5\n",
      "Dominica                4\n",
      "China                   2\n",
      "Jamaica                 1\n",
      "Name: COUNTRY OF ORIGIN, dtype: int64\n"
     ]
    }
   ],
   "source": [
    "print(df['COUNTRY OF ORIGIN'].value_counts())\n",
    "a25 = onehotencoding('COUNTRY OF ORIGIN', 0, 6)"
   ]
  },
  {
   "cell_type": "markdown",
   "metadata": {},
   "source": [
    "* **In distribution port column there are about 141 missing values that is about 70% of the values are missing therefore i didnot consider the missing values while perforing one hot encoding and after the missing values Buffalo-Niagara Falls, New York was only the one with highest frequency so i onehotencoded only that.**"
   ]
  },
  {
   "cell_type": "code",
   "execution_count": 155,
   "metadata": {},
   "outputs": [
    {
     "name": "stdout",
     "output_type": "stream",
     "text": [
      "                                    141\n",
      "Buffalo-Niagara Falls, New York      58\n",
      "Chicago, Illinois                     1\n",
      "Champlain-Rouses Point, New York      1\n",
      "Cincinnati, Ohio                      1\n",
      "Name: DISTRIBUTION PORT, dtype: int64\n"
     ]
    }
   ],
   "source": [
    "#a26\n",
    "print(df['DISTRIBUTION PORT'].value_counts())\n",
    "a26 = onehotencoding('DISTRIBUTION PORT', 1, 2)"
   ]
  },
  {
   "cell_type": "code",
   "execution_count": 156,
   "metadata": {},
   "outputs": [
    {
     "name": "stdout",
     "output_type": "stream",
     "text": [
      "     179\n",
      "M     13\n",
      "H     10\n",
      "Name: HOUSE vs MASTER, dtype: int64\n"
     ]
    }
   ],
   "source": [
    "#a27\n",
    "# since 90% missing, column removed\n",
    "print(df['HOUSE vs MASTER'].value_counts())\n",
    "del df['HOUSE vs MASTER']"
   ]
  },
  {
   "cell_type": "code",
   "execution_count": 157,
   "metadata": {},
   "outputs": [
    {
     "name": "stdout",
     "output_type": "stream",
     "text": [
      "                    192\n",
      "EGLV003302201747      2\n",
      "CMDUHKA1192962        2\n",
      "CHNJTAOCVG000374      1\n",
      "MAEU866936261         1\n",
      "EGLV003301971468      1\n",
      "MOLU13701914255       1\n",
      "MAEU866936276         1\n",
      "MAEU866938943         1\n",
      "Name: MASTER B/L, dtype: int64\n"
     ]
    }
   ],
   "source": [
    "#a28\n",
    "# since >90% missing, column removed\n",
    "print(df['MASTER B/L'].value_counts())\n",
    "del df['MASTER B/L']"
   ]
  },
  {
   "cell_type": "code",
   "execution_count": 158,
   "metadata": {},
   "outputs": [
    {
     "name": "stdout",
     "output_type": "stream",
     "text": [
      "TSCW    97\n",
      "SMLU    20\n",
      "MOLU    19\n",
      "PYRR    17\n",
      "GLEL    15\n",
      "CLAM    11\n",
      "CMDU     4\n",
      "MAEU     4\n",
      "UASI     3\n",
      "EGLV     3\n",
      "HYSL     3\n",
      "OERT     2\n",
      "CHNJ     1\n",
      "EXDO     1\n",
      "ZIMU     1\n",
      "HLCU     1\n",
      "Name: CARRIER CODE, dtype: int64\n"
     ]
    }
   ],
   "source": [
    "#a29\n",
    "print(df['CARRIER CODE'].value_counts())\n",
    "a29 = onehotencoding('CARRIER CODE', 0, 6)"
   ]
  },
  {
   "cell_type": "markdown",
   "metadata": {},
   "source": [
    " *'CARRIER CODE','CARRIER NAME','CARRIER ADDRESS','CARRIER CITY'*\n",
    "* **All the columns mentioned above are 100% correlated to each other therefore i have dropped 3 columns in those 4 columns** "
   ]
  },
  {
   "cell_type": "code",
   "execution_count": 159,
   "metadata": {},
   "outputs": [],
   "source": [
    "#a30, a31, a32 are same as #a29, hence remove them.\n",
    "\n",
    "del df['CARRIER NAME']\n",
    "del df['CARRIER ADDRESS']\n",
    "del df['CARRIER CITY']"
   ]
  },
  {
   "cell_type": "code",
   "execution_count": 160,
   "metadata": {},
   "outputs": [
    {
     "name": "stdout",
     "output_type": "stream",
     "text": [
      "FL    128\n",
      "       48\n",
      "PR     17\n",
      "NJ      4\n",
      "VA      4\n",
      "WA      1\n",
      "Name: CARRIER STATE, dtype: int64\n"
     ]
    }
   ],
   "source": [
    "#a33\n",
    "print(df['CARRIER STATE'].value_counts())\n",
    "cols = ['FL', 'PR', 'VA', 'NJ']\n",
    "all_ = pd.get_dummies(df['CARRIER STATE'])\n",
    "a33 = all_[cols]"
   ]
  },
  {
   "cell_type": "code",
   "execution_count": 161,
   "metadata": {},
   "outputs": [
    {
     "name": "stdout",
     "output_type": "stream",
     "text": [
      "33404-6920    97\n",
      "              48\n",
      "33166         20\n",
      "681           17\n",
      "32203         11\n",
      "07940-0880     4\n",
      "23502          4\n",
      "98104-1190     1\n",
      "Name: CARRIER ZIP, dtype: int64\n"
     ]
    }
   ],
   "source": [
    "#a34\n",
    "df['CARRIER ZIP'] = df['CARRIER ZIP'].apply(lambda x: str(x))\n",
    "print(df['CARRIER ZIP'].value_counts())\n",
    "cols = ['33404-6920', '33166', '681', '32203']\n",
    "all_ = pd.get_dummies(df['CARRIER ZIP'])\n",
    "a34 = all_[cols]"
   ]
  },
  {
   "cell_type": "code",
   "execution_count": 162,
   "metadata": {},
   "outputs": [
    {
     "name": "stdout",
     "output_type": "stream",
     "text": [
      "24773                97\n",
      "SANTO DOMINGO        15\n",
      "RIO HAINA, DR        14\n",
      "KAOHSIUNG - CFS      11\n",
      "PORTSMOUTH GB        10\n",
      "RIO HAINA             9\n",
      "BUSAN - CY            7\n",
      "LA VEGA               5\n",
      "PORTSMOUTH            4\n",
      "HONG KONG             4\n",
      "PUERTO PLATA          4\n",
      "KAOHSIUNG             3\n",
      "KAOHSIUNG, TAIWAN     3\n",
      "KAOHSIUNG, TW         3\n",
      "SANTODOMINGO          2\n",
      "SANTOS                2\n",
      "KWANGYANG - CY        1\n",
      "QINGDAO               1\n",
      "QINGDAO CITY          1\n",
      "CHOLOMA, HONDURAS     1\n",
      "PORTHSMOUTH GB        1\n",
      "GUAYAQUIL             1\n",
      "LA VEGA, D.R.         1\n",
      "GENERAL SANTOS CI     1\n",
      "GENERAL SANTOS        1\n",
      "Name: PLACE OF RECEIPT, dtype: int64\n"
     ]
    }
   ],
   "source": [
    "#a35\n",
    "print(df['PLACE OF RECEIPT'].value_counts())\n",
    "a35 = onehotencoding('PLACE OF RECEIPT',0,7)"
   ]
  },
  {
   "cell_type": "markdown",
   "metadata": {},
   "source": [
    "**Now Im concatinating all the cleaned columns into one dataframe and removing highly correlated features**  "
   ]
  },
  {
   "cell_type": "code",
   "execution_count": 163,
   "metadata": {},
   "outputs": [],
   "source": [
    "x_concat=pd.concat([a1,a2,a3,a4,a5,a6,a7,a9,a11,a13,a14,a15,a16,a19,a20,a21,a22,a25,a26,a29,a33,a34,a35],1)\n",
    "x_concat.fillna(0,inplace=True)\n",
    "yy=x_concat.corr().abs()\n",
    "imp1=cleaning(yy,x_concat)"
   ]
  },
  {
   "cell_type": "code",
   "execution_count": 164,
   "metadata": {},
   "outputs": [
    {
     "data": {
      "text/html": [
       "<div>\n",
       "<style scoped>\n",
       "    .dataframe tbody tr th:only-of-type {\n",
       "        vertical-align: middle;\n",
       "    }\n",
       "\n",
       "    .dataframe tbody tr th {\n",
       "        vertical-align: top;\n",
       "    }\n",
       "\n",
       "    .dataframe thead th {\n",
       "        text-align: right;\n",
       "    }\n",
       "</style>\n",
       "<table border=\"1\" class=\"dataframe\">\n",
       "  <thead>\n",
       "    <tr style=\"text-align: right;\">\n",
       "      <th></th>\n",
       "      <th>LAS ANTILLAS EXPORT Y/O PEDRO RESTI</th>\n",
       "      <th>-NOT AVAILABLE-</th>\n",
       "      <th>EXPORTADORA DE FRUTOS Y VEGETALES L</th>\n",
       "      <th>DINU-S &amp; COMPANY</th>\n",
       "      <th>EXPORTADORA DE FRUTOS Y VEGETABLES</th>\n",
       "      <th>PRODUCTOS DEL TROPICO, C X A</th>\n",
       "      <th>ANTONIO R. TAVERAS AGROINDUSTRIAL S</th>\n",
       "      <th>ANTILLIAN FOODS</th>\n",
       "      <th>EXOTICOS ORIENTALES, SRL</th>\n",
       "      <th>EXPORTADORA GARABITO</th>\n",
       "      <th>...</th>\n",
       "      <th>33166</th>\n",
       "      <th>681</th>\n",
       "      <th>32203</th>\n",
       "      <th>24773</th>\n",
       "      <th>SANTO DOMINGO</th>\n",
       "      <th>RIO HAINA, DR</th>\n",
       "      <th>KAOHSIUNG - CFS</th>\n",
       "      <th>PORTSMOUTH GB</th>\n",
       "      <th>RIO HAINA</th>\n",
       "      <th>BUSAN - CY</th>\n",
       "    </tr>\n",
       "  </thead>\n",
       "  <tbody>\n",
       "    <tr>\n",
       "      <th>LAS ANTILLAS EXPORT Y/O PEDRO RESTI</th>\n",
       "      <td>1.000000</td>\n",
       "      <td>0.114848</td>\n",
       "      <td>0.111310</td>\n",
       "      <td>0.100203</td>\n",
       "      <td>0.100203</td>\n",
       "      <td>0.096302</td>\n",
       "      <td>0.088120</td>\n",
       "      <td>0.083800</td>\n",
       "      <td>0.083800</td>\n",
       "      <td>0.074566</td>\n",
       "      <td>...</td>\n",
       "      <td>0.121724</td>\n",
       "      <td>0.111310</td>\n",
       "      <td>0.088120</td>\n",
       "      <td>0.382036</td>\n",
       "      <td>0.103997</td>\n",
       "      <td>0.100203</td>\n",
       "      <td>0.088120</td>\n",
       "      <td>0.083800</td>\n",
       "      <td>0.079294</td>\n",
       "      <td>0.069571</td>\n",
       "    </tr>\n",
       "    <tr>\n",
       "      <th>-NOT AVAILABLE-</th>\n",
       "      <td>0.114848</td>\n",
       "      <td>1.000000</td>\n",
       "      <td>0.094813</td>\n",
       "      <td>0.085352</td>\n",
       "      <td>0.085352</td>\n",
       "      <td>0.082029</td>\n",
       "      <td>0.075060</td>\n",
       "      <td>0.071380</td>\n",
       "      <td>0.071380</td>\n",
       "      <td>0.063514</td>\n",
       "      <td>...</td>\n",
       "      <td>0.045505</td>\n",
       "      <td>0.094813</td>\n",
       "      <td>0.075060</td>\n",
       "      <td>0.300620</td>\n",
       "      <td>0.088583</td>\n",
       "      <td>0.085352</td>\n",
       "      <td>0.767277</td>\n",
       "      <td>0.071380</td>\n",
       "      <td>0.067541</td>\n",
       "      <td>0.059260</td>\n",
       "    </tr>\n",
       "    <tr>\n",
       "      <th>EXPORTADORA DE FRUTOS Y VEGETALES L</th>\n",
       "      <td>0.111310</td>\n",
       "      <td>0.094813</td>\n",
       "      <td>1.000000</td>\n",
       "      <td>0.082723</td>\n",
       "      <td>0.082723</td>\n",
       "      <td>0.079502</td>\n",
       "      <td>0.072748</td>\n",
       "      <td>0.069181</td>\n",
       "      <td>0.069181</td>\n",
       "      <td>0.061558</td>\n",
       "      <td>...</td>\n",
       "      <td>0.100489</td>\n",
       "      <td>0.091892</td>\n",
       "      <td>0.072748</td>\n",
       "      <td>0.315390</td>\n",
       "      <td>0.085855</td>\n",
       "      <td>0.082723</td>\n",
       "      <td>0.072748</td>\n",
       "      <td>0.069181</td>\n",
       "      <td>0.065461</td>\n",
       "      <td>0.057434</td>\n",
       "    </tr>\n",
       "    <tr>\n",
       "      <th>DINU-S &amp; COMPANY</th>\n",
       "      <td>0.100203</td>\n",
       "      <td>0.085352</td>\n",
       "      <td>0.082723</td>\n",
       "      <td>1.000000</td>\n",
       "      <td>0.074468</td>\n",
       "      <td>0.071569</td>\n",
       "      <td>0.065488</td>\n",
       "      <td>0.062278</td>\n",
       "      <td>0.062278</td>\n",
       "      <td>0.055415</td>\n",
       "      <td>...</td>\n",
       "      <td>0.090462</td>\n",
       "      <td>0.082723</td>\n",
       "      <td>0.065488</td>\n",
       "      <td>0.283919</td>\n",
       "      <td>0.077288</td>\n",
       "      <td>0.074468</td>\n",
       "      <td>0.065488</td>\n",
       "      <td>0.062278</td>\n",
       "      <td>0.058929</td>\n",
       "      <td>0.051703</td>\n",
       "    </tr>\n",
       "    <tr>\n",
       "      <th>EXPORTADORA DE FRUTOS Y VEGETABLES</th>\n",
       "      <td>0.100203</td>\n",
       "      <td>0.085352</td>\n",
       "      <td>0.082723</td>\n",
       "      <td>0.074468</td>\n",
       "      <td>1.000000</td>\n",
       "      <td>0.071569</td>\n",
       "      <td>0.065488</td>\n",
       "      <td>0.062278</td>\n",
       "      <td>0.062278</td>\n",
       "      <td>0.055415</td>\n",
       "      <td>...</td>\n",
       "      <td>0.090462</td>\n",
       "      <td>0.082723</td>\n",
       "      <td>0.065488</td>\n",
       "      <td>0.283919</td>\n",
       "      <td>0.077288</td>\n",
       "      <td>0.074468</td>\n",
       "      <td>0.065488</td>\n",
       "      <td>0.062278</td>\n",
       "      <td>0.058929</td>\n",
       "      <td>0.051703</td>\n",
       "    </tr>\n",
       "    <tr>\n",
       "      <th>PRODUCTOS DEL TROPICO, C X A</th>\n",
       "      <td>0.096302</td>\n",
       "      <td>0.082029</td>\n",
       "      <td>0.079502</td>\n",
       "      <td>0.071569</td>\n",
       "      <td>0.071569</td>\n",
       "      <td>1.000000</td>\n",
       "      <td>0.062939</td>\n",
       "      <td>0.059854</td>\n",
       "      <td>0.059854</td>\n",
       "      <td>0.053258</td>\n",
       "      <td>...</td>\n",
       "      <td>0.086940</td>\n",
       "      <td>0.865171</td>\n",
       "      <td>0.062939</td>\n",
       "      <td>0.252076</td>\n",
       "      <td>0.926011</td>\n",
       "      <td>0.071569</td>\n",
       "      <td>0.062939</td>\n",
       "      <td>0.059854</td>\n",
       "      <td>0.056635</td>\n",
       "      <td>0.049690</td>\n",
       "    </tr>\n",
       "    <tr>\n",
       "      <th>ANTONIO R. TAVERAS AGROINDUSTRIAL S</th>\n",
       "      <td>0.088120</td>\n",
       "      <td>0.075060</td>\n",
       "      <td>0.072748</td>\n",
       "      <td>0.065488</td>\n",
       "      <td>0.065488</td>\n",
       "      <td>0.062939</td>\n",
       "      <td>1.000000</td>\n",
       "      <td>0.054768</td>\n",
       "      <td>0.054768</td>\n",
       "      <td>0.048733</td>\n",
       "      <td>...</td>\n",
       "      <td>0.079553</td>\n",
       "      <td>0.072748</td>\n",
       "      <td>1.000000</td>\n",
       "      <td>0.230659</td>\n",
       "      <td>0.067968</td>\n",
       "      <td>0.879416</td>\n",
       "      <td>0.057592</td>\n",
       "      <td>0.054768</td>\n",
       "      <td>0.051823</td>\n",
       "      <td>0.045469</td>\n",
       "    </tr>\n",
       "    <tr>\n",
       "      <th>ANTILLIAN FOODS</th>\n",
       "      <td>0.083800</td>\n",
       "      <td>0.071380</td>\n",
       "      <td>0.069181</td>\n",
       "      <td>0.062278</td>\n",
       "      <td>0.062278</td>\n",
       "      <td>0.059854</td>\n",
       "      <td>0.054768</td>\n",
       "      <td>1.000000</td>\n",
       "      <td>0.052083</td>\n",
       "      <td>0.046344</td>\n",
       "      <td>...</td>\n",
       "      <td>0.688446</td>\n",
       "      <td>0.069181</td>\n",
       "      <td>0.054768</td>\n",
       "      <td>0.219351</td>\n",
       "      <td>0.064636</td>\n",
       "      <td>0.062278</td>\n",
       "      <td>0.054768</td>\n",
       "      <td>0.052083</td>\n",
       "      <td>0.724999</td>\n",
       "      <td>0.043240</td>\n",
       "    </tr>\n",
       "    <tr>\n",
       "      <th>EXOTICOS ORIENTALES, SRL</th>\n",
       "      <td>0.083800</td>\n",
       "      <td>0.071380</td>\n",
       "      <td>0.069181</td>\n",
       "      <td>0.062278</td>\n",
       "      <td>0.062278</td>\n",
       "      <td>0.059854</td>\n",
       "      <td>0.054768</td>\n",
       "      <td>0.052083</td>\n",
       "      <td>1.000000</td>\n",
       "      <td>0.046344</td>\n",
       "      <td>...</td>\n",
       "      <td>0.075653</td>\n",
       "      <td>0.069181</td>\n",
       "      <td>0.054768</td>\n",
       "      <td>0.237442</td>\n",
       "      <td>0.064636</td>\n",
       "      <td>0.062278</td>\n",
       "      <td>0.054768</td>\n",
       "      <td>0.052083</td>\n",
       "      <td>0.049282</td>\n",
       "      <td>0.043240</td>\n",
       "    </tr>\n",
       "    <tr>\n",
       "      <th>EXPORTADORA GARABITO</th>\n",
       "      <td>0.074566</td>\n",
       "      <td>0.063514</td>\n",
       "      <td>0.061558</td>\n",
       "      <td>0.055415</td>\n",
       "      <td>0.055415</td>\n",
       "      <td>0.053258</td>\n",
       "      <td>0.048733</td>\n",
       "      <td>0.046344</td>\n",
       "      <td>0.046344</td>\n",
       "      <td>1.000000</td>\n",
       "      <td>...</td>\n",
       "      <td>0.067317</td>\n",
       "      <td>0.061558</td>\n",
       "      <td>0.048733</td>\n",
       "      <td>0.211277</td>\n",
       "      <td>0.057513</td>\n",
       "      <td>0.055415</td>\n",
       "      <td>0.048733</td>\n",
       "      <td>0.046344</td>\n",
       "      <td>0.043852</td>\n",
       "      <td>0.038475</td>\n",
       "    </tr>\n",
       "    <tr>\n",
       "      <th>CHORUS LOGISTICS CO., LTD.</th>\n",
       "      <td>0.064246</td>\n",
       "      <td>0.054724</td>\n",
       "      <td>0.053038</td>\n",
       "      <td>0.047746</td>\n",
       "      <td>0.047746</td>\n",
       "      <td>0.045887</td>\n",
       "      <td>0.041988</td>\n",
       "      <td>0.039930</td>\n",
       "      <td>0.039930</td>\n",
       "      <td>0.035530</td>\n",
       "      <td>...</td>\n",
       "      <td>0.058000</td>\n",
       "      <td>0.053038</td>\n",
       "      <td>0.041988</td>\n",
       "      <td>0.168166</td>\n",
       "      <td>0.049553</td>\n",
       "      <td>0.047746</td>\n",
       "      <td>0.041988</td>\n",
       "      <td>0.039930</td>\n",
       "      <td>0.037782</td>\n",
       "      <td>0.923455</td>\n",
       "    </tr>\n",
       "    <tr>\n",
       "      <th>WINFRESH LTD</th>\n",
       "      <td>0.064246</td>\n",
       "      <td>0.054724</td>\n",
       "      <td>0.053038</td>\n",
       "      <td>0.047746</td>\n",
       "      <td>0.047746</td>\n",
       "      <td>0.045887</td>\n",
       "      <td>0.041988</td>\n",
       "      <td>0.039930</td>\n",
       "      <td>0.039930</td>\n",
       "      <td>0.035530</td>\n",
       "      <td>...</td>\n",
       "      <td>0.058000</td>\n",
       "      <td>0.053038</td>\n",
       "      <td>0.041988</td>\n",
       "      <td>0.168166</td>\n",
       "      <td>0.049553</td>\n",
       "      <td>0.047746</td>\n",
       "      <td>0.041988</td>\n",
       "      <td>0.766652</td>\n",
       "      <td>0.037782</td>\n",
       "      <td>0.033150</td>\n",
       "    </tr>\n",
       "    <tr>\n",
       "      <th>SABANETA KM 5 1/2</th>\n",
       "      <td>1.000000</td>\n",
       "      <td>0.114848</td>\n",
       "      <td>0.111310</td>\n",
       "      <td>0.100203</td>\n",
       "      <td>0.100203</td>\n",
       "      <td>0.096302</td>\n",
       "      <td>0.088120</td>\n",
       "      <td>0.083800</td>\n",
       "      <td>0.083800</td>\n",
       "      <td>0.074566</td>\n",
       "      <td>...</td>\n",
       "      <td>0.121724</td>\n",
       "      <td>0.111310</td>\n",
       "      <td>0.088120</td>\n",
       "      <td>0.382036</td>\n",
       "      <td>0.103997</td>\n",
       "      <td>0.100203</td>\n",
       "      <td>0.088120</td>\n",
       "      <td>0.083800</td>\n",
       "      <td>0.079294</td>\n",
       "      <td>0.069571</td>\n",
       "    </tr>\n",
       "    <tr>\n",
       "      <th></th>\n",
       "      <td>0.114848</td>\n",
       "      <td>1.000000</td>\n",
       "      <td>0.094813</td>\n",
       "      <td>0.085352</td>\n",
       "      <td>0.085352</td>\n",
       "      <td>0.082029</td>\n",
       "      <td>0.075060</td>\n",
       "      <td>0.071380</td>\n",
       "      <td>0.071380</td>\n",
       "      <td>0.063514</td>\n",
       "      <td>...</td>\n",
       "      <td>0.045505</td>\n",
       "      <td>0.094813</td>\n",
       "      <td>0.075060</td>\n",
       "      <td>0.300620</td>\n",
       "      <td>0.088583</td>\n",
       "      <td>0.085352</td>\n",
       "      <td>0.767277</td>\n",
       "      <td>0.071380</td>\n",
       "      <td>0.067541</td>\n",
       "      <td>0.059260</td>\n",
       "    </tr>\n",
       "    <tr>\n",
       "      <th>ENTRADA DE LAS CABUYAS</th>\n",
       "      <td>0.111310</td>\n",
       "      <td>0.094813</td>\n",
       "      <td>0.091892</td>\n",
       "      <td>0.082723</td>\n",
       "      <td>0.900216</td>\n",
       "      <td>0.079502</td>\n",
       "      <td>0.072748</td>\n",
       "      <td>0.069181</td>\n",
       "      <td>0.069181</td>\n",
       "      <td>0.061558</td>\n",
       "      <td>...</td>\n",
       "      <td>0.100489</td>\n",
       "      <td>0.091892</td>\n",
       "      <td>0.072748</td>\n",
       "      <td>0.315390</td>\n",
       "      <td>0.085855</td>\n",
       "      <td>0.082723</td>\n",
       "      <td>0.072748</td>\n",
       "      <td>0.069181</td>\n",
       "      <td>0.065461</td>\n",
       "      <td>0.057434</td>\n",
       "    </tr>\n",
       "    <tr>\n",
       "      <th>ALTO DEL YAQUE ARRIBA #40</th>\n",
       "      <td>0.111310</td>\n",
       "      <td>0.094813</td>\n",
       "      <td>1.000000</td>\n",
       "      <td>0.082723</td>\n",
       "      <td>0.082723</td>\n",
       "      <td>0.079502</td>\n",
       "      <td>0.072748</td>\n",
       "      <td>0.069181</td>\n",
       "      <td>0.069181</td>\n",
       "      <td>0.061558</td>\n",
       "      <td>...</td>\n",
       "      <td>0.100489</td>\n",
       "      <td>0.091892</td>\n",
       "      <td>0.072748</td>\n",
       "      <td>0.315390</td>\n",
       "      <td>0.085855</td>\n",
       "      <td>0.082723</td>\n",
       "      <td>0.072748</td>\n",
       "      <td>0.069181</td>\n",
       "      <td>0.065461</td>\n",
       "      <td>0.057434</td>\n",
       "    </tr>\n",
       "    <tr>\n",
       "      <th>CARR SANCHEZ KM 28 MADRE VIEJA SAN CRISTOBAL DO</th>\n",
       "      <td>0.103997</td>\n",
       "      <td>0.088583</td>\n",
       "      <td>0.085855</td>\n",
       "      <td>0.077288</td>\n",
       "      <td>0.077288</td>\n",
       "      <td>0.772120</td>\n",
       "      <td>0.067968</td>\n",
       "      <td>0.064636</td>\n",
       "      <td>0.064636</td>\n",
       "      <td>0.057513</td>\n",
       "      <td>...</td>\n",
       "      <td>0.093887</td>\n",
       "      <td>0.934300</td>\n",
       "      <td>0.067968</td>\n",
       "      <td>0.272218</td>\n",
       "      <td>0.855971</td>\n",
       "      <td>0.077288</td>\n",
       "      <td>0.067968</td>\n",
       "      <td>0.064636</td>\n",
       "      <td>0.061160</td>\n",
       "      <td>0.053661</td>\n",
       "    </tr>\n",
       "    <tr>\n",
       "      <th>1, CARRETERA JAMO, LOS RIELES</th>\n",
       "      <td>0.100203</td>\n",
       "      <td>0.085352</td>\n",
       "      <td>0.082723</td>\n",
       "      <td>1.000000</td>\n",
       "      <td>0.074468</td>\n",
       "      <td>0.071569</td>\n",
       "      <td>0.065488</td>\n",
       "      <td>0.062278</td>\n",
       "      <td>0.062278</td>\n",
       "      <td>0.055415</td>\n",
       "      <td>...</td>\n",
       "      <td>0.090462</td>\n",
       "      <td>0.082723</td>\n",
       "      <td>0.065488</td>\n",
       "      <td>0.283919</td>\n",
       "      <td>0.077288</td>\n",
       "      <td>0.074468</td>\n",
       "      <td>0.065488</td>\n",
       "      <td>0.062278</td>\n",
       "      <td>0.058929</td>\n",
       "      <td>0.051703</td>\n",
       "    </tr>\n",
       "    <tr>\n",
       "      <th>CARR MAO GUAYUBIN KM 23 CANA CHAPETON GUAYUBIN MONTECRISTI,REPUBLICA DOMINICANA DOM</th>\n",
       "      <td>0.083800</td>\n",
       "      <td>0.071380</td>\n",
       "      <td>0.069181</td>\n",
       "      <td>0.062278</td>\n",
       "      <td>0.062278</td>\n",
       "      <td>0.059854</td>\n",
       "      <td>0.054768</td>\n",
       "      <td>1.000000</td>\n",
       "      <td>0.052083</td>\n",
       "      <td>0.046344</td>\n",
       "      <td>...</td>\n",
       "      <td>0.688446</td>\n",
       "      <td>0.069181</td>\n",
       "      <td>0.054768</td>\n",
       "      <td>0.219351</td>\n",
       "      <td>0.064636</td>\n",
       "      <td>0.062278</td>\n",
       "      <td>0.054768</td>\n",
       "      <td>0.052083</td>\n",
       "      <td>0.724999</td>\n",
       "      <td>0.043240</td>\n",
       "    </tr>\n",
       "    <tr>\n",
       "      <th>CARRETERA SABANETA KM 7.5</th>\n",
       "      <td>0.083800</td>\n",
       "      <td>0.071380</td>\n",
       "      <td>0.069181</td>\n",
       "      <td>0.062278</td>\n",
       "      <td>0.062278</td>\n",
       "      <td>0.059854</td>\n",
       "      <td>0.054768</td>\n",
       "      <td>0.052083</td>\n",
       "      <td>1.000000</td>\n",
       "      <td>0.046344</td>\n",
       "      <td>...</td>\n",
       "      <td>0.075653</td>\n",
       "      <td>0.069181</td>\n",
       "      <td>0.054768</td>\n",
       "      <td>0.237442</td>\n",
       "      <td>0.064636</td>\n",
       "      <td>0.062278</td>\n",
       "      <td>0.054768</td>\n",
       "      <td>0.052083</td>\n",
       "      <td>0.049282</td>\n",
       "      <td>0.043240</td>\n",
       "    </tr>\n",
       "    <tr>\n",
       "      <th>CARR. DUARTE KM4 ESTANCIA NUEVA MOC ESPAILLAT DO</th>\n",
       "      <td>0.074566</td>\n",
       "      <td>0.063514</td>\n",
       "      <td>0.061558</td>\n",
       "      <td>0.055415</td>\n",
       "      <td>0.055415</td>\n",
       "      <td>0.053258</td>\n",
       "      <td>0.846183</td>\n",
       "      <td>0.046344</td>\n",
       "      <td>0.046344</td>\n",
       "      <td>0.041237</td>\n",
       "      <td>...</td>\n",
       "      <td>0.067317</td>\n",
       "      <td>0.061558</td>\n",
       "      <td>0.846183</td>\n",
       "      <td>0.195180</td>\n",
       "      <td>0.057513</td>\n",
       "      <td>0.744148</td>\n",
       "      <td>0.048733</td>\n",
       "      <td>0.046344</td>\n",
       "      <td>0.043852</td>\n",
       "      <td>0.038475</td>\n",
       "    </tr>\n",
       "    <tr>\n",
       "      <th>CALLE PRIMERA CAMBITA CLARABITO</th>\n",
       "      <td>0.074566</td>\n",
       "      <td>0.063514</td>\n",
       "      <td>0.061558</td>\n",
       "      <td>0.055415</td>\n",
       "      <td>0.055415</td>\n",
       "      <td>0.053258</td>\n",
       "      <td>0.048733</td>\n",
       "      <td>0.046344</td>\n",
       "      <td>0.046344</td>\n",
       "      <td>1.000000</td>\n",
       "      <td>...</td>\n",
       "      <td>0.067317</td>\n",
       "      <td>0.061558</td>\n",
       "      <td>0.048733</td>\n",
       "      <td>0.211277</td>\n",
       "      <td>0.057513</td>\n",
       "      <td>0.055415</td>\n",
       "      <td>0.048733</td>\n",
       "      <td>0.046344</td>\n",
       "      <td>0.043852</td>\n",
       "      <td>0.038475</td>\n",
       "    </tr>\n",
       "    <tr>\n",
       "      <th>SMS PRODUCE INC</th>\n",
       "      <td>0.338015</td>\n",
       "      <td>0.114848</td>\n",
       "      <td>0.111310</td>\n",
       "      <td>0.743172</td>\n",
       "      <td>0.100203</td>\n",
       "      <td>0.096302</td>\n",
       "      <td>0.088120</td>\n",
       "      <td>0.083800</td>\n",
       "      <td>0.083800</td>\n",
       "      <td>0.074566</td>\n",
       "      <td>...</td>\n",
       "      <td>0.121724</td>\n",
       "      <td>0.111310</td>\n",
       "      <td>0.088120</td>\n",
       "      <td>0.382036</td>\n",
       "      <td>0.103997</td>\n",
       "      <td>0.100203</td>\n",
       "      <td>0.088120</td>\n",
       "      <td>0.083800</td>\n",
       "      <td>0.079294</td>\n",
       "      <td>0.069571</td>\n",
       "    </tr>\n",
       "    <tr>\n",
       "      <th>YALINI ENTERPRISES INC</th>\n",
       "      <td>0.114848</td>\n",
       "      <td>0.097826</td>\n",
       "      <td>0.094813</td>\n",
       "      <td>0.085352</td>\n",
       "      <td>0.804068</td>\n",
       "      <td>0.082029</td>\n",
       "      <td>0.075060</td>\n",
       "      <td>0.071380</td>\n",
       "      <td>0.071380</td>\n",
       "      <td>0.063514</td>\n",
       "      <td>...</td>\n",
       "      <td>0.103683</td>\n",
       "      <td>0.094813</td>\n",
       "      <td>0.075060</td>\n",
       "      <td>0.325414</td>\n",
       "      <td>0.088583</td>\n",
       "      <td>0.085352</td>\n",
       "      <td>0.075060</td>\n",
       "      <td>0.071380</td>\n",
       "      <td>0.067541</td>\n",
       "      <td>0.059260</td>\n",
       "    </tr>\n",
       "    <tr>\n",
       "      <th>EMPRESAS LA FAMOSA, INC.</th>\n",
       "      <td>0.107696</td>\n",
       "      <td>0.091734</td>\n",
       "      <td>0.088908</td>\n",
       "      <td>0.080037</td>\n",
       "      <td>0.080037</td>\n",
       "      <td>0.819503</td>\n",
       "      <td>0.070385</td>\n",
       "      <td>0.066935</td>\n",
       "      <td>0.066935</td>\n",
       "      <td>0.059559</td>\n",
       "      <td>...</td>\n",
       "      <td>0.097226</td>\n",
       "      <td>0.967531</td>\n",
       "      <td>0.070385</td>\n",
       "      <td>0.281900</td>\n",
       "      <td>0.895739</td>\n",
       "      <td>0.080037</td>\n",
       "      <td>0.070385</td>\n",
       "      <td>0.066935</td>\n",
       "      <td>0.063335</td>\n",
       "      <td>0.055569</td>\n",
       "    </tr>\n",
       "    <tr>\n",
       "      <th>ACROPOLLYS TRADING CORP</th>\n",
       "      <td>0.107696</td>\n",
       "      <td>0.091734</td>\n",
       "      <td>0.967531</td>\n",
       "      <td>0.080037</td>\n",
       "      <td>0.080037</td>\n",
       "      <td>0.076921</td>\n",
       "      <td>0.070385</td>\n",
       "      <td>0.066935</td>\n",
       "      <td>0.066935</td>\n",
       "      <td>0.059559</td>\n",
       "      <td>...</td>\n",
       "      <td>0.097226</td>\n",
       "      <td>0.088908</td>\n",
       "      <td>0.070385</td>\n",
       "      <td>0.305149</td>\n",
       "      <td>0.083067</td>\n",
       "      <td>0.080037</td>\n",
       "      <td>0.070385</td>\n",
       "      <td>0.066935</td>\n",
       "      <td>0.063335</td>\n",
       "      <td>0.055569</td>\n",
       "    </tr>\n",
       "    <tr>\n",
       "      <th>-NOT AVAILABLE-</th>\n",
       "      <td>0.107696</td>\n",
       "      <td>0.937726</td>\n",
       "      <td>0.088908</td>\n",
       "      <td>0.080037</td>\n",
       "      <td>0.080037</td>\n",
       "      <td>0.076921</td>\n",
       "      <td>0.070385</td>\n",
       "      <td>0.066935</td>\n",
       "      <td>0.066935</td>\n",
       "      <td>0.059559</td>\n",
       "      <td>...</td>\n",
       "      <td>0.035852</td>\n",
       "      <td>0.088908</td>\n",
       "      <td>0.070385</td>\n",
       "      <td>0.281900</td>\n",
       "      <td>0.083067</td>\n",
       "      <td>0.080037</td>\n",
       "      <td>0.818231</td>\n",
       "      <td>0.066935</td>\n",
       "      <td>0.063335</td>\n",
       "      <td>0.055569</td>\n",
       "    </tr>\n",
       "    <tr>\n",
       "      <th>SUNDINE PRODUCE, INC</th>\n",
       "      <td>0.712957</td>\n",
       "      <td>0.088583</td>\n",
       "      <td>0.085855</td>\n",
       "      <td>0.077288</td>\n",
       "      <td>0.077288</td>\n",
       "      <td>0.074279</td>\n",
       "      <td>0.067968</td>\n",
       "      <td>0.064636</td>\n",
       "      <td>0.064636</td>\n",
       "      <td>0.057513</td>\n",
       "      <td>...</td>\n",
       "      <td>0.093887</td>\n",
       "      <td>0.085855</td>\n",
       "      <td>0.067968</td>\n",
       "      <td>0.294668</td>\n",
       "      <td>0.080214</td>\n",
       "      <td>0.077288</td>\n",
       "      <td>0.067968</td>\n",
       "      <td>0.064636</td>\n",
       "      <td>0.061160</td>\n",
       "      <td>0.053661</td>\n",
       "    </tr>\n",
       "    <tr>\n",
       "      <th>JALARAN PRODUCE INC OR MAHENDRA</th>\n",
       "      <td>0.088120</td>\n",
       "      <td>0.075060</td>\n",
       "      <td>0.072748</td>\n",
       "      <td>0.065488</td>\n",
       "      <td>0.065488</td>\n",
       "      <td>0.062939</td>\n",
       "      <td>1.000000</td>\n",
       "      <td>0.054768</td>\n",
       "      <td>0.054768</td>\n",
       "      <td>0.048733</td>\n",
       "      <td>...</td>\n",
       "      <td>0.079553</td>\n",
       "      <td>0.072748</td>\n",
       "      <td>1.000000</td>\n",
       "      <td>0.230659</td>\n",
       "      <td>0.067968</td>\n",
       "      <td>0.879416</td>\n",
       "      <td>0.057592</td>\n",
       "      <td>0.054768</td>\n",
       "      <td>0.051823</td>\n",
       "      <td>0.045469</td>\n",
       "    </tr>\n",
       "    <tr>\n",
       "      <th>YUMMY-S WORLD TRADING</th>\n",
       "      <td>0.083800</td>\n",
       "      <td>0.071380</td>\n",
       "      <td>0.069181</td>\n",
       "      <td>0.062278</td>\n",
       "      <td>0.062278</td>\n",
       "      <td>0.059854</td>\n",
       "      <td>0.054768</td>\n",
       "      <td>0.052083</td>\n",
       "      <td>0.052083</td>\n",
       "      <td>0.889805</td>\n",
       "      <td>...</td>\n",
       "      <td>0.075653</td>\n",
       "      <td>0.069181</td>\n",
       "      <td>0.054768</td>\n",
       "      <td>0.237442</td>\n",
       "      <td>0.064636</td>\n",
       "      <td>0.062278</td>\n",
       "      <td>0.054768</td>\n",
       "      <td>0.052083</td>\n",
       "      <td>0.049282</td>\n",
       "      <td>0.043240</td>\n",
       "    </tr>\n",
       "    <tr>\n",
       "      <th>...</th>\n",
       "      <td>...</td>\n",
       "      <td>...</td>\n",
       "      <td>...</td>\n",
       "      <td>...</td>\n",
       "      <td>...</td>\n",
       "      <td>...</td>\n",
       "      <td>...</td>\n",
       "      <td>...</td>\n",
       "      <td>...</td>\n",
       "      <td>...</td>\n",
       "      <td>...</td>\n",
       "      <td>...</td>\n",
       "      <td>...</td>\n",
       "      <td>...</td>\n",
       "      <td>...</td>\n",
       "      <td>...</td>\n",
       "      <td>...</td>\n",
       "      <td>...</td>\n",
       "      <td>...</td>\n",
       "      <td>...</td>\n",
       "      <td>...</td>\n",
       "    </tr>\n",
       "    <tr>\n",
       "      <th>GLDU5185124</th>\n",
       "      <td>0.045085</td>\n",
       "      <td>0.392561</td>\n",
       "      <td>0.037220</td>\n",
       "      <td>0.033506</td>\n",
       "      <td>0.033506</td>\n",
       "      <td>0.032201</td>\n",
       "      <td>0.029465</td>\n",
       "      <td>0.028021</td>\n",
       "      <td>0.028021</td>\n",
       "      <td>0.024933</td>\n",
       "      <td>...</td>\n",
       "      <td>0.040702</td>\n",
       "      <td>0.037220</td>\n",
       "      <td>0.029465</td>\n",
       "      <td>0.118012</td>\n",
       "      <td>0.034774</td>\n",
       "      <td>0.033506</td>\n",
       "      <td>0.511628</td>\n",
       "      <td>0.028021</td>\n",
       "      <td>0.026514</td>\n",
       "      <td>0.023263</td>\n",
       "    </tr>\n",
       "    <tr>\n",
       "      <th>CONTAINER COUNT</th>\n",
       "      <td>0.102087</td>\n",
       "      <td>0.023314</td>\n",
       "      <td>0.084277</td>\n",
       "      <td>0.075868</td>\n",
       "      <td>0.075868</td>\n",
       "      <td>0.148755</td>\n",
       "      <td>0.066719</td>\n",
       "      <td>0.063449</td>\n",
       "      <td>0.063449</td>\n",
       "      <td>0.056457</td>\n",
       "      <td>...</td>\n",
       "      <td>0.092162</td>\n",
       "      <td>0.111651</td>\n",
       "      <td>0.066719</td>\n",
       "      <td>0.267217</td>\n",
       "      <td>0.128723</td>\n",
       "      <td>0.075868</td>\n",
       "      <td>0.066719</td>\n",
       "      <td>0.063449</td>\n",
       "      <td>0.060037</td>\n",
       "      <td>0.145592</td>\n",
       "    </tr>\n",
       "    <tr>\n",
       "      <th>Dominican Republic</th>\n",
       "      <td>0.213399</td>\n",
       "      <td>0.418191</td>\n",
       "      <td>0.176171</td>\n",
       "      <td>0.158592</td>\n",
       "      <td>0.158592</td>\n",
       "      <td>0.152418</td>\n",
       "      <td>0.139469</td>\n",
       "      <td>0.132631</td>\n",
       "      <td>0.132631</td>\n",
       "      <td>0.118016</td>\n",
       "      <td>...</td>\n",
       "      <td>0.192653</td>\n",
       "      <td>0.176171</td>\n",
       "      <td>0.139469</td>\n",
       "      <td>0.558583</td>\n",
       "      <td>0.164597</td>\n",
       "      <td>0.158592</td>\n",
       "      <td>0.412936</td>\n",
       "      <td>0.392693</td>\n",
       "      <td>0.125499</td>\n",
       "      <td>0.326013</td>\n",
       "    </tr>\n",
       "    <tr>\n",
       "      <th>China Taiwan</th>\n",
       "      <td>0.121724</td>\n",
       "      <td>0.710803</td>\n",
       "      <td>0.100489</td>\n",
       "      <td>0.090462</td>\n",
       "      <td>0.090462</td>\n",
       "      <td>0.086940</td>\n",
       "      <td>0.079553</td>\n",
       "      <td>0.075653</td>\n",
       "      <td>0.075653</td>\n",
       "      <td>0.067317</td>\n",
       "      <td>...</td>\n",
       "      <td>0.109890</td>\n",
       "      <td>0.100489</td>\n",
       "      <td>0.079553</td>\n",
       "      <td>0.318618</td>\n",
       "      <td>0.093887</td>\n",
       "      <td>0.090462</td>\n",
       "      <td>0.723936</td>\n",
       "      <td>0.075653</td>\n",
       "      <td>0.071585</td>\n",
       "      <td>0.062807</td>\n",
       "    </tr>\n",
       "    <tr>\n",
       "      <th>United Kingdom</th>\n",
       "      <td>0.088120</td>\n",
       "      <td>0.075060</td>\n",
       "      <td>0.072748</td>\n",
       "      <td>0.065488</td>\n",
       "      <td>0.065488</td>\n",
       "      <td>0.062939</td>\n",
       "      <td>0.057592</td>\n",
       "      <td>0.054768</td>\n",
       "      <td>0.054768</td>\n",
       "      <td>0.048733</td>\n",
       "      <td>...</td>\n",
       "      <td>0.079553</td>\n",
       "      <td>0.072748</td>\n",
       "      <td>0.057592</td>\n",
       "      <td>0.230659</td>\n",
       "      <td>0.067968</td>\n",
       "      <td>0.065488</td>\n",
       "      <td>0.057592</td>\n",
       "      <td>0.950976</td>\n",
       "      <td>0.051823</td>\n",
       "      <td>0.045469</td>\n",
       "    </tr>\n",
       "    <tr>\n",
       "      <th>South Korea</th>\n",
       "      <td>0.074566</td>\n",
       "      <td>0.063514</td>\n",
       "      <td>0.061558</td>\n",
       "      <td>0.055415</td>\n",
       "      <td>0.055415</td>\n",
       "      <td>0.053258</td>\n",
       "      <td>0.048733</td>\n",
       "      <td>0.046344</td>\n",
       "      <td>0.046344</td>\n",
       "      <td>0.041237</td>\n",
       "      <td>...</td>\n",
       "      <td>0.067317</td>\n",
       "      <td>0.061558</td>\n",
       "      <td>0.048733</td>\n",
       "      <td>0.195180</td>\n",
       "      <td>0.057513</td>\n",
       "      <td>0.055415</td>\n",
       "      <td>0.048733</td>\n",
       "      <td>0.046344</td>\n",
       "      <td>0.043852</td>\n",
       "      <td>0.933013</td>\n",
       "    </tr>\n",
       "    <tr>\n",
       "      <th>Hong Kong</th>\n",
       "      <td>0.058499</td>\n",
       "      <td>0.049829</td>\n",
       "      <td>0.048294</td>\n",
       "      <td>0.043475</td>\n",
       "      <td>0.043475</td>\n",
       "      <td>0.041782</td>\n",
       "      <td>0.038232</td>\n",
       "      <td>0.036358</td>\n",
       "      <td>0.036358</td>\n",
       "      <td>0.032352</td>\n",
       "      <td>...</td>\n",
       "      <td>0.052812</td>\n",
       "      <td>0.048294</td>\n",
       "      <td>0.038232</td>\n",
       "      <td>0.153124</td>\n",
       "      <td>0.045121</td>\n",
       "      <td>0.043475</td>\n",
       "      <td>0.038232</td>\n",
       "      <td>0.036358</td>\n",
       "      <td>0.034403</td>\n",
       "      <td>0.030184</td>\n",
       "    </tr>\n",
       "    <tr>\n",
       "      <th>Dominica</th>\n",
       "      <td>0.052191</td>\n",
       "      <td>0.044455</td>\n",
       "      <td>0.043086</td>\n",
       "      <td>0.038787</td>\n",
       "      <td>0.038787</td>\n",
       "      <td>0.037277</td>\n",
       "      <td>0.034110</td>\n",
       "      <td>0.032437</td>\n",
       "      <td>0.032437</td>\n",
       "      <td>0.028863</td>\n",
       "      <td>...</td>\n",
       "      <td>0.047117</td>\n",
       "      <td>0.043086</td>\n",
       "      <td>0.034110</td>\n",
       "      <td>0.136612</td>\n",
       "      <td>0.040255</td>\n",
       "      <td>0.038787</td>\n",
       "      <td>0.034110</td>\n",
       "      <td>0.032437</td>\n",
       "      <td>0.030693</td>\n",
       "      <td>0.026930</td>\n",
       "    </tr>\n",
       "    <tr>\n",
       "      <th>Buffalo-Niagara Falls, New York</th>\n",
       "      <td>0.578579</td>\n",
       "      <td>0.198500</td>\n",
       "      <td>0.192385</td>\n",
       "      <td>0.429984</td>\n",
       "      <td>0.429984</td>\n",
       "      <td>0.166446</td>\n",
       "      <td>0.152304</td>\n",
       "      <td>0.144838</td>\n",
       "      <td>0.144838</td>\n",
       "      <td>0.128877</td>\n",
       "      <td>...</td>\n",
       "      <td>0.210384</td>\n",
       "      <td>0.192385</td>\n",
       "      <td>0.152304</td>\n",
       "      <td>0.660300</td>\n",
       "      <td>0.179745</td>\n",
       "      <td>0.173188</td>\n",
       "      <td>0.152304</td>\n",
       "      <td>0.144838</td>\n",
       "      <td>0.137049</td>\n",
       "      <td>0.120244</td>\n",
       "    </tr>\n",
       "    <tr>\n",
       "      <th>TSCW</th>\n",
       "      <td>0.382036</td>\n",
       "      <td>0.300620</td>\n",
       "      <td>0.315390</td>\n",
       "      <td>0.283919</td>\n",
       "      <td>0.283919</td>\n",
       "      <td>0.252076</td>\n",
       "      <td>0.230659</td>\n",
       "      <td>0.219351</td>\n",
       "      <td>0.237442</td>\n",
       "      <td>0.211277</td>\n",
       "      <td>...</td>\n",
       "      <td>0.318618</td>\n",
       "      <td>0.291360</td>\n",
       "      <td>0.230659</td>\n",
       "      <td>1.000000</td>\n",
       "      <td>0.272218</td>\n",
       "      <td>0.262287</td>\n",
       "      <td>0.230659</td>\n",
       "      <td>0.219351</td>\n",
       "      <td>0.207555</td>\n",
       "      <td>0.182105</td>\n",
       "    </tr>\n",
       "    <tr>\n",
       "      <th>SMLU</th>\n",
       "      <td>0.121724</td>\n",
       "      <td>0.045505</td>\n",
       "      <td>0.100489</td>\n",
       "      <td>0.090462</td>\n",
       "      <td>0.090462</td>\n",
       "      <td>0.086940</td>\n",
       "      <td>0.079553</td>\n",
       "      <td>0.688446</td>\n",
       "      <td>0.075653</td>\n",
       "      <td>0.067317</td>\n",
       "      <td>...</td>\n",
       "      <td>1.000000</td>\n",
       "      <td>0.100489</td>\n",
       "      <td>0.079553</td>\n",
       "      <td>0.318618</td>\n",
       "      <td>0.093887</td>\n",
       "      <td>0.105323</td>\n",
       "      <td>0.079553</td>\n",
       "      <td>0.075653</td>\n",
       "      <td>0.490755</td>\n",
       "      <td>0.062807</td>\n",
       "    </tr>\n",
       "    <tr>\n",
       "      <th>MOLU</th>\n",
       "      <td>0.118317</td>\n",
       "      <td>0.554001</td>\n",
       "      <td>0.097676</td>\n",
       "      <td>0.087930</td>\n",
       "      <td>0.087930</td>\n",
       "      <td>0.084507</td>\n",
       "      <td>0.077327</td>\n",
       "      <td>0.073536</td>\n",
       "      <td>0.073536</td>\n",
       "      <td>0.065433</td>\n",
       "      <td>...</td>\n",
       "      <td>0.106815</td>\n",
       "      <td>0.097676</td>\n",
       "      <td>0.077327</td>\n",
       "      <td>0.309701</td>\n",
       "      <td>0.091259</td>\n",
       "      <td>0.087930</td>\n",
       "      <td>0.744781</td>\n",
       "      <td>0.073536</td>\n",
       "      <td>0.069582</td>\n",
       "      <td>0.588004</td>\n",
       "    </tr>\n",
       "    <tr>\n",
       "      <th>PYRR</th>\n",
       "      <td>0.111310</td>\n",
       "      <td>0.094813</td>\n",
       "      <td>0.091892</td>\n",
       "      <td>0.082723</td>\n",
       "      <td>0.082723</td>\n",
       "      <td>0.865171</td>\n",
       "      <td>0.072748</td>\n",
       "      <td>0.069181</td>\n",
       "      <td>0.069181</td>\n",
       "      <td>0.061558</td>\n",
       "      <td>...</td>\n",
       "      <td>0.100489</td>\n",
       "      <td>1.000000</td>\n",
       "      <td>0.072748</td>\n",
       "      <td>0.291360</td>\n",
       "      <td>0.934300</td>\n",
       "      <td>0.082723</td>\n",
       "      <td>0.072748</td>\n",
       "      <td>0.069181</td>\n",
       "      <td>0.065461</td>\n",
       "      <td>0.057434</td>\n",
       "    </tr>\n",
       "    <tr>\n",
       "      <th>GLEL</th>\n",
       "      <td>0.103997</td>\n",
       "      <td>0.088583</td>\n",
       "      <td>0.085855</td>\n",
       "      <td>0.077288</td>\n",
       "      <td>0.077288</td>\n",
       "      <td>0.074279</td>\n",
       "      <td>0.067968</td>\n",
       "      <td>0.064636</td>\n",
       "      <td>0.064636</td>\n",
       "      <td>0.057513</td>\n",
       "      <td>...</td>\n",
       "      <td>0.093887</td>\n",
       "      <td>0.085855</td>\n",
       "      <td>0.067968</td>\n",
       "      <td>0.272218</td>\n",
       "      <td>0.080214</td>\n",
       "      <td>0.077288</td>\n",
       "      <td>0.067968</td>\n",
       "      <td>0.805795</td>\n",
       "      <td>0.061160</td>\n",
       "      <td>0.053661</td>\n",
       "    </tr>\n",
       "    <tr>\n",
       "      <th>CLAM</th>\n",
       "      <td>0.088120</td>\n",
       "      <td>0.075060</td>\n",
       "      <td>0.072748</td>\n",
       "      <td>0.065488</td>\n",
       "      <td>0.065488</td>\n",
       "      <td>0.062939</td>\n",
       "      <td>1.000000</td>\n",
       "      <td>0.054768</td>\n",
       "      <td>0.054768</td>\n",
       "      <td>0.048733</td>\n",
       "      <td>...</td>\n",
       "      <td>0.079553</td>\n",
       "      <td>0.072748</td>\n",
       "      <td>1.000000</td>\n",
       "      <td>0.230659</td>\n",
       "      <td>0.067968</td>\n",
       "      <td>0.879416</td>\n",
       "      <td>0.057592</td>\n",
       "      <td>0.054768</td>\n",
       "      <td>0.051823</td>\n",
       "      <td>0.045469</td>\n",
       "    </tr>\n",
       "    <tr>\n",
       "      <th>FL</th>\n",
       "      <td>0.279194</td>\n",
       "      <td>0.375290</td>\n",
       "      <td>0.230489</td>\n",
       "      <td>0.207489</td>\n",
       "      <td>0.207489</td>\n",
       "      <td>0.344929</td>\n",
       "      <td>0.182470</td>\n",
       "      <td>0.173524</td>\n",
       "      <td>0.173524</td>\n",
       "      <td>0.154403</td>\n",
       "      <td>...</td>\n",
       "      <td>0.252052</td>\n",
       "      <td>0.398683</td>\n",
       "      <td>0.182470</td>\n",
       "      <td>0.730806</td>\n",
       "      <td>0.372489</td>\n",
       "      <td>0.207489</td>\n",
       "      <td>0.315623</td>\n",
       "      <td>0.300150</td>\n",
       "      <td>0.064592</td>\n",
       "      <td>0.249184</td>\n",
       "    </tr>\n",
       "    <tr>\n",
       "      <th>PR</th>\n",
       "      <td>0.111310</td>\n",
       "      <td>0.094813</td>\n",
       "      <td>0.091892</td>\n",
       "      <td>0.082723</td>\n",
       "      <td>0.082723</td>\n",
       "      <td>0.865171</td>\n",
       "      <td>0.072748</td>\n",
       "      <td>0.069181</td>\n",
       "      <td>0.069181</td>\n",
       "      <td>0.061558</td>\n",
       "      <td>...</td>\n",
       "      <td>0.100489</td>\n",
       "      <td>1.000000</td>\n",
       "      <td>0.072748</td>\n",
       "      <td>0.291360</td>\n",
       "      <td>0.934300</td>\n",
       "      <td>0.082723</td>\n",
       "      <td>0.072748</td>\n",
       "      <td>0.069181</td>\n",
       "      <td>0.065461</td>\n",
       "      <td>0.057434</td>\n",
       "    </tr>\n",
       "    <tr>\n",
       "      <th>VA</th>\n",
       "      <td>0.052191</td>\n",
       "      <td>0.044455</td>\n",
       "      <td>0.043086</td>\n",
       "      <td>0.038787</td>\n",
       "      <td>0.038787</td>\n",
       "      <td>0.037277</td>\n",
       "      <td>0.034110</td>\n",
       "      <td>0.032437</td>\n",
       "      <td>0.032437</td>\n",
       "      <td>0.028863</td>\n",
       "      <td>...</td>\n",
       "      <td>0.047117</td>\n",
       "      <td>0.043086</td>\n",
       "      <td>0.034110</td>\n",
       "      <td>0.136612</td>\n",
       "      <td>0.040255</td>\n",
       "      <td>0.038787</td>\n",
       "      <td>0.034110</td>\n",
       "      <td>0.032437</td>\n",
       "      <td>0.313751</td>\n",
       "      <td>0.026930</td>\n",
       "    </tr>\n",
       "    <tr>\n",
       "      <th>NJ</th>\n",
       "      <td>0.052191</td>\n",
       "      <td>0.044455</td>\n",
       "      <td>0.043086</td>\n",
       "      <td>0.038787</td>\n",
       "      <td>0.038787</td>\n",
       "      <td>0.037277</td>\n",
       "      <td>0.034110</td>\n",
       "      <td>0.032437</td>\n",
       "      <td>0.032437</td>\n",
       "      <td>0.028863</td>\n",
       "      <td>...</td>\n",
       "      <td>0.047117</td>\n",
       "      <td>0.043086</td>\n",
       "      <td>0.034110</td>\n",
       "      <td>0.136612</td>\n",
       "      <td>0.040255</td>\n",
       "      <td>0.038787</td>\n",
       "      <td>0.034110</td>\n",
       "      <td>0.032437</td>\n",
       "      <td>0.030693</td>\n",
       "      <td>0.026930</td>\n",
       "    </tr>\n",
       "    <tr>\n",
       "      <th>33404-6920</th>\n",
       "      <td>0.382036</td>\n",
       "      <td>0.300620</td>\n",
       "      <td>0.315390</td>\n",
       "      <td>0.283919</td>\n",
       "      <td>0.283919</td>\n",
       "      <td>0.252076</td>\n",
       "      <td>0.230659</td>\n",
       "      <td>0.219351</td>\n",
       "      <td>0.237442</td>\n",
       "      <td>0.211277</td>\n",
       "      <td>...</td>\n",
       "      <td>0.318618</td>\n",
       "      <td>0.291360</td>\n",
       "      <td>0.230659</td>\n",
       "      <td>1.000000</td>\n",
       "      <td>0.272218</td>\n",
       "      <td>0.262287</td>\n",
       "      <td>0.230659</td>\n",
       "      <td>0.219351</td>\n",
       "      <td>0.207555</td>\n",
       "      <td>0.182105</td>\n",
       "    </tr>\n",
       "    <tr>\n",
       "      <th>33166</th>\n",
       "      <td>0.121724</td>\n",
       "      <td>0.045505</td>\n",
       "      <td>0.100489</td>\n",
       "      <td>0.090462</td>\n",
       "      <td>0.090462</td>\n",
       "      <td>0.086940</td>\n",
       "      <td>0.079553</td>\n",
       "      <td>0.688446</td>\n",
       "      <td>0.075653</td>\n",
       "      <td>0.067317</td>\n",
       "      <td>...</td>\n",
       "      <td>1.000000</td>\n",
       "      <td>0.100489</td>\n",
       "      <td>0.079553</td>\n",
       "      <td>0.318618</td>\n",
       "      <td>0.093887</td>\n",
       "      <td>0.105323</td>\n",
       "      <td>0.079553</td>\n",
       "      <td>0.075653</td>\n",
       "      <td>0.490755</td>\n",
       "      <td>0.062807</td>\n",
       "    </tr>\n",
       "    <tr>\n",
       "      <th>681</th>\n",
       "      <td>0.111310</td>\n",
       "      <td>0.094813</td>\n",
       "      <td>0.091892</td>\n",
       "      <td>0.082723</td>\n",
       "      <td>0.082723</td>\n",
       "      <td>0.865171</td>\n",
       "      <td>0.072748</td>\n",
       "      <td>0.069181</td>\n",
       "      <td>0.069181</td>\n",
       "      <td>0.061558</td>\n",
       "      <td>...</td>\n",
       "      <td>0.100489</td>\n",
       "      <td>1.000000</td>\n",
       "      <td>0.072748</td>\n",
       "      <td>0.291360</td>\n",
       "      <td>0.934300</td>\n",
       "      <td>0.082723</td>\n",
       "      <td>0.072748</td>\n",
       "      <td>0.069181</td>\n",
       "      <td>0.065461</td>\n",
       "      <td>0.057434</td>\n",
       "    </tr>\n",
       "    <tr>\n",
       "      <th>32203</th>\n",
       "      <td>0.088120</td>\n",
       "      <td>0.075060</td>\n",
       "      <td>0.072748</td>\n",
       "      <td>0.065488</td>\n",
       "      <td>0.065488</td>\n",
       "      <td>0.062939</td>\n",
       "      <td>1.000000</td>\n",
       "      <td>0.054768</td>\n",
       "      <td>0.054768</td>\n",
       "      <td>0.048733</td>\n",
       "      <td>...</td>\n",
       "      <td>0.079553</td>\n",
       "      <td>0.072748</td>\n",
       "      <td>1.000000</td>\n",
       "      <td>0.230659</td>\n",
       "      <td>0.067968</td>\n",
       "      <td>0.879416</td>\n",
       "      <td>0.057592</td>\n",
       "      <td>0.054768</td>\n",
       "      <td>0.051823</td>\n",
       "      <td>0.045469</td>\n",
       "    </tr>\n",
       "    <tr>\n",
       "      <th>24773</th>\n",
       "      <td>0.382036</td>\n",
       "      <td>0.300620</td>\n",
       "      <td>0.315390</td>\n",
       "      <td>0.283919</td>\n",
       "      <td>0.283919</td>\n",
       "      <td>0.252076</td>\n",
       "      <td>0.230659</td>\n",
       "      <td>0.219351</td>\n",
       "      <td>0.237442</td>\n",
       "      <td>0.211277</td>\n",
       "      <td>...</td>\n",
       "      <td>0.318618</td>\n",
       "      <td>0.291360</td>\n",
       "      <td>0.230659</td>\n",
       "      <td>1.000000</td>\n",
       "      <td>0.272218</td>\n",
       "      <td>0.262287</td>\n",
       "      <td>0.230659</td>\n",
       "      <td>0.219351</td>\n",
       "      <td>0.207555</td>\n",
       "      <td>0.182105</td>\n",
       "    </tr>\n",
       "    <tr>\n",
       "      <th>SANTO DOMINGO</th>\n",
       "      <td>0.103997</td>\n",
       "      <td>0.088583</td>\n",
       "      <td>0.085855</td>\n",
       "      <td>0.077288</td>\n",
       "      <td>0.077288</td>\n",
       "      <td>0.926011</td>\n",
       "      <td>0.067968</td>\n",
       "      <td>0.064636</td>\n",
       "      <td>0.064636</td>\n",
       "      <td>0.057513</td>\n",
       "      <td>...</td>\n",
       "      <td>0.093887</td>\n",
       "      <td>0.934300</td>\n",
       "      <td>0.067968</td>\n",
       "      <td>0.272218</td>\n",
       "      <td>1.000000</td>\n",
       "      <td>0.077288</td>\n",
       "      <td>0.067968</td>\n",
       "      <td>0.064636</td>\n",
       "      <td>0.061160</td>\n",
       "      <td>0.053661</td>\n",
       "    </tr>\n",
       "    <tr>\n",
       "      <th>RIO HAINA, DR</th>\n",
       "      <td>0.100203</td>\n",
       "      <td>0.085352</td>\n",
       "      <td>0.082723</td>\n",
       "      <td>0.074468</td>\n",
       "      <td>0.074468</td>\n",
       "      <td>0.071569</td>\n",
       "      <td>0.879416</td>\n",
       "      <td>0.062278</td>\n",
       "      <td>0.062278</td>\n",
       "      <td>0.055415</td>\n",
       "      <td>...</td>\n",
       "      <td>0.105323</td>\n",
       "      <td>0.082723</td>\n",
       "      <td>0.879416</td>\n",
       "      <td>0.262287</td>\n",
       "      <td>0.077288</td>\n",
       "      <td>1.000000</td>\n",
       "      <td>0.065488</td>\n",
       "      <td>0.062278</td>\n",
       "      <td>0.058929</td>\n",
       "      <td>0.051703</td>\n",
       "    </tr>\n",
       "    <tr>\n",
       "      <th>KAOHSIUNG - CFS</th>\n",
       "      <td>0.088120</td>\n",
       "      <td>0.767277</td>\n",
       "      <td>0.072748</td>\n",
       "      <td>0.065488</td>\n",
       "      <td>0.065488</td>\n",
       "      <td>0.062939</td>\n",
       "      <td>0.057592</td>\n",
       "      <td>0.054768</td>\n",
       "      <td>0.054768</td>\n",
       "      <td>0.048733</td>\n",
       "      <td>...</td>\n",
       "      <td>0.079553</td>\n",
       "      <td>0.072748</td>\n",
       "      <td>0.057592</td>\n",
       "      <td>0.230659</td>\n",
       "      <td>0.067968</td>\n",
       "      <td>0.065488</td>\n",
       "      <td>1.000000</td>\n",
       "      <td>0.054768</td>\n",
       "      <td>0.051823</td>\n",
       "      <td>0.045469</td>\n",
       "    </tr>\n",
       "    <tr>\n",
       "      <th>PORTSMOUTH GB</th>\n",
       "      <td>0.083800</td>\n",
       "      <td>0.071380</td>\n",
       "      <td>0.069181</td>\n",
       "      <td>0.062278</td>\n",
       "      <td>0.062278</td>\n",
       "      <td>0.059854</td>\n",
       "      <td>0.054768</td>\n",
       "      <td>0.052083</td>\n",
       "      <td>0.052083</td>\n",
       "      <td>0.046344</td>\n",
       "      <td>...</td>\n",
       "      <td>0.075653</td>\n",
       "      <td>0.069181</td>\n",
       "      <td>0.054768</td>\n",
       "      <td>0.219351</td>\n",
       "      <td>0.064636</td>\n",
       "      <td>0.062278</td>\n",
       "      <td>0.054768</td>\n",
       "      <td>1.000000</td>\n",
       "      <td>0.049282</td>\n",
       "      <td>0.043240</td>\n",
       "    </tr>\n",
       "    <tr>\n",
       "      <th>RIO HAINA</th>\n",
       "      <td>0.079294</td>\n",
       "      <td>0.067541</td>\n",
       "      <td>0.065461</td>\n",
       "      <td>0.058929</td>\n",
       "      <td>0.058929</td>\n",
       "      <td>0.056635</td>\n",
       "      <td>0.051823</td>\n",
       "      <td>0.724999</td>\n",
       "      <td>0.049282</td>\n",
       "      <td>0.043852</td>\n",
       "      <td>...</td>\n",
       "      <td>0.490755</td>\n",
       "      <td>0.065461</td>\n",
       "      <td>0.051823</td>\n",
       "      <td>0.207555</td>\n",
       "      <td>0.061160</td>\n",
       "      <td>0.058929</td>\n",
       "      <td>0.051823</td>\n",
       "      <td>0.049282</td>\n",
       "      <td>1.000000</td>\n",
       "      <td>0.040914</td>\n",
       "    </tr>\n",
       "    <tr>\n",
       "      <th>BUSAN - CY</th>\n",
       "      <td>0.069571</td>\n",
       "      <td>0.059260</td>\n",
       "      <td>0.057434</td>\n",
       "      <td>0.051703</td>\n",
       "      <td>0.051703</td>\n",
       "      <td>0.049690</td>\n",
       "      <td>0.045469</td>\n",
       "      <td>0.043240</td>\n",
       "      <td>0.043240</td>\n",
       "      <td>0.038475</td>\n",
       "      <td>...</td>\n",
       "      <td>0.062807</td>\n",
       "      <td>0.057434</td>\n",
       "      <td>0.045469</td>\n",
       "      <td>0.182105</td>\n",
       "      <td>0.053661</td>\n",
       "      <td>0.051703</td>\n",
       "      <td>0.045469</td>\n",
       "      <td>0.043240</td>\n",
       "      <td>0.040914</td>\n",
       "      <td>1.000000</td>\n",
       "    </tr>\n",
       "  </tbody>\n",
       "</table>\n",
       "<p>122 rows × 122 columns</p>\n",
       "</div>"
      ],
      "text/plain": [
       "                                                    LAS ANTILLAS EXPORT Y/O PEDRO RESTI  \\\n",
       "LAS ANTILLAS EXPORT Y/O PEDRO RESTI                                            1.000000   \n",
       "-NOT AVAILABLE-                                                                0.114848   \n",
       "EXPORTADORA DE FRUTOS Y VEGETALES L                                            0.111310   \n",
       "DINU-S & COMPANY                                                               0.100203   \n",
       "EXPORTADORA DE FRUTOS Y VEGETABLES                                             0.100203   \n",
       "PRODUCTOS DEL TROPICO, C X A                                                   0.096302   \n",
       "ANTONIO R. TAVERAS AGROINDUSTRIAL S                                            0.088120   \n",
       "ANTILLIAN FOODS                                                                0.083800   \n",
       "EXOTICOS ORIENTALES, SRL                                                       0.083800   \n",
       "EXPORTADORA GARABITO                                                           0.074566   \n",
       "CHORUS LOGISTICS CO., LTD.                                                     0.064246   \n",
       "WINFRESH LTD                                                                   0.064246   \n",
       "SABANETA KM 5 1/2                                                              1.000000   \n",
       "                                                                               0.114848   \n",
       "ENTRADA DE LAS CABUYAS                                                         0.111310   \n",
       "ALTO DEL YAQUE ARRIBA #40                                                      0.111310   \n",
       "CARR SANCHEZ KM 28 MADRE VIEJA SAN CRISTOBAL DO                                0.103997   \n",
       "1, CARRETERA JAMO, LOS RIELES                                                  0.100203   \n",
       "CARR MAO GUAYUBIN KM 23 CANA CHAPETON GUAYUBIN ...                             0.083800   \n",
       "CARRETERA SABANETA KM 7.5                                                      0.083800   \n",
       "CARR. DUARTE KM4 ESTANCIA NUEVA MOC ESPAILLAT DO                               0.074566   \n",
       "CALLE PRIMERA CAMBITA CLARABITO                                                0.074566   \n",
       "SMS PRODUCE INC                                                                0.338015   \n",
       "YALINI ENTERPRISES INC                                                         0.114848   \n",
       "EMPRESAS LA FAMOSA, INC.                                                       0.107696   \n",
       "ACROPOLLYS TRADING CORP                                                        0.107696   \n",
       "-NOT AVAILABLE-                                                                0.107696   \n",
       "SUNDINE PRODUCE, INC                                                           0.712957   \n",
       "JALARAN PRODUCE INC OR MAHENDRA                                                0.088120   \n",
       "YUMMY-S WORLD TRADING                                                          0.083800   \n",
       "...                                                                                 ...   \n",
       "GLDU5185124                                                                    0.045085   \n",
       "CONTAINER COUNT                                                                0.102087   \n",
       "Dominican Republic                                                             0.213399   \n",
       "China Taiwan                                                                   0.121724   \n",
       "United Kingdom                                                                 0.088120   \n",
       "South Korea                                                                    0.074566   \n",
       "Hong Kong                                                                      0.058499   \n",
       "Dominica                                                                       0.052191   \n",
       "Buffalo-Niagara Falls, New York                                                0.578579   \n",
       "TSCW                                                                           0.382036   \n",
       "SMLU                                                                           0.121724   \n",
       "MOLU                                                                           0.118317   \n",
       "PYRR                                                                           0.111310   \n",
       "GLEL                                                                           0.103997   \n",
       "CLAM                                                                           0.088120   \n",
       "FL                                                                             0.279194   \n",
       "PR                                                                             0.111310   \n",
       "VA                                                                             0.052191   \n",
       "NJ                                                                             0.052191   \n",
       "33404-6920                                                                     0.382036   \n",
       "33166                                                                          0.121724   \n",
       "681                                                                            0.111310   \n",
       "32203                                                                          0.088120   \n",
       "24773                                                                          0.382036   \n",
       "SANTO DOMINGO                                                                  0.103997   \n",
       "RIO HAINA, DR                                                                  0.100203   \n",
       "KAOHSIUNG - CFS                                                                0.088120   \n",
       "PORTSMOUTH GB                                                                  0.083800   \n",
       "RIO HAINA                                                                      0.079294   \n",
       "BUSAN - CY                                                                     0.069571   \n",
       "\n",
       "                                                    -NOT AVAILABLE-  \\\n",
       "LAS ANTILLAS EXPORT Y/O PEDRO RESTI                        0.114848   \n",
       "-NOT AVAILABLE-                                            1.000000   \n",
       "EXPORTADORA DE FRUTOS Y VEGETALES L                        0.094813   \n",
       "DINU-S & COMPANY                                           0.085352   \n",
       "EXPORTADORA DE FRUTOS Y VEGETABLES                         0.085352   \n",
       "PRODUCTOS DEL TROPICO, C X A                               0.082029   \n",
       "ANTONIO R. TAVERAS AGROINDUSTRIAL S                        0.075060   \n",
       "ANTILLIAN FOODS                                            0.071380   \n",
       "EXOTICOS ORIENTALES, SRL                                   0.071380   \n",
       "EXPORTADORA GARABITO                                       0.063514   \n",
       "CHORUS LOGISTICS CO., LTD.                                 0.054724   \n",
       "WINFRESH LTD                                               0.054724   \n",
       "SABANETA KM 5 1/2                                          0.114848   \n",
       "                                                           1.000000   \n",
       "ENTRADA DE LAS CABUYAS                                     0.094813   \n",
       "ALTO DEL YAQUE ARRIBA #40                                  0.094813   \n",
       "CARR SANCHEZ KM 28 MADRE VIEJA SAN CRISTOBAL DO            0.088583   \n",
       "1, CARRETERA JAMO, LOS RIELES                              0.085352   \n",
       "CARR MAO GUAYUBIN KM 23 CANA CHAPETON GUAYUBIN ...         0.071380   \n",
       "CARRETERA SABANETA KM 7.5                                  0.071380   \n",
       "CARR. DUARTE KM4 ESTANCIA NUEVA MOC ESPAILLAT DO           0.063514   \n",
       "CALLE PRIMERA CAMBITA CLARABITO                            0.063514   \n",
       "SMS PRODUCE INC                                            0.114848   \n",
       "YALINI ENTERPRISES INC                                     0.097826   \n",
       "EMPRESAS LA FAMOSA, INC.                                   0.091734   \n",
       "ACROPOLLYS TRADING CORP                                    0.091734   \n",
       "-NOT AVAILABLE-                                            0.937726   \n",
       "SUNDINE PRODUCE, INC                                       0.088583   \n",
       "JALARAN PRODUCE INC OR MAHENDRA                            0.075060   \n",
       "YUMMY-S WORLD TRADING                                      0.071380   \n",
       "...                                                             ...   \n",
       "GLDU5185124                                                0.392561   \n",
       "CONTAINER COUNT                                            0.023314   \n",
       "Dominican Republic                                         0.418191   \n",
       "China Taiwan                                               0.710803   \n",
       "United Kingdom                                             0.075060   \n",
       "South Korea                                                0.063514   \n",
       "Hong Kong                                                  0.049829   \n",
       "Dominica                                                   0.044455   \n",
       "Buffalo-Niagara Falls, New York                            0.198500   \n",
       "TSCW                                                       0.300620   \n",
       "SMLU                                                       0.045505   \n",
       "MOLU                                                       0.554001   \n",
       "PYRR                                                       0.094813   \n",
       "GLEL                                                       0.088583   \n",
       "CLAM                                                       0.075060   \n",
       "FL                                                         0.375290   \n",
       "PR                                                         0.094813   \n",
       "VA                                                         0.044455   \n",
       "NJ                                                         0.044455   \n",
       "33404-6920                                                 0.300620   \n",
       "33166                                                      0.045505   \n",
       "681                                                        0.094813   \n",
       "32203                                                      0.075060   \n",
       "24773                                                      0.300620   \n",
       "SANTO DOMINGO                                              0.088583   \n",
       "RIO HAINA, DR                                              0.085352   \n",
       "KAOHSIUNG - CFS                                            0.767277   \n",
       "PORTSMOUTH GB                                              0.071380   \n",
       "RIO HAINA                                                  0.067541   \n",
       "BUSAN - CY                                                 0.059260   \n",
       "\n",
       "                                                    EXPORTADORA DE FRUTOS Y VEGETALES L  \\\n",
       "LAS ANTILLAS EXPORT Y/O PEDRO RESTI                                            0.111310   \n",
       "-NOT AVAILABLE-                                                                0.094813   \n",
       "EXPORTADORA DE FRUTOS Y VEGETALES L                                            1.000000   \n",
       "DINU-S & COMPANY                                                               0.082723   \n",
       "EXPORTADORA DE FRUTOS Y VEGETABLES                                             0.082723   \n",
       "PRODUCTOS DEL TROPICO, C X A                                                   0.079502   \n",
       "ANTONIO R. TAVERAS AGROINDUSTRIAL S                                            0.072748   \n",
       "ANTILLIAN FOODS                                                                0.069181   \n",
       "EXOTICOS ORIENTALES, SRL                                                       0.069181   \n",
       "EXPORTADORA GARABITO                                                           0.061558   \n",
       "CHORUS LOGISTICS CO., LTD.                                                     0.053038   \n",
       "WINFRESH LTD                                                                   0.053038   \n",
       "SABANETA KM 5 1/2                                                              0.111310   \n",
       "                                                                               0.094813   \n",
       "ENTRADA DE LAS CABUYAS                                                         0.091892   \n",
       "ALTO DEL YAQUE ARRIBA #40                                                      1.000000   \n",
       "CARR SANCHEZ KM 28 MADRE VIEJA SAN CRISTOBAL DO                                0.085855   \n",
       "1, CARRETERA JAMO, LOS RIELES                                                  0.082723   \n",
       "CARR MAO GUAYUBIN KM 23 CANA CHAPETON GUAYUBIN ...                             0.069181   \n",
       "CARRETERA SABANETA KM 7.5                                                      0.069181   \n",
       "CARR. DUARTE KM4 ESTANCIA NUEVA MOC ESPAILLAT DO                               0.061558   \n",
       "CALLE PRIMERA CAMBITA CLARABITO                                                0.061558   \n",
       "SMS PRODUCE INC                                                                0.111310   \n",
       "YALINI ENTERPRISES INC                                                         0.094813   \n",
       "EMPRESAS LA FAMOSA, INC.                                                       0.088908   \n",
       "ACROPOLLYS TRADING CORP                                                        0.967531   \n",
       "-NOT AVAILABLE-                                                                0.088908   \n",
       "SUNDINE PRODUCE, INC                                                           0.085855   \n",
       "JALARAN PRODUCE INC OR MAHENDRA                                                0.072748   \n",
       "YUMMY-S WORLD TRADING                                                          0.069181   \n",
       "...                                                                                 ...   \n",
       "GLDU5185124                                                                    0.037220   \n",
       "CONTAINER COUNT                                                                0.084277   \n",
       "Dominican Republic                                                             0.176171   \n",
       "China Taiwan                                                                   0.100489   \n",
       "United Kingdom                                                                 0.072748   \n",
       "South Korea                                                                    0.061558   \n",
       "Hong Kong                                                                      0.048294   \n",
       "Dominica                                                                       0.043086   \n",
       "Buffalo-Niagara Falls, New York                                                0.192385   \n",
       "TSCW                                                                           0.315390   \n",
       "SMLU                                                                           0.100489   \n",
       "MOLU                                                                           0.097676   \n",
       "PYRR                                                                           0.091892   \n",
       "GLEL                                                                           0.085855   \n",
       "CLAM                                                                           0.072748   \n",
       "FL                                                                             0.230489   \n",
       "PR                                                                             0.091892   \n",
       "VA                                                                             0.043086   \n",
       "NJ                                                                             0.043086   \n",
       "33404-6920                                                                     0.315390   \n",
       "33166                                                                          0.100489   \n",
       "681                                                                            0.091892   \n",
       "32203                                                                          0.072748   \n",
       "24773                                                                          0.315390   \n",
       "SANTO DOMINGO                                                                  0.085855   \n",
       "RIO HAINA, DR                                                                  0.082723   \n",
       "KAOHSIUNG - CFS                                                                0.072748   \n",
       "PORTSMOUTH GB                                                                  0.069181   \n",
       "RIO HAINA                                                                      0.065461   \n",
       "BUSAN - CY                                                                     0.057434   \n",
       "\n",
       "                                                    DINU-S & COMPANY  \\\n",
       "LAS ANTILLAS EXPORT Y/O PEDRO RESTI                         0.100203   \n",
       "-NOT AVAILABLE-                                             0.085352   \n",
       "EXPORTADORA DE FRUTOS Y VEGETALES L                         0.082723   \n",
       "DINU-S & COMPANY                                            1.000000   \n",
       "EXPORTADORA DE FRUTOS Y VEGETABLES                          0.074468   \n",
       "PRODUCTOS DEL TROPICO, C X A                                0.071569   \n",
       "ANTONIO R. TAVERAS AGROINDUSTRIAL S                         0.065488   \n",
       "ANTILLIAN FOODS                                             0.062278   \n",
       "EXOTICOS ORIENTALES, SRL                                    0.062278   \n",
       "EXPORTADORA GARABITO                                        0.055415   \n",
       "CHORUS LOGISTICS CO., LTD.                                  0.047746   \n",
       "WINFRESH LTD                                                0.047746   \n",
       "SABANETA KM 5 1/2                                           0.100203   \n",
       "                                                            0.085352   \n",
       "ENTRADA DE LAS CABUYAS                                      0.082723   \n",
       "ALTO DEL YAQUE ARRIBA #40                                   0.082723   \n",
       "CARR SANCHEZ KM 28 MADRE VIEJA SAN CRISTOBAL DO             0.077288   \n",
       "1, CARRETERA JAMO, LOS RIELES                               1.000000   \n",
       "CARR MAO GUAYUBIN KM 23 CANA CHAPETON GUAYUBIN ...          0.062278   \n",
       "CARRETERA SABANETA KM 7.5                                   0.062278   \n",
       "CARR. DUARTE KM4 ESTANCIA NUEVA MOC ESPAILLAT DO            0.055415   \n",
       "CALLE PRIMERA CAMBITA CLARABITO                             0.055415   \n",
       "SMS PRODUCE INC                                             0.743172   \n",
       "YALINI ENTERPRISES INC                                      0.085352   \n",
       "EMPRESAS LA FAMOSA, INC.                                    0.080037   \n",
       "ACROPOLLYS TRADING CORP                                     0.080037   \n",
       "-NOT AVAILABLE-                                             0.080037   \n",
       "SUNDINE PRODUCE, INC                                        0.077288   \n",
       "JALARAN PRODUCE INC OR MAHENDRA                             0.065488   \n",
       "YUMMY-S WORLD TRADING                                       0.062278   \n",
       "...                                                              ...   \n",
       "GLDU5185124                                                 0.033506   \n",
       "CONTAINER COUNT                                             0.075868   \n",
       "Dominican Republic                                          0.158592   \n",
       "China Taiwan                                                0.090462   \n",
       "United Kingdom                                              0.065488   \n",
       "South Korea                                                 0.055415   \n",
       "Hong Kong                                                   0.043475   \n",
       "Dominica                                                    0.038787   \n",
       "Buffalo-Niagara Falls, New York                             0.429984   \n",
       "TSCW                                                        0.283919   \n",
       "SMLU                                                        0.090462   \n",
       "MOLU                                                        0.087930   \n",
       "PYRR                                                        0.082723   \n",
       "GLEL                                                        0.077288   \n",
       "CLAM                                                        0.065488   \n",
       "FL                                                          0.207489   \n",
       "PR                                                          0.082723   \n",
       "VA                                                          0.038787   \n",
       "NJ                                                          0.038787   \n",
       "33404-6920                                                  0.283919   \n",
       "33166                                                       0.090462   \n",
       "681                                                         0.082723   \n",
       "32203                                                       0.065488   \n",
       "24773                                                       0.283919   \n",
       "SANTO DOMINGO                                               0.077288   \n",
       "RIO HAINA, DR                                               0.074468   \n",
       "KAOHSIUNG - CFS                                             0.065488   \n",
       "PORTSMOUTH GB                                               0.062278   \n",
       "RIO HAINA                                                   0.058929   \n",
       "BUSAN - CY                                                  0.051703   \n",
       "\n",
       "                                                    EXPORTADORA DE FRUTOS Y VEGETABLES  \\\n",
       "LAS ANTILLAS EXPORT Y/O PEDRO RESTI                                           0.100203   \n",
       "-NOT AVAILABLE-                                                               0.085352   \n",
       "EXPORTADORA DE FRUTOS Y VEGETALES L                                           0.082723   \n",
       "DINU-S & COMPANY                                                              0.074468   \n",
       "EXPORTADORA DE FRUTOS Y VEGETABLES                                            1.000000   \n",
       "PRODUCTOS DEL TROPICO, C X A                                                  0.071569   \n",
       "ANTONIO R. TAVERAS AGROINDUSTRIAL S                                           0.065488   \n",
       "ANTILLIAN FOODS                                                               0.062278   \n",
       "EXOTICOS ORIENTALES, SRL                                                      0.062278   \n",
       "EXPORTADORA GARABITO                                                          0.055415   \n",
       "CHORUS LOGISTICS CO., LTD.                                                    0.047746   \n",
       "WINFRESH LTD                                                                  0.047746   \n",
       "SABANETA KM 5 1/2                                                             0.100203   \n",
       "                                                                              0.085352   \n",
       "ENTRADA DE LAS CABUYAS                                                        0.900216   \n",
       "ALTO DEL YAQUE ARRIBA #40                                                     0.082723   \n",
       "CARR SANCHEZ KM 28 MADRE VIEJA SAN CRISTOBAL DO                               0.077288   \n",
       "1, CARRETERA JAMO, LOS RIELES                                                 0.074468   \n",
       "CARR MAO GUAYUBIN KM 23 CANA CHAPETON GUAYUBIN ...                            0.062278   \n",
       "CARRETERA SABANETA KM 7.5                                                     0.062278   \n",
       "CARR. DUARTE KM4 ESTANCIA NUEVA MOC ESPAILLAT DO                              0.055415   \n",
       "CALLE PRIMERA CAMBITA CLARABITO                                               0.055415   \n",
       "SMS PRODUCE INC                                                               0.100203   \n",
       "YALINI ENTERPRISES INC                                                        0.804068   \n",
       "EMPRESAS LA FAMOSA, INC.                                                      0.080037   \n",
       "ACROPOLLYS TRADING CORP                                                       0.080037   \n",
       "-NOT AVAILABLE-                                                               0.080037   \n",
       "SUNDINE PRODUCE, INC                                                          0.077288   \n",
       "JALARAN PRODUCE INC OR MAHENDRA                                               0.065488   \n",
       "YUMMY-S WORLD TRADING                                                         0.062278   \n",
       "...                                                                                ...   \n",
       "GLDU5185124                                                                   0.033506   \n",
       "CONTAINER COUNT                                                               0.075868   \n",
       "Dominican Republic                                                            0.158592   \n",
       "China Taiwan                                                                  0.090462   \n",
       "United Kingdom                                                                0.065488   \n",
       "South Korea                                                                   0.055415   \n",
       "Hong Kong                                                                     0.043475   \n",
       "Dominica                                                                      0.038787   \n",
       "Buffalo-Niagara Falls, New York                                               0.429984   \n",
       "TSCW                                                                          0.283919   \n",
       "SMLU                                                                          0.090462   \n",
       "MOLU                                                                          0.087930   \n",
       "PYRR                                                                          0.082723   \n",
       "GLEL                                                                          0.077288   \n",
       "CLAM                                                                          0.065488   \n",
       "FL                                                                            0.207489   \n",
       "PR                                                                            0.082723   \n",
       "VA                                                                            0.038787   \n",
       "NJ                                                                            0.038787   \n",
       "33404-6920                                                                    0.283919   \n",
       "33166                                                                         0.090462   \n",
       "681                                                                           0.082723   \n",
       "32203                                                                         0.065488   \n",
       "24773                                                                         0.283919   \n",
       "SANTO DOMINGO                                                                 0.077288   \n",
       "RIO HAINA, DR                                                                 0.074468   \n",
       "KAOHSIUNG - CFS                                                               0.065488   \n",
       "PORTSMOUTH GB                                                                 0.062278   \n",
       "RIO HAINA                                                                     0.058929   \n",
       "BUSAN - CY                                                                    0.051703   \n",
       "\n",
       "                                                    PRODUCTOS DEL TROPICO, C X A  \\\n",
       "LAS ANTILLAS EXPORT Y/O PEDRO RESTI                                     0.096302   \n",
       "-NOT AVAILABLE-                                                         0.082029   \n",
       "EXPORTADORA DE FRUTOS Y VEGETALES L                                     0.079502   \n",
       "DINU-S & COMPANY                                                        0.071569   \n",
       "EXPORTADORA DE FRUTOS Y VEGETABLES                                      0.071569   \n",
       "PRODUCTOS DEL TROPICO, C X A                                            1.000000   \n",
       "ANTONIO R. TAVERAS AGROINDUSTRIAL S                                     0.062939   \n",
       "ANTILLIAN FOODS                                                         0.059854   \n",
       "EXOTICOS ORIENTALES, SRL                                                0.059854   \n",
       "EXPORTADORA GARABITO                                                    0.053258   \n",
       "CHORUS LOGISTICS CO., LTD.                                              0.045887   \n",
       "WINFRESH LTD                                                            0.045887   \n",
       "SABANETA KM 5 1/2                                                       0.096302   \n",
       "                                                                        0.082029   \n",
       "ENTRADA DE LAS CABUYAS                                                  0.079502   \n",
       "ALTO DEL YAQUE ARRIBA #40                                               0.079502   \n",
       "CARR SANCHEZ KM 28 MADRE VIEJA SAN CRISTOBAL DO                         0.772120   \n",
       "1, CARRETERA JAMO, LOS RIELES                                           0.071569   \n",
       "CARR MAO GUAYUBIN KM 23 CANA CHAPETON GUAYUBIN ...                      0.059854   \n",
       "CARRETERA SABANETA KM 7.5                                               0.059854   \n",
       "CARR. DUARTE KM4 ESTANCIA NUEVA MOC ESPAILLAT DO                        0.053258   \n",
       "CALLE PRIMERA CAMBITA CLARABITO                                         0.053258   \n",
       "SMS PRODUCE INC                                                         0.096302   \n",
       "YALINI ENTERPRISES INC                                                  0.082029   \n",
       "EMPRESAS LA FAMOSA, INC.                                                0.819503   \n",
       "ACROPOLLYS TRADING CORP                                                 0.076921   \n",
       "-NOT AVAILABLE-                                                         0.076921   \n",
       "SUNDINE PRODUCE, INC                                                    0.074279   \n",
       "JALARAN PRODUCE INC OR MAHENDRA                                         0.062939   \n",
       "YUMMY-S WORLD TRADING                                                   0.059854   \n",
       "...                                                                          ...   \n",
       "GLDU5185124                                                             0.032201   \n",
       "CONTAINER COUNT                                                         0.148755   \n",
       "Dominican Republic                                                      0.152418   \n",
       "China Taiwan                                                            0.086940   \n",
       "United Kingdom                                                          0.062939   \n",
       "South Korea                                                             0.053258   \n",
       "Hong Kong                                                               0.041782   \n",
       "Dominica                                                                0.037277   \n",
       "Buffalo-Niagara Falls, New York                                         0.166446   \n",
       "TSCW                                                                    0.252076   \n",
       "SMLU                                                                    0.086940   \n",
       "MOLU                                                                    0.084507   \n",
       "PYRR                                                                    0.865171   \n",
       "GLEL                                                                    0.074279   \n",
       "CLAM                                                                    0.062939   \n",
       "FL                                                                      0.344929   \n",
       "PR                                                                      0.865171   \n",
       "VA                                                                      0.037277   \n",
       "NJ                                                                      0.037277   \n",
       "33404-6920                                                              0.252076   \n",
       "33166                                                                   0.086940   \n",
       "681                                                                     0.865171   \n",
       "32203                                                                   0.062939   \n",
       "24773                                                                   0.252076   \n",
       "SANTO DOMINGO                                                           0.926011   \n",
       "RIO HAINA, DR                                                           0.071569   \n",
       "KAOHSIUNG - CFS                                                         0.062939   \n",
       "PORTSMOUTH GB                                                           0.059854   \n",
       "RIO HAINA                                                               0.056635   \n",
       "BUSAN - CY                                                              0.049690   \n",
       "\n",
       "                                                    ANTONIO R. TAVERAS AGROINDUSTRIAL S  \\\n",
       "LAS ANTILLAS EXPORT Y/O PEDRO RESTI                                            0.088120   \n",
       "-NOT AVAILABLE-                                                                0.075060   \n",
       "EXPORTADORA DE FRUTOS Y VEGETALES L                                            0.072748   \n",
       "DINU-S & COMPANY                                                               0.065488   \n",
       "EXPORTADORA DE FRUTOS Y VEGETABLES                                             0.065488   \n",
       "PRODUCTOS DEL TROPICO, C X A                                                   0.062939   \n",
       "ANTONIO R. TAVERAS AGROINDUSTRIAL S                                            1.000000   \n",
       "ANTILLIAN FOODS                                                                0.054768   \n",
       "EXOTICOS ORIENTALES, SRL                                                       0.054768   \n",
       "EXPORTADORA GARABITO                                                           0.048733   \n",
       "CHORUS LOGISTICS CO., LTD.                                                     0.041988   \n",
       "WINFRESH LTD                                                                   0.041988   \n",
       "SABANETA KM 5 1/2                                                              0.088120   \n",
       "                                                                               0.075060   \n",
       "ENTRADA DE LAS CABUYAS                                                         0.072748   \n",
       "ALTO DEL YAQUE ARRIBA #40                                                      0.072748   \n",
       "CARR SANCHEZ KM 28 MADRE VIEJA SAN CRISTOBAL DO                                0.067968   \n",
       "1, CARRETERA JAMO, LOS RIELES                                                  0.065488   \n",
       "CARR MAO GUAYUBIN KM 23 CANA CHAPETON GUAYUBIN ...                             0.054768   \n",
       "CARRETERA SABANETA KM 7.5                                                      0.054768   \n",
       "CARR. DUARTE KM4 ESTANCIA NUEVA MOC ESPAILLAT DO                               0.846183   \n",
       "CALLE PRIMERA CAMBITA CLARABITO                                                0.048733   \n",
       "SMS PRODUCE INC                                                                0.088120   \n",
       "YALINI ENTERPRISES INC                                                         0.075060   \n",
       "EMPRESAS LA FAMOSA, INC.                                                       0.070385   \n",
       "ACROPOLLYS TRADING CORP                                                        0.070385   \n",
       "-NOT AVAILABLE-                                                                0.070385   \n",
       "SUNDINE PRODUCE, INC                                                           0.067968   \n",
       "JALARAN PRODUCE INC OR MAHENDRA                                                1.000000   \n",
       "YUMMY-S WORLD TRADING                                                          0.054768   \n",
       "...                                                                                 ...   \n",
       "GLDU5185124                                                                    0.029465   \n",
       "CONTAINER COUNT                                                                0.066719   \n",
       "Dominican Republic                                                             0.139469   \n",
       "China Taiwan                                                                   0.079553   \n",
       "United Kingdom                                                                 0.057592   \n",
       "South Korea                                                                    0.048733   \n",
       "Hong Kong                                                                      0.038232   \n",
       "Dominica                                                                       0.034110   \n",
       "Buffalo-Niagara Falls, New York                                                0.152304   \n",
       "TSCW                                                                           0.230659   \n",
       "SMLU                                                                           0.079553   \n",
       "MOLU                                                                           0.077327   \n",
       "PYRR                                                                           0.072748   \n",
       "GLEL                                                                           0.067968   \n",
       "CLAM                                                                           1.000000   \n",
       "FL                                                                             0.182470   \n",
       "PR                                                                             0.072748   \n",
       "VA                                                                             0.034110   \n",
       "NJ                                                                             0.034110   \n",
       "33404-6920                                                                     0.230659   \n",
       "33166                                                                          0.079553   \n",
       "681                                                                            0.072748   \n",
       "32203                                                                          1.000000   \n",
       "24773                                                                          0.230659   \n",
       "SANTO DOMINGO                                                                  0.067968   \n",
       "RIO HAINA, DR                                                                  0.879416   \n",
       "KAOHSIUNG - CFS                                                                0.057592   \n",
       "PORTSMOUTH GB                                                                  0.054768   \n",
       "RIO HAINA                                                                      0.051823   \n",
       "BUSAN - CY                                                                     0.045469   \n",
       "\n",
       "                                                    ANTILLIAN FOODS  \\\n",
       "LAS ANTILLAS EXPORT Y/O PEDRO RESTI                        0.083800   \n",
       "-NOT AVAILABLE-                                            0.071380   \n",
       "EXPORTADORA DE FRUTOS Y VEGETALES L                        0.069181   \n",
       "DINU-S & COMPANY                                           0.062278   \n",
       "EXPORTADORA DE FRUTOS Y VEGETABLES                         0.062278   \n",
       "PRODUCTOS DEL TROPICO, C X A                               0.059854   \n",
       "ANTONIO R. TAVERAS AGROINDUSTRIAL S                        0.054768   \n",
       "ANTILLIAN FOODS                                            1.000000   \n",
       "EXOTICOS ORIENTALES, SRL                                   0.052083   \n",
       "EXPORTADORA GARABITO                                       0.046344   \n",
       "CHORUS LOGISTICS CO., LTD.                                 0.039930   \n",
       "WINFRESH LTD                                               0.039930   \n",
       "SABANETA KM 5 1/2                                          0.083800   \n",
       "                                                           0.071380   \n",
       "ENTRADA DE LAS CABUYAS                                     0.069181   \n",
       "ALTO DEL YAQUE ARRIBA #40                                  0.069181   \n",
       "CARR SANCHEZ KM 28 MADRE VIEJA SAN CRISTOBAL DO            0.064636   \n",
       "1, CARRETERA JAMO, LOS RIELES                              0.062278   \n",
       "CARR MAO GUAYUBIN KM 23 CANA CHAPETON GUAYUBIN ...         1.000000   \n",
       "CARRETERA SABANETA KM 7.5                                  0.052083   \n",
       "CARR. DUARTE KM4 ESTANCIA NUEVA MOC ESPAILLAT DO           0.046344   \n",
       "CALLE PRIMERA CAMBITA CLARABITO                            0.046344   \n",
       "SMS PRODUCE INC                                            0.083800   \n",
       "YALINI ENTERPRISES INC                                     0.071380   \n",
       "EMPRESAS LA FAMOSA, INC.                                   0.066935   \n",
       "ACROPOLLYS TRADING CORP                                    0.066935   \n",
       "-NOT AVAILABLE-                                            0.066935   \n",
       "SUNDINE PRODUCE, INC                                       0.064636   \n",
       "JALARAN PRODUCE INC OR MAHENDRA                            0.054768   \n",
       "YUMMY-S WORLD TRADING                                      0.052083   \n",
       "...                                                             ...   \n",
       "GLDU5185124                                                0.028021   \n",
       "CONTAINER COUNT                                            0.063449   \n",
       "Dominican Republic                                         0.132631   \n",
       "China Taiwan                                               0.075653   \n",
       "United Kingdom                                             0.054768   \n",
       "South Korea                                                0.046344   \n",
       "Hong Kong                                                  0.036358   \n",
       "Dominica                                                   0.032437   \n",
       "Buffalo-Niagara Falls, New York                            0.144838   \n",
       "TSCW                                                       0.219351   \n",
       "SMLU                                                       0.688446   \n",
       "MOLU                                                       0.073536   \n",
       "PYRR                                                       0.069181   \n",
       "GLEL                                                       0.064636   \n",
       "CLAM                                                       0.054768   \n",
       "FL                                                         0.173524   \n",
       "PR                                                         0.069181   \n",
       "VA                                                         0.032437   \n",
       "NJ                                                         0.032437   \n",
       "33404-6920                                                 0.219351   \n",
       "33166                                                      0.688446   \n",
       "681                                                        0.069181   \n",
       "32203                                                      0.054768   \n",
       "24773                                                      0.219351   \n",
       "SANTO DOMINGO                                              0.064636   \n",
       "RIO HAINA, DR                                              0.062278   \n",
       "KAOHSIUNG - CFS                                            0.054768   \n",
       "PORTSMOUTH GB                                              0.052083   \n",
       "RIO HAINA                                                  0.724999   \n",
       "BUSAN - CY                                                 0.043240   \n",
       "\n",
       "                                                    EXOTICOS ORIENTALES, SRL  \\\n",
       "LAS ANTILLAS EXPORT Y/O PEDRO RESTI                                 0.083800   \n",
       "-NOT AVAILABLE-                                                     0.071380   \n",
       "EXPORTADORA DE FRUTOS Y VEGETALES L                                 0.069181   \n",
       "DINU-S & COMPANY                                                    0.062278   \n",
       "EXPORTADORA DE FRUTOS Y VEGETABLES                                  0.062278   \n",
       "PRODUCTOS DEL TROPICO, C X A                                        0.059854   \n",
       "ANTONIO R. TAVERAS AGROINDUSTRIAL S                                 0.054768   \n",
       "ANTILLIAN FOODS                                                     0.052083   \n",
       "EXOTICOS ORIENTALES, SRL                                            1.000000   \n",
       "EXPORTADORA GARABITO                                                0.046344   \n",
       "CHORUS LOGISTICS CO., LTD.                                          0.039930   \n",
       "WINFRESH LTD                                                        0.039930   \n",
       "SABANETA KM 5 1/2                                                   0.083800   \n",
       "                                                                    0.071380   \n",
       "ENTRADA DE LAS CABUYAS                                              0.069181   \n",
       "ALTO DEL YAQUE ARRIBA #40                                           0.069181   \n",
       "CARR SANCHEZ KM 28 MADRE VIEJA SAN CRISTOBAL DO                     0.064636   \n",
       "1, CARRETERA JAMO, LOS RIELES                                       0.062278   \n",
       "CARR MAO GUAYUBIN KM 23 CANA CHAPETON GUAYUBIN ...                  0.052083   \n",
       "CARRETERA SABANETA KM 7.5                                           1.000000   \n",
       "CARR. DUARTE KM4 ESTANCIA NUEVA MOC ESPAILLAT DO                    0.046344   \n",
       "CALLE PRIMERA CAMBITA CLARABITO                                     0.046344   \n",
       "SMS PRODUCE INC                                                     0.083800   \n",
       "YALINI ENTERPRISES INC                                              0.071380   \n",
       "EMPRESAS LA FAMOSA, INC.                                            0.066935   \n",
       "ACROPOLLYS TRADING CORP                                             0.066935   \n",
       "-NOT AVAILABLE-                                                     0.066935   \n",
       "SUNDINE PRODUCE, INC                                                0.064636   \n",
       "JALARAN PRODUCE INC OR MAHENDRA                                     0.054768   \n",
       "YUMMY-S WORLD TRADING                                               0.052083   \n",
       "...                                                                      ...   \n",
       "GLDU5185124                                                         0.028021   \n",
       "CONTAINER COUNT                                                     0.063449   \n",
       "Dominican Republic                                                  0.132631   \n",
       "China Taiwan                                                        0.075653   \n",
       "United Kingdom                                                      0.054768   \n",
       "South Korea                                                         0.046344   \n",
       "Hong Kong                                                           0.036358   \n",
       "Dominica                                                            0.032437   \n",
       "Buffalo-Niagara Falls, New York                                     0.144838   \n",
       "TSCW                                                                0.237442   \n",
       "SMLU                                                                0.075653   \n",
       "MOLU                                                                0.073536   \n",
       "PYRR                                                                0.069181   \n",
       "GLEL                                                                0.064636   \n",
       "CLAM                                                                0.054768   \n",
       "FL                                                                  0.173524   \n",
       "PR                                                                  0.069181   \n",
       "VA                                                                  0.032437   \n",
       "NJ                                                                  0.032437   \n",
       "33404-6920                                                          0.237442   \n",
       "33166                                                               0.075653   \n",
       "681                                                                 0.069181   \n",
       "32203                                                               0.054768   \n",
       "24773                                                               0.237442   \n",
       "SANTO DOMINGO                                                       0.064636   \n",
       "RIO HAINA, DR                                                       0.062278   \n",
       "KAOHSIUNG - CFS                                                     0.054768   \n",
       "PORTSMOUTH GB                                                       0.052083   \n",
       "RIO HAINA                                                           0.049282   \n",
       "BUSAN - CY                                                          0.043240   \n",
       "\n",
       "                                                    EXPORTADORA GARABITO  ...  \\\n",
       "LAS ANTILLAS EXPORT Y/O PEDRO RESTI                             0.074566  ...   \n",
       "-NOT AVAILABLE-                                                 0.063514  ...   \n",
       "EXPORTADORA DE FRUTOS Y VEGETALES L                             0.061558  ...   \n",
       "DINU-S & COMPANY                                                0.055415  ...   \n",
       "EXPORTADORA DE FRUTOS Y VEGETABLES                              0.055415  ...   \n",
       "PRODUCTOS DEL TROPICO, C X A                                    0.053258  ...   \n",
       "ANTONIO R. TAVERAS AGROINDUSTRIAL S                             0.048733  ...   \n",
       "ANTILLIAN FOODS                                                 0.046344  ...   \n",
       "EXOTICOS ORIENTALES, SRL                                        0.046344  ...   \n",
       "EXPORTADORA GARABITO                                            1.000000  ...   \n",
       "CHORUS LOGISTICS CO., LTD.                                      0.035530  ...   \n",
       "WINFRESH LTD                                                    0.035530  ...   \n",
       "SABANETA KM 5 1/2                                               0.074566  ...   \n",
       "                                                                0.063514  ...   \n",
       "ENTRADA DE LAS CABUYAS                                          0.061558  ...   \n",
       "ALTO DEL YAQUE ARRIBA #40                                       0.061558  ...   \n",
       "CARR SANCHEZ KM 28 MADRE VIEJA SAN CRISTOBAL DO                 0.057513  ...   \n",
       "1, CARRETERA JAMO, LOS RIELES                                   0.055415  ...   \n",
       "CARR MAO GUAYUBIN KM 23 CANA CHAPETON GUAYUBIN ...              0.046344  ...   \n",
       "CARRETERA SABANETA KM 7.5                                       0.046344  ...   \n",
       "CARR. DUARTE KM4 ESTANCIA NUEVA MOC ESPAILLAT DO                0.041237  ...   \n",
       "CALLE PRIMERA CAMBITA CLARABITO                                 1.000000  ...   \n",
       "SMS PRODUCE INC                                                 0.074566  ...   \n",
       "YALINI ENTERPRISES INC                                          0.063514  ...   \n",
       "EMPRESAS LA FAMOSA, INC.                                        0.059559  ...   \n",
       "ACROPOLLYS TRADING CORP                                         0.059559  ...   \n",
       "-NOT AVAILABLE-                                                 0.059559  ...   \n",
       "SUNDINE PRODUCE, INC                                            0.057513  ...   \n",
       "JALARAN PRODUCE INC OR MAHENDRA                                 0.048733  ...   \n",
       "YUMMY-S WORLD TRADING                                           0.889805  ...   \n",
       "...                                                                  ...  ...   \n",
       "GLDU5185124                                                     0.024933  ...   \n",
       "CONTAINER COUNT                                                 0.056457  ...   \n",
       "Dominican Republic                                              0.118016  ...   \n",
       "China Taiwan                                                    0.067317  ...   \n",
       "United Kingdom                                                  0.048733  ...   \n",
       "South Korea                                                     0.041237  ...   \n",
       "Hong Kong                                                       0.032352  ...   \n",
       "Dominica                                                        0.028863  ...   \n",
       "Buffalo-Niagara Falls, New York                                 0.128877  ...   \n",
       "TSCW                                                            0.211277  ...   \n",
       "SMLU                                                            0.067317  ...   \n",
       "MOLU                                                            0.065433  ...   \n",
       "PYRR                                                            0.061558  ...   \n",
       "GLEL                                                            0.057513  ...   \n",
       "CLAM                                                            0.048733  ...   \n",
       "FL                                                              0.154403  ...   \n",
       "PR                                                              0.061558  ...   \n",
       "VA                                                              0.028863  ...   \n",
       "NJ                                                              0.028863  ...   \n",
       "33404-6920                                                      0.211277  ...   \n",
       "33166                                                           0.067317  ...   \n",
       "681                                                             0.061558  ...   \n",
       "32203                                                           0.048733  ...   \n",
       "24773                                                           0.211277  ...   \n",
       "SANTO DOMINGO                                                   0.057513  ...   \n",
       "RIO HAINA, DR                                                   0.055415  ...   \n",
       "KAOHSIUNG - CFS                                                 0.048733  ...   \n",
       "PORTSMOUTH GB                                                   0.046344  ...   \n",
       "RIO HAINA                                                       0.043852  ...   \n",
       "BUSAN - CY                                                      0.038475  ...   \n",
       "\n",
       "                                                       33166       681  \\\n",
       "LAS ANTILLAS EXPORT Y/O PEDRO RESTI                 0.121724  0.111310   \n",
       "-NOT AVAILABLE-                                     0.045505  0.094813   \n",
       "EXPORTADORA DE FRUTOS Y VEGETALES L                 0.100489  0.091892   \n",
       "DINU-S & COMPANY                                    0.090462  0.082723   \n",
       "EXPORTADORA DE FRUTOS Y VEGETABLES                  0.090462  0.082723   \n",
       "PRODUCTOS DEL TROPICO, C X A                        0.086940  0.865171   \n",
       "ANTONIO R. TAVERAS AGROINDUSTRIAL S                 0.079553  0.072748   \n",
       "ANTILLIAN FOODS                                     0.688446  0.069181   \n",
       "EXOTICOS ORIENTALES, SRL                            0.075653  0.069181   \n",
       "EXPORTADORA GARABITO                                0.067317  0.061558   \n",
       "CHORUS LOGISTICS CO., LTD.                          0.058000  0.053038   \n",
       "WINFRESH LTD                                        0.058000  0.053038   \n",
       "SABANETA KM 5 1/2                                   0.121724  0.111310   \n",
       "                                                    0.045505  0.094813   \n",
       "ENTRADA DE LAS CABUYAS                              0.100489  0.091892   \n",
       "ALTO DEL YAQUE ARRIBA #40                           0.100489  0.091892   \n",
       "CARR SANCHEZ KM 28 MADRE VIEJA SAN CRISTOBAL DO     0.093887  0.934300   \n",
       "1, CARRETERA JAMO, LOS RIELES                       0.090462  0.082723   \n",
       "CARR MAO GUAYUBIN KM 23 CANA CHAPETON GUAYUBIN ...  0.688446  0.069181   \n",
       "CARRETERA SABANETA KM 7.5                           0.075653  0.069181   \n",
       "CARR. DUARTE KM4 ESTANCIA NUEVA MOC ESPAILLAT DO    0.067317  0.061558   \n",
       "CALLE PRIMERA CAMBITA CLARABITO                     0.067317  0.061558   \n",
       "SMS PRODUCE INC                                     0.121724  0.111310   \n",
       "YALINI ENTERPRISES INC                              0.103683  0.094813   \n",
       "EMPRESAS LA FAMOSA, INC.                            0.097226  0.967531   \n",
       "ACROPOLLYS TRADING CORP                             0.097226  0.088908   \n",
       "-NOT AVAILABLE-                                     0.035852  0.088908   \n",
       "SUNDINE PRODUCE, INC                                0.093887  0.085855   \n",
       "JALARAN PRODUCE INC OR MAHENDRA                     0.079553  0.072748   \n",
       "YUMMY-S WORLD TRADING                               0.075653  0.069181   \n",
       "...                                                      ...       ...   \n",
       "GLDU5185124                                         0.040702  0.037220   \n",
       "CONTAINER COUNT                                     0.092162  0.111651   \n",
       "Dominican Republic                                  0.192653  0.176171   \n",
       "China Taiwan                                        0.109890  0.100489   \n",
       "United Kingdom                                      0.079553  0.072748   \n",
       "South Korea                                         0.067317  0.061558   \n",
       "Hong Kong                                           0.052812  0.048294   \n",
       "Dominica                                            0.047117  0.043086   \n",
       "Buffalo-Niagara Falls, New York                     0.210384  0.192385   \n",
       "TSCW                                                0.318618  0.291360   \n",
       "SMLU                                                1.000000  0.100489   \n",
       "MOLU                                                0.106815  0.097676   \n",
       "PYRR                                                0.100489  1.000000   \n",
       "GLEL                                                0.093887  0.085855   \n",
       "CLAM                                                0.079553  0.072748   \n",
       "FL                                                  0.252052  0.398683   \n",
       "PR                                                  0.100489  1.000000   \n",
       "VA                                                  0.047117  0.043086   \n",
       "NJ                                                  0.047117  0.043086   \n",
       "33404-6920                                          0.318618  0.291360   \n",
       "33166                                               1.000000  0.100489   \n",
       "681                                                 0.100489  1.000000   \n",
       "32203                                               0.079553  0.072748   \n",
       "24773                                               0.318618  0.291360   \n",
       "SANTO DOMINGO                                       0.093887  0.934300   \n",
       "RIO HAINA, DR                                       0.105323  0.082723   \n",
       "KAOHSIUNG - CFS                                     0.079553  0.072748   \n",
       "PORTSMOUTH GB                                       0.075653  0.069181   \n",
       "RIO HAINA                                           0.490755  0.065461   \n",
       "BUSAN - CY                                          0.062807  0.057434   \n",
       "\n",
       "                                                       32203     24773  \\\n",
       "LAS ANTILLAS EXPORT Y/O PEDRO RESTI                 0.088120  0.382036   \n",
       "-NOT AVAILABLE-                                     0.075060  0.300620   \n",
       "EXPORTADORA DE FRUTOS Y VEGETALES L                 0.072748  0.315390   \n",
       "DINU-S & COMPANY                                    0.065488  0.283919   \n",
       "EXPORTADORA DE FRUTOS Y VEGETABLES                  0.065488  0.283919   \n",
       "PRODUCTOS DEL TROPICO, C X A                        0.062939  0.252076   \n",
       "ANTONIO R. TAVERAS AGROINDUSTRIAL S                 1.000000  0.230659   \n",
       "ANTILLIAN FOODS                                     0.054768  0.219351   \n",
       "EXOTICOS ORIENTALES, SRL                            0.054768  0.237442   \n",
       "EXPORTADORA GARABITO                                0.048733  0.211277   \n",
       "CHORUS LOGISTICS CO., LTD.                          0.041988  0.168166   \n",
       "WINFRESH LTD                                        0.041988  0.168166   \n",
       "SABANETA KM 5 1/2                                   0.088120  0.382036   \n",
       "                                                    0.075060  0.300620   \n",
       "ENTRADA DE LAS CABUYAS                              0.072748  0.315390   \n",
       "ALTO DEL YAQUE ARRIBA #40                           0.072748  0.315390   \n",
       "CARR SANCHEZ KM 28 MADRE VIEJA SAN CRISTOBAL DO     0.067968  0.272218   \n",
       "1, CARRETERA JAMO, LOS RIELES                       0.065488  0.283919   \n",
       "CARR MAO GUAYUBIN KM 23 CANA CHAPETON GUAYUBIN ...  0.054768  0.219351   \n",
       "CARRETERA SABANETA KM 7.5                           0.054768  0.237442   \n",
       "CARR. DUARTE KM4 ESTANCIA NUEVA MOC ESPAILLAT DO    0.846183  0.195180   \n",
       "CALLE PRIMERA CAMBITA CLARABITO                     0.048733  0.211277   \n",
       "SMS PRODUCE INC                                     0.088120  0.382036   \n",
       "YALINI ENTERPRISES INC                              0.075060  0.325414   \n",
       "EMPRESAS LA FAMOSA, INC.                            0.070385  0.281900   \n",
       "ACROPOLLYS TRADING CORP                             0.070385  0.305149   \n",
       "-NOT AVAILABLE-                                     0.070385  0.281900   \n",
       "SUNDINE PRODUCE, INC                                0.067968  0.294668   \n",
       "JALARAN PRODUCE INC OR MAHENDRA                     1.000000  0.230659   \n",
       "YUMMY-S WORLD TRADING                               0.054768  0.237442   \n",
       "...                                                      ...       ...   \n",
       "GLDU5185124                                         0.029465  0.118012   \n",
       "CONTAINER COUNT                                     0.066719  0.267217   \n",
       "Dominican Republic                                  0.139469  0.558583   \n",
       "China Taiwan                                        0.079553  0.318618   \n",
       "United Kingdom                                      0.057592  0.230659   \n",
       "South Korea                                         0.048733  0.195180   \n",
       "Hong Kong                                           0.038232  0.153124   \n",
       "Dominica                                            0.034110  0.136612   \n",
       "Buffalo-Niagara Falls, New York                     0.152304  0.660300   \n",
       "TSCW                                                0.230659  1.000000   \n",
       "SMLU                                                0.079553  0.318618   \n",
       "MOLU                                                0.077327  0.309701   \n",
       "PYRR                                                0.072748  0.291360   \n",
       "GLEL                                                0.067968  0.272218   \n",
       "CLAM                                                1.000000  0.230659   \n",
       "FL                                                  0.182470  0.730806   \n",
       "PR                                                  0.072748  0.291360   \n",
       "VA                                                  0.034110  0.136612   \n",
       "NJ                                                  0.034110  0.136612   \n",
       "33404-6920                                          0.230659  1.000000   \n",
       "33166                                               0.079553  0.318618   \n",
       "681                                                 0.072748  0.291360   \n",
       "32203                                               1.000000  0.230659   \n",
       "24773                                               0.230659  1.000000   \n",
       "SANTO DOMINGO                                       0.067968  0.272218   \n",
       "RIO HAINA, DR                                       0.879416  0.262287   \n",
       "KAOHSIUNG - CFS                                     0.057592  0.230659   \n",
       "PORTSMOUTH GB                                       0.054768  0.219351   \n",
       "RIO HAINA                                           0.051823  0.207555   \n",
       "BUSAN - CY                                          0.045469  0.182105   \n",
       "\n",
       "                                                    SANTO DOMINGO  \\\n",
       "LAS ANTILLAS EXPORT Y/O PEDRO RESTI                      0.103997   \n",
       "-NOT AVAILABLE-                                          0.088583   \n",
       "EXPORTADORA DE FRUTOS Y VEGETALES L                      0.085855   \n",
       "DINU-S & COMPANY                                         0.077288   \n",
       "EXPORTADORA DE FRUTOS Y VEGETABLES                       0.077288   \n",
       "PRODUCTOS DEL TROPICO, C X A                             0.926011   \n",
       "ANTONIO R. TAVERAS AGROINDUSTRIAL S                      0.067968   \n",
       "ANTILLIAN FOODS                                          0.064636   \n",
       "EXOTICOS ORIENTALES, SRL                                 0.064636   \n",
       "EXPORTADORA GARABITO                                     0.057513   \n",
       "CHORUS LOGISTICS CO., LTD.                               0.049553   \n",
       "WINFRESH LTD                                             0.049553   \n",
       "SABANETA KM 5 1/2                                        0.103997   \n",
       "                                                         0.088583   \n",
       "ENTRADA DE LAS CABUYAS                                   0.085855   \n",
       "ALTO DEL YAQUE ARRIBA #40                                0.085855   \n",
       "CARR SANCHEZ KM 28 MADRE VIEJA SAN CRISTOBAL DO          0.855971   \n",
       "1, CARRETERA JAMO, LOS RIELES                            0.077288   \n",
       "CARR MAO GUAYUBIN KM 23 CANA CHAPETON GUAYUBIN ...       0.064636   \n",
       "CARRETERA SABANETA KM 7.5                                0.064636   \n",
       "CARR. DUARTE KM4 ESTANCIA NUEVA MOC ESPAILLAT DO         0.057513   \n",
       "CALLE PRIMERA CAMBITA CLARABITO                          0.057513   \n",
       "SMS PRODUCE INC                                          0.103997   \n",
       "YALINI ENTERPRISES INC                                   0.088583   \n",
       "EMPRESAS LA FAMOSA, INC.                                 0.895739   \n",
       "ACROPOLLYS TRADING CORP                                  0.083067   \n",
       "-NOT AVAILABLE-                                          0.083067   \n",
       "SUNDINE PRODUCE, INC                                     0.080214   \n",
       "JALARAN PRODUCE INC OR MAHENDRA                          0.067968   \n",
       "YUMMY-S WORLD TRADING                                    0.064636   \n",
       "...                                                           ...   \n",
       "GLDU5185124                                              0.034774   \n",
       "CONTAINER COUNT                                          0.128723   \n",
       "Dominican Republic                                       0.164597   \n",
       "China Taiwan                                             0.093887   \n",
       "United Kingdom                                           0.067968   \n",
       "South Korea                                              0.057513   \n",
       "Hong Kong                                                0.045121   \n",
       "Dominica                                                 0.040255   \n",
       "Buffalo-Niagara Falls, New York                          0.179745   \n",
       "TSCW                                                     0.272218   \n",
       "SMLU                                                     0.093887   \n",
       "MOLU                                                     0.091259   \n",
       "PYRR                                                     0.934300   \n",
       "GLEL                                                     0.080214   \n",
       "CLAM                                                     0.067968   \n",
       "FL                                                       0.372489   \n",
       "PR                                                       0.934300   \n",
       "VA                                                       0.040255   \n",
       "NJ                                                       0.040255   \n",
       "33404-6920                                               0.272218   \n",
       "33166                                                    0.093887   \n",
       "681                                                      0.934300   \n",
       "32203                                                    0.067968   \n",
       "24773                                                    0.272218   \n",
       "SANTO DOMINGO                                            1.000000   \n",
       "RIO HAINA, DR                                            0.077288   \n",
       "KAOHSIUNG - CFS                                          0.067968   \n",
       "PORTSMOUTH GB                                            0.064636   \n",
       "RIO HAINA                                                0.061160   \n",
       "BUSAN - CY                                               0.053661   \n",
       "\n",
       "                                                    RIO HAINA, DR  \\\n",
       "LAS ANTILLAS EXPORT Y/O PEDRO RESTI                      0.100203   \n",
       "-NOT AVAILABLE-                                          0.085352   \n",
       "EXPORTADORA DE FRUTOS Y VEGETALES L                      0.082723   \n",
       "DINU-S & COMPANY                                         0.074468   \n",
       "EXPORTADORA DE FRUTOS Y VEGETABLES                       0.074468   \n",
       "PRODUCTOS DEL TROPICO, C X A                             0.071569   \n",
       "ANTONIO R. TAVERAS AGROINDUSTRIAL S                      0.879416   \n",
       "ANTILLIAN FOODS                                          0.062278   \n",
       "EXOTICOS ORIENTALES, SRL                                 0.062278   \n",
       "EXPORTADORA GARABITO                                     0.055415   \n",
       "CHORUS LOGISTICS CO., LTD.                               0.047746   \n",
       "WINFRESH LTD                                             0.047746   \n",
       "SABANETA KM 5 1/2                                        0.100203   \n",
       "                                                         0.085352   \n",
       "ENTRADA DE LAS CABUYAS                                   0.082723   \n",
       "ALTO DEL YAQUE ARRIBA #40                                0.082723   \n",
       "CARR SANCHEZ KM 28 MADRE VIEJA SAN CRISTOBAL DO          0.077288   \n",
       "1, CARRETERA JAMO, LOS RIELES                            0.074468   \n",
       "CARR MAO GUAYUBIN KM 23 CANA CHAPETON GUAYUBIN ...       0.062278   \n",
       "CARRETERA SABANETA KM 7.5                                0.062278   \n",
       "CARR. DUARTE KM4 ESTANCIA NUEVA MOC ESPAILLAT DO         0.744148   \n",
       "CALLE PRIMERA CAMBITA CLARABITO                          0.055415   \n",
       "SMS PRODUCE INC                                          0.100203   \n",
       "YALINI ENTERPRISES INC                                   0.085352   \n",
       "EMPRESAS LA FAMOSA, INC.                                 0.080037   \n",
       "ACROPOLLYS TRADING CORP                                  0.080037   \n",
       "-NOT AVAILABLE-                                          0.080037   \n",
       "SUNDINE PRODUCE, INC                                     0.077288   \n",
       "JALARAN PRODUCE INC OR MAHENDRA                          0.879416   \n",
       "YUMMY-S WORLD TRADING                                    0.062278   \n",
       "...                                                           ...   \n",
       "GLDU5185124                                              0.033506   \n",
       "CONTAINER COUNT                                          0.075868   \n",
       "Dominican Republic                                       0.158592   \n",
       "China Taiwan                                             0.090462   \n",
       "United Kingdom                                           0.065488   \n",
       "South Korea                                              0.055415   \n",
       "Hong Kong                                                0.043475   \n",
       "Dominica                                                 0.038787   \n",
       "Buffalo-Niagara Falls, New York                          0.173188   \n",
       "TSCW                                                     0.262287   \n",
       "SMLU                                                     0.105323   \n",
       "MOLU                                                     0.087930   \n",
       "PYRR                                                     0.082723   \n",
       "GLEL                                                     0.077288   \n",
       "CLAM                                                     0.879416   \n",
       "FL                                                       0.207489   \n",
       "PR                                                       0.082723   \n",
       "VA                                                       0.038787   \n",
       "NJ                                                       0.038787   \n",
       "33404-6920                                               0.262287   \n",
       "33166                                                    0.105323   \n",
       "681                                                      0.082723   \n",
       "32203                                                    0.879416   \n",
       "24773                                                    0.262287   \n",
       "SANTO DOMINGO                                            0.077288   \n",
       "RIO HAINA, DR                                            1.000000   \n",
       "KAOHSIUNG - CFS                                          0.065488   \n",
       "PORTSMOUTH GB                                            0.062278   \n",
       "RIO HAINA                                                0.058929   \n",
       "BUSAN - CY                                               0.051703   \n",
       "\n",
       "                                                    KAOHSIUNG - CFS  \\\n",
       "LAS ANTILLAS EXPORT Y/O PEDRO RESTI                        0.088120   \n",
       "-NOT AVAILABLE-                                            0.767277   \n",
       "EXPORTADORA DE FRUTOS Y VEGETALES L                        0.072748   \n",
       "DINU-S & COMPANY                                           0.065488   \n",
       "EXPORTADORA DE FRUTOS Y VEGETABLES                         0.065488   \n",
       "PRODUCTOS DEL TROPICO, C X A                               0.062939   \n",
       "ANTONIO R. TAVERAS AGROINDUSTRIAL S                        0.057592   \n",
       "ANTILLIAN FOODS                                            0.054768   \n",
       "EXOTICOS ORIENTALES, SRL                                   0.054768   \n",
       "EXPORTADORA GARABITO                                       0.048733   \n",
       "CHORUS LOGISTICS CO., LTD.                                 0.041988   \n",
       "WINFRESH LTD                                               0.041988   \n",
       "SABANETA KM 5 1/2                                          0.088120   \n",
       "                                                           0.767277   \n",
       "ENTRADA DE LAS CABUYAS                                     0.072748   \n",
       "ALTO DEL YAQUE ARRIBA #40                                  0.072748   \n",
       "CARR SANCHEZ KM 28 MADRE VIEJA SAN CRISTOBAL DO            0.067968   \n",
       "1, CARRETERA JAMO, LOS RIELES                              0.065488   \n",
       "CARR MAO GUAYUBIN KM 23 CANA CHAPETON GUAYUBIN ...         0.054768   \n",
       "CARRETERA SABANETA KM 7.5                                  0.054768   \n",
       "CARR. DUARTE KM4 ESTANCIA NUEVA MOC ESPAILLAT DO           0.048733   \n",
       "CALLE PRIMERA CAMBITA CLARABITO                            0.048733   \n",
       "SMS PRODUCE INC                                            0.088120   \n",
       "YALINI ENTERPRISES INC                                     0.075060   \n",
       "EMPRESAS LA FAMOSA, INC.                                   0.070385   \n",
       "ACROPOLLYS TRADING CORP                                    0.070385   \n",
       "-NOT AVAILABLE-                                            0.818231   \n",
       "SUNDINE PRODUCE, INC                                       0.067968   \n",
       "JALARAN PRODUCE INC OR MAHENDRA                            0.057592   \n",
       "YUMMY-S WORLD TRADING                                      0.054768   \n",
       "...                                                             ...   \n",
       "GLDU5185124                                                0.511628   \n",
       "CONTAINER COUNT                                            0.066719   \n",
       "Dominican Republic                                         0.412936   \n",
       "China Taiwan                                               0.723936   \n",
       "United Kingdom                                             0.057592   \n",
       "South Korea                                                0.048733   \n",
       "Hong Kong                                                  0.038232   \n",
       "Dominica                                                   0.034110   \n",
       "Buffalo-Niagara Falls, New York                            0.152304   \n",
       "TSCW                                                       0.230659   \n",
       "SMLU                                                       0.079553   \n",
       "MOLU                                                       0.744781   \n",
       "PYRR                                                       0.072748   \n",
       "GLEL                                                       0.067968   \n",
       "CLAM                                                       0.057592   \n",
       "FL                                                         0.315623   \n",
       "PR                                                         0.072748   \n",
       "VA                                                         0.034110   \n",
       "NJ                                                         0.034110   \n",
       "33404-6920                                                 0.230659   \n",
       "33166                                                      0.079553   \n",
       "681                                                        0.072748   \n",
       "32203                                                      0.057592   \n",
       "24773                                                      0.230659   \n",
       "SANTO DOMINGO                                              0.067968   \n",
       "RIO HAINA, DR                                              0.065488   \n",
       "KAOHSIUNG - CFS                                            1.000000   \n",
       "PORTSMOUTH GB                                              0.054768   \n",
       "RIO HAINA                                                  0.051823   \n",
       "BUSAN - CY                                                 0.045469   \n",
       "\n",
       "                                                    PORTSMOUTH GB  RIO HAINA  \\\n",
       "LAS ANTILLAS EXPORT Y/O PEDRO RESTI                      0.083800   0.079294   \n",
       "-NOT AVAILABLE-                                          0.071380   0.067541   \n",
       "EXPORTADORA DE FRUTOS Y VEGETALES L                      0.069181   0.065461   \n",
       "DINU-S & COMPANY                                         0.062278   0.058929   \n",
       "EXPORTADORA DE FRUTOS Y VEGETABLES                       0.062278   0.058929   \n",
       "PRODUCTOS DEL TROPICO, C X A                             0.059854   0.056635   \n",
       "ANTONIO R. TAVERAS AGROINDUSTRIAL S                      0.054768   0.051823   \n",
       "ANTILLIAN FOODS                                          0.052083   0.724999   \n",
       "EXOTICOS ORIENTALES, SRL                                 0.052083   0.049282   \n",
       "EXPORTADORA GARABITO                                     0.046344   0.043852   \n",
       "CHORUS LOGISTICS CO., LTD.                               0.039930   0.037782   \n",
       "WINFRESH LTD                                             0.766652   0.037782   \n",
       "SABANETA KM 5 1/2                                        0.083800   0.079294   \n",
       "                                                         0.071380   0.067541   \n",
       "ENTRADA DE LAS CABUYAS                                   0.069181   0.065461   \n",
       "ALTO DEL YAQUE ARRIBA #40                                0.069181   0.065461   \n",
       "CARR SANCHEZ KM 28 MADRE VIEJA SAN CRISTOBAL DO          0.064636   0.061160   \n",
       "1, CARRETERA JAMO, LOS RIELES                            0.062278   0.058929   \n",
       "CARR MAO GUAYUBIN KM 23 CANA CHAPETON GUAYUBIN ...       0.052083   0.724999   \n",
       "CARRETERA SABANETA KM 7.5                                0.052083   0.049282   \n",
       "CARR. DUARTE KM4 ESTANCIA NUEVA MOC ESPAILLAT DO         0.046344   0.043852   \n",
       "CALLE PRIMERA CAMBITA CLARABITO                          0.046344   0.043852   \n",
       "SMS PRODUCE INC                                          0.083800   0.079294   \n",
       "YALINI ENTERPRISES INC                                   0.071380   0.067541   \n",
       "EMPRESAS LA FAMOSA, INC.                                 0.066935   0.063335   \n",
       "ACROPOLLYS TRADING CORP                                  0.066935   0.063335   \n",
       "-NOT AVAILABLE-                                          0.066935   0.063335   \n",
       "SUNDINE PRODUCE, INC                                     0.064636   0.061160   \n",
       "JALARAN PRODUCE INC OR MAHENDRA                          0.054768   0.051823   \n",
       "YUMMY-S WORLD TRADING                                    0.052083   0.049282   \n",
       "...                                                           ...        ...   \n",
       "GLDU5185124                                              0.028021   0.026514   \n",
       "CONTAINER COUNT                                          0.063449   0.060037   \n",
       "Dominican Republic                                       0.392693   0.125499   \n",
       "China Taiwan                                             0.075653   0.071585   \n",
       "United Kingdom                                           0.950976   0.051823   \n",
       "South Korea                                              0.046344   0.043852   \n",
       "Hong Kong                                                0.036358   0.034403   \n",
       "Dominica                                                 0.032437   0.030693   \n",
       "Buffalo-Niagara Falls, New York                          0.144838   0.137049   \n",
       "TSCW                                                     0.219351   0.207555   \n",
       "SMLU                                                     0.075653   0.490755   \n",
       "MOLU                                                     0.073536   0.069582   \n",
       "PYRR                                                     0.069181   0.065461   \n",
       "GLEL                                                     0.805795   0.061160   \n",
       "CLAM                                                     0.054768   0.051823   \n",
       "FL                                                       0.300150   0.064592   \n",
       "PR                                                       0.069181   0.065461   \n",
       "VA                                                       0.032437   0.313751   \n",
       "NJ                                                       0.032437   0.030693   \n",
       "33404-6920                                               0.219351   0.207555   \n",
       "33166                                                    0.075653   0.490755   \n",
       "681                                                      0.069181   0.065461   \n",
       "32203                                                    0.054768   0.051823   \n",
       "24773                                                    0.219351   0.207555   \n",
       "SANTO DOMINGO                                            0.064636   0.061160   \n",
       "RIO HAINA, DR                                            0.062278   0.058929   \n",
       "KAOHSIUNG - CFS                                          0.054768   0.051823   \n",
       "PORTSMOUTH GB                                            1.000000   0.049282   \n",
       "RIO HAINA                                                0.049282   1.000000   \n",
       "BUSAN - CY                                               0.043240   0.040914   \n",
       "\n",
       "                                                    BUSAN - CY  \n",
       "LAS ANTILLAS EXPORT Y/O PEDRO RESTI                   0.069571  \n",
       "-NOT AVAILABLE-                                       0.059260  \n",
       "EXPORTADORA DE FRUTOS Y VEGETALES L                   0.057434  \n",
       "DINU-S & COMPANY                                      0.051703  \n",
       "EXPORTADORA DE FRUTOS Y VEGETABLES                    0.051703  \n",
       "PRODUCTOS DEL TROPICO, C X A                          0.049690  \n",
       "ANTONIO R. TAVERAS AGROINDUSTRIAL S                   0.045469  \n",
       "ANTILLIAN FOODS                                       0.043240  \n",
       "EXOTICOS ORIENTALES, SRL                              0.043240  \n",
       "EXPORTADORA GARABITO                                  0.038475  \n",
       "CHORUS LOGISTICS CO., LTD.                            0.923455  \n",
       "WINFRESH LTD                                          0.033150  \n",
       "SABANETA KM 5 1/2                                     0.069571  \n",
       "                                                      0.059260  \n",
       "ENTRADA DE LAS CABUYAS                                0.057434  \n",
       "ALTO DEL YAQUE ARRIBA #40                             0.057434  \n",
       "CARR SANCHEZ KM 28 MADRE VIEJA SAN CRISTOBAL DO       0.053661  \n",
       "1, CARRETERA JAMO, LOS RIELES                         0.051703  \n",
       "CARR MAO GUAYUBIN KM 23 CANA CHAPETON GUAYUBIN ...    0.043240  \n",
       "CARRETERA SABANETA KM 7.5                             0.043240  \n",
       "CARR. DUARTE KM4 ESTANCIA NUEVA MOC ESPAILLAT DO      0.038475  \n",
       "CALLE PRIMERA CAMBITA CLARABITO                       0.038475  \n",
       "SMS PRODUCE INC                                       0.069571  \n",
       "YALINI ENTERPRISES INC                                0.059260  \n",
       "EMPRESAS LA FAMOSA, INC.                              0.055569  \n",
       "ACROPOLLYS TRADING CORP                               0.055569  \n",
       "-NOT AVAILABLE-                                       0.055569  \n",
       "SUNDINE PRODUCE, INC                                  0.053661  \n",
       "JALARAN PRODUCE INC OR MAHENDRA                       0.045469  \n",
       "YUMMY-S WORLD TRADING                                 0.043240  \n",
       "...                                                        ...  \n",
       "GLDU5185124                                           0.023263  \n",
       "CONTAINER COUNT                                       0.145592  \n",
       "Dominican Republic                                    0.326013  \n",
       "China Taiwan                                          0.062807  \n",
       "United Kingdom                                        0.045469  \n",
       "South Korea                                           0.933013  \n",
       "Hong Kong                                             0.030184  \n",
       "Dominica                                              0.026930  \n",
       "Buffalo-Niagara Falls, New York                       0.120244  \n",
       "TSCW                                                  0.182105  \n",
       "SMLU                                                  0.062807  \n",
       "MOLU                                                  0.588004  \n",
       "PYRR                                                  0.057434  \n",
       "GLEL                                                  0.053661  \n",
       "CLAM                                                  0.045469  \n",
       "FL                                                    0.249184  \n",
       "PR                                                    0.057434  \n",
       "VA                                                    0.026930  \n",
       "NJ                                                    0.026930  \n",
       "33404-6920                                            0.182105  \n",
       "33166                                                 0.062807  \n",
       "681                                                   0.057434  \n",
       "32203                                                 0.045469  \n",
       "24773                                                 0.182105  \n",
       "SANTO DOMINGO                                         0.053661  \n",
       "RIO HAINA, DR                                         0.051703  \n",
       "KAOHSIUNG - CFS                                       0.045469  \n",
       "PORTSMOUTH GB                                         0.043240  \n",
       "RIO HAINA                                             0.040914  \n",
       "BUSAN - CY                                            1.000000  \n",
       "\n",
       "[122 rows x 122 columns]"
      ]
     },
     "execution_count": 164,
     "metadata": {},
     "output_type": "execute_result"
    }
   ],
   "source": [
    "yy"
   ]
  },
  {
   "cell_type": "code",
   "execution_count": 166,
   "metadata": {},
   "outputs": [
    {
     "name": "stdout",
     "output_type": "stream",
     "text": [
      "<class 'pandas.core.frame.DataFrame'>\n",
      "RangeIndex: 202 entries, 0 to 201\n",
      "Data columns (total 62 columns):\n",
      "LAS ANTILLAS EXPORT Y/O PEDRO RESTI                                           202 non-null uint8\n",
      "EXPORTADORA DE FRUTOS Y VEGETALES L                                           202 non-null uint8\n",
      "DINU-S & COMPANY                                                              202 non-null uint8\n",
      "EXPORTADORA DE FRUTOS Y VEGETABLES                                            202 non-null uint8\n",
      "PRODUCTOS DEL TROPICO, C X A                                                  202 non-null uint8\n",
      "ANTONIO R. TAVERAS AGROINDUSTRIAL S                                           202 non-null uint8\n",
      "ANTILLIAN FOODS                                                               202 non-null uint8\n",
      "EXOTICOS ORIENTALES, SRL                                                      202 non-null uint8\n",
      "EXPORTADORA GARABITO                                                          202 non-null uint8\n",
      "CHORUS LOGISTICS CO., LTD.                                                    202 non-null uint8\n",
      "WINFRESH LTD                                                                  202 non-null uint8\n",
      "ENTRADA DE LAS CABUYAS                                                        202 non-null uint8\n",
      "CARR SANCHEZ KM 28 MADRE VIEJA SAN CRISTOBAL DO                               202 non-null uint8\n",
      "CARR. DUARTE KM4 ESTANCIA NUEVA MOC ESPAILLAT DO                              202 non-null uint8\n",
      "SMS PRODUCE INC                                                               202 non-null uint8\n",
      "YALINI ENTERPRISES INC                                                        202 non-null uint8\n",
      "EMPRESAS LA FAMOSA, INC.                                                      202 non-null uint8\n",
      "SUNDINE PRODUCE, INC                                                          202 non-null uint8\n",
      "YUMMY-S WORLD TRADING                                                         202 non-null uint8\n",
      "JOCO PRODUCE INC                                                              202 non-null uint8\n",
      "ROAD 866 AND 865 BARRIO CANDEL ARENAS TOA BAJA, PR                            202 non-null uint8\n",
      "EXPEDITORS INTERNATIONAL WASHINGTO                                            202 non-null uint8\n",
      "3900 NW 79TH AVE STE 534 PH 305-591-8277 FX 305-592-3956 MIAMI FL 33166 US    202 non-null uint8\n",
      "TIME DIFFERENCE                                                               202 non-null float64\n",
      "WEIGHT (LB)                                                                   202 non-null float64\n",
      "Puerto Plata                                                                  202 non-null uint8\n",
      "Santo Domingo                                                                 202 non-null uint8\n",
      "Kaohsiung                                                                     202 non-null uint8\n",
      "Haina                                                                         202 non-null uint8\n",
      "All Other England South and East Coast Ports                                  202 non-null uint8\n",
      "Pusan                                                                         202 non-null uint8\n",
      "West Palm Beach, Florida                                                      202 non-null uint8\n",
      "San Juan, Puerto Rico                                                         202 non-null uint8\n",
      "Los Angeles, California                                                       202 non-null uint8\n",
      "New York, New York                                                            202 non-null uint8\n",
      "QUANTITY                                                                      202 non-null float64\n",
      "PCS                                                                           202 non-null uint8\n",
      "CTN                                                                           202 non-null uint8\n",
      "BOX                                                                           202 non-null uint8\n",
      "CNT                                                                           202 non-null uint8\n",
      "PKG                                                                           202 non-null uint8\n",
      "PANAMA                                                                        202 non-null uint8\n",
      "LIBERIA                                                                       202 non-null uint8\n",
      "NETHERLANDS                                                                   202 non-null uint8\n",
      "SPICA                                                                         202 non-null uint8\n",
      "AGULHAS STREAM                                                                202 non-null uint8\n",
      "KLIPPER STREAM                                                                202 non-null uint8\n",
      "NC                                                                            202 non-null uint8\n",
      "CMAU1609207 UESU4822396                                                       202 non-null uint8\n",
      "TCLU2428280                                                                   202 non-null uint8\n",
      "GLDU5185124                                                                   202 non-null uint8\n",
      "CONTAINER COUNT                                                               202 non-null int64\n",
      "Dominican Republic                                                            202 non-null uint8\n",
      "South Korea                                                                   202 non-null uint8\n",
      "Dominica                                                                      202 non-null uint8\n",
      "Buffalo-Niagara Falls, New York                                               202 non-null uint8\n",
      "MOLU                                                                          202 non-null uint8\n",
      "FL                                                                            202 non-null uint8\n",
      "VA                                                                            202 non-null uint8\n",
      "NJ                                                                            202 non-null uint8\n",
      "RIO HAINA, DR                                                                 202 non-null uint8\n",
      "RIO HAINA                                                                     202 non-null uint8\n",
      "dtypes: float64(3), int64(1), uint8(58)\n",
      "memory usage: 17.8 KB\n"
     ]
    }
   ],
   "source": [
    "#getting an insight into the cleaned data  \n",
    "imp1\n",
    "#imp1=np.array(imp1)\n",
    "imp1.info()\n",
    "imp1=imp1.astype(np.float64)"
   ]
  },
  {
   "cell_type": "code",
   "execution_count": null,
   "metadata": {},
   "outputs": [],
   "source": [
    "imp1=imp1.astype(np.float64)"
   ]
  },
  {
   "cell_type": "markdown",
   "metadata": {},
   "source": [
    "# Modeling of data using various clustering algorithms"
   ]
  },
  {
   "cell_type": "code",
   "execution_count": 167,
   "metadata": {},
   "outputs": [],
   "source": [
    "########## Clustering Algorithms\n",
    "\n",
    "from sklearn.cluster import KMeans\n",
    "from sklearn.cluster import MeanShift, estimate_bandwidth\n",
    "from sklearn.cluster import MiniBatchKMeans, AgglomerativeClustering, SpectralClustering\n",
    "from sklearn.cluster import DBSCAN, AffinityPropagation, Birch\n",
    "\n",
    "\n",
    "\n",
    "\n",
    "\n",
    "\n",
    "#kmeans\n",
    "kmeans = KMeans(n_clusters=3, random_state=0).fit(imp1)\n",
    "labels1 = kmeans.labels_\n",
    "labels1 = pd.DataFrame(labels1)\n",
    "\n",
    "\n",
    "#MeanShift\n",
    "bandwidth = estimate_bandwidth(imp1, quantile=0.1)\n",
    "ms = MeanShift(bandwidth=bandwidth, bin_seeding=True).fit(imp1)\n",
    "labels2 = ms.labels_\n",
    "labels2 = pd.DataFrame(labels2)\n",
    "\n",
    "\n",
    "#Mini Batch Kmeans\n",
    "mkmeans = MiniBatchKMeans(n_clusters=3, random_state=0).fit(imp1)\n",
    "labels3 = mkmeans.labels_\n",
    "labels3 = pd.DataFrame(labels3)\n",
    "\n",
    "\n",
    "#AgglomerativeClustering\n",
    "Agg = AgglomerativeClustering(n_clusters=3, affinity='euclidean', memory=None, connectivity=None, \n",
    "                              compute_full_tree='auto', linkage='ward', distance_threshold=None).fit(imp1)\n",
    "labels4 = Agg.labels_\n",
    "labels4 = pd.DataFrame(labels4)\n",
    "\n",
    "\n",
    "\n",
    "\n",
    "#DBSCAN\n",
    "DB = DBSCAN(eps=0.5, min_samples=5, metric='euclidean',\n",
    "                 metric_params=None, algorithm='auto', leaf_size=30, p=None, n_jobs=None).fit(imp1)\n",
    "labels6 = DB.labels_\n",
    "labels6 = pd.DataFrame(labels6)\n",
    "\n",
    "\n",
    "#AffinityPropagation\n",
    "Affinity = AffinityPropagation(damping=0.5, max_iter=200, convergence_iter=15,\n",
    "                               copy=True, preference=None, affinity='euclidean', verbose=False).fit(imp1)\n",
    "labels7 = Affinity.labels_\n",
    "labels7 = pd.DataFrame(labels7)\n",
    "\n",
    "\n",
    "### Birch\n",
    "B = Birch(n_clusters = 3).fit(imp1)\n",
    "\n",
    "labels8 = B.labels_\n",
    "labels8 = pd.DataFrame(labels8)\n",
    "\n",
    "\n",
    "\n",
    "\n"
   ]
  },
  {
   "cell_type": "markdown",
   "metadata": {},
   "source": [
    "* **Finally,Concatinating all the results of clustering algorithms to the main excel sheet to have a better view of the data** "
   ]
  },
  {
   "cell_type": "code",
   "execution_count": 174,
   "metadata": {},
   "outputs": [],
   "source": [
    "### Put them all to the main array \n",
    "df1 = pd.read_excel('C:/Users/chint/Downloads/banana-republic-copy.xls')\n",
    "\n",
    "df1['Kmeans'] = labels1\n",
    "df1['MeanShift'] = labels2\n",
    "df1['MiniBatchKMeans'] = labels3\n",
    "df1['AgglomerativeClustering'] = labels4\n",
    "df1['DBSCAN'] = labels6\n",
    "df1['AffinityPropagation'] = labels7\n",
    "df1['Birch'] = labels8\n",
    "df1.head()\n",
    "df1.to_excel('C:/Users/chint/Downloads/new1.xlsx',sheet_name=\"shipmentdata\")"
   ]
  },
  {
   "cell_type": "markdown",
   "metadata": {},
   "source": [
    "* **Performing Dimensionality Reduction Technique by using Principal Component Analysis**"
   ]
  },
  {
   "cell_type": "code",
   "execution_count": 169,
   "metadata": {},
   "outputs": [
    {
     "data": {
      "text/html": [
       "<div>\n",
       "<style scoped>\n",
       "    .dataframe tbody tr th:only-of-type {\n",
       "        vertical-align: middle;\n",
       "    }\n",
       "\n",
       "    .dataframe tbody tr th {\n",
       "        vertical-align: top;\n",
       "    }\n",
       "\n",
       "    .dataframe thead th {\n",
       "        text-align: right;\n",
       "    }\n",
       "</style>\n",
       "<table border=\"1\" class=\"dataframe\">\n",
       "  <thead>\n",
       "    <tr style=\"text-align: right;\">\n",
       "      <th></th>\n",
       "      <th>0</th>\n",
       "      <th>1</th>\n",
       "    </tr>\n",
       "  </thead>\n",
       "  <tbody>\n",
       "    <tr>\n",
       "      <th>0</th>\n",
       "      <td>1.227717</td>\n",
       "      <td>0.321158</td>\n",
       "    </tr>\n",
       "    <tr>\n",
       "      <th>1</th>\n",
       "      <td>1.229835</td>\n",
       "      <td>0.325008</td>\n",
       "    </tr>\n",
       "    <tr>\n",
       "      <th>2</th>\n",
       "      <td>-1.232376</td>\n",
       "      <td>0.326869</td>\n",
       "    </tr>\n",
       "    <tr>\n",
       "      <th>3</th>\n",
       "      <td>-1.311019</td>\n",
       "      <td>0.376925</td>\n",
       "    </tr>\n",
       "    <tr>\n",
       "      <th>4</th>\n",
       "      <td>-1.303186</td>\n",
       "      <td>0.370140</td>\n",
       "    </tr>\n",
       "  </tbody>\n",
       "</table>\n",
       "</div>"
      ],
      "text/plain": [
       "          0         1\n",
       "0  1.227717  0.321158\n",
       "1  1.229835  0.325008\n",
       "2 -1.232376  0.326869\n",
       "3 -1.311019  0.376925\n",
       "4 -1.303186  0.370140"
      ]
     },
     "execution_count": 169,
     "metadata": {},
     "output_type": "execute_result"
    }
   ],
   "source": [
    "pca = PCA()\n",
    "x_pca = pca.fit_transform(imp1)\n",
    "x_pca = pd.DataFrame(x_pca)\n",
    "x_pca_1=x_pca.iloc[:,0:2]\n",
    "x_pca_1.head(5)\n"
   ]
  },
  {
   "cell_type": "markdown",
   "metadata": {},
   "source": [
    "* **here im only considering the first two columns with the maximum variance which approximately of about 40 % of the whole data and visualizing them in a 2 d plot**"
   ]
  },
  {
   "cell_type": "code",
   "execution_count": 170,
   "metadata": {},
   "outputs": [
    {
     "data": {
      "text/plain": [
       "array([2.74116469e-01, 1.24146246e-01, 1.01228548e-01, 8.28507372e-02,\n",
       "       6.07110797e-02, 5.11425672e-02, 4.21415039e-02, 4.04063905e-02,\n",
       "       3.24770300e-02, 2.65609889e-02, 1.59898332e-02, 1.48936620e-02,\n",
       "       1.29799194e-02, 1.22971790e-02, 9.82810534e-03, 9.52838305e-03,\n",
       "       8.64038583e-03, 7.49790910e-03, 7.16646509e-03, 6.90665445e-03,\n",
       "       5.41617434e-03, 4.79331040e-03, 4.49301553e-03, 4.34720206e-03,\n",
       "       3.85336087e-03, 3.27655409e-03, 2.90270218e-03, 2.88889556e-03,\n",
       "       2.58967522e-03, 2.34714916e-03, 2.29992085e-03, 2.10773606e-03,\n",
       "       1.73220158e-03, 1.43658407e-03, 1.33161015e-03, 1.23021048e-03,\n",
       "       1.17827923e-03, 1.09179322e-03, 1.05853505e-03, 9.84758378e-04,\n",
       "       8.81883140e-04, 8.32031100e-04, 7.40213523e-04, 6.86051887e-04,\n",
       "       6.28868439e-04, 5.15621693e-04, 4.97836626e-04, 4.65250468e-04,\n",
       "       4.08031857e-04, 3.40987524e-04, 3.22348846e-04, 2.65464265e-04,\n",
       "       1.94904105e-04, 1.21717924e-04, 1.08053770e-04, 9.42293587e-05,\n",
       "       2.67803956e-05, 5.40599415e-32, 1.37603567e-32, 7.80274530e-33,\n",
       "       3.26194716e-33, 2.91571826e-33])"
      ]
     },
     "execution_count": 170,
     "metadata": {},
     "output_type": "execute_result"
    }
   ],
   "source": [
    "explained_variance = pca.explained_variance_ratio_\n",
    "(explained_variance)"
   ]
  },
  {
   "cell_type": "code",
   "execution_count": 171,
   "metadata": {},
   "outputs": [
    {
     "name": "stderr",
     "output_type": "stream",
     "text": [
      "F:\\jupyter notebook\\lib\\site-packages\\ipykernel_launcher.py:4: SettingWithCopyWarning:\n",
      "\n",
      "\n",
      "A value is trying to be set on a copy of a slice from a DataFrame.\n",
      "Try using .loc[row_indexer,col_indexer] = value instead\n",
      "\n",
      "See the caveats in the documentation: http://pandas.pydata.org/pandas-docs/stable/indexing.html#indexing-view-versus-copy\n",
      "\n"
     ]
    }
   ],
   "source": [
    "k_means = KMeans(n_clusters=3, init='k-means++', max_iter=300, n_init=10, random_state=0)\n",
    "fit1=k_means.fit(imp1)\n",
    "labels1=pd.DataFrame(fit1.labels_)\n",
    "x_pca_1['kmeans']=labels1\n",
    "\n"
   ]
  },
  {
   "cell_type": "code",
   "execution_count": 172,
   "metadata": {},
   "outputs": [
    {
     "data": {
      "image/png": "[encoded data removed]",
      "text/plain": [
       "<Figure size 432x288 with 1 Axes>"
      ]
     },
     "metadata": {
      "needs_background": "light"
     },
     "output_type": "display_data"
    }
   ],
   "source": [
    "import matplotlib.pyplot as plt\n",
    "fig = plt.figure()\n",
    "ax = fig.add_subplot(1,1,1) \n",
    "ax.set_xlabel('Principal Component 1') \n",
    "ax.set_ylabel('Principal Component 2') \n",
    "ax.set_title('2 component PCA') \n",
    "targets = [0, 1, 2]\n",
    "colors = ['r', 'g', 'b']\n",
    "for target, color in zip(targets,colors):\n",
    " indicesToKeep = x_pca_1['kmeans'] == target\n",
    " ax.scatter(x_pca_1.loc[indicesToKeep, 0]\n",
    " , x_pca_1.loc[indicesToKeep, 1]\n",
    " , c = color\n",
    " , s = 50)\n",
    "ax.legend(targets)\n",
    "ax.grid()"
   ]
  },
  {
   "cell_type": "markdown",
   "metadata": {},
   "source": [
    "* **By looking at the above plot we can observe that there are 4 anomalies which belong to cluster '0' at position (3.8,3.9)**"
   ]
  },
  {
   "cell_type": "markdown",
   "metadata": {},
   "source": [
    "## CONCLUSION"
   ]
  },
  {
   "cell_type": "markdown",
   "metadata": {},
   "source": [
    "* **hereby by performing PCA and decreasing the dimension to 2 we have got about 50 % variance in the first two principal components**\n",
    "* **when I plotted the pricipal component plot I found out few anomalies in the data towards in the  upper right corner in the plot**\n"
   ]
  },
  {
   "cell_type": "code",
   "execution_count": null,
   "metadata": {},
   "outputs": [],
   "source": []
  }
 ],
 "metadata": {
  "kernelspec": {
   "display_name": "Python 3",
   "language": "python",
   "name": "python3"
  },
  "language_info": {
   "codemirror_mode": {
    "name": "ipython",
    "version": 3
   },
   "file_extension": ".py",
   "mimetype": "text/x-python",
   "name": "python",
   "nbconvert_exporter": "python",
   "pygments_lexer": "ipython3",
   "version": "3.7.3"
  }
 },
 "nbformat": 4,
 "nbformat_minor": 2
}
